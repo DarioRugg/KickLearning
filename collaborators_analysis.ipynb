{
  "nbformat": 4,
  "nbformat_minor": 0,
  "metadata": {
    "colab": {
      "name": "collaborators_analysis.ipynb",
      "provenance": [],
      "collapsed_sections": [],
      "authorship_tag": "ABX9TyOHJxqT48Yhh4MkvH4N7gfO",
      "include_colab_link": true
    },
    "kernelspec": {
      "name": "python3",
      "display_name": "Python 3"
    },
    "language_info": {
      "name": "python"
    }
  },
  "cells": [
    {
      "cell_type": "markdown",
      "metadata": {
        "id": "view-in-github",
        "colab_type": "text"
      },
      "source": [
        "<a href=\"https://colab.research.google.com/github/DarioRugg/KickLearning/blob/main/collaborators_analysis.ipynb\" target=\"_parent\"><img src=\"https://colab.research.google.com/assets/colab-badge.svg\" alt=\"Open In Colab\"/></a>"
      ]
    },
    {
      "cell_type": "code",
      "metadata": {
        "colab": {
          "base_uri": "https://localhost:8080/"
        },
        "id": "Ijm8V_iKs8oS",
        "outputId": "0c387696-bc20-460c-ae4c-895787bedbfd"
      },
      "source": [
        "from google.colab import drive\n",
        "drive.mount('/content/drive')"
      ],
      "execution_count": null,
      "outputs": [
        {
          "output_type": "stream",
          "text": [
            "Mounted at /content/drive\n"
          ],
          "name": "stdout"
        }
      ]
    },
    {
      "cell_type": "code",
      "metadata": {
        "id": "OodM4rJ2sPj-"
      },
      "source": [
        "from os.path import join\n",
        "import pandas as pd\n",
        "import numpy as np\n",
        "data_path = join('drive', 'MyDrive', 'Project', 'Data', 'complete_scraped_df.csv')\n",
        "df = pd.read_csv(data_path)"
      ],
      "execution_count": null,
      "outputs": []
    },
    {
      "cell_type": "code",
      "metadata": {
        "id": "1vlBpIDfuSPY"
      },
      "source": [
        "new_col = [eval(collabs) if type(collabs) == str else [] for collabs in df['collab_names']]\n",
        "df['collab_names'] = new_col\n",
        "all_collabs = {col for collabs in df['collab_names'] for col in collabs}\n"
      ],
      "execution_count": null,
      "outputs": []
    },
    {
      "cell_type": "code",
      "metadata": {
        "id": "u8WwYhVBqZP4"
      },
      "source": [
        "# assigning to each collaborator a list of tuples with information from projects\n",
        "# they have worked to, including the creation time of the project\n",
        "collabs_projects = {col:[] for col in all_collabs}\n",
        "for i, project in df.iterrows():\n",
        "  for col in project['collab_names']:\n",
        "    collabs_projects[col].append((project['usd_pledged'], project['state'], project['creator_id'], project['created_at']))"
      ],
      "execution_count": null,
      "outputs": []
    },
    {
      "cell_type": "code",
      "metadata": {
        "id": "D4xQKUOb1nQT",
        "colab": {
          "base_uri": "https://localhost:8080/"
        },
        "outputId": "423a025d-89a3-4065-c87f-705d71902e2d"
      },
      "source": [
        "# for each project an average score for all professional collaborators that have worked \n",
        "# to the project\n",
        "for i, project in df.iterrows():\n",
        "  pro_collabs = []\n",
        "  for col in project['collab_names']:\n",
        "    older_projects = [proj for proj in collabs_projects[col] if proj[3] <= project['created_at']]\n",
        "    pledge_tot = []\n",
        "    state_tot = []\n",
        "    creators = set()\n",
        "    for proj in older_projects:\n",
        "      if proj[1] in {'successful', 'failed'}:\n",
        "        pledge_tot.append(proj[0])\n",
        "        state_tot.append(proj[1] == 'successful')\n",
        "        creators.add(proj[2])\n",
        "    n_creators = len(creators)\n",
        "    # a professional collaborator has worked with at least 2 different creators \n",
        "    if n_creators >= 2:\n",
        "      pro_collabs.append((np.mean(pledge_tot)*np.mean(state_tot)))\n",
        "  df.loc[i, 'collabs_avg_score'] = np.mean(pro_collabs)\n",
        "\n"
      ],
      "execution_count": null,
      "outputs": [
        {
          "output_type": "stream",
          "text": [
            "/usr/local/lib/python3.7/dist-packages/numpy/core/fromnumeric.py:3373: RuntimeWarning: Mean of empty slice.\n",
            "  out=out, **kwargs)\n",
            "/usr/local/lib/python3.7/dist-packages/numpy/core/_methods.py:170: RuntimeWarning: invalid value encountered in double_scalars\n",
            "  ret = ret.dtype.type(ret / rcount)\n"
          ],
          "name": "stderr"
        }
      ]
    },
    {
      "cell_type": "code",
      "metadata": {
        "id": "lCwI-v-d0drb"
      },
      "source": [
        "df.to_csv(join('drive', 'MyDrive', 'Project', 'Data','collabs_df.csv'), index=False)"
      ],
      "execution_count": null,
      "outputs": []
    }
  ]
}