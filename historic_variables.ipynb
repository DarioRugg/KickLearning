{
  "nbformat": 4,
  "nbformat_minor": 0,
  "metadata": {
    "colab": {
      "name": "historic_variables.ipynb",
      "provenance": [],
      "authorship_tag": "ABX9TyNGFQOOC8E71nax8xTwRa1a",
      "include_colab_link": true
    },
    "kernelspec": {
      "name": "python3",
      "display_name": "Python 3"
    },
    "language_info": {
      "name": "python"
    }
  },
  "cells": [
    {
      "cell_type": "markdown",
      "metadata": {
        "id": "view-in-github",
        "colab_type": "text"
      },
      "source": [
        "<a href=\"https://colab.research.google.com/github/DarioRugg/KickLearning/blob/main/historic_variables.ipynb\" target=\"_parent\"><img src=\"https://colab.research.google.com/assets/colab-badge.svg\" alt=\"Open In Colab\"/></a>"
      ]
    },
    {
      "cell_type": "code",
      "metadata": {
        "colab": {
          "base_uri": "https://localhost:8080/"
        },
        "id": "ea4_l7DKPiHX",
        "outputId": "10c5c25b-f89e-4bca-d868-b8aed5ce00b9"
      },
      "source": [
        "from google.colab import drive\n",
        "drive.mount('/content/drive')"
      ],
      "execution_count": 1,
      "outputs": [
        {
          "output_type": "stream",
          "text": [
            "Mounted at /content/drive\n"
          ],
          "name": "stdout"
        }
      ]
    },
    {
      "cell_type": "code",
      "metadata": {
        "id": "72EVVcD6O2JE"
      },
      "source": [
        "from os.path import join\n",
        "path = join('drive', 'MyDrive', 'Project', 'Data', 'complete')"
      ],
      "execution_count": 2,
      "outputs": []
    },
    {
      "cell_type": "code",
      "metadata": {
        "id": "6IkeCjSLTbCf"
      },
      "source": [
        "import pandas as pd\n",
        "import numpy as np\n",
        "df = pd.concat([pd.read_csv(join(path, f'file_00{\"0\" +str(i) if i in range(10) else i}.csv')) for i in range(17)], ignore_index=True)"
      ],
      "execution_count": 65,
      "outputs": []
    },
    {
      "cell_type": "code",
      "metadata": {
        "id": "xYE7iUqydMRJ"
      },
      "source": [
        "df.drop(columns=['time'], inplace=True)"
      ],
      "execution_count": 67,
      "outputs": []
    },
    {
      "cell_type": "code",
      "metadata": {
        "id": "4aqFxCmGY5U6"
      },
      "source": [
        "historical_vars =  ['historical_backers', 'historical_launch', 'historical_state', 'historical_pledges']"
      ],
      "execution_count": 68,
      "outputs": []
    },
    {
      "cell_type": "code",
      "metadata": {
        "id": "euqrw-_83i-b"
      },
      "source": [
        "df.columns = df.columns[:-4].tolist() + historical_vars"
      ],
      "execution_count": 69,
      "outputs": []
    },
    {
      "cell_type": "code",
      "metadata": {
        "id": "QyHvCP1-hEQ3"
      },
      "source": [
        "def get_statistics(entry):\n",
        "  \n",
        "  if type(entry['historical_launch']) == str:\n",
        "    delta_launch = entry['launched_at'] - np.array(eval(entry['historical_launch']))\n",
        "    entry['historical_delta_launch'] = delta_launch\n",
        "    success_rate = np.mean(list(map(lambda x: x == 'successful', eval(entry['historical_state']))))\n",
        "    entry['historical_success_rate'] = success_rate\n",
        "\n",
        "    for var_name in ['historical_backers', 'historical_delta_launch', 'historical_pledges']:\n",
        "      var = entry[var_name]\n",
        "      if type(var) == str:\n",
        "        var_array = np.array(eval(var))\n",
        "      else:\n",
        "        var_array = np.array(var)\n",
        "      entry[f\"{var_name}_mean\"] = var_array.mean()\n",
        "      entry[f\"{var_name}_std\"] = var_array.std()\n",
        "      entry[f\"{var_name}_median\"] = np.median(var_array)\n",
        "      entry[f\"{var_name}_max\"] = var_array.max()\n",
        "      entry[f\"{var_name}_min\"] = var_array.min()\n",
        "    entry[f\"historical_projects\"] = len(var_array)\n",
        "  else:\n",
        "    entry[f\"historical_projects\"] = 0\n",
        "  return entry\n",
        "hist_df = df.apply(get_statistics, axis=1).drop(columns=historical_vars+['historical_delta_launch'])"
      ],
      "execution_count": 71,
      "outputs": []
    },
    {
      "cell_type": "code",
      "metadata": {
        "id": "JpgPK4e56WdI"
      },
      "source": [
        "hist_df.to_csv(join(path, 'complete_historical_variables.csv'), index=False)"
      ],
      "execution_count": 74,
      "outputs": []
    },
    {
      "cell_type": "code",
      "metadata": {
        "colab": {
          "base_uri": "https://localhost:8080/"
        },
        "id": "8OaeUiR7Aioe",
        "outputId": "0502da56-5b31-406c-96be-fef17956eb34"
      },
      "source": [
        "hist_df.shape"
      ],
      "execution_count": 77,
      "outputs": [
        {
          "output_type": "execute_result",
          "data": {
            "text/plain": [
              "(250593, 33)"
            ]
          },
          "metadata": {
            "tags": []
          },
          "execution_count": 77
        }
      ]
    },
    {
      "cell_type": "code",
      "metadata": {
        "colab": {
          "base_uri": "https://localhost:8080/"
        },
        "id": "7ynA_I9y-6Vt",
        "outputId": "ff0b38bb-fffb-4bc0-d7e7-051fd8c65ab8"
      },
      "source": [
        "hist_df.columns"
      ],
      "execution_count": 76,
      "outputs": [
        {
          "output_type": "execute_result",
          "data": {
            "text/plain": [
              "Index(['backers_count', 'category', 'country', 'created_at', 'creator_id',\n",
              "       'currency', 'deadline', 'disable_communication', 'fx_rate', 'goal',\n",
              "       'historical_backers_max', 'historical_backers_mean',\n",
              "       'historical_backers_median', 'historical_backers_min',\n",
              "       'historical_backers_std', 'historical_delta_launch_max',\n",
              "       'historical_delta_launch_mean', 'historical_delta_launch_median',\n",
              "       'historical_delta_launch_min', 'historical_delta_launch_std',\n",
              "       'historical_pledges_max', 'historical_pledges_mean',\n",
              "       'historical_pledges_median', 'historical_pledges_min',\n",
              "       'historical_pledges_std', 'historical_projects',\n",
              "       'historical_success_rate', 'id', 'launched_at', 'project_url',\n",
              "       'state_changed_at', 'sub_category', 'year'],\n",
              "      dtype='object')"
            ]
          },
          "metadata": {
            "tags": []
          },
          "execution_count": 76
        }
      ]
    }
  ]
}