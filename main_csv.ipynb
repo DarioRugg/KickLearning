{
 "cells": [
  {
   "cell_type": "code",
   "execution_count": 38,
   "metadata": {
    "collapsed": true
   },
   "outputs": [],
   "source": [
    "import pandas as pd\n",
    "import json\n",
    "import numpy as np\n",
    "import pprint as pp"
   ]
  },
  {
   "cell_type": "markdown",
   "source": [
    "## Reading the dataframe"
   ],
   "metadata": {
    "collapsed": false
   }
  },
  {
   "cell_type": "code",
   "execution_count": 19,
   "outputs": [],
   "source": [
    "file_path = \"data/2021_3/Kickstarter.csv\""
   ],
   "metadata": {
    "collapsed": false,
    "pycharm": {
     "name": "#%%\n"
    }
   }
  },
  {
   "cell_type": "code",
   "execution_count": 22,
   "outputs": [],
   "source": [
    "df = pd.read_csv(file_path)"
   ],
   "metadata": {
    "collapsed": false,
    "pycharm": {
     "name": "#%%\n"
    }
   }
  },
  {
   "cell_type": "markdown",
   "source": [
    "## Columns categorization"
   ],
   "metadata": {
    "collapsed": false,
    "pycharm": {
     "name": "#%% md\n"
    }
   }
  },
  {
   "cell_type": "code",
   "execution_count": 184,
   "outputs": [
    {
     "data": {
      "text/plain": "True"
     },
     "execution_count": 184,
     "metadata": {},
     "output_type": "execute_result"
    }
   ],
   "source": [
    "ready_cols = [\"id\", \"name\", \"backers_count\", \"blurb\", \"converted_pledged_amount\", \"country\", \"created_at\", \"currency\",\n",
    "              \"deadline\", \"disable_communication\", \"friends\", \"goal\", \"launched_at\", \"pledged\", \"state\", \"state_changed_at\", \"usd_type\"]\n",
    "not_understood_cols = [\"currency_trailing_code\", \"fx_rate\", \"is_backing\", \"is_starrable\", \"is_starred\", \"permissions\", \"spotlight\", \"staff_pick\", \"static_usd_rate\"]\n",
    "dict_cols = [\"category\", \"creator\", \"location\", \"photo\", \"profile\", \"urls\"]\n",
    "useless_cols = [\"country_displayable_name\", \"currency_symbol\", \"current_currency\", \"slug\", \"source_url\", \"usd_pledged\"]\n",
    "\n",
    "len(set(ready_cols+not_understood_cols+dict_cols+useless_cols)) == len(set(df.columns))\n"
   ],
   "metadata": {
    "collapsed": false,
    "pycharm": {
     "name": "#%%\n"
    }
   }
  },
  {
   "cell_type": "markdown",
   "source": [
    "### Categories\n",
    "We have category and sub category:"
   ],
   "metadata": {
    "collapsed": false
   }
  },
  {
   "cell_type": "code",
   "execution_count": 180,
   "outputs": [],
   "source": [
    "def get_categories(entry):\n",
    "    category_dict = json.loads(entry[\"category\"])\n",
    "    if \"parent_name\" in category_dict.keys():\n",
    "        return pd.Series({\n",
    "            \"category\": category_dict[\"parent_name\"],\n",
    "            \"sub_category\": category_dict[\"name\"]\n",
    "        })\n",
    "    else:\n",
    "        return pd.Series({\n",
    "            \"category\": category_dict[\"name\"]\n",
    "        })"
   ],
   "metadata": {
    "collapsed": false,
    "pycharm": {
     "name": "#%%\n"
    }
   }
  },
  {
   "cell_type": "markdown",
   "source": [
    "### Creator\n",
    "Better to scrape those information again."
   ],
   "metadata": {
    "collapsed": false
   }
  },
  {
   "cell_type": "markdown",
   "source": [
    "### Location\n",
    "We need only the country; but we have it already in country."
   ],
   "metadata": {
    "collapsed": false
   }
  },
  {
   "cell_type": "markdown",
   "source": [
    "### Photo\n",
    "Better to scrape those information again."
   ],
   "metadata": {
    "collapsed": false
   }
  },
  {
   "cell_type": "markdown",
   "source": [
    "### Profile\n",
    "Duplicated information."
   ],
   "metadata": {
    "collapsed": false
   }
  },
  {
   "cell_type": "markdown",
   "source": [
    "### Urls\n",
    "here we have the URL and the reward page."
   ],
   "metadata": {
    "collapsed": false,
    "pycharm": {
     "name": "#%% md\n"
    }
   }
  },
  {
   "cell_type": "code",
   "execution_count": 171,
   "outputs": [],
   "source": [
    "def get_urls(entry):\n",
    "    return pd.Series({\n",
    "        \"project_url\": json.loads(entry[\"urls\"])[\"web\"][\"project\"],\n",
    "        \"rewards_url\": json.loads(entry[\"urls\"])[\"web\"][\"rewards\"]\n",
    "    })"
   ],
   "metadata": {
    "collapsed": false,
    "pycharm": {
     "name": "#%%\n"
    }
   }
  },
  {
   "cell_type": "markdown",
   "source": [
    "## creating the dataframe to save\n"
   ],
   "metadata": {
    "collapsed": false,
    "pycharm": {
     "name": "#%% md\n"
    }
   }
  },
  {
   "cell_type": "code",
   "execution_count": 174,
   "outputs": [],
   "source": [
    "tidy_df = pd.concat((df[ready_cols], df.apply(get_categories, axis=1), df.apply(get_urls, axis=1)), axis=1)"
   ],
   "metadata": {
    "collapsed": false,
    "pycharm": {
     "name": "#%%\n"
    }
   }
  },
  {
   "cell_type": "code",
   "execution_count": 183,
   "outputs": [
    {
     "data": {
      "text/plain": "              id                                       name  backers_count  \\\n0      123246984                             Soaps in Texas              4   \n1     1207132794                               Whiskey Pens             35   \n2     1899686686                           The Posh Factory            310   \n3     1081353908                                  Home Made              1   \n4       84306631                       Goofy Goat Soaps LLC             36   \n...          ...                                        ...            ...   \n3681   790842514                            Carnies Run Red              1   \n3682   316016111                     Bed-Stuy Film Festival              1   \n3683  2013899067  What Happened To Elisa Lam? A Documentary            377   \n3684  1507647522                          Yout - short film             16   \n3685   224514967                    Airspace - A Short Film             13   \n\n                                                  blurb  \\\n0     Soaps made with love, care, creativity and you...   \n1     Pens made from Whiskey barrels, Jack Daniel's ...   \n2     Finally we have a building but we need your he...   \n3     Everything home made in one store. From jewelr...   \n4     Growing My Natural, Eco-Friendly, and Fun Bath...   \n...                                                 ...   \n3681  A 1980 slasher styled film based in modern tim...   \n3682  Bed-Stuy Film Festival (BSFF) is an on-locatio...   \n3683  A cinematic exploration of the most mysterious...   \n3684  ‘Yout' is a teen comedy set in Essex. Its an o...   \n3685  A young woman's desire to end her life in an i...   \n\n      converted_pledged_amount country  created_at currency    deadline  \\\n0                           41      US  1512430228      USD  1515102534   \n1                         2205      US  1528377129      USD  1531325825   \n2                         8861      US  1443014021      USD  1447620375   \n3                          100      US  1412436646      USD  1415406440   \n4                         1026      US  1599615992      USD  1602385860   \n...                        ...     ...         ...      ...         ...   \n3681                        23      US  1462852441      USD  1466459893   \n3682                        10      US  1423059118      USD  1428427870   \n3683                     30490      US  1481502184      USD  1490740364   \n3684                       385      GB  1487692862      GBP  1490729221   \n3685                      2178      US  1562447458      USD  1565756033   \n\n      disable_communication  ...     goal  launched_at   pledged       state  \\\n0                     False  ...    150.0   1512510534     41.00      failed   \n1                     False  ...    900.0   1528733825   2205.00  successful   \n2                     False  ...   8500.0   1443728775   8861.00  successful   \n3                     False  ...  50000.0   1412810840    100.00      failed   \n4                     False  ...    800.0   1600148240   1026.00  successful   \n...                     ...  ...      ...          ...       ...         ...   \n3681                  False  ...   5500.0   1463867893     23.00      failed   \n3682                  False  ...  10000.0   1423247470     10.00      failed   \n3683                  False  ...  30000.0   1488151964  30490.81  successful   \n3684                  False  ...    300.0   1488140821    307.00  successful   \n3685                  False  ...   2000.0   1563164033   2178.00  successful   \n\n     state_changed_at       usd_type      category sub_category  \\\n0          1515102534  international        Crafts          DIY   \n1          1531325825  international        Crafts  Woodworking   \n2          1447620376  international         Dance       Spaces   \n3          1415406440  international        Crafts          DIY   \n4          1602385860  international        Crafts      Candles   \n...               ...            ...           ...          ...   \n3681       1466459893  international  Film & Video       Horror   \n3682       1428427872  international  Film & Video    Festivals   \n3683       1490740364  international  Film & Video  Documentary   \n3684       1490729222  international  Film & Video       Shorts   \n3685       1565756034  international  Film & Video        Drama   \n\n                                            project_url  \\\n0     https://www.kickstarter.com/projects/texassoap...   \n1     https://www.kickstarter.com/projects/202206651...   \n2     https://www.kickstarter.com/projects/988974145...   \n3     https://www.kickstarter.com/projects/179435353...   \n4     https://www.kickstarter.com/projects/adella/go...   \n...                                                 ...   \n3681  https://www.kickstarter.com/projects/193861478...   \n3682  https://www.kickstarter.com/projects/949574320...   \n3683  https://www.kickstarter.com/projects/428442824...   \n3684  https://www.kickstarter.com/projects/454319080...   \n3685  https://www.kickstarter.com/projects/airspace/...   \n\n                                            rewards_url  \n0     https://www.kickstarter.com/projects/texassoap...  \n1     https://www.kickstarter.com/projects/202206651...  \n2     https://www.kickstarter.com/projects/988974145...  \n3     https://www.kickstarter.com/projects/179435353...  \n4     https://www.kickstarter.com/projects/adella/go...  \n...                                                 ...  \n3681  https://www.kickstarter.com/projects/193861478...  \n3682  https://www.kickstarter.com/projects/949574320...  \n3683  https://www.kickstarter.com/projects/428442824...  \n3684  https://www.kickstarter.com/projects/454319080...  \n3685  https://www.kickstarter.com/projects/airspace/...  \n\n[3686 rows x 21 columns]",
      "text/html": "<div>\n<style scoped>\n    .dataframe tbody tr th:only-of-type {\n        vertical-align: middle;\n    }\n\n    .dataframe tbody tr th {\n        vertical-align: top;\n    }\n\n    .dataframe thead th {\n        text-align: right;\n    }\n</style>\n<table border=\"1\" class=\"dataframe\">\n  <thead>\n    <tr style=\"text-align: right;\">\n      <th></th>\n      <th>id</th>\n      <th>name</th>\n      <th>backers_count</th>\n      <th>blurb</th>\n      <th>converted_pledged_amount</th>\n      <th>country</th>\n      <th>created_at</th>\n      <th>currency</th>\n      <th>deadline</th>\n      <th>disable_communication</th>\n      <th>...</th>\n      <th>goal</th>\n      <th>launched_at</th>\n      <th>pledged</th>\n      <th>state</th>\n      <th>state_changed_at</th>\n      <th>usd_type</th>\n      <th>category</th>\n      <th>sub_category</th>\n      <th>project_url</th>\n      <th>rewards_url</th>\n    </tr>\n  </thead>\n  <tbody>\n    <tr>\n      <th>0</th>\n      <td>123246984</td>\n      <td>Soaps in Texas</td>\n      <td>4</td>\n      <td>Soaps made with love, care, creativity and you...</td>\n      <td>41</td>\n      <td>US</td>\n      <td>1512430228</td>\n      <td>USD</td>\n      <td>1515102534</td>\n      <td>False</td>\n      <td>...</td>\n      <td>150.0</td>\n      <td>1512510534</td>\n      <td>41.00</td>\n      <td>failed</td>\n      <td>1515102534</td>\n      <td>international</td>\n      <td>Crafts</td>\n      <td>DIY</td>\n      <td>https://www.kickstarter.com/projects/texassoap...</td>\n      <td>https://www.kickstarter.com/projects/texassoap...</td>\n    </tr>\n    <tr>\n      <th>1</th>\n      <td>1207132794</td>\n      <td>Whiskey Pens</td>\n      <td>35</td>\n      <td>Pens made from Whiskey barrels, Jack Daniel's ...</td>\n      <td>2205</td>\n      <td>US</td>\n      <td>1528377129</td>\n      <td>USD</td>\n      <td>1531325825</td>\n      <td>False</td>\n      <td>...</td>\n      <td>900.0</td>\n      <td>1528733825</td>\n      <td>2205.00</td>\n      <td>successful</td>\n      <td>1531325825</td>\n      <td>international</td>\n      <td>Crafts</td>\n      <td>Woodworking</td>\n      <td>https://www.kickstarter.com/projects/202206651...</td>\n      <td>https://www.kickstarter.com/projects/202206651...</td>\n    </tr>\n    <tr>\n      <th>2</th>\n      <td>1899686686</td>\n      <td>The Posh Factory</td>\n      <td>310</td>\n      <td>Finally we have a building but we need your he...</td>\n      <td>8861</td>\n      <td>US</td>\n      <td>1443014021</td>\n      <td>USD</td>\n      <td>1447620375</td>\n      <td>False</td>\n      <td>...</td>\n      <td>8500.0</td>\n      <td>1443728775</td>\n      <td>8861.00</td>\n      <td>successful</td>\n      <td>1447620376</td>\n      <td>international</td>\n      <td>Dance</td>\n      <td>Spaces</td>\n      <td>https://www.kickstarter.com/projects/988974145...</td>\n      <td>https://www.kickstarter.com/projects/988974145...</td>\n    </tr>\n    <tr>\n      <th>3</th>\n      <td>1081353908</td>\n      <td>Home Made</td>\n      <td>1</td>\n      <td>Everything home made in one store. From jewelr...</td>\n      <td>100</td>\n      <td>US</td>\n      <td>1412436646</td>\n      <td>USD</td>\n      <td>1415406440</td>\n      <td>False</td>\n      <td>...</td>\n      <td>50000.0</td>\n      <td>1412810840</td>\n      <td>100.00</td>\n      <td>failed</td>\n      <td>1415406440</td>\n      <td>international</td>\n      <td>Crafts</td>\n      <td>DIY</td>\n      <td>https://www.kickstarter.com/projects/179435353...</td>\n      <td>https://www.kickstarter.com/projects/179435353...</td>\n    </tr>\n    <tr>\n      <th>4</th>\n      <td>84306631</td>\n      <td>Goofy Goat Soaps LLC</td>\n      <td>36</td>\n      <td>Growing My Natural, Eco-Friendly, and Fun Bath...</td>\n      <td>1026</td>\n      <td>US</td>\n      <td>1599615992</td>\n      <td>USD</td>\n      <td>1602385860</td>\n      <td>False</td>\n      <td>...</td>\n      <td>800.0</td>\n      <td>1600148240</td>\n      <td>1026.00</td>\n      <td>successful</td>\n      <td>1602385860</td>\n      <td>international</td>\n      <td>Crafts</td>\n      <td>Candles</td>\n      <td>https://www.kickstarter.com/projects/adella/go...</td>\n      <td>https://www.kickstarter.com/projects/adella/go...</td>\n    </tr>\n    <tr>\n      <th>...</th>\n      <td>...</td>\n      <td>...</td>\n      <td>...</td>\n      <td>...</td>\n      <td>...</td>\n      <td>...</td>\n      <td>...</td>\n      <td>...</td>\n      <td>...</td>\n      <td>...</td>\n      <td>...</td>\n      <td>...</td>\n      <td>...</td>\n      <td>...</td>\n      <td>...</td>\n      <td>...</td>\n      <td>...</td>\n      <td>...</td>\n      <td>...</td>\n      <td>...</td>\n      <td>...</td>\n    </tr>\n    <tr>\n      <th>3681</th>\n      <td>790842514</td>\n      <td>Carnies Run Red</td>\n      <td>1</td>\n      <td>A 1980 slasher styled film based in modern tim...</td>\n      <td>23</td>\n      <td>US</td>\n      <td>1462852441</td>\n      <td>USD</td>\n      <td>1466459893</td>\n      <td>False</td>\n      <td>...</td>\n      <td>5500.0</td>\n      <td>1463867893</td>\n      <td>23.00</td>\n      <td>failed</td>\n      <td>1466459893</td>\n      <td>international</td>\n      <td>Film &amp; Video</td>\n      <td>Horror</td>\n      <td>https://www.kickstarter.com/projects/193861478...</td>\n      <td>https://www.kickstarter.com/projects/193861478...</td>\n    </tr>\n    <tr>\n      <th>3682</th>\n      <td>316016111</td>\n      <td>Bed-Stuy Film Festival</td>\n      <td>1</td>\n      <td>Bed-Stuy Film Festival (BSFF) is an on-locatio...</td>\n      <td>10</td>\n      <td>US</td>\n      <td>1423059118</td>\n      <td>USD</td>\n      <td>1428427870</td>\n      <td>False</td>\n      <td>...</td>\n      <td>10000.0</td>\n      <td>1423247470</td>\n      <td>10.00</td>\n      <td>failed</td>\n      <td>1428427872</td>\n      <td>international</td>\n      <td>Film &amp; Video</td>\n      <td>Festivals</td>\n      <td>https://www.kickstarter.com/projects/949574320...</td>\n      <td>https://www.kickstarter.com/projects/949574320...</td>\n    </tr>\n    <tr>\n      <th>3683</th>\n      <td>2013899067</td>\n      <td>What Happened To Elisa Lam? A Documentary</td>\n      <td>377</td>\n      <td>A cinematic exploration of the most mysterious...</td>\n      <td>30490</td>\n      <td>US</td>\n      <td>1481502184</td>\n      <td>USD</td>\n      <td>1490740364</td>\n      <td>False</td>\n      <td>...</td>\n      <td>30000.0</td>\n      <td>1488151964</td>\n      <td>30490.81</td>\n      <td>successful</td>\n      <td>1490740364</td>\n      <td>international</td>\n      <td>Film &amp; Video</td>\n      <td>Documentary</td>\n      <td>https://www.kickstarter.com/projects/428442824...</td>\n      <td>https://www.kickstarter.com/projects/428442824...</td>\n    </tr>\n    <tr>\n      <th>3684</th>\n      <td>1507647522</td>\n      <td>Yout - short film</td>\n      <td>16</td>\n      <td>‘Yout' is a teen comedy set in Essex. Its an o...</td>\n      <td>385</td>\n      <td>GB</td>\n      <td>1487692862</td>\n      <td>GBP</td>\n      <td>1490729221</td>\n      <td>False</td>\n      <td>...</td>\n      <td>300.0</td>\n      <td>1488140821</td>\n      <td>307.00</td>\n      <td>successful</td>\n      <td>1490729222</td>\n      <td>international</td>\n      <td>Film &amp; Video</td>\n      <td>Shorts</td>\n      <td>https://www.kickstarter.com/projects/454319080...</td>\n      <td>https://www.kickstarter.com/projects/454319080...</td>\n    </tr>\n    <tr>\n      <th>3685</th>\n      <td>224514967</td>\n      <td>Airspace - A Short Film</td>\n      <td>13</td>\n      <td>A young woman's desire to end her life in an i...</td>\n      <td>2178</td>\n      <td>US</td>\n      <td>1562447458</td>\n      <td>USD</td>\n      <td>1565756033</td>\n      <td>False</td>\n      <td>...</td>\n      <td>2000.0</td>\n      <td>1563164033</td>\n      <td>2178.00</td>\n      <td>successful</td>\n      <td>1565756034</td>\n      <td>international</td>\n      <td>Film &amp; Video</td>\n      <td>Drama</td>\n      <td>https://www.kickstarter.com/projects/airspace/...</td>\n      <td>https://www.kickstarter.com/projects/airspace/...</td>\n    </tr>\n  </tbody>\n</table>\n<p>3686 rows × 21 columns</p>\n</div>"
     },
     "execution_count": 183,
     "metadata": {},
     "output_type": "execute_result"
    }
   ],
   "source": [
    "tidy_df\n"
   ],
   "metadata": {
    "collapsed": false,
    "pycharm": {
     "name": "#%%\n"
    }
   }
  }
 ],
 "metadata": {
  "kernelspec": {
   "display_name": "Python 3",
   "language": "python",
   "name": "python3"
  },
  "language_info": {
   "codemirror_mode": {
    "name": "ipython",
    "version": 2
   },
   "file_extension": ".py",
   "mimetype": "text/x-python",
   "name": "python",
   "nbconvert_exporter": "python",
   "pygments_lexer": "ipython2",
   "version": "2.7.6"
  }
 },
 "nbformat": 4,
 "nbformat_minor": 0
}