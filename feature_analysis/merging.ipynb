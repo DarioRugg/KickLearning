{
  "nbformat": 4,
  "nbformat_minor": 0,
  "metadata": {
    "colab": {
      "name": "merging.ipynb",
      "provenance": [],
      "authorship_tag": "ABX9TyMItUiZo7yMNaBGKJwH3Q4v",
      "include_colab_link": true
    },
    "kernelspec": {
      "name": "python3",
      "display_name": "Python 3"
    },
    "language_info": {
      "name": "python"
    }
  },
  "cells": [
    {
      "cell_type": "markdown",
      "metadata": {
        "id": "view-in-github",
        "colab_type": "text"
      },
      "source": [
        "<a href=\"https://colab.research.google.com/github/DarioRugg/KickLearning/blob/main/merging.ipynb\" target=\"_parent\"><img src=\"https://colab.research.google.com/assets/colab-badge.svg\" alt=\"Open In Colab\"/></a>"
      ]
    },
    {
      "cell_type": "code",
      "metadata": {
        "colab": {
          "base_uri": "https://localhost:8080/"
        },
        "id": "YTCMRG-k9EWI",
        "outputId": "47c78f2c-6838-41ce-cfca-ab19d40aa917"
      },
      "source": [
        "from google.colab import drive\n",
        "drive.mount('/content/drive')"
      ],
      "execution_count": 1,
      "outputs": [
        {
          "output_type": "stream",
          "text": [
            "Mounted at /content/drive\n"
          ],
          "name": "stdout"
        }
      ]
    },
    {
      "cell_type": "code",
      "metadata": {
        "id": "d6rUGyRN9UzE"
      },
      "source": [
        "from os.path import join \n",
        "import pandas as pd\n",
        "import numpy as np"
      ],
      "execution_count": 22,
      "outputs": []
    },
    {
      "cell_type": "code",
      "metadata": {
        "id": "JV0dHDyU8-5n"
      },
      "source": [
        "data_path = join('.', 'drive', 'MyDrive', 'Project', 'Data')"
      ],
      "execution_count": 4,
      "outputs": []
    },
    {
      "cell_type": "code",
      "metadata": {
        "id": "VogyvP9a9ikF"
      },
      "source": [
        "historic = pd.read_csv(join(data_path, 'complete', 'complete_df.csv'))"
      ],
      "execution_count": 9,
      "outputs": []
    },
    {
      "cell_type": "code",
      "metadata": {
        "id": "ee6QAZV499l-"
      },
      "source": [
        "collabs = pd.read_csv(join(data_path, 'collabs_df.csv'))"
      ],
      "execution_count": 10,
      "outputs": []
    },
    {
      "cell_type": "code",
      "metadata": {
        "colab": {
          "base_uri": "https://localhost:8080/"
        },
        "id": "EAt0_toLVZxk",
        "outputId": "3665fcd1-1510-4248-e719-072edf294c1b"
      },
      "source": [
        "set(collabs.columns).difference(set(historic.columns))"
      ],
      "execution_count": 14,
      "outputs": [
        {
          "output_type": "execute_result",
          "data": {
            "text/plain": [
              "{'collabs_avg_score'}"
            ]
          },
          "metadata": {
            "tags": []
          },
          "execution_count": 14
        }
      ]
    },
    {
      "cell_type": "code",
      "metadata": {
        "id": "mRJ5_Bzd-ZvV"
      },
      "source": [
        "final = pd.merge(historic, collabs[['id','collabs_avg_score']], on='id').drop(columns='collab_names')"
      ],
      "execution_count": 19,
      "outputs": []
    },
    {
      "cell_type": "code",
      "metadata": {
        "id": "RQ0DALHtWYgn"
      },
      "source": [
        "def get_statistics_tiers(obs):\n",
        "  entry = obs.copy()\n",
        "  var_name = 'tiers_values'\n",
        "  var = entry[var_name]\n",
        "  if type(var) == str:\n",
        "    var_array = np.array(eval(var))\n",
        "  else:\n",
        "    var_array = np.array([var])\n",
        "  \n",
        "  if len(var_array):\n",
        "    entry[f\"n_tiers\"] = len(var_array)\n",
        "    entry[f\"{var_name}_mean\"] = var_array.mean()\n",
        "    entry[f\"{var_name}_std\"] = var_array.std()\n",
        "    entry[f\"{var_name}_median\"] = np.median(var_array)\n",
        "    entry[f\"{var_name}_max\"] = var_array.max()\n",
        "    entry[f\"{var_name}_min\"] = var_array.min()\n",
        "\n",
        "  \n",
        "  return entry"
      ],
      "execution_count": 41,
      "outputs": []
    },
    {
      "cell_type": "code",
      "metadata": {
        "id": "XySQJPcMWIck"
      },
      "source": [
        "final = final.apply(get_statistics_tiers, axis=1)"
      ],
      "execution_count": 43,
      "outputs": []
    },
    {
      "cell_type": "code",
      "metadata": {
        "id": "Noxh2cKztdvc"
      },
      "source": [
        "text = pd.read_csv(join(data_path, 'text_variables', 'complete_story_embedding.csv'))"
      ],
      "execution_count": 46,
      "outputs": []
    },
    {
      "cell_type": "code",
      "metadata": {
        "id": "Ks0jQOes0P7U"
      },
      "source": [
        "cols = list(set(text.columns).difference(set(final.columns)))"
      ],
      "execution_count": 88,
      "outputs": []
    },
    {
      "cell_type": "code",
      "metadata": {
        "id": "ecs77p_50ler"
      },
      "source": [
        "cols += ['id']"
      ],
      "execution_count": 89,
      "outputs": []
    },
    {
      "cell_type": "code",
      "metadata": {
        "id": "Q9PvT_O5uJG8"
      },
      "source": [
        "final = pd.merge(final, text[cols], on='id')"
      ],
      "execution_count": 90,
      "outputs": []
    },
    {
      "cell_type": "code",
      "metadata": {
        "colab": {
          "base_uri": "https://localhost:8080/"
        },
        "id": "3kvi-Sj73YEU",
        "outputId": "e796e4ba-b704-4995-86a1-692400b09f9a"
      },
      "source": [
        "final.columns"
      ],
      "execution_count": 94,
      "outputs": [
        {
          "output_type": "execute_result",
          "data": {
            "text/plain": [
              "Index([' n_gifs', 'backers_count', 'category', 'collabs_avg_score', 'country',\n",
              "       'created_at', 'creator_bio', 'creator_id', 'currency', 'deadline',\n",
              "       'disable_communication', 'fb_linked', 'fx_rate', 'goal', 'has_video',\n",
              "       'historical_backers_max', 'historical_backers_mean',\n",
              "       'historical_backers_median', 'historical_backers_min',\n",
              "       'historical_backers_std', 'historical_delta_launch_max',\n",
              "       'historical_delta_launch_mean', 'historical_delta_launch_median',\n",
              "       'historical_delta_launch_min', 'historical_delta_launch_std',\n",
              "       'historical_pledges_max', 'historical_pledges_mean',\n",
              "       'historical_pledges_median', 'historical_pledges_min',\n",
              "       'historical_pledges_std', 'historical_projects',\n",
              "       'historical_success_rate', 'id', 'image', 'launched_at', 'n_collab',\n",
              "       'n_images', 'n_tiers', 'n_websites', 'pledged', 'project_url', 'risks',\n",
              "       'state', 'state_changed_at', 'story', 'sub_category', 'tiers_values',\n",
              "       'tiers_values_max', 'tiers_values_mean', 'tiers_values_median',\n",
              "       'tiers_values_min', 'tiers_values_std', 'usd_pledged', 'year', 'text_4',\n",
              "       'text_8', 'text_5', 'text_2', 'text_1', 'text_10', 'text_3', 'text_7',\n",
              "       'text_11', 'text_15', 'text_9', 'text_6', 'text_13', 'text_12',\n",
              "       'text_14', 'text_0'],\n",
              "      dtype='object')"
            ]
          },
          "metadata": {
            "tags": []
          },
          "execution_count": 94
        }
      ]
    },
    {
      "cell_type": "code",
      "metadata": {
        "id": "aoUlGhjZ-GyO"
      },
      "source": [
        "final['risks'] = final['risks'].apply(lambda x: len(x) if type(x) == str else 0)"
      ],
      "execution_count": 101,
      "outputs": []
    },
    {
      "cell_type": "code",
      "metadata": {
        "id": "GRoeYbti-l_u"
      },
      "source": [
        "final['creator_bio'] = final['creator_bio'].apply(lambda x: len(x) if type(x) == str else 0)"
      ],
      "execution_count": 100,
      "outputs": []
    },
    {
      "cell_type": "code",
      "metadata": {
        "id": "43z2HdSa9mWc"
      },
      "source": [
        "final = final.drop(columns = ['story'])"
      ],
      "execution_count": 102,
      "outputs": []
    },
    {
      "cell_type": "code",
      "metadata": {
        "id": "yxudvnEFV6Fl"
      },
      "source": [
        "final.to_csv(join(data_path, 'final_dataset.csv'), index=False)"
      ],
      "execution_count": 44,
      "outputs": []
    }
  ]
}