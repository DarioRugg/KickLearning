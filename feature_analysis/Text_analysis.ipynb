{
  "nbformat": 4,
  "nbformat_minor": 0,
  "metadata": {
    "colab": {
      "name": "Text_analysis.ipynb",
      "provenance": [],
      "authorship_tag": "ABX9TyORrgjQaVwAnBJzALy7o7V4",
      "include_colab_link": true
    },
    "kernelspec": {
      "name": "python3",
      "display_name": "Python 3"
    },
    "language_info": {
      "name": "python"
    },
    "accelerator": "GPU"
  },
  "cells": [
    {
      "cell_type": "markdown",
      "metadata": {
        "id": "view-in-github",
        "colab_type": "text"
      },
      "source": [
        "<a href=\"https://colab.research.google.com/github/DarioneNazionale/KickLearning/blob/main/feature_analysis/Text_analysis.ipynb\" target=\"_parent\"><img src=\"https://colab.research.google.com/assets/colab-badge.svg\" alt=\"Open In Colab\"/></a>"
      ]
    },
    {
      "cell_type": "code",
      "metadata": {
        "colab": {
          "base_uri": "https://localhost:8080/"
        },
        "id": "-qX91-5LEqkf",
        "outputId": "a8bed317-3094-432f-8b9f-b9aa1377c837"
      },
      "source": [
        "from google.colab import drive\n",
        "drive.mount('/content/drive')"
      ],
      "execution_count": 1,
      "outputs": [
        {
          "output_type": "stream",
          "text": [
            "Mounted at /content/drive\n"
          ],
          "name": "stdout"
        }
      ]
    },
    {
      "cell_type": "code",
      "metadata": {
        "id": "mefSN2m3YTV7"
      },
      "source": [
        "%%capture\n",
        "!pip install pycld2\n",
        "!pip install sentencepiece\n",
        "!pip install transformers\n",
        "!pip install polyglot\n",
        "!pip install pyicu"
      ],
      "execution_count": 51,
      "outputs": []
    },
    {
      "cell_type": "code",
      "metadata": {
        "id": "yjO3n7GFUiAf"
      },
      "source": [
        "from os.path import join\n",
        "import pandas as pd\n",
        "from transformers import MarianMTModel, MarianTokenizer\n",
        "import numpy as np\n",
        "from polyglot.detect import Detector\n"
      ],
      "execution_count": 3,
      "outputs": []
    },
    {
      "cell_type": "code",
      "metadata": {
        "id": "kOPQiKJQUj5V"
      },
      "source": [
        "file_name = 'file_0000_scraped.csv'\n",
        "data_path = join('.', 'drive', 'MyDrive', 'Project', 'Data', 'Scraped')"
      ],
      "execution_count": 4,
      "outputs": []
    },
    {
      "cell_type": "code",
      "metadata": {
        "colab": {
          "base_uri": "https://localhost:8080/",
          "height": 35
        },
        "id": "8P0ysBjBU7st",
        "outputId": "fcf40628-e162-4872-ea59-5299be468657"
      },
      "source": [
        "file_path = join(data_path, file_name)\n",
        "file_path"
      ],
      "execution_count": 5,
      "outputs": [
        {
          "output_type": "execute_result",
          "data": {
            "application/vnd.google.colaboratory.intrinsic+json": {
              "type": "string"
            },
            "text/plain": [
              "'./drive/MyDrive/Project/Data/Scraped/file_0000_scraped.csv'"
            ]
          },
          "metadata": {
            "tags": []
          },
          "execution_count": 5
        }
      ]
    },
    {
      "cell_type": "code",
      "metadata": {
        "id": "4Sy_MOe7VoCx"
      },
      "source": [
        "df = pd.read_csv(file_path)"
      ],
      "execution_count": 6,
      "outputs": []
    },
    {
      "cell_type": "code",
      "metadata": {
        "id": "j8fVK1IvXYRj"
      },
      "source": [
        "%%capture\n",
        "import regex\n",
        "\n",
        "RE_BAD_CHARS = regex.compile(r\"\\p{Cc}|\\p{Cs}\")\n",
        "\n",
        "def remove_bad_chars(text):\n",
        "    return RE_BAD_CHARS.sub(\"\", text)\n",
        "langs = [df[var].apply(lambda x: Detector(remove_bad_chars(str(x)), quiet=True).languages) for var in ['story', 'risks', 'creator_bio']]"
      ],
      "execution_count": 50,
      "outputs": []
    },
    {
      "cell_type": "code",
      "metadata": {
        "colab": {
          "base_uri": "https://localhost:8080/"
        },
        "id": "1vkWaI1bgHMJ",
        "outputId": "b74d0893-1ead-4ca0-d139-5c124559f5e2"
      },
      "source": [
        "def language_tuples(langs):\n",
        "  \n",
        "print([(obj.code, obj.confidence) for obj in langs[0].loc[0]])"
      ],
      "execution_count": 73,
      "outputs": [
        {
          "output_type": "stream",
          "text": [
            "[('fr', 99.0), ('un', 0.0), ('un', 0.0)]\n"
          ],
          "name": "stdout"
        }
      ]
    },
    {
      "cell_type": "code",
      "metadata": {
        "colab": {
          "base_uri": "https://localhost:8080/"
        },
        "id": "3qCGHqMsiBF4",
        "outputId": "e38068ab-4bd2-4188-af78-671bd1e86881"
      },
      "source": [
        "len([i for i, x in enumerate(langs) if x[0].confidence in range(80,100) and x[0].code != 'en'])"
      ],
      "execution_count": 34,
      "outputs": [
        {
          "output_type": "execute_result",
          "data": {
            "text/plain": [
              "371"
            ]
          },
          "metadata": {
            "tags": []
          },
          "execution_count": 34
        }
      ]
    },
    {
      "cell_type": "code",
      "metadata": {
        "colab": {
          "base_uri": "https://localhost:8080/"
        },
        "id": "yYTofHNna4uk",
        "outputId": "119d8305-346a-4bdb-bec6-a9cb55a427f2"
      },
      "source": [
        "[print(x) for x in langs[9776]]"
      ],
      "execution_count": 29,
      "outputs": [
        {
          "output_type": "stream",
          "text": [
            "name: English     code: en       confidence:  28.0 read bytes:  1095\n",
            "name: Spanish     code: es       confidence:  26.0 read bytes:   593\n",
            "name: Tagalog     code: tl       confidence:  25.0 read bytes:   931\n"
          ],
          "name": "stdout"
        },
        {
          "output_type": "execute_result",
          "data": {
            "text/plain": [
              "[None, None, None]"
            ]
          },
          "metadata": {
            "tags": []
          },
          "execution_count": 29
        }
      ]
    },
    {
      "cell_type": "code",
      "metadata": {
        "colab": {
          "base_uri": "https://localhost:8080/",
          "height": 52
        },
        "id": "r4j45V8YjQz5",
        "outputId": "942fc14d-d23a-4550-e772-ddcb10a24cd3"
      },
      "source": [
        "df.loc[12633].project_url"
      ],
      "execution_count": 31,
      "outputs": [
        {
          "output_type": "execute_result",
          "data": {
            "application/vnd.google.colaboratory.intrinsic+json": {
              "type": "string"
            },
            "text/plain": [
              "'https://www.kickstarter.com/projects/1114450323/perfect-watches-kahiki-the-spirit-of-hawaii?ref=discovery_category_newest'"
            ]
          },
          "metadata": {
            "tags": []
          },
          "execution_count": 31
        }
      ]
    },
    {
      "cell_type": "code",
      "metadata": {
        "id": "BX9fyJKYZ-iz"
      },
      "source": [
        "l_names = [x[0] for x in langs]\n",
        "freqs = {y: l_names.count(y) for y in set(l_names)}"
      ],
      "execution_count": 10,
      "outputs": []
    },
    {
      "cell_type": "code",
      "metadata": {
        "id": "9KxWzHnCXOYN"
      },
      "source": [
        "df['lang'] = l_names"
      ],
      "execution_count": 11,
      "outputs": []
    },
    {
      "cell_type": "code",
      "metadata": {
        "colab": {
          "base_uri": "https://localhost:8080/",
          "height": 625
        },
        "id": "kN-Hj3dEZ4oK",
        "outputId": "a86c2a56-fd3f-4583-80ef-5fe5dd78898f"
      },
      "source": [
        "df.head()"
      ],
      "execution_count": 12,
      "outputs": [
        {
          "output_type": "execute_result",
          "data": {
            "text/html": [
              "<div>\n",
              "<style scoped>\n",
              "    .dataframe tbody tr th:only-of-type {\n",
              "        vertical-align: middle;\n",
              "    }\n",
              "\n",
              "    .dataframe tbody tr th {\n",
              "        vertical-align: top;\n",
              "    }\n",
              "\n",
              "    .dataframe thead th {\n",
              "        text-align: right;\n",
              "    }\n",
              "</style>\n",
              "<table border=\"1\" class=\"dataframe\">\n",
              "  <thead>\n",
              "    <tr style=\"text-align: right;\">\n",
              "      <th></th>\n",
              "      <th>pledged</th>\n",
              "      <th>state</th>\n",
              "      <th>usd_pledged</th>\n",
              "      <th>deadline</th>\n",
              "      <th>id</th>\n",
              "      <th>state_changed_at</th>\n",
              "      <th>created_at</th>\n",
              "      <th>fx_rate</th>\n",
              "      <th>disable_communication</th>\n",
              "      <th>goal</th>\n",
              "      <th>backers_count</th>\n",
              "      <th>launched_at</th>\n",
              "      <th>currency</th>\n",
              "      <th>country</th>\n",
              "      <th>category</th>\n",
              "      <th>sub_category</th>\n",
              "      <th>project_url</th>\n",
              "      <th>creator_id</th>\n",
              "      <th>year</th>\n",
              "      <th>image</th>\n",
              "      <th>has_video</th>\n",
              "      <th>story</th>\n",
              "      <th>risks</th>\n",
              "      <th>creator_bio</th>\n",
              "      <th>n_tiers</th>\n",
              "      <th>tiers_values</th>\n",
              "      <th>n_images</th>\n",
              "      <th>n_gifs</th>\n",
              "      <th>n_websites</th>\n",
              "      <th>fb_linked</th>\n",
              "      <th>n_collab</th>\n",
              "      <th>collab_names</th>\n",
              "      <th>lang</th>\n",
              "    </tr>\n",
              "  </thead>\n",
              "  <tbody>\n",
              "    <tr>\n",
              "      <th>0</th>\n",
              "      <td>150.0</td>\n",
              "      <td>successful</td>\n",
              "      <td>181.139294</td>\n",
              "      <td>1526787000</td>\n",
              "      <td>334251380</td>\n",
              "      <td>1526787001</td>\n",
              "      <td>1523996277</td>\n",
              "      <td>1.197522</td>\n",
              "      <td>False</td>\n",
              "      <td>150.0</td>\n",
              "      <td>8</td>\n",
              "      <td>1525276383</td>\n",
              "      <td>EUR</td>\n",
              "      <td>FR</td>\n",
              "      <td>Film &amp; Video</td>\n",
              "      <td>Festivals</td>\n",
              "      <td>https://www.kickstarter.com/projects/sm4shostu...</td>\n",
              "      <td>1844740738</td>\n",
              "      <td>2021</td>\n",
              "      <td>https://ksr-ugc.imgix.net/assets/020/924/958/b...</td>\n",
              "      <td>False</td>\n",
              "      <td>Mais qui sommes nous ? \\n \\n \\n Installation O...</td>\n",
              "      <td>Même si les fonds nécessaires ne sont pas atte...</td>\n",
              "      <td>Canapé Fight est une page autour du partage et...</td>\n",
              "      <td>3.0</td>\n",
              "      <td>[2, 5, 40]</td>\n",
              "      <td>12.0</td>\n",
              "      <td>0.0</td>\n",
              "      <td>1.0</td>\n",
              "      <td>False</td>\n",
              "      <td>0.0</td>\n",
              "      <td>[]</td>\n",
              "      <td>name: French      code: fr       confidence:  ...</td>\n",
              "    </tr>\n",
              "    <tr>\n",
              "      <th>1</th>\n",
              "      <td>318.0</td>\n",
              "      <td>successful</td>\n",
              "      <td>318.000000</td>\n",
              "      <td>1484851112</td>\n",
              "      <td>424206421</td>\n",
              "      <td>1484851112</td>\n",
              "      <td>1480346662</td>\n",
              "      <td>1.000000</td>\n",
              "      <td>False</td>\n",
              "      <td>200.0</td>\n",
              "      <td>6</td>\n",
              "      <td>1483555112</td>\n",
              "      <td>USD</td>\n",
              "      <td>US</td>\n",
              "      <td>Fashion</td>\n",
              "      <td>Apparel</td>\n",
              "      <td>https://www.kickstarter.com/projects/stevewort...</td>\n",
              "      <td>1339310935</td>\n",
              "      <td>2021</td>\n",
              "      <td>https://ksr-ugc.imgix.net/assets/014/689/968/e...</td>\n",
              "      <td>True</td>\n",
              "      <td>\\n \\n \\n Black stick figure design will be scr...</td>\n",
              "      <td>I can't see any risks or challenges once I'm f...</td>\n",
              "      <td>Artist Steve Worthington has lived and worked ...</td>\n",
              "      <td>3.0</td>\n",
              "      <td>[20, 23, 43]</td>\n",
              "      <td>15.0</td>\n",
              "      <td>1.0</td>\n",
              "      <td>6.0</td>\n",
              "      <td>True</td>\n",
              "      <td>0.0</td>\n",
              "      <td>[]</td>\n",
              "      <td>name: English     code: en       confidence:  ...</td>\n",
              "    </tr>\n",
              "    <tr>\n",
              "      <th>2</th>\n",
              "      <td>16143.0</td>\n",
              "      <td>failed</td>\n",
              "      <td>16143.000000</td>\n",
              "      <td>1470940250</td>\n",
              "      <td>1507824580</td>\n",
              "      <td>1470940250</td>\n",
              "      <td>1412445314</td>\n",
              "      <td>1.000000</td>\n",
              "      <td>False</td>\n",
              "      <td>80000.0</td>\n",
              "      <td>94</td>\n",
              "      <td>1468348250</td>\n",
              "      <td>USD</td>\n",
              "      <td>US</td>\n",
              "      <td>Film &amp; Video</td>\n",
              "      <td>Comedy</td>\n",
              "      <td>https://www.kickstarter.com/projects/concordmo...</td>\n",
              "      <td>1854263224</td>\n",
              "      <td>2021</td>\n",
              "      <td>https://ksr-ugc.imgix.net/assets/011/895/127/e...</td>\n",
              "      <td>True</td>\n",
              "      <td>My Advice is the story of a man trying to do w...</td>\n",
              "      <td>PRE-PRODUCTION\\r\\nDuring pre-production we put...</td>\n",
              "      <td>Thanks for supporting independent filmmaking!\\...</td>\n",
              "      <td>16.0</td>\n",
              "      <td>[3, 5, 7, 20, 25, 25, 25, 30, 35, 50, 150, 275...</td>\n",
              "      <td>9.0</td>\n",
              "      <td>0.0</td>\n",
              "      <td>4.0</td>\n",
              "      <td>True</td>\n",
              "      <td>0.0</td>\n",
              "      <td>[]</td>\n",
              "      <td>name: English     code: en       confidence:  ...</td>\n",
              "    </tr>\n",
              "    <tr>\n",
              "      <th>3</th>\n",
              "      <td>3776.0</td>\n",
              "      <td>successful</td>\n",
              "      <td>4039.798874</td>\n",
              "      <td>1482083487</td>\n",
              "      <td>100089599</td>\n",
              "      <td>1482083487</td>\n",
              "      <td>1477479904</td>\n",
              "      <td>1.197522</td>\n",
              "      <td>False</td>\n",
              "      <td>3286.0</td>\n",
              "      <td>44</td>\n",
              "      <td>1479491487</td>\n",
              "      <td>EUR</td>\n",
              "      <td>FR</td>\n",
              "      <td>Fashion</td>\n",
              "      <td>Apparel</td>\n",
              "      <td>https://www.kickstarter.com/projects/190850067...</td>\n",
              "      <td>1908500678</td>\n",
              "      <td>2021</td>\n",
              "      <td>https://ksr-ugc.imgix.net/assets/014/282/394/8...</td>\n",
              "      <td>True</td>\n",
              "      <td>NB : English speakers please switch on subtitl...</td>\n",
              "      <td>The brand has been existing for over 4 years, ...</td>\n",
              "      <td>PAVÉ. has been existing for 4 years. We are bo...</td>\n",
              "      <td>12.0</td>\n",
              "      <td>[1, 5, 35, 70, 70, 80, 95, 130, 170, 220, 290,...</td>\n",
              "      <td>42.0</td>\n",
              "      <td>0.0</td>\n",
              "      <td>1.0</td>\n",
              "      <td>True</td>\n",
              "      <td>0.0</td>\n",
              "      <td>[]</td>\n",
              "      <td>name: English     code: en       confidence:  ...</td>\n",
              "    </tr>\n",
              "    <tr>\n",
              "      <th>4</th>\n",
              "      <td>26668.0</td>\n",
              "      <td>successful</td>\n",
              "      <td>26668.000000</td>\n",
              "      <td>1541203200</td>\n",
              "      <td>1672479848</td>\n",
              "      <td>1541203200</td>\n",
              "      <td>1527023959</td>\n",
              "      <td>1.000000</td>\n",
              "      <td>False</td>\n",
              "      <td>25000.0</td>\n",
              "      <td>345</td>\n",
              "      <td>1538662232</td>\n",
              "      <td>USD</td>\n",
              "      <td>US</td>\n",
              "      <td>Film &amp; Video</td>\n",
              "      <td>Documentary</td>\n",
              "      <td>https://www.kickstarter.com/projects/230068012...</td>\n",
              "      <td>230068012</td>\n",
              "      <td>2021</td>\n",
              "      <td>https://ksr-ugc.imgix.net/assets/021/321/161/f...</td>\n",
              "      <td>True</td>\n",
              "      <td>\\n \\n \\n \\n \\n The United States currently ran...</td>\n",
              "      <td>As mentioned in the section above, fundraising...</td>\n",
              "      <td>Hillary Bachelder (director) is a graduate of ...</td>\n",
              "      <td>9.0</td>\n",
              "      <td>[10, 25, 50, 100, 250, 500, 1, 5, 10]</td>\n",
              "      <td>23.0</td>\n",
              "      <td>0.0</td>\n",
              "      <td>1.0</td>\n",
              "      <td>False</td>\n",
              "      <td>0.0</td>\n",
              "      <td>[]</td>\n",
              "      <td>name: English     code: en       confidence:  ...</td>\n",
              "    </tr>\n",
              "  </tbody>\n",
              "</table>\n",
              "</div>"
            ],
            "text/plain": [
              "   pledged  ...                                               lang\n",
              "0    150.0  ...  name: French      code: fr       confidence:  ...\n",
              "1    318.0  ...  name: English     code: en       confidence:  ...\n",
              "2  16143.0  ...  name: English     code: en       confidence:  ...\n",
              "3   3776.0  ...  name: English     code: en       confidence:  ...\n",
              "4  26668.0  ...  name: English     code: en       confidence:  ...\n",
              "\n",
              "[5 rows x 33 columns]"
            ]
          },
          "metadata": {
            "tags": []
          },
          "execution_count": 12
        }
      ]
    },
    {
      "cell_type": "code",
      "metadata": {
        "id": "-KRdo5e1V4qC"
      },
      "source": [
        "from transformers.hf_api import HfApi\n",
        "model_list = HfApi().model_list()\n",
        "org = \"Helsinki-NLP\"\n",
        "model_ids = [x.modelId for x in model_list if x.modelId.startswith(org)]\n",
        "suffix = [x.split('/')[1] for x in model_ids]\n",
        "old_style_multi_models = [f'{org}/{s}' for s in suffix if s != s.lower()]"
      ],
      "execution_count": 13,
      "outputs": []
    },
    {
      "cell_type": "code",
      "metadata": {
        "id": "9tzUEVrI1QZn"
      },
      "source": [
        "import torch\n",
        "device = \"cuda:0\" if torch.cuda.is_available() else \"cpu\""
      ],
      "execution_count": 14,
      "outputs": []
    },
    {
      "cell_type": "code",
      "metadata": {
        "id": "1oa9_OuWDgV1"
      },
      "source": [
        "buffer=30\n",
        "for l in set(df['lang']).intersection(set(map(lambda x: x.split('-')[2] if x.split('-')[3] == 'en' else 'it', suffix))):\n",
        "  if l != 'en':\n",
        "    temp = df[df['lang'] == l]\n",
        "    text_list = list(map(str, temp[['story', 'risks', 'creator_bio']].to_numpy().flatten()))\n",
        "    model_name = f'Helsinki-NLP/opus-mt-{l}-en'\n",
        "    tokenizer = MarianTokenizer.from_pretrained(model_name)\n",
        "    model = MarianMTModel.from_pretrained(model_name).to(device)\n",
        "    decoded = []\n",
        "    if len(text_list) > buffer:\n",
        "      for i in range(len(text_list)//buffer):\n",
        "        translated = model.generate(**tokenizer(text_list[i*buffer:(i+1)*buffer], return_tensors=\"pt\", padding=True, truncation=True).to(device))\n",
        "        decoded += [tokenizer.decode(t, skip_special_tokens=True) for t in translated]\n",
        "      translated = model.generate(**tokenizer(text_list[(i+1)*buffer:], return_tensors=\"pt\", padding=True, truncation=True).to(device))\n",
        "      decoded += [tokenizer.decode(t, skip_special_tokens=True) for t in translated]\n",
        "    else:\n",
        "      translated = model.generate(**tokenizer(text_list, return_tensors=\"pt\", padding=True, truncation=True).to(device))\n",
        "      decoded += [tokenizer.decode(t, skip_special_tokens=True) for t in translated]\n",
        "    temp[['story', 'risks', 'creator_bio']] = np.array(decoded).reshape(temp[['story', 'risks', 'creator_bio']].shape)\n",
        "    df[df['lang'] == l] = temp\n",
        "  break  "
      ],
      "execution_count": 15,
      "outputs": []
    },
    {
      "cell_type": "code",
      "metadata": {
        "id": "KQGaCIHq1Dgj"
      },
      "source": [
        ""
      ],
      "execution_count": 15,
      "outputs": []
    },
    {
      "cell_type": "code",
      "metadata": {
        "colab": {
          "base_uri": "https://localhost:8080/",
          "height": 165
        },
        "id": "6SRWIYpB6axK",
        "outputId": "63d606a3-bd9f-4c25-d006-970c9685b8be"
      },
      "source": [
        "temp"
      ],
      "execution_count": 16,
      "outputs": [
        {
          "output_type": "error",
          "ename": "NameError",
          "evalue": "ignored",
          "traceback": [
            "\u001b[0;31m---------------------------------------------------------------------------\u001b[0m",
            "\u001b[0;31mNameError\u001b[0m                                 Traceback (most recent call last)",
            "\u001b[0;32m<ipython-input-16-da77557ed0c8>\u001b[0m in \u001b[0;36m<module>\u001b[0;34m()\u001b[0m\n\u001b[0;32m----> 1\u001b[0;31m \u001b[0mtemp\u001b[0m\u001b[0;34m\u001b[0m\u001b[0;34m\u001b[0m\u001b[0m\n\u001b[0m",
            "\u001b[0;31mNameError\u001b[0m: name 'temp' is not defined"
          ]
        }
      ]
    },
    {
      "cell_type": "code",
      "metadata": {
        "id": "07vO6LZB9S5R"
      },
      "source": [
        "df.loc[11721]['story']"
      ],
      "execution_count": null,
      "outputs": []
    },
    {
      "cell_type": "code",
      "metadata": {
        "id": "OAgxIsGoLyMx"
      },
      "source": [
        "l"
      ],
      "execution_count": null,
      "outputs": []
    }
  ]
}