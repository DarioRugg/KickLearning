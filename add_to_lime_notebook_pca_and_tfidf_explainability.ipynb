{
 "cells": [
  {
   "cell_type": "markdown",
   "metadata": {
    "id": "muisdWlHjZRI"
   },
   "source": [
    "# Explanabity of PCA"
   ]
  },
  {
   "cell_type": "markdown",
   "metadata": {
    "id": "9mZZQREb1hFN"
   },
   "source": [
    "## Setup"
   ]
  },
  {
   "cell_type": "code",
   "execution_count": 1,
   "metadata": {
    "colab": {
     "base_uri": "https://localhost:8080/"
    },
    "executionInfo": {
     "elapsed": 20805,
     "status": "ok",
     "timestamp": 1626512989269,
     "user": {
      "displayName": "dario ruggeri",
      "photoUrl": "",
      "userId": "00605556345834424824"
     },
     "user_tz": -120
    },
    "id": "8oJX9iE6qaSA",
    "outputId": "b194855a-def4-42ab-bd85-c6ab328fda31"
   },
   "outputs": [
    {
     "name": "stdout",
     "output_type": "stream",
     "text": [
      "Mounted at /content/drive\n"
     ]
    }
   ],
   "source": [
    "from google.colab import drive\n",
    "drive.mount('/content/drive')"
   ]
  },
  {
   "cell_type": "code",
   "execution_count": 2,
   "metadata": {
    "colab": {
     "base_uri": "https://localhost:8080/"
    },
    "executionInfo": {
     "elapsed": 749,
     "status": "ok",
     "timestamp": 1626512990012,
     "user": {
      "displayName": "dario ruggeri",
      "photoUrl": "",
      "userId": "00605556345834424824"
     },
     "user_tz": -120
    },
    "id": "Q1IyzZ1AqaFk",
    "outputId": "d8d455fb-7141-4794-988e-665535e8751b"
   },
   "outputs": [
    {
     "name": "stdout",
     "output_type": "stream",
     "text": [
      "/content/drive/.shortcut-targets-by-id/1iWelwZQ6yutjZacqvhb1xSPIvi_nlIiH/Project/KickLearning\n"
     ]
    }
   ],
   "source": [
    "%cd /content/drive/MyDrive/Project/KickLearning/"
   ]
  },
  {
   "cell_type": "markdown",
   "metadata": {
    "id": "zXV2OqA4WcDi"
   },
   "source": [
    "Lybraries"
   ]
  },
  {
   "cell_type": "code",
   "execution_count": 14,
   "metadata": {
    "collapsed": true,
    "executionInfo": {
     "elapsed": 290,
     "status": "ok",
     "timestamp": 1626513416062,
     "user": {
      "displayName": "dario ruggeri",
      "photoUrl": "",
      "userId": "00605556345834424824"
     },
     "user_tz": -120
    },
    "id": "CNlcKcN9pBHx"
   },
   "outputs": [],
   "source": [
    "from os.path import join\n",
    "import pickle as pk\n",
    "\n",
    "import matplotlib.pyplot as plt\n",
    "\n",
    "import pandas as pd\n",
    "import numpy as np"
   ]
  },
  {
   "cell_type": "code",
   "execution_count": 4,
   "metadata": {
    "executionInfo": {
     "elapsed": 322,
     "status": "ok",
     "timestamp": 1626513013985,
     "user": {
      "displayName": "dario ruggeri",
      "photoUrl": "",
      "userId": "00605556345834424824"
     },
     "user_tz": -120
    },
    "id": "Ia5vDFghpBH2"
   },
   "outputs": [],
   "source": [
    "data_path = join(\".\", \"data\")\n",
    "models_path = join(\".\", \"logs\", \"tfidf_pca_parameters\")"
   ]
  },
  {
   "cell_type": "markdown",
   "metadata": {
    "id": "2qDSEA8m_nLI"
   },
   "source": [
    "## Explaining the component"
   ]
  },
  {
   "cell_type": "code",
   "execution_count": 120,
   "metadata": {
    "executionInfo": {
     "elapsed": 321,
     "status": "ok",
     "timestamp": 1626517208858,
     "user": {
      "displayName": "dario ruggeri",
      "photoUrl": "",
      "userId": "00605556345834424824"
     },
     "user_tz": -120
    },
    "id": "Zcm-wf9hnSgz"
   },
   "outputs": [],
   "source": [
    "princ_compo_indexes = [27, 0, 4, 13]"
   ]
  },
  {
   "cell_type": "code",
   "execution_count": 5,
   "metadata": {
    "executionInfo": {
     "elapsed": 4252,
     "status": "ok",
     "timestamp": 1626513080707,
     "user": {
      "displayName": "dario ruggeri",
      "photoUrl": "",
      "userId": "00605556345834424824"
     },
     "user_tz": -120
    },
    "id": "Gu2yNYzRuz6l"
   },
   "outputs": [],
   "source": [
    "encoder = pk.load(open(join(models_path, \"encoder_with_tfidf_and_pca.pkl\"),\"rb\"))"
   ]
  },
  {
   "cell_type": "markdown",
   "metadata": {
    "id": "x79FxiC9vMv0"
   },
   "source": [
    "## Building the dummy vector"
   ]
  },
  {
   "cell_type": "code",
   "execution_count": 121,
   "metadata": {
    "executionInfo": {
     "elapsed": 4,
     "status": "ok",
     "timestamp": 1626517210326,
     "user": {
      "displayName": "dario ruggeri",
      "photoUrl": "",
      "userId": "00605556345834424824"
     },
     "user_tz": -120
    },
    "id": "jGIY4gJQzKpj"
   },
   "outputs": [],
   "source": [
    "scores_list = []\n",
    "for prin_com in princ_compo_indexes:\n",
    "    vec = np.zeros(encoder.pca_transformer.n_components_)\n",
    "    vec[prin_com] = 1\n",
    "    scores_list.append(pd.Series(encoder.pca_transformer.inverse_transform(vec), index=encoder.tfidf_transformer.get_feature_names()))"
   ]
  },
  {
   "cell_type": "markdown",
   "metadata": {
    "id": "MCUjrpVM6I3G"
   },
   "source": [
    "## Sorting and normalizing"
   ]
  },
  {
   "cell_type": "code",
   "execution_count": 122,
   "metadata": {
    "executionInfo": {
     "elapsed": 306,
     "status": "ok",
     "timestamp": 1626517276681,
     "user": {
      "displayName": "dario ruggeri",
      "photoUrl": "",
      "userId": "00605556345834424824"
     },
     "user_tz": -120
    },
    "id": "CtTL4RJ21q8u"
   },
   "outputs": [],
   "source": [
    "scores_list = list(map(lambda scores: scores.sort_values(ascending=False).head(10), scores_list))\n",
    "scores_list = list(map(lambda scores: scores/scores.abs().sum(), scores_list))"
   ]
  },
  {
   "cell_type": "markdown",
   "metadata": {
    "id": "5SZ4wZqF6F2x"
   },
   "source": [
    "## Plots"
   ]
  },
  {
   "cell_type": "code",
   "execution_count": 134,
   "metadata": {
    "colab": {
     "base_uri": "https://localhost:8080/",
     "height": 673
    },
    "executionInfo": {
     "elapsed": 1181,
     "status": "ok",
     "timestamp": 1626517599427,
     "user": {
      "displayName": "dario ruggeri",
      "photoUrl": "",
      "userId": "00605556345834424824"
     },
     "user_tz": -120
    },
    "id": "39JQrUIw2WhI",
    "outputId": "1c4e2479-7527-4370-e653-f0d981824334"
   },
   "outputs": [
    {
     "data": {
      "image/png": "[encoded data removed]",
      "text/plain": [
       "<Figure size 720x648 with 4 Axes>"
      ]
     },
     "metadata": {
      "needs_background": "light",
      "tags": []
     },
     "output_type": "display_data"
    }
   ],
   "source": [
    "fig, axs = plt.subplots(2, 2, constrained_layout=True)\n",
    "fig.set_size_inches(10, 9)\n",
    "fig.suptitle(\"Terms with higest TfIdf scores\")\n",
    "scores_list[0].plot.bar(ax=axs[0,0], color=\"darkgreen\", title=\"Component {}\".format(princ_compo_indexes[0]), yticks=[])\n",
    "scores_list[1].plot.bar(ax=axs[0,1], color=\"darkblue\", title=\"Component {}\".format(princ_compo_indexes[1]), yticks=[])\n",
    "scores_list[2].plot.bar(ax=axs[1,0], color=\"darkorange\", title=\"Component {}\".format(princ_compo_indexes[2]), yticks=[])\n",
    "scores_list[3].plot.bar(ax=axs[1,1], color=\"darkviolet\", title=\"Component {}\".format(princ_compo_indexes[3]), yticks=[])\n",
    "plt.show()"
   ]
  },
  {
   "cell_type": "markdown",
   "metadata": {
    "id": "GhH-w4vx6abb"
   },
   "source": [
    "## Explained variance in PCA"
   ]
  },
  {
   "cell_type": "code",
   "execution_count": 139,
   "metadata": {
    "colab": {
     "base_uri": "https://localhost:8080/",
     "height": 385
    },
    "executionInfo": {
     "elapsed": 912,
     "status": "ok",
     "timestamp": 1626517676933,
     "user": {
      "displayName": "dario ruggeri",
      "photoUrl": "",
      "userId": "00605556345834424824"
     },
     "user_tz": -120
    },
    "id": "sFqD5H8MwE2S",
    "outputId": "b500dbbd-b18f-420d-fdb4-119d3e172560"
   },
   "outputs": [
    {
     "data": {
      "image/png": "[encoded data removed]",
      "text/plain": [
       "<Figure size 720x360 with 2 Axes>"
      ]
     },
     "metadata": {
      "needs_background": "light",
      "tags": []
     },
     "output_type": "display_data"
    }
   ],
   "source": [
    "fig, (ax1, ax2) = plt.subplots(1, 2, constrained_layout=True)\n",
    "fig.suptitle(\"Explained variance by PCA\\ncomponents over TfIdf\")\n",
    "fig.set_size_inches(10, 5)\n",
    "ax1.set_title(\"Explained variance\")\n",
    "ax1.plot(encoder.pca_transformer.explained_variance_[:80], color=\"darkred\", label=\"Explained var\")\n",
    "ax1.axvline(29, color=\"green\", label=\"Selection\")\n",
    "ax1.legend()\n",
    "ax2.set_title(\"Cumulative explained variance\")\n",
    "ax2.plot(np.cumsum(encoder.pca_transformer.explained_variance_), color=\"darkblue\", label=\"Cumulative explained var\")\n",
    "ax2.axvline(29, color=\"green\", label=\"Selection\")\n",
    "ax2.legend()\n",
    "plt.show()"
   ]
  }
 ],
 "metadata": {
  "colab": {
   "collapsed_sections": [],
   "name": "pca_and_tfidf_explainability.ipynb",
   "provenance": []
  },
  "kernelspec": {
   "display_name": "Python 3",
   "language": "python",
   "name": "python3"
  },
  "language_info": {
   "codemirror_mode": {
    "name": "ipython",
    "version": 3
   },
   "file_extension": ".py",
   "mimetype": "text/x-python",
   "name": "python",
   "nbconvert_exporter": "python",
   "pygments_lexer": "ipython3",
   "version": "3.8.3"
  }
 },
 "nbformat": 4,
 "nbformat_minor": 1
}
