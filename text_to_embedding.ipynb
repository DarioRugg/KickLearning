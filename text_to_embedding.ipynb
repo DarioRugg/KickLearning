{
 "cells": [
  {
   "cell_type": "code",
   "execution_count": 2,
   "metadata": {
    "collapsed": true
   },
   "outputs": [],
   "source": [
    "from os.path import join\n",
    "from os import listdir\n",
    "\n",
    "import pandas as pd\n",
    "\n",
    "from feature_analysis.text_embeding import TextEncoder\n",
    "from feature_analysis.deep_text_embeding import TextEncoder as DeepTextEncoder"
   ]
  },
  {
   "cell_type": "code",
   "execution_count": 3,
   "outputs": [],
   "source": [
    "data_path = join(\".\", \"data\", \"texts\")\n",
    "destination_path = join(\".\", \"data\", \"text_embedded\")"
   ],
   "metadata": {
    "collapsed": false,
    "pycharm": {
     "name": "#%%\n"
    }
   }
  },
  {
   "cell_type": "code",
   "execution_count": 4,
   "outputs": [],
   "source": [
    "encoder = TextEncoder(kpca_n_components=16)"
   ],
   "metadata": {
    "collapsed": false,
    "pycharm": {
     "name": "#%%\n"
    }
   }
  },
  {
   "cell_type": "code",
   "execution_count": 4,
   "outputs": [
    {
     "name": "stdout",
     "output_type": "stream",
     "text": [
      "starting with document 0\n",
      "starting with document 1\n",
      "starting with document 2\n"
     ]
    }
   ],
   "source": [
    "for i, file_name in enumerate(listdir(data_path)):\n",
    "    print(f\"starting with document {i}\")\n",
    "\n",
    "    texts = pd.read_csv(join(data_path, file_name), usecols=[\"story\"], nrows=100).story.to_list()\n",
    "\n",
    "    encoder.fit_tfidf_pipeline(data=texts)"
   ],
   "metadata": {
    "collapsed": false,
    "pycharm": {
     "name": "#%%\n"
    }
   }
  },
  {
   "cell_type": "code",
   "execution_count": 14,
   "outputs": [
    {
     "name": "stdout",
     "output_type": "stream",
     "text": [
      "starting with document 0\n",
      "starting with document 1\n",
      "starting with document 2\n"
     ]
    }
   ],
   "source": [
    "for i, file_name in enumerate(listdir(data_path)):\n",
    "    print(f\"starting with document {i}\")\n",
    "\n",
    "    df = pd.read_csv(join(data_path, file_name), usecols=[\"id\", \"story\"], nrows=100)\n",
    "\n",
    "    texts = df.story.to_list()\n",
    "\n",
    "    embeddings = encoder.transform_pipeline(data=texts, fit_on_data=False)\n",
    "\n",
    "    df.drop(columns=\"story\", inplace=True)\n",
    "\n",
    "    df = pd.concat([df.id, pd.DataFrame(embeddings, index=df.index).add_prefix(\"text_\")])\n",
    "\n",
    "    df.to_csv(join(destination_path, file_name))"
   ],
   "metadata": {
    "collapsed": false,
    "pycharm": {
     "name": "#%%\n"
    }
   }
  },
  {
   "cell_type": "code",
   "execution_count": 24,
   "outputs": [],
   "source": [
    "encoder.new_data(data=[\"bene bene ciao, bello\"])\n",
    "encoder.tfidf_fit()"
   ],
   "metadata": {
    "collapsed": false,
    "pycharm": {
     "name": "#%%\n"
    }
   }
  },
  {
   "cell_type": "code",
   "execution_count": 25,
   "outputs": [],
   "source": [
    "encoder.new_data(data=[\"ciao dario ciao bello\"])\n",
    "encoder.tfidf_transform()"
   ],
   "metadata": {
    "collapsed": false,
    "pycharm": {
     "name": "#%%\n"
    }
   }
  },
  {
   "cell_type": "code",
   "execution_count": 26,
   "outputs": [],
   "source": [
    "embedding = encoder.get_data()\n"
   ],
   "metadata": {
    "collapsed": false,
    "pycharm": {
     "name": "#%%\n"
    }
   }
  },
  {
   "cell_type": "code",
   "execution_count": 27,
   "outputs": [
    {
     "data": {
      "text/plain": "0.0"
     },
     "execution_count": 27,
     "metadata": {},
     "output_type": "execute_result"
    }
   ],
   "source": [
    "embedding[0, 1]"
   ],
   "metadata": {
    "collapsed": false,
    "pycharm": {
     "name": "#%%\n"
    }
   }
  }
 ],
 "metadata": {
  "kernelspec": {
   "display_name": "Python 3",
   "language": "python",
   "name": "python3"
  },
  "language_info": {
   "codemirror_mode": {
    "name": "ipython",
    "version": 2
   },
   "file_extension": ".py",
   "mimetype": "text/x-python",
   "name": "python",
   "nbconvert_exporter": "python",
   "pygments_lexer": "ipython2",
   "version": "2.7.6"
  }
 },
 "nbformat": 4,
 "nbformat_minor": 0
}