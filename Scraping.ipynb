{
 "cells": [
  {
   "cell_type": "code",
   "execution_count": 34,
   "metadata": {},
   "outputs": [],
   "source": [
    "import pandas as pd"
   ]
  },
  {
   "cell_type": "code",
   "execution_count": 35,
   "metadata": {},
   "outputs": [],
   "source": [
    "from bs4 import BeautifulSoup"
   ]
  },
  {
   "cell_type": "code",
   "execution_count": 39,
   "metadata": {},
   "outputs": [],
   "source": [
    "#!pip install selenium\n",
    "from selenium import webdriver\n",
    "import time\n",
    "import re"
   ]
  },
  {
   "cell_type": "code",
   "execution_count": 40,
   "metadata": {},
   "outputs": [],
   "source": [
    "\n",
    "#PATH = \"c:/Program Files (x86)/chromedriver_win32/chromedriver.exe\"\n",
    "PATH = \"F:\\chromedriver.exe\"\n",
    "options = webdriver.ChromeOptions()\n",
    "options.add_argument('--lang=en-US')\n",
    "options.add_argument(\"start-maximized\")\n"
   ]
  },
  {
   "cell_type": "code",
   "execution_count": 44,
   "metadata": {},
   "outputs": [],
   "source": [
    "driver = webdriver.Chrome(PATH, options=options)\n",
    "root = \"https://www.kickstarter.com/projects/sanderbakker/tidashi-20-a-titanium-mini-knife\"\n",
    "driver.get(root + '/description')\n",
    "\n",
    "\n",
    "driver1 = webdriver.Chrome(PATH, options=options)\n",
    "driver1.get(root + \"/creator_bio\")\n",
    "\n",
    "\n",
    "driver2 = webdriver.Chrome(PATH, options=options)\n",
    "profile = '/'.join(re.sub('projects', 'profile', root).split('/')[:-1])\n",
    "driver2.get(profile + '/about')\n",
    "\n",
    "\n",
    "driver3 = webdriver.Chrome(PATH, options=options)\n",
    "driver3.get(profile + '/created')\n",
    "time.sleep(5)\n",
    "desc = BeautifulSoup(driver.page_source, 'html.parser')\n",
    "creat = BeautifulSoup(driver1.page_source, 'html.parser')\n",
    "about = BeautifulSoup(driver2.page_source, 'html.parser')\n",
    "created = BeautifulSoup(driver3.page_source, 'html.parser')"
   ]
  },
  {
   "cell_type": "code",
   "execution_count": 45,
   "metadata": {},
   "outputs": [],
   "source": [
    "# problema: l'immagine e' solo quella grande del progetto\n",
    "# TODO: contare le immagini su tutta la pagina html"
   ]
  },
  {
   "cell_type": "code",
   "execution_count": 46,
   "metadata": {},
   "outputs": [],
   "source": [
    "image = desc.find('div', {'class': 'project-profile__feature_image'}).find('img')['src']"
   ]
  },
  {
   "cell_type": "code",
   "execution_count": 9,
   "metadata": {},
   "outputs": [],
   "source": [
    "has_video = desc.find('video') is not None"
   ]
  },
  {
   "cell_type": "code",
   "execution_count": 10,
   "metadata": {},
   "outputs": [],
   "source": [
    "## Pledge tiers\n",
    "\n",
    "tiers = desc.find_all(\"div\", {\"class\": \"pledge__info\"})"
   ]
  },
  {
   "cell_type": "code",
   "execution_count": 11,
   "metadata": {},
   "outputs": [],
   "source": [
    "## Story \n",
    "\n",
    "story = desc.find(\"div\", {'id': 'story'}).find_next_sibling()"
   ]
  },
  {
   "cell_type": "code",
   "execution_count": 12,
   "metadata": {},
   "outputs": [],
   "source": [
    "## Risks and challenges\n",
    "\n",
    "risks = desc.find(\"div\", {'id': 'risks-and-challenges'})"
   ]
  },
  {
   "cell_type": "code",
   "execution_count": 13,
   "metadata": {},
   "outputs": [],
   "source": [
    "\"websites\"\n",
    "\n",
    "websites = creat.find(\"ul\", {'class':\"links list f5 bold\"}).find_all('li')"
   ]
  },
  {
   "cell_type": "code",
   "execution_count": 14,
   "metadata": {},
   "outputs": [],
   "source": [
    "# linked facebook account\n",
    "\n",
    "fb = creat.find(\"div\", {'class':\"facebook py2 border-bottom f5\"})"
   ]
  },
  {
   "cell_type": "code",
   "execution_count": 15,
   "metadata": {},
   "outputs": [
    {
     "name": "stdout",
     "output_type": "stream",
     "text": [
      "[<a href=\"/profile/crowd-ox/about\">Crowd Ox</a>]\n"
     ]
    }
   ],
   "source": [
    "# collaborators\n",
    "n_collab = 0\n",
    "if creat.find(\"div\", {'class': 'pt3 pt7-sm mobile-hide row'}):\n",
    "    collaborators = creat.find(\"div\", {'class': 'pt3 pt7-sm mobile-hide row'}).findChildren('a')\n",
    "    n_collab = len(collaborators)\n",
    "    print(collaborators)"
   ]
  },
  {
   "cell_type": "code",
   "execution_count": 16,
   "metadata": {},
   "outputs": [],
   "source": [
    "#creator description\n",
    "creator_bio = about.find('div', {'class': 'inline-block mb3'}).find_next_siblings()"
   ]
  },
  {
   "cell_type": "code",
   "execution_count": 17,
   "metadata": {},
   "outputs": [],
   "source": [
    "# creator websites\n",
    "creator_web = about.find('ul', {'class': 'menu-submenu mb6'}).find_all('li')"
   ]
  },
  {
   "cell_type": "code",
   "execution_count": 18,
   "metadata": {},
   "outputs": [
    {
     "data": {
      "text/plain": [
       "[<h3 class=\"type-18 light hover-item-text-underline mb1\">Musvalk. A fierce, yet small and elegant cutting tool.</h3>,\n",
       " <h3 class=\"type-18 light hover-item-text-underline mb1\">Tidashi, a titanium mini knife</h3>,\n",
       " <h3 class=\"type-18 light hover-item-text-underline mb1\">Niki table lamp</h3>,\n",
       " <h3 class=\"type-18 light hover-item-text-underline mb1\">Blom table lamp</h3>]"
      ]
     },
     "execution_count": 18,
     "metadata": {},
     "output_type": "execute_result"
    }
   ],
   "source": [
    "# all projects from the creator\n",
    "all_projects = created.find('div', {'id': 'content'}).find_all('div', {'class': 'js-track-project-card'})\n",
    "\n",
    "for i, card in enumerate(all_projects):\n",
    "    if card.find('a', {'href':root}) != None:\n",
    "        prev_projects = all_projects[i+1:]\n",
    "        break\n",
    "## previous project titles\n",
    "[x.find('h3', {'class' :'type-18 light hover-item-text-underline mb1'}) for x in prev_projects]"
   ]
  },
  {
   "cell_type": "code",
   "execution_count": 19,
   "metadata": {},
   "outputs": [
    {
     "data": {
      "text/plain": [
       "['<div class=\"js-track-project-card\" data-model_name=\"\" data-project_backers_count=\"4457\" data-project_description=\"A little knife made from materials found in spacecrafts: advanced ceramics, titanium and carbon fiber.\" data-project_percent_raised=\"993.756\" data-project_pid=\"747975476\" data-project_pledged=\"248439\" data-project_state=\"successful\" data-raw_score=\"\" data-section=\"\" data-user_has_starred=\"\" data-user_is_backer=\"\" data-weighted_score=\"\"',\n",
       " '<div class=\"js-track-project-card\" data-model_name=\"\" data-project_backers_count=\"1679\" data-project_description=\"A traditional Japanese tool reimagined in Titanium.This elegant, simple knife is the portable solution to your  everyday cutting needs.\" data-project_percent_raised=\"3893.5\" data-project_pid=\"98181561\" data-project_pledged=\"54509\" data-project_state=\"successful\" data-raw_score=\"\" data-section=\"\" data-user_has_starred=\"\" data-user_is_backer=\"\" data-weighted_score=\"\"',\n",
       " '<div class=\"js-track-project-card\" data-model_name=\"\" data-project_backers_count=\"57\" data-project_description=\"A beautiful little light design reminding you to enjoy life. Chunky pencil legs and a hidden butterfly will put a smile on your face.\" data-project_percent_raised=\"124\" data-project_pid=\"1317917676\" data-project_pledged=\"3100\" data-project_state=\"successful\" data-raw_score=\"\" data-section=\"\" data-user_has_starred=\"\" data-user_is_backer=\"\" data-weighted_score=\"\"',\n",
       " '<div class=\"js-track-project-card\" data-model_name=\"\" data-project_backers_count=\"83\" data-project_description=\"A modern light design inspired by natural growth. Made in California for anybody interested in architecture and  furniture design.\" data-project_percent_raised=\"232.8684210526316\" data-project_pid=\"1964565771\" data-project_pledged=\"8849\" data-project_state=\"successful\" data-raw_score=\"\" data-section=\"\" data-user_has_starred=\"\" data-user_is_backer=\"\" data-weighted_score=\"\"']"
      ]
     },
     "execution_count": 19,
     "metadata": {},
     "output_type": "execute_result"
    }
   ],
   "source": [
    "# data for previous projects\n",
    "[str(x)[:str(x).find('>')] for x in prev_projects]"
   ]
  },
  {
   "cell_type": "code",
   "execution_count": 25,
   "metadata": {},
   "outputs": [
    {
     "data": {
      "text/html": [
       "<div>\n",
       "<style scoped>\n",
       "    .dataframe tbody tr th:only-of-type {\n",
       "        vertical-align: middle;\n",
       "    }\n",
       "\n",
       "    .dataframe tbody tr th {\n",
       "        vertical-align: top;\n",
       "    }\n",
       "\n",
       "    .dataframe thead th {\n",
       "        text-align: right;\n",
       "    }\n",
       "</style>\n",
       "<table border=\"1\" class=\"dataframe\">\n",
       "  <thead>\n",
       "    <tr style=\"text-align: right;\">\n",
       "      <th></th>\n",
       "      <th>image</th>\n",
       "      <th>has_video</th>\n",
       "      <th>tiers</th>\n",
       "      <th>story</th>\n",
       "      <th>risks</th>\n",
       "      <th>websites</th>\n",
       "      <th>fb</th>\n",
       "      <th>n_collab</th>\n",
       "      <th>collaborators</th>\n",
       "      <th>creator_bio</th>\n",
       "      <th>creator_web</th>\n",
       "      <th>prev_projects</th>\n",
       "    </tr>\n",
       "  </thead>\n",
       "  <tbody>\n",
       "    <tr>\n",
       "      <th>0</th>\n",
       "      <td>https://ksr-ugc.imgix.net/assets/025/029/086/3...</td>\n",
       "      <td>True</td>\n",
       "      <td>[[\\n, [\\nPledge , &lt;span class=\"money\"&gt;US$ 26&lt;/...</td>\n",
       "      <td>[[[], \\n, [&lt;span class=\"bold\"&gt;History&lt;/span&gt;],...</td>\n",
       "      <td>[[], [Risks and challenges], [If there is one ...</td>\n",
       "      <td>[[\\n, [splinterseed.com], \\n]]</td>\n",
       "      <td>[\\n, [], \\n, [\\n, [113 friends], \\n], \\n]</td>\n",
       "      <td>1</td>\n",
       "      <td>[[Crowd Ox]]</td>\n",
       "      <td>[[\\n], [The short version: \\n, [], In the foot...</td>\n",
       "      <td>[[\\n, [splinterseed.com\\n]]]</td>\n",
       "      <td>[[[&lt;div class=\"bg-white black relative border-...</td>\n",
       "    </tr>\n",
       "  </tbody>\n",
       "</table>\n",
       "</div>"
      ],
      "text/plain": [
       "                                               image  has_video  \\\n",
       "0  https://ksr-ugc.imgix.net/assets/025/029/086/3...       True   \n",
       "\n",
       "                                               tiers  \\\n",
       "0  [[\\n, [\\nPledge , <span class=\"money\">US$ 26</...   \n",
       "\n",
       "                                               story  \\\n",
       "0  [[[], \\n, [<span class=\"bold\">History</span>],...   \n",
       "\n",
       "                                               risks  \\\n",
       "0  [[], [Risks and challenges], [If there is one ...   \n",
       "\n",
       "                         websites                                         fb  \\\n",
       "0  [[\\n, [splinterseed.com], \\n]]  [\\n, [], \\n, [\\n, [113 friends], \\n], \\n]   \n",
       "\n",
       "   n_collab collaborators                                        creator_bio  \\\n",
       "0         1  [[Crowd Ox]]  [[\\n], [The short version: \\n, [], In the foot...   \n",
       "\n",
       "                    creator_web  \\\n",
       "0  [[\\n, [splinterseed.com\\n]]]   \n",
       "\n",
       "                                       prev_projects  \n",
       "0  [[[<div class=\"bg-white black relative border-...  "
      ]
     },
     "execution_count": 25,
     "metadata": {},
     "output_type": "execute_result"
    }
   ],
   "source": [
    "data = pd.DataFrame([[image, has_video, tiers, story, risks, websites, fb, n_collab, \n",
    "                      collaborators, creator_bio, creator_web, prev_projects]], \n",
    "                    columns=['image', 'has_video', 'tiers', 'story', 'risks', 'websites', \n",
    "                             'fb', 'n_collab', 'collaborators', 'creator_bio', 'creator_web', 'prev_projects'])\n",
    "data"
   ]
  },
  {
   "cell_type": "code",
   "execution_count": 54,
   "metadata": {},
   "outputs": [
    {
     "name": "stdout",
     "output_type": "stream",
     "text": [
      "[<div class=\"js-track-project-card\" data-model_name=\"\" data-project_backers_count=\"4457\" data-project_description=\"A little knife made from materials found in spacecrafts: advanced ceramics, titanium and carbon fiber.\" data-project_percent_raised=\"993.756\" data-project_pid=\"747975476\" data-project_pledged=\"248439\" data-project_state=\"successful\" data-raw_score=\"\" data-section=\"\" data-user_has_starred=\"\" data-user_is_backer=\"\" data-weighted_score=\"\"><div class=\"mb5 relative\" data-test-id=\"mouse-enter-capture\"><div class=\"bg-white black relative border-grey-500 border\"><div class=\"relative self-start\"><a class=\"block img-placeholder w100p\" href=\"https://www.kickstarter.com/projects/sanderbakker/musvalk-a-fierce-yet-small-and-elegant-cutting-too\"><img alt=\"Musvalk. A fierce, yet small and elegant cutting tool.\" class=\"border-grey-400 border-bottom w100p absolute t0\" src=\"https://ksr-ugc.imgix.net/assets/017/416/869/68877d19408b530c1ba7ac8036336c46_original.jpg?ixlib=rb-2.1.0&amp;crop=faces&amp;w=560&amp;h=315&amp;fit=crop&amp;v=1501127946&amp;auto=format&amp;frame=1&amp;q=92&amp;s=61bf628ffe854241f6e605ee407bb1b2\"/></a></div><div class=\"mt4 mb1 mt0-lg mb0-lg absolute-lg t2-lg r2-lg\"><div class=\"flex items-center justify-between px3 flex-column-lg px0-lg\"><div class=\"hide-lg\"><div><button class=\"hide-lg\"><div class=\"flex justify-start items-center px2 min-w20 border-box radius4px border border1px border-support-300\" style=\"height: 40px;\"><svg aria-hidden=\"true\" class=\"svg-icon__icon--bookmark-outline icon-medium fill-support-500\"><use xlink:href=\"#icon--bookmark-outline\"></use></svg><p class=\"type-13 type-14-md soft-black m0 pl2\" style='font-family: \"Maison Neue Book\", \"Helvetica Neue\", Helvetica, Arial, sans-serif;'>Save</p></div></button><div class=\"hide block-lg mb1\"><div class=\"hide-lg\"><button class=\"border-none shadow-avatar bg-white white radius100p block flex flex-column items-center justify-center\" style=\"width: 30px; height: 30px;\"><svg aria-hidden=\"false\" aria-label=\"bookmark\" class=\"svg-icon__icon--bookmark-outline icon-medium fill-support-500 transition-all transition-150 w100p\"><use xlink:href=\"#icon--bookmark-outline\"></use></svg></button></div><div class=\"hide block-lg\"><button class=\"border-none shadow-avatar bg-white white radius100p block flex flex-column items-center justify-center\" style=\"width: 30px; height: 30px;\"><svg aria-hidden=\"false\" aria-label=\"bookmark\" class=\"svg-icon__icon--bookmark-outline icon-medium fill-support-500 transition-all transition-150 w100p\"><use xlink:href=\"#icon--bookmark-outline\"></use></svg></button></div></div></div></div><div class=\"hide block-lg\"><div style=\"transition: all 200ms ease-in-out 0ms; opacity: 0;\"><button class=\"hide-lg\"><div class=\"flex justify-start items-center px2 min-w20 border-box radius4px border border1px border-support-300\" style=\"height: 40px;\"><svg aria-hidden=\"true\" class=\"svg-icon__icon--bookmark-outline icon-medium fill-support-500\"><use xlink:href=\"#icon--bookmark-outline\"></use></svg><p class=\"type-13 type-14-md soft-black m0 pl2\" style='font-family: \"Maison Neue Book\", \"Helvetica Neue\", Helvetica, Arial, sans-serif;'>Save</p></div></button><div class=\"hide block-lg mb1\"><div class=\"hide-lg\"><button class=\"border-none shadow-avatar bg-white white radius100p block flex flex-column items-center justify-center\" style=\"width: 30px; height: 30px;\"><svg aria-hidden=\"false\" aria-label=\"bookmark\" class=\"svg-icon__icon--bookmark-outline icon-medium fill-support-500 transition-all transition-150 w100p\"><use xlink:href=\"#icon--bookmark-outline\"></use></svg></button></div><div class=\"hide block-lg\"><button class=\"border-none shadow-avatar bg-white white radius100p block flex flex-column items-center justify-center\" style=\"width: 30px; height: 30px;\"><svg aria-hidden=\"false\" aria-label=\"bookmark\" class=\"svg-icon__icon--bookmark-outline icon-medium fill-support-500 transition-all transition-150 w100p\"><use xlink:href=\"#icon--bookmark-outline\"></use></svg></button></div></div></div></div><div class=\"flex items-center flex-column-lg\"><div class=\"pl2 pl0-lg\"><div class=\"hide-lg\"><div><div class=\"hide-lg\"><div class=\"hide-lg\"><button class=\"border border-support-300 bg-white white radius100p block flex flex-column items-center justify-center\" style=\"width: 40px; height: 40px;\"><svg aria-hidden=\"false\" aria-label=\"thumbsup\" class=\"svg-icon__icon--thumbsup-outline icon-medium fill-support-500 transition-all transition-150 w100p\"><use xlink:href=\"#icon--thumbsup-outline\"></use></svg></button></div><div class=\"hide block-lg\"><button class=\"border border-support-300 bg-white white radius100p block flex flex-column items-center justify-center\" style=\"width: 40px; height: 40px;\"><svg aria-hidden=\"false\" aria-label=\"thumbsup\" class=\"svg-icon__icon--thumbsup-outline icon-medium fill-support-500 transition-all transition-150 w100p\"><use xlink:href=\"#icon--thumbsup-outline\"></use></svg></button></div></div><div class=\"hide block-lg mb1\"><div class=\"hide-lg\"><button class=\"border-none shadow-avatar bg-white white radius100p block flex flex-column items-center justify-center\" style=\"width: 30px; height: 30px;\"><svg aria-hidden=\"false\" aria-label=\"thumbsup\" class=\"svg-icon__icon--thumbsup-outline icon-medium fill-support-500 transition-all transition-150 w100p\"><use xlink:href=\"#icon--thumbsup-outline\"></use></svg></button></div><div class=\"hide block-lg\"><button class=\"border-none shadow-avatar bg-white white radius100p block flex flex-column items-center justify-center\" style=\"width: 30px; height: 30px;\"><svg aria-hidden=\"false\" aria-label=\"thumbsup\" class=\"svg-icon__icon--thumbsup-outline icon-medium fill-support-500 transition-all transition-150 w100p\"><use xlink:href=\"#icon--thumbsup-outline\"></use></svg></button></div></div></div></div><div class=\"hide block-lg\"><div style=\"transition: all 200ms ease-in-out 35ms; opacity: 0;\"><div class=\"hide-lg\"><div class=\"hide-lg\"><button class=\"border border-support-300 bg-white white radius100p block flex flex-column items-center justify-center\" style=\"width: 40px; height: 40px;\"><svg aria-hidden=\"false\" aria-label=\"thumbsup\" class=\"svg-icon__icon--thumbsup-outline icon-medium fill-support-500 transition-all transition-150 w100p\"><use xlink:href=\"#icon--thumbsup-outline\"></use></svg></button></div><div class=\"hide block-lg\"><button class=\"border border-support-300 bg-white white radius100p block flex flex-column items-center justify-center\" style=\"width: 40px; height: 40px;\"><svg aria-hidden=\"false\" aria-label=\"thumbsup\" class=\"svg-icon__icon--thumbsup-outline icon-medium fill-support-500 transition-all transition-150 w100p\"><use xlink:href=\"#icon--thumbsup-outline\"></use></svg></button></div></div><div class=\"hide block-lg mb1\"><div class=\"hide-lg\"><button class=\"border-none shadow-avatar bg-white white radius100p block flex flex-column items-center justify-center\" style=\"width: 30px; height: 30px;\"><svg aria-hidden=\"false\" aria-label=\"thumbsup\" class=\"svg-icon__icon--thumbsup-outline icon-medium fill-support-500 transition-all transition-150 w100p\"><use xlink:href=\"#icon--thumbsup-outline\"></use></svg></button></div><div class=\"hide block-lg\"><button class=\"border-none shadow-avatar bg-white white radius100p block flex flex-column items-center justify-center\" style=\"width: 30px; height: 30px;\"><svg aria-hidden=\"false\" aria-label=\"thumbsup\" class=\"svg-icon__icon--thumbsup-outline icon-medium fill-support-500 transition-all transition-150 w100p\"><use xlink:href=\"#icon--thumbsup-outline\"></use></svg></button></div></div></div></div></div><div class=\"pl2 pl0-lg\"><div class=\"hide-lg\"><div><div class=\"hide-lg\"><div class=\"hide-lg\"><button class=\"border border-support-300 bg-white white radius100p block flex flex-column items-center justify-center\" style=\"width: 40px; height: 40px;\"><svg aria-hidden=\"false\" aria-label=\"thumbsdown\" class=\"svg-icon__icon--thumbsdown-outline icon-medium fill-support-500 transition-all transition-150 w100p\"><use xlink:href=\"#icon--thumbsdown-outline\"></use></svg></button></div><div class=\"hide block-lg\"><button class=\"border border-support-300 bg-white white radius100p block flex flex-column items-center justify-center\" style=\"width: 40px; height: 40px;\"><svg aria-hidden=\"false\" aria-label=\"thumbsdown\" class=\"svg-icon__icon--thumbsdown-outline icon-medium fill-support-500 transition-all transition-150 w100p\"><use xlink:href=\"#icon--thumbsdown-outline\"></use></svg></button></div></div><div class=\"hide block-lg mb1\"><div class=\"hide-lg\"><button class=\"border-none shadow-avatar bg-white white radius100p block flex flex-column items-center justify-center\" style=\"width: 30px; height: 30px;\"><svg aria-hidden=\"false\" aria-label=\"thumbsdown\" class=\"svg-icon__icon--thumbsdown-outline icon-medium fill-support-500 transition-all transition-150 w100p\"><use xlink:href=\"#icon--thumbsdown-outline\"></use></svg></button></div><div class=\"hide block-lg\"><button class=\"border-none shadow-avatar bg-white white radius100p block flex flex-column items-center justify-center\" style=\"width: 30px; height: 30px;\"><svg aria-hidden=\"false\" aria-label=\"thumbsdown\" class=\"svg-icon__icon--thumbsdown-outline icon-medium fill-support-500 transition-all transition-150 w100p\"><use xlink:href=\"#icon--thumbsdown-outline\"></use></svg></button></div></div></div></div><div class=\"hide block-lg\"><div style=\"transition: all 200ms ease-in-out 70ms; opacity: 0;\"><div class=\"hide-lg\"><div class=\"hide-lg\"><button class=\"border border-support-300 bg-white white radius100p block flex flex-column items-center justify-center\" style=\"width: 40px; height: 40px;\"><svg aria-hidden=\"false\" aria-label=\"thumbsdown\" class=\"svg-icon__icon--thumbsdown-outline icon-medium fill-support-500 transition-all transition-150 w100p\"><use xlink:href=\"#icon--thumbsdown-outline\"></use></svg></button></div><div class=\"hide block-lg\"><button class=\"border border-support-300 bg-white white radius100p block flex flex-column items-center justify-center\" style=\"width: 40px; height: 40px;\"><svg aria-hidden=\"false\" aria-label=\"thumbsdown\" class=\"svg-icon__icon--thumbsdown-outline icon-medium fill-support-500 transition-all transition-150 w100p\"><use xlink:href=\"#icon--thumbsdown-outline\"></use></svg></button></div></div><div class=\"hide block-lg mb1\"><div class=\"hide-lg\"><button class=\"border-none shadow-avatar bg-white white radius100p block flex flex-column items-center justify-center\" style=\"width: 30px; height: 30px;\"><svg aria-hidden=\"false\" aria-label=\"thumbsdown\" class=\"svg-icon__icon--thumbsdown-outline icon-medium fill-support-500 transition-all transition-150 w100p\"><use xlink:href=\"#icon--thumbsdown-outline\"></use></svg></button></div><div class=\"hide block-lg\"><button class=\"border-none shadow-avatar bg-white white radius100p block flex flex-column items-center justify-center\" style=\"width: 30px; height: 30px;\"><svg aria-hidden=\"false\" aria-label=\"thumbsdown\" class=\"svg-icon__icon--thumbsdown-outline icon-medium fill-support-500 transition-all transition-150 w100p\"><use xlink:href=\"#icon--thumbsdown-outline\"></use></svg></button></div></div></div></div></div></div></div></div><div><div class=\"h30 pt4 px3 mb1px\"><div class=\"clamp-5 navy-500 mb3 hover-target\"><a class=\"soft-black mb3\" href=\"https://www.kickstarter.com/projects/sanderbakker/musvalk-a-fierce-yet-small-and-elegant-cutting-too\"><h3 class=\"type-18 light hover-item-text-underline mb1\">Musvalk. A fierce, yet small and elegant cutting tool.</h3><p class=\"support-400 type-14 text-decoration-none clamp-2\">A little knife made from materials found in spacecrafts: advanced ceramics, titanium and carbon fiber.</p></a> </div></div><div class=\"pb5-md pb4 px5-md px4 mt3 border-top border-grey-400\"><div class=\"h14 pt3\"><div class=\"type-13 flex\"><div class=\"mt4 flex\"><a href=\"https://www.kickstarter.com/profile/sanderbakker\"><img alt=\"Sander Bakker - SplinterSeed\" class=\"avatar inline-block align-middle radius100p w4 h4 border border-grey-500 mr2\" src=\"https://ksr-ugc.imgix.net/assets/008/151/599/124bfaa7fe32fc2989c0df59f533bb0b_original.jpg?ixlib=rb-2.1.0&amp;w=40&amp;h=40&amp;fit=crop&amp;v=1461506054&amp;auto=format&amp;frame=1&amp;q=92&amp;s=a74983c761c57d45cfa2ab31883b2a78\" style=\"text-indent: 100%; white-space: nowrap; overflow: hidden;\"/></a><div class=\"inline-block mt4px type-13\"><div class=\"soft-black text-ellipsis\"><span class=\"soft-black\">by</span> <span class=\"bold\">Sander Bakker - SplinterSeed</span> and 4,457 backers</div></div></div></div></div></div></div></div></div></div>, <div class=\"js-track-project-card\" data-model_name=\"\" data-project_backers_count=\"1679\" data-project_description=\"A traditional Japanese tool reimagined in Titanium.This elegant, simple knife is the portable solution to your  everyday cutting needs.\" data-project_percent_raised=\"3893.5\" data-project_pid=\"98181561\" data-project_pledged=\"54509\" data-project_state=\"successful\" data-raw_score=\"\" data-section=\"\" data-user_has_starred=\"\" data-user_is_backer=\"\" data-weighted_score=\"\"><div class=\"mb5 relative\" data-test-id=\"mouse-enter-capture\"><div class=\"bg-white black relative border-grey-500 border\"><div class=\"relative self-start\"><a class=\"block img-placeholder w100p\" href=\"https://www.kickstarter.com/projects/sanderbakker/tidashi-a-titanium-mini-knife\"><img alt=\"Tidashi, a titanium mini knife\" class=\"border-grey-400 border-bottom w100p absolute t0\" src=\"https://ksr-ugc.imgix.net/assets/012/394/091/ea14b06ca233ea824847ce4f406bb61f_original.jpg?ixlib=rb-2.1.0&amp;crop=faces&amp;w=560&amp;h=315&amp;fit=crop&amp;v=1463758837&amp;auto=format&amp;frame=1&amp;q=92&amp;s=5b2a402b571a4836a8fec2cefdaf9e5e\"/></a></div><div class=\"mt4 mb1 mt0-lg mb0-lg absolute-lg t2-lg r2-lg\"><div class=\"flex items-center justify-between px3 flex-column-lg px0-lg\"><div class=\"hide-lg\"><div><button class=\"hide-lg\"><div class=\"flex justify-start items-center px2 min-w20 border-box radius4px border border1px border-support-300\" style=\"height: 40px;\"><svg aria-hidden=\"true\" class=\"svg-icon__icon--bookmark-outline icon-medium fill-support-500\"><use xlink:href=\"#icon--bookmark-outline\"></use></svg><p class=\"type-13 type-14-md soft-black m0 pl2\" style='font-family: \"Maison Neue Book\", \"Helvetica Neue\", Helvetica, Arial, sans-serif;'>Save</p></div></button><div class=\"hide block-lg mb1\"><div class=\"hide-lg\"><button class=\"border-none shadow-avatar bg-white white radius100p block flex flex-column items-center justify-center\" style=\"width: 30px; height: 30px;\"><svg aria-hidden=\"false\" aria-label=\"bookmark\" class=\"svg-icon__icon--bookmark-outline icon-medium fill-support-500 transition-all transition-150 w100p\"><use xlink:href=\"#icon--bookmark-outline\"></use></svg></button></div><div class=\"hide block-lg\"><button class=\"border-none shadow-avatar bg-white white radius100p block flex flex-column items-center justify-center\" style=\"width: 30px; height: 30px;\"><svg aria-hidden=\"false\" aria-label=\"bookmark\" class=\"svg-icon__icon--bookmark-outline icon-medium fill-support-500 transition-all transition-150 w100p\"><use xlink:href=\"#icon--bookmark-outline\"></use></svg></button></div></div></div></div><div class=\"hide block-lg\"><div style=\"transition: all 200ms ease-in-out 0ms; opacity: 0;\"><button class=\"hide-lg\"><div class=\"flex justify-start items-center px2 min-w20 border-box radius4px border border1px border-support-300\" style=\"height: 40px;\"><svg aria-hidden=\"true\" class=\"svg-icon__icon--bookmark-outline icon-medium fill-support-500\"><use xlink:href=\"#icon--bookmark-outline\"></use></svg><p class=\"type-13 type-14-md soft-black m0 pl2\" style='font-family: \"Maison Neue Book\", \"Helvetica Neue\", Helvetica, Arial, sans-serif;'>Save</p></div></button><div class=\"hide block-lg mb1\"><div class=\"hide-lg\"><button class=\"border-none shadow-avatar bg-white white radius100p block flex flex-column items-center justify-center\" style=\"width: 30px; height: 30px;\"><svg aria-hidden=\"false\" aria-label=\"bookmark\" class=\"svg-icon__icon--bookmark-outline icon-medium fill-support-500 transition-all transition-150 w100p\"><use xlink:href=\"#icon--bookmark-outline\"></use></svg></button></div><div class=\"hide block-lg\"><button class=\"border-none shadow-avatar bg-white white radius100p block flex flex-column items-center justify-center\" style=\"width: 30px; height: 30px;\"><svg aria-hidden=\"false\" aria-label=\"bookmark\" class=\"svg-icon__icon--bookmark-outline icon-medium fill-support-500 transition-all transition-150 w100p\"><use xlink:href=\"#icon--bookmark-outline\"></use></svg></button></div></div></div></div><div class=\"flex items-center flex-column-lg\"><div class=\"pl2 pl0-lg\"><div class=\"hide-lg\"><div><div class=\"hide-lg\"><div class=\"hide-lg\"><button class=\"border border-support-300 bg-white white radius100p block flex flex-column items-center justify-center\" style=\"width: 40px; height: 40px;\"><svg aria-hidden=\"false\" aria-label=\"thumbsup\" class=\"svg-icon__icon--thumbsup-outline icon-medium fill-support-500 transition-all transition-150 w100p\"><use xlink:href=\"#icon--thumbsup-outline\"></use></svg></button></div><div class=\"hide block-lg\"><button class=\"border border-support-300 bg-white white radius100p block flex flex-column items-center justify-center\" style=\"width: 40px; height: 40px;\"><svg aria-hidden=\"false\" aria-label=\"thumbsup\" class=\"svg-icon__icon--thumbsup-outline icon-medium fill-support-500 transition-all transition-150 w100p\"><use xlink:href=\"#icon--thumbsup-outline\"></use></svg></button></div></div><div class=\"hide block-lg mb1\"><div class=\"hide-lg\"><button class=\"border-none shadow-avatar bg-white white radius100p block flex flex-column items-center justify-center\" style=\"width: 30px; height: 30px;\"><svg aria-hidden=\"false\" aria-label=\"thumbsup\" class=\"svg-icon__icon--thumbsup-outline icon-medium fill-support-500 transition-all transition-150 w100p\"><use xlink:href=\"#icon--thumbsup-outline\"></use></svg></button></div><div class=\"hide block-lg\"><button class=\"border-none shadow-avatar bg-white white radius100p block flex flex-column items-center justify-center\" style=\"width: 30px; height: 30px;\"><svg aria-hidden=\"false\" aria-label=\"thumbsup\" class=\"svg-icon__icon--thumbsup-outline icon-medium fill-support-500 transition-all transition-150 w100p\"><use xlink:href=\"#icon--thumbsup-outline\"></use></svg></button></div></div></div></div><div class=\"hide block-lg\"><div style=\"transition: all 200ms ease-in-out 35ms; opacity: 0;\"><div class=\"hide-lg\"><div class=\"hide-lg\"><button class=\"border border-support-300 bg-white white radius100p block flex flex-column items-center justify-center\" style=\"width: 40px; height: 40px;\"><svg aria-hidden=\"false\" aria-label=\"thumbsup\" class=\"svg-icon__icon--thumbsup-outline icon-medium fill-support-500 transition-all transition-150 w100p\"><use xlink:href=\"#icon--thumbsup-outline\"></use></svg></button></div><div class=\"hide block-lg\"><button class=\"border border-support-300 bg-white white radius100p block flex flex-column items-center justify-center\" style=\"width: 40px; height: 40px;\"><svg aria-hidden=\"false\" aria-label=\"thumbsup\" class=\"svg-icon__icon--thumbsup-outline icon-medium fill-support-500 transition-all transition-150 w100p\"><use xlink:href=\"#icon--thumbsup-outline\"></use></svg></button></div></div><div class=\"hide block-lg mb1\"><div class=\"hide-lg\"><button class=\"border-none shadow-avatar bg-white white radius100p block flex flex-column items-center justify-center\" style=\"width: 30px; height: 30px;\"><svg aria-hidden=\"false\" aria-label=\"thumbsup\" class=\"svg-icon__icon--thumbsup-outline icon-medium fill-support-500 transition-all transition-150 w100p\"><use xlink:href=\"#icon--thumbsup-outline\"></use></svg></button></div><div class=\"hide block-lg\"><button class=\"border-none shadow-avatar bg-white white radius100p block flex flex-column items-center justify-center\" style=\"width: 30px; height: 30px;\"><svg aria-hidden=\"false\" aria-label=\"thumbsup\" class=\"svg-icon__icon--thumbsup-outline icon-medium fill-support-500 transition-all transition-150 w100p\"><use xlink:href=\"#icon--thumbsup-outline\"></use></svg></button></div></div></div></div></div><div class=\"pl2 pl0-lg\"><div class=\"hide-lg\"><div><div class=\"hide-lg\"><div class=\"hide-lg\"><button class=\"border border-support-300 bg-white white radius100p block flex flex-column items-center justify-center\" style=\"width: 40px; height: 40px;\"><svg aria-hidden=\"false\" aria-label=\"thumbsdown\" class=\"svg-icon__icon--thumbsdown-outline icon-medium fill-support-500 transition-all transition-150 w100p\"><use xlink:href=\"#icon--thumbsdown-outline\"></use></svg></button></div><div class=\"hide block-lg\"><button class=\"border border-support-300 bg-white white radius100p block flex flex-column items-center justify-center\" style=\"width: 40px; height: 40px;\"><svg aria-hidden=\"false\" aria-label=\"thumbsdown\" class=\"svg-icon__icon--thumbsdown-outline icon-medium fill-support-500 transition-all transition-150 w100p\"><use xlink:href=\"#icon--thumbsdown-outline\"></use></svg></button></div></div><div class=\"hide block-lg mb1\"><div class=\"hide-lg\"><button class=\"border-none shadow-avatar bg-white white radius100p block flex flex-column items-center justify-center\" style=\"width: 30px; height: 30px;\"><svg aria-hidden=\"false\" aria-label=\"thumbsdown\" class=\"svg-icon__icon--thumbsdown-outline icon-medium fill-support-500 transition-all transition-150 w100p\"><use xlink:href=\"#icon--thumbsdown-outline\"></use></svg></button></div><div class=\"hide block-lg\"><button class=\"border-none shadow-avatar bg-white white radius100p block flex flex-column items-center justify-center\" style=\"width: 30px; height: 30px;\"><svg aria-hidden=\"false\" aria-label=\"thumbsdown\" class=\"svg-icon__icon--thumbsdown-outline icon-medium fill-support-500 transition-all transition-150 w100p\"><use xlink:href=\"#icon--thumbsdown-outline\"></use></svg></button></div></div></div></div><div class=\"hide block-lg\"><div style=\"transition: all 200ms ease-in-out 70ms; opacity: 0;\"><div class=\"hide-lg\"><div class=\"hide-lg\"><button class=\"border border-support-300 bg-white white radius100p block flex flex-column items-center justify-center\" style=\"width: 40px; height: 40px;\"><svg aria-hidden=\"false\" aria-label=\"thumbsdown\" class=\"svg-icon__icon--thumbsdown-outline icon-medium fill-support-500 transition-all transition-150 w100p\"><use xlink:href=\"#icon--thumbsdown-outline\"></use></svg></button></div><div class=\"hide block-lg\"><button class=\"border border-support-300 bg-white white radius100p block flex flex-column items-center justify-center\" style=\"width: 40px; height: 40px;\"><svg aria-hidden=\"false\" aria-label=\"thumbsdown\" class=\"svg-icon__icon--thumbsdown-outline icon-medium fill-support-500 transition-all transition-150 w100p\"><use xlink:href=\"#icon--thumbsdown-outline\"></use></svg></button></div></div><div class=\"hide block-lg mb1\"><div class=\"hide-lg\"><button class=\"border-none shadow-avatar bg-white white radius100p block flex flex-column items-center justify-center\" style=\"width: 30px; height: 30px;\"><svg aria-hidden=\"false\" aria-label=\"thumbsdown\" class=\"svg-icon__icon--thumbsdown-outline icon-medium fill-support-500 transition-all transition-150 w100p\"><use xlink:href=\"#icon--thumbsdown-outline\"></use></svg></button></div><div class=\"hide block-lg\"><button class=\"border-none shadow-avatar bg-white white radius100p block flex flex-column items-center justify-center\" style=\"width: 30px; height: 30px;\"><svg aria-hidden=\"false\" aria-label=\"thumbsdown\" class=\"svg-icon__icon--thumbsdown-outline icon-medium fill-support-500 transition-all transition-150 w100p\"><use xlink:href=\"#icon--thumbsdown-outline\"></use></svg></button></div></div></div></div></div></div></div></div><div><div class=\"h30 pt4 px3 mb1px\"><div class=\"clamp-5 navy-500 mb3 hover-target\"><a class=\"soft-black mb3\" href=\"https://www.kickstarter.com/projects/sanderbakker/tidashi-a-titanium-mini-knife\"><h3 class=\"type-18 light hover-item-text-underline mb1\">Tidashi, a titanium mini knife</h3><p class=\"support-400 type-14 text-decoration-none clamp-2\">A traditional Japanese tool reimagined in Titanium.This elegant, simple knife is the portable solution to your  everyday cutting needs.</p></a> </div></div><div class=\"pb5-md pb4 px5-md px4 mt3 border-top border-grey-400\"><div class=\"h14 pt3\"><div class=\"type-13 flex\"><div class=\"mt4 flex\"><a href=\"https://www.kickstarter.com/profile/sanderbakker\"><img alt=\"Sander Bakker - SplinterSeed\" class=\"avatar inline-block align-middle radius100p w4 h4 border border-grey-500 mr2\" src=\"https://ksr-ugc.imgix.net/assets/008/151/599/124bfaa7fe32fc2989c0df59f533bb0b_original.jpg?ixlib=rb-2.1.0&amp;w=40&amp;h=40&amp;fit=crop&amp;v=1461506054&amp;auto=format&amp;frame=1&amp;q=92&amp;s=a74983c761c57d45cfa2ab31883b2a78\" style=\"text-indent: 100%; white-space: nowrap; overflow: hidden;\"/></a><div class=\"inline-block mt4px type-13\"><div class=\"soft-black text-ellipsis\"><span class=\"soft-black\">by</span> <span class=\"bold\">Sander Bakker - SplinterSeed</span> and 1,679 backers</div></div></div></div></div></div></div></div></div></div>, <div class=\"js-track-project-card\" data-model_name=\"\" data-project_backers_count=\"57\" data-project_description=\"A beautiful little light design reminding you to enjoy life. Chunky pencil legs and a hidden butterfly will put a smile on your face.\" data-project_percent_raised=\"124\" data-project_pid=\"1317917676\" data-project_pledged=\"3100\" data-project_state=\"successful\" data-raw_score=\"\" data-section=\"\" data-user_has_starred=\"\" data-user_is_backer=\"\" data-weighted_score=\"\"><div class=\"mb5 relative\" data-test-id=\"mouse-enter-capture\"><div class=\"bg-white black relative border-grey-500 border\"><div class=\"relative self-start\"><a class=\"block img-placeholder w100p\" href=\"https://www.kickstarter.com/projects/sanderbakker/niki-table-lamp\"><img alt=\"Niki table lamp\" class=\"border-grey-400 border-bottom w100p absolute t0\" src=\"https://ksr-ugc.imgix.net/assets/012/176/070/b8f90950be452eab3c4b8547befa29fa_original.jpg?ixlib=rb-2.1.0&amp;crop=faces&amp;w=560&amp;h=315&amp;fit=crop&amp;v=1463739603&amp;auto=format&amp;frame=1&amp;q=92&amp;s=1ec47bfe27e990034bd78c9e94dfc400\"/></a></div><div class=\"mt4 mb1 mt0-lg mb0-lg absolute-lg t2-lg r2-lg\"><div class=\"flex items-center justify-between px3 flex-column-lg px0-lg\"><div class=\"hide-lg\"><div><button class=\"hide-lg\"><div class=\"flex justify-start items-center px2 min-w20 border-box radius4px border border1px border-support-300\" style=\"height: 40px;\"><svg aria-hidden=\"true\" class=\"svg-icon__icon--bookmark-outline icon-medium fill-support-500\"><use xlink:href=\"#icon--bookmark-outline\"></use></svg><p class=\"type-13 type-14-md soft-black m0 pl2\" style='font-family: \"Maison Neue Book\", \"Helvetica Neue\", Helvetica, Arial, sans-serif;'>Save</p></div></button><div class=\"hide block-lg mb1\"><div class=\"hide-lg\"><button class=\"border-none shadow-avatar bg-white white radius100p block flex flex-column items-center justify-center\" style=\"width: 30px; height: 30px;\"><svg aria-hidden=\"false\" aria-label=\"bookmark\" class=\"svg-icon__icon--bookmark-outline icon-medium fill-support-500 transition-all transition-150 w100p\"><use xlink:href=\"#icon--bookmark-outline\"></use></svg></button></div><div class=\"hide block-lg\"><button class=\"border-none shadow-avatar bg-white white radius100p block flex flex-column items-center justify-center\" style=\"width: 30px; height: 30px;\"><svg aria-hidden=\"false\" aria-label=\"bookmark\" class=\"svg-icon__icon--bookmark-outline icon-medium fill-support-500 transition-all transition-150 w100p\"><use xlink:href=\"#icon--bookmark-outline\"></use></svg></button></div></div></div></div><div class=\"hide block-lg\"><div style=\"transition: all 200ms ease-in-out 0ms; opacity: 0;\"><button class=\"hide-lg\"><div class=\"flex justify-start items-center px2 min-w20 border-box radius4px border border1px border-support-300\" style=\"height: 40px;\"><svg aria-hidden=\"true\" class=\"svg-icon__icon--bookmark-outline icon-medium fill-support-500\"><use xlink:href=\"#icon--bookmark-outline\"></use></svg><p class=\"type-13 type-14-md soft-black m0 pl2\" style='font-family: \"Maison Neue Book\", \"Helvetica Neue\", Helvetica, Arial, sans-serif;'>Save</p></div></button><div class=\"hide block-lg mb1\"><div class=\"hide-lg\"><button class=\"border-none shadow-avatar bg-white white radius100p block flex flex-column items-center justify-center\" style=\"width: 30px; height: 30px;\"><svg aria-hidden=\"false\" aria-label=\"bookmark\" class=\"svg-icon__icon--bookmark-outline icon-medium fill-support-500 transition-all transition-150 w100p\"><use xlink:href=\"#icon--bookmark-outline\"></use></svg></button></div><div class=\"hide block-lg\"><button class=\"border-none shadow-avatar bg-white white radius100p block flex flex-column items-center justify-center\" style=\"width: 30px; height: 30px;\"><svg aria-hidden=\"false\" aria-label=\"bookmark\" class=\"svg-icon__icon--bookmark-outline icon-medium fill-support-500 transition-all transition-150 w100p\"><use xlink:href=\"#icon--bookmark-outline\"></use></svg></button></div></div></div></div><div class=\"flex items-center flex-column-lg\"><div class=\"pl2 pl0-lg\"><div class=\"hide-lg\"><div><div class=\"hide-lg\"><div class=\"hide-lg\"><button class=\"border border-support-300 bg-white white radius100p block flex flex-column items-center justify-center\" style=\"width: 40px; height: 40px;\"><svg aria-hidden=\"false\" aria-label=\"thumbsup\" class=\"svg-icon__icon--thumbsup-outline icon-medium fill-support-500 transition-all transition-150 w100p\"><use xlink:href=\"#icon--thumbsup-outline\"></use></svg></button></div><div class=\"hide block-lg\"><button class=\"border border-support-300 bg-white white radius100p block flex flex-column items-center justify-center\" style=\"width: 40px; height: 40px;\"><svg aria-hidden=\"false\" aria-label=\"thumbsup\" class=\"svg-icon__icon--thumbsup-outline icon-medium fill-support-500 transition-all transition-150 w100p\"><use xlink:href=\"#icon--thumbsup-outline\"></use></svg></button></div></div><div class=\"hide block-lg mb1\"><div class=\"hide-lg\"><button class=\"border-none shadow-avatar bg-white white radius100p block flex flex-column items-center justify-center\" style=\"width: 30px; height: 30px;\"><svg aria-hidden=\"false\" aria-label=\"thumbsup\" class=\"svg-icon__icon--thumbsup-outline icon-medium fill-support-500 transition-all transition-150 w100p\"><use xlink:href=\"#icon--thumbsup-outline\"></use></svg></button></div><div class=\"hide block-lg\"><button class=\"border-none shadow-avatar bg-white white radius100p block flex flex-column items-center justify-center\" style=\"width: 30px; height: 30px;\"><svg aria-hidden=\"false\" aria-label=\"thumbsup\" class=\"svg-icon__icon--thumbsup-outline icon-medium fill-support-500 transition-all transition-150 w100p\"><use xlink:href=\"#icon--thumbsup-outline\"></use></svg></button></div></div></div></div><div class=\"hide block-lg\"><div style=\"transition: all 200ms ease-in-out 35ms; opacity: 0;\"><div class=\"hide-lg\"><div class=\"hide-lg\"><button class=\"border border-support-300 bg-white white radius100p block flex flex-column items-center justify-center\" style=\"width: 40px; height: 40px;\"><svg aria-hidden=\"false\" aria-label=\"thumbsup\" class=\"svg-icon__icon--thumbsup-outline icon-medium fill-support-500 transition-all transition-150 w100p\"><use xlink:href=\"#icon--thumbsup-outline\"></use></svg></button></div><div class=\"hide block-lg\"><button class=\"border border-support-300 bg-white white radius100p block flex flex-column items-center justify-center\" style=\"width: 40px; height: 40px;\"><svg aria-hidden=\"false\" aria-label=\"thumbsup\" class=\"svg-icon__icon--thumbsup-outline icon-medium fill-support-500 transition-all transition-150 w100p\"><use xlink:href=\"#icon--thumbsup-outline\"></use></svg></button></div></div><div class=\"hide block-lg mb1\"><div class=\"hide-lg\"><button class=\"border-none shadow-avatar bg-white white radius100p block flex flex-column items-center justify-center\" style=\"width: 30px; height: 30px;\"><svg aria-hidden=\"false\" aria-label=\"thumbsup\" class=\"svg-icon__icon--thumbsup-outline icon-medium fill-support-500 transition-all transition-150 w100p\"><use xlink:href=\"#icon--thumbsup-outline\"></use></svg></button></div><div class=\"hide block-lg\"><button class=\"border-none shadow-avatar bg-white white radius100p block flex flex-column items-center justify-center\" style=\"width: 30px; height: 30px;\"><svg aria-hidden=\"false\" aria-label=\"thumbsup\" class=\"svg-icon__icon--thumbsup-outline icon-medium fill-support-500 transition-all transition-150 w100p\"><use xlink:href=\"#icon--thumbsup-outline\"></use></svg></button></div></div></div></div></div><div class=\"pl2 pl0-lg\"><div class=\"hide-lg\"><div><div class=\"hide-lg\"><div class=\"hide-lg\"><button class=\"border border-support-300 bg-white white radius100p block flex flex-column items-center justify-center\" style=\"width: 40px; height: 40px;\"><svg aria-hidden=\"false\" aria-label=\"thumbsdown\" class=\"svg-icon__icon--thumbsdown-outline icon-medium fill-support-500 transition-all transition-150 w100p\"><use xlink:href=\"#icon--thumbsdown-outline\"></use></svg></button></div><div class=\"hide block-lg\"><button class=\"border border-support-300 bg-white white radius100p block flex flex-column items-center justify-center\" style=\"width: 40px; height: 40px;\"><svg aria-hidden=\"false\" aria-label=\"thumbsdown\" class=\"svg-icon__icon--thumbsdown-outline icon-medium fill-support-500 transition-all transition-150 w100p\"><use xlink:href=\"#icon--thumbsdown-outline\"></use></svg></button></div></div><div class=\"hide block-lg mb1\"><div class=\"hide-lg\"><button class=\"border-none shadow-avatar bg-white white radius100p block flex flex-column items-center justify-center\" style=\"width: 30px; height: 30px;\"><svg aria-hidden=\"false\" aria-label=\"thumbsdown\" class=\"svg-icon__icon--thumbsdown-outline icon-medium fill-support-500 transition-all transition-150 w100p\"><use xlink:href=\"#icon--thumbsdown-outline\"></use></svg></button></div><div class=\"hide block-lg\"><button class=\"border-none shadow-avatar bg-white white radius100p block flex flex-column items-center justify-center\" style=\"width: 30px; height: 30px;\"><svg aria-hidden=\"false\" aria-label=\"thumbsdown\" class=\"svg-icon__icon--thumbsdown-outline icon-medium fill-support-500 transition-all transition-150 w100p\"><use xlink:href=\"#icon--thumbsdown-outline\"></use></svg></button></div></div></div></div><div class=\"hide block-lg\"><div style=\"transition: all 200ms ease-in-out 70ms; opacity: 0;\"><div class=\"hide-lg\"><div class=\"hide-lg\"><button class=\"border border-support-300 bg-white white radius100p block flex flex-column items-center justify-center\" style=\"width: 40px; height: 40px;\"><svg aria-hidden=\"false\" aria-label=\"thumbsdown\" class=\"svg-icon__icon--thumbsdown-outline icon-medium fill-support-500 transition-all transition-150 w100p\"><use xlink:href=\"#icon--thumbsdown-outline\"></use></svg></button></div><div class=\"hide block-lg\"><button class=\"border border-support-300 bg-white white radius100p block flex flex-column items-center justify-center\" style=\"width: 40px; height: 40px;\"><svg aria-hidden=\"false\" aria-label=\"thumbsdown\" class=\"svg-icon__icon--thumbsdown-outline icon-medium fill-support-500 transition-all transition-150 w100p\"><use xlink:href=\"#icon--thumbsdown-outline\"></use></svg></button></div></div><div class=\"hide block-lg mb1\"><div class=\"hide-lg\"><button class=\"border-none shadow-avatar bg-white white radius100p block flex flex-column items-center justify-center\" style=\"width: 30px; height: 30px;\"><svg aria-hidden=\"false\" aria-label=\"thumbsdown\" class=\"svg-icon__icon--thumbsdown-outline icon-medium fill-support-500 transition-all transition-150 w100p\"><use xlink:href=\"#icon--thumbsdown-outline\"></use></svg></button></div><div class=\"hide block-lg\"><button class=\"border-none shadow-avatar bg-white white radius100p block flex flex-column items-center justify-center\" style=\"width: 30px; height: 30px;\"><svg aria-hidden=\"false\" aria-label=\"thumbsdown\" class=\"svg-icon__icon--thumbsdown-outline icon-medium fill-support-500 transition-all transition-150 w100p\"><use xlink:href=\"#icon--thumbsdown-outline\"></use></svg></button></div></div></div></div></div></div></div></div><div><div class=\"h30 pt4 px3 mb1px\"><div class=\"clamp-5 navy-500 mb3 hover-target\"><a class=\"soft-black mb3\" href=\"https://www.kickstarter.com/projects/sanderbakker/niki-table-lamp\"><h3 class=\"type-18 light hover-item-text-underline mb1\">Niki table lamp</h3><p class=\"support-400 type-14 text-decoration-none clamp-2\">A beautiful little light design reminding you to enjoy life. Chunky pencil legs and a hidden butterfly will put a smile on your face.</p></a> </div></div><div class=\"pb5-md pb4 px5-md px4 mt3 border-top border-grey-400\"><div class=\"h14 pt3\"><div class=\"type-13 flex\"><div class=\"mt4 flex\"><a href=\"https://www.kickstarter.com/profile/sanderbakker\"><img alt=\"Sander Bakker - SplinterSeed\" class=\"avatar inline-block align-middle radius100p w4 h4 border border-grey-500 mr2\" src=\"https://ksr-ugc.imgix.net/assets/008/151/599/124bfaa7fe32fc2989c0df59f533bb0b_original.jpg?ixlib=rb-2.1.0&amp;w=40&amp;h=40&amp;fit=crop&amp;v=1461506054&amp;auto=format&amp;frame=1&amp;q=92&amp;s=a74983c761c57d45cfa2ab31883b2a78\" style=\"text-indent: 100%; white-space: nowrap; overflow: hidden;\"/></a><div class=\"inline-block mt4px type-13\"><div class=\"soft-black text-ellipsis\"><span class=\"soft-black\">by</span> <span class=\"bold\">Sander Bakker - SplinterSeed</span> and 57 backers</div></div></div></div></div></div></div></div></div></div>, <div class=\"js-track-project-card\" data-model_name=\"\" data-project_backers_count=\"83\" data-project_description=\"A modern light design inspired by natural growth. Made in California for anybody interested in architecture and  furniture design.\" data-project_percent_raised=\"232.8684210526316\" data-project_pid=\"1964565771\" data-project_pledged=\"8849\" data-project_state=\"successful\" data-raw_score=\"\" data-section=\"\" data-user_has_starred=\"\" data-user_is_backer=\"\" data-weighted_score=\"\"><div class=\"mb5 relative\" data-test-id=\"mouse-enter-capture\"><div class=\"bg-white black relative border-grey-500 border\"><div class=\"relative self-start\"><a class=\"block img-placeholder w100p\" href=\"https://www.kickstarter.com/projects/sanderbakker/blom-table-lamp\"><img alt=\"Blom table lamp\" class=\"border-grey-400 border-bottom w100p absolute t0\" src=\"https://ksr-ugc.imgix.net/assets/011/606/894/909c235f5e0681ca142d0eb1038fa55e_original.jpg?ixlib=rb-2.1.0&amp;crop=faces&amp;w=560&amp;h=315&amp;fit=crop&amp;v=1463685273&amp;auto=format&amp;frame=1&amp;q=92&amp;s=116d4e499ab602033263ca055bc10053\"/></a></div><div class=\"mt4 mb1 mt0-lg mb0-lg absolute-lg t2-lg r2-lg\"><div class=\"flex items-center justify-between px3 flex-column-lg px0-lg\"><div class=\"hide-lg\"><div><button class=\"hide-lg\"><div class=\"flex justify-start items-center px2 min-w20 border-box radius4px border border1px border-support-300\" style=\"height: 40px;\"><svg aria-hidden=\"true\" class=\"svg-icon__icon--bookmark-outline icon-medium fill-support-500\"><use xlink:href=\"#icon--bookmark-outline\"></use></svg><p class=\"type-13 type-14-md soft-black m0 pl2\" style='font-family: \"Maison Neue Book\", \"Helvetica Neue\", Helvetica, Arial, sans-serif;'>Save</p></div></button><div class=\"hide block-lg mb1\"><div class=\"hide-lg\"><button class=\"border-none shadow-avatar bg-white white radius100p block flex flex-column items-center justify-center\" style=\"width: 30px; height: 30px;\"><svg aria-hidden=\"false\" aria-label=\"bookmark\" class=\"svg-icon__icon--bookmark-outline icon-medium fill-support-500 transition-all transition-150 w100p\"><use xlink:href=\"#icon--bookmark-outline\"></use></svg></button></div><div class=\"hide block-lg\"><button class=\"border-none shadow-avatar bg-white white radius100p block flex flex-column items-center justify-center\" style=\"width: 30px; height: 30px;\"><svg aria-hidden=\"false\" aria-label=\"bookmark\" class=\"svg-icon__icon--bookmark-outline icon-medium fill-support-500 transition-all transition-150 w100p\"><use xlink:href=\"#icon--bookmark-outline\"></use></svg></button></div></div></div></div><div class=\"hide block-lg\"><div style=\"transition: all 200ms ease-in-out 0ms; opacity: 0;\"><button class=\"hide-lg\"><div class=\"flex justify-start items-center px2 min-w20 border-box radius4px border border1px border-support-300\" style=\"height: 40px;\"><svg aria-hidden=\"true\" class=\"svg-icon__icon--bookmark-outline icon-medium fill-support-500\"><use xlink:href=\"#icon--bookmark-outline\"></use></svg><p class=\"type-13 type-14-md soft-black m0 pl2\" style='font-family: \"Maison Neue Book\", \"Helvetica Neue\", Helvetica, Arial, sans-serif;'>Save</p></div></button><div class=\"hide block-lg mb1\"><div class=\"hide-lg\"><button class=\"border-none shadow-avatar bg-white white radius100p block flex flex-column items-center justify-center\" style=\"width: 30px; height: 30px;\"><svg aria-hidden=\"false\" aria-label=\"bookmark\" class=\"svg-icon__icon--bookmark-outline icon-medium fill-support-500 transition-all transition-150 w100p\"><use xlink:href=\"#icon--bookmark-outline\"></use></svg></button></div><div class=\"hide block-lg\"><button class=\"border-none shadow-avatar bg-white white radius100p block flex flex-column items-center justify-center\" style=\"width: 30px; height: 30px;\"><svg aria-hidden=\"false\" aria-label=\"bookmark\" class=\"svg-icon__icon--bookmark-outline icon-medium fill-support-500 transition-all transition-150 w100p\"><use xlink:href=\"#icon--bookmark-outline\"></use></svg></button></div></div></div></div><div class=\"flex items-center flex-column-lg\"><div class=\"pl2 pl0-lg\"><div class=\"hide-lg\"><div><div class=\"hide-lg\"><div class=\"hide-lg\"><button class=\"border border-support-300 bg-white white radius100p block flex flex-column items-center justify-center\" style=\"width: 40px; height: 40px;\"><svg aria-hidden=\"false\" aria-label=\"thumbsup\" class=\"svg-icon__icon--thumbsup-outline icon-medium fill-support-500 transition-all transition-150 w100p\"><use xlink:href=\"#icon--thumbsup-outline\"></use></svg></button></div><div class=\"hide block-lg\"><button class=\"border border-support-300 bg-white white radius100p block flex flex-column items-center justify-center\" style=\"width: 40px; height: 40px;\"><svg aria-hidden=\"false\" aria-label=\"thumbsup\" class=\"svg-icon__icon--thumbsup-outline icon-medium fill-support-500 transition-all transition-150 w100p\"><use xlink:href=\"#icon--thumbsup-outline\"></use></svg></button></div></div><div class=\"hide block-lg mb1\"><div class=\"hide-lg\"><button class=\"border-none shadow-avatar bg-white white radius100p block flex flex-column items-center justify-center\" style=\"width: 30px; height: 30px;\"><svg aria-hidden=\"false\" aria-label=\"thumbsup\" class=\"svg-icon__icon--thumbsup-outline icon-medium fill-support-500 transition-all transition-150 w100p\"><use xlink:href=\"#icon--thumbsup-outline\"></use></svg></button></div><div class=\"hide block-lg\"><button class=\"border-none shadow-avatar bg-white white radius100p block flex flex-column items-center justify-center\" style=\"width: 30px; height: 30px;\"><svg aria-hidden=\"false\" aria-label=\"thumbsup\" class=\"svg-icon__icon--thumbsup-outline icon-medium fill-support-500 transition-all transition-150 w100p\"><use xlink:href=\"#icon--thumbsup-outline\"></use></svg></button></div></div></div></div><div class=\"hide block-lg\"><div style=\"transition: all 200ms ease-in-out 35ms; opacity: 0;\"><div class=\"hide-lg\"><div class=\"hide-lg\"><button class=\"border border-support-300 bg-white white radius100p block flex flex-column items-center justify-center\" style=\"width: 40px; height: 40px;\"><svg aria-hidden=\"false\" aria-label=\"thumbsup\" class=\"svg-icon__icon--thumbsup-outline icon-medium fill-support-500 transition-all transition-150 w100p\"><use xlink:href=\"#icon--thumbsup-outline\"></use></svg></button></div><div class=\"hide block-lg\"><button class=\"border border-support-300 bg-white white radius100p block flex flex-column items-center justify-center\" style=\"width: 40px; height: 40px;\"><svg aria-hidden=\"false\" aria-label=\"thumbsup\" class=\"svg-icon__icon--thumbsup-outline icon-medium fill-support-500 transition-all transition-150 w100p\"><use xlink:href=\"#icon--thumbsup-outline\"></use></svg></button></div></div><div class=\"hide block-lg mb1\"><div class=\"hide-lg\"><button class=\"border-none shadow-avatar bg-white white radius100p block flex flex-column items-center justify-center\" style=\"width: 30px; height: 30px;\"><svg aria-hidden=\"false\" aria-label=\"thumbsup\" class=\"svg-icon__icon--thumbsup-outline icon-medium fill-support-500 transition-all transition-150 w100p\"><use xlink:href=\"#icon--thumbsup-outline\"></use></svg></button></div><div class=\"hide block-lg\"><button class=\"border-none shadow-avatar bg-white white radius100p block flex flex-column items-center justify-center\" style=\"width: 30px; height: 30px;\"><svg aria-hidden=\"false\" aria-label=\"thumbsup\" class=\"svg-icon__icon--thumbsup-outline icon-medium fill-support-500 transition-all transition-150 w100p\"><use xlink:href=\"#icon--thumbsup-outline\"></use></svg></button></div></div></div></div></div><div class=\"pl2 pl0-lg\"><div class=\"hide-lg\"><div><div class=\"hide-lg\"><div class=\"hide-lg\"><button class=\"border border-support-300 bg-white white radius100p block flex flex-column items-center justify-center\" style=\"width: 40px; height: 40px;\"><svg aria-hidden=\"false\" aria-label=\"thumbsdown\" class=\"svg-icon__icon--thumbsdown-outline icon-medium fill-support-500 transition-all transition-150 w100p\"><use xlink:href=\"#icon--thumbsdown-outline\"></use></svg></button></div><div class=\"hide block-lg\"><button class=\"border border-support-300 bg-white white radius100p block flex flex-column items-center justify-center\" style=\"width: 40px; height: 40px;\"><svg aria-hidden=\"false\" aria-label=\"thumbsdown\" class=\"svg-icon__icon--thumbsdown-outline icon-medium fill-support-500 transition-all transition-150 w100p\"><use xlink:href=\"#icon--thumbsdown-outline\"></use></svg></button></div></div><div class=\"hide block-lg mb1\"><div class=\"hide-lg\"><button class=\"border-none shadow-avatar bg-white white radius100p block flex flex-column items-center justify-center\" style=\"width: 30px; height: 30px;\"><svg aria-hidden=\"false\" aria-label=\"thumbsdown\" class=\"svg-icon__icon--thumbsdown-outline icon-medium fill-support-500 transition-all transition-150 w100p\"><use xlink:href=\"#icon--thumbsdown-outline\"></use></svg></button></div><div class=\"hide block-lg\"><button class=\"border-none shadow-avatar bg-white white radius100p block flex flex-column items-center justify-center\" style=\"width: 30px; height: 30px;\"><svg aria-hidden=\"false\" aria-label=\"thumbsdown\" class=\"svg-icon__icon--thumbsdown-outline icon-medium fill-support-500 transition-all transition-150 w100p\"><use xlink:href=\"#icon--thumbsdown-outline\"></use></svg></button></div></div></div></div><div class=\"hide block-lg\"><div style=\"transition: all 200ms ease-in-out 70ms; opacity: 0;\"><div class=\"hide-lg\"><div class=\"hide-lg\"><button class=\"border border-support-300 bg-white white radius100p block flex flex-column items-center justify-center\" style=\"width: 40px; height: 40px;\"><svg aria-hidden=\"false\" aria-label=\"thumbsdown\" class=\"svg-icon__icon--thumbsdown-outline icon-medium fill-support-500 transition-all transition-150 w100p\"><use xlink:href=\"#icon--thumbsdown-outline\"></use></svg></button></div><div class=\"hide block-lg\"><button class=\"border border-support-300 bg-white white radius100p block flex flex-column items-center justify-center\" style=\"width: 40px; height: 40px;\"><svg aria-hidden=\"false\" aria-label=\"thumbsdown\" class=\"svg-icon__icon--thumbsdown-outline icon-medium fill-support-500 transition-all transition-150 w100p\"><use xlink:href=\"#icon--thumbsdown-outline\"></use></svg></button></div></div><div class=\"hide block-lg mb1\"><div class=\"hide-lg\"><button class=\"border-none shadow-avatar bg-white white radius100p block flex flex-column items-center justify-center\" style=\"width: 30px; height: 30px;\"><svg aria-hidden=\"false\" aria-label=\"thumbsdown\" class=\"svg-icon__icon--thumbsdown-outline icon-medium fill-support-500 transition-all transition-150 w100p\"><use xlink:href=\"#icon--thumbsdown-outline\"></use></svg></button></div><div class=\"hide block-lg\"><button class=\"border-none shadow-avatar bg-white white radius100p block flex flex-column items-center justify-center\" style=\"width: 30px; height: 30px;\"><svg aria-hidden=\"false\" aria-label=\"thumbsdown\" class=\"svg-icon__icon--thumbsdown-outline icon-medium fill-support-500 transition-all transition-150 w100p\"><use xlink:href=\"#icon--thumbsdown-outline\"></use></svg></button></div></div></div></div></div></div></div></div><div><div class=\"h30 pt4 px3 mb1px\"><div class=\"clamp-5 navy-500 mb3 hover-target\"><a class=\"soft-black mb3\" href=\"https://www.kickstarter.com/projects/sanderbakker/blom-table-lamp\"><h3 class=\"type-18 light hover-item-text-underline mb1\">Blom table lamp</h3><p class=\"support-400 type-14 text-decoration-none clamp-2\">A modern light design inspired by natural growth. Made in California for anybody interested in architecture and  furniture design.</p></a> </div></div><div class=\"pb5-md pb4 px5-md px4 mt3 border-top border-grey-400\"><div class=\"h14 pt3\"><div class=\"type-13 flex\"><div class=\"mt4 flex\"><a href=\"https://www.kickstarter.com/profile/sanderbakker\"><img alt=\"Sander Bakker - SplinterSeed\" class=\"avatar inline-block align-middle radius100p w4 h4 border border-grey-500 mr2\" src=\"https://ksr-ugc.imgix.net/assets/008/151/599/124bfaa7fe32fc2989c0df59f533bb0b_original.jpg?ixlib=rb-2.1.0&amp;w=40&amp;h=40&amp;fit=crop&amp;v=1461506054&amp;auto=format&amp;frame=1&amp;q=92&amp;s=a74983c761c57d45cfa2ab31883b2a78\" style=\"text-indent: 100%; white-space: nowrap; overflow: hidden;\"/></a><div class=\"inline-block mt4px type-13\"><div class=\"soft-black text-ellipsis\"><span class=\"soft-black\">by</span> <span class=\"bold\">Sander Bakker - SplinterSeed</span> and 83 backers</div></div></div></div></div></div></div></div></div></div>]\n"
     ]
    }
   ],
   "source": [
    "for i in data['prev_projects']:\n",
    "    print(i)"
   ]
  },
  {
   "cell_type": "code",
   "execution_count": null,
   "metadata": {},
   "outputs": [],
   "source": []
  }
 ],
 "metadata": {
  "kernelspec": {
   "display_name": "Python 3",
   "language": "python",
   "name": "python3"
  },
  "language_info": {
   "codemirror_mode": {
    "name": "ipython",
    "version": 3
   },
   "file_extension": ".py",
   "mimetype": "text/x-python",
   "name": "python",
   "nbconvert_exporter": "python",
   "pygments_lexer": "ipython3",
   "version": "3.8.3"
  }
 },
 "nbformat": 4,
 "nbformat_minor": 4
}
