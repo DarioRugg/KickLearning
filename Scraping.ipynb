{
 "cells": [
  {
   "cell_type": "code",
   "execution_count": 1,
   "metadata": {},
   "outputs": [],
   "source": [
    "import pandas as pd"
   ]
  },
  {
   "cell_type": "code",
   "execution_count": 2,
   "metadata": {},
   "outputs": [],
   "source": [
    "from bs4 import BeautifulSoup"
   ]
  },
  {
   "cell_type": "code",
   "execution_count": 3,
   "metadata": {},
   "outputs": [
    {
     "name": "stdout",
     "output_type": "stream",
     "text": [
      "Requirement already satisfied: selenium in c:\\programdata\\anaconda3\\lib\\site-packages (3.141.0)\n",
      "Requirement already satisfied: urllib3 in c:\\programdata\\anaconda3\\lib\\site-packages (from selenium) (1.25.9)\n"
     ]
    }
   ],
   "source": [
    "!pip install selenium\n",
    "from selenium import webdriver\n",
    "import time\n",
    "import re"
   ]
  },
  {
   "cell_type": "code",
   "execution_count": 29,
   "metadata": {},
   "outputs": [],
   "source": [
    "\n",
    "PATH = \"c:/Program Files (x86)/chromedriver_win32/chromedriver.exe\"\n",
    "options = webdriver.ChromeOptions()\n",
    "options.add_argument('--lang=en-US')\n",
    "options.add_argument(\"start-maximized\")\n",
    "\n"
   ]
  },
  {
   "cell_type": "code",
   "execution_count": 33,
   "metadata": {},
   "outputs": [],
   "source": [
    "driver = webdriver.Chrome(PATH, options=options)\n",
    "root = \"https://www.kickstarter.com/projects/sanderbakker/tidashi-20-a-titanium-mini-knife\"\n",
    "driver.get(root + '/description')\n",
    "desc = BeautifulSoup(driver.page_source, 'html.parser')\n",
    "\n",
    "driver1 = webdriver.Chrome(PATH, options=options)\n",
    "driver1.get(root + \"/creator_bio\")\n",
    "creat = BeautifulSoup(driver1.page_source, 'html.parser')\n",
    "\n",
    "driver2 = webdriver.Chrome(PATH, options=options)\n",
    "profile = '/'.join(re.sub('projects', 'profile', root).split('/')[:-1])\n",
    "driver2.get(profile + '/about')\n",
    "about = BeautifulSoup(driver2.page_source, 'html.parser')\n",
    "\n",
    "driver3 = webdriver.Chrome(PATH, options=options)\n",
    "driver3.get(profile + '/created')\n",
    "time.sleep(5)\n",
    "created = BeautifulSoup(driver3.page_source, 'html.parser')"
   ]
  },
  {
   "cell_type": "code",
   "execution_count": 67,
   "metadata": {},
   "outputs": [],
   "source": [
    "image = desc.find('div', {'class': 'project-profile__feature_image'}).find('img')['src']"
   ]
  },
  {
   "cell_type": "code",
   "execution_count": 77,
   "metadata": {},
   "outputs": [],
   "source": [
    "has_video = desc.find('video') is not None"
   ]
  },
  {
   "cell_type": "code",
   "execution_count": 34,
   "metadata": {},
   "outputs": [],
   "source": [
    "## Pledge tiers\n",
    "\n",
    "tiers = desc.find_all(\"div\", {\"class\": \"pledge__info\"})"
   ]
  },
  {
   "cell_type": "code",
   "execution_count": 35,
   "metadata": {},
   "outputs": [],
   "source": [
    "## Story \n",
    "\n",
    "story = desc.find(\"div\", {'id': 'story'}).find_next_sibling()"
   ]
  },
  {
   "cell_type": "code",
   "execution_count": 36,
   "metadata": {},
   "outputs": [],
   "source": [
    "## Risks and challenges\n",
    "\n",
    "risks = desc.find(\"div\", {'id': 'risks-and-challenges'})"
   ]
  },
  {
   "cell_type": "code",
   "execution_count": 37,
   "metadata": {},
   "outputs": [],
   "source": [
    "\"websites\"\n",
    "\n",
    "websites = creat.find(\"ul\", {'class':\"links list f5 bold\"}).find_all('li')"
   ]
  },
  {
   "cell_type": "code",
   "execution_count": 38,
   "metadata": {},
   "outputs": [],
   "source": [
    "# linked facebook account\n",
    "\n",
    "fb = creat.find(\"div\", {'class':\"facebook py2 border-bottom f5\"})"
   ]
  },
  {
   "cell_type": "code",
   "execution_count": 41,
   "metadata": {},
   "outputs": [
    {
     "name": "stdout",
     "output_type": "stream",
     "text": [
      "[<a href=\"/profile/crowd-ox/about\">Crowd Ox</a>]\n"
     ]
    }
   ],
   "source": [
    "# collaborators\n",
    "n_collab = 0\n",
    "if creat.find(\"div\", {'class': 'pt3 pt7-sm mobile-hide row'}):\n",
    "    collaborators = creat.find(\"div\", {'class': 'pt3 pt7-sm mobile-hide row'}).findChildren('a')\n",
    "    n_collab = len(collaborators)\n",
    "    print(collaborators)"
   ]
  },
  {
   "cell_type": "code",
   "execution_count": 42,
   "metadata": {},
   "outputs": [],
   "source": [
    "#creator description\n",
    "creator_bio = about.find('div', {'class': 'inline-block mb3'}).find_next_siblings()"
   ]
  },
  {
   "cell_type": "code",
   "execution_count": 43,
   "metadata": {},
   "outputs": [],
   "source": [
    "# creator websites\n",
    "creator_web = about.find('ul', {'class': 'menu-submenu mb6'}).find_all('li')"
   ]
  },
  {
   "cell_type": "code",
   "execution_count": 44,
   "metadata": {},
   "outputs": [
    {
     "data": {
      "text/plain": [
       "[<h3 class=\"type-18 light hover-item-text-underline mb1\">Musvalk. A fierce, yet small and elegant cutting tool.</h3>,\n",
       " <h3 class=\"type-18 light hover-item-text-underline mb1\">Tidashi, a titanium mini knife</h3>,\n",
       " <h3 class=\"type-18 light hover-item-text-underline mb1\">Niki table lamp</h3>,\n",
       " <h3 class=\"type-18 light hover-item-text-underline mb1\">Blom table lamp</h3>]"
      ]
     },
     "execution_count": 44,
     "metadata": {},
     "output_type": "execute_result"
    }
   ],
   "source": [
    "# all projects from the creator\n",
    "all_projects = created.find('div', {'id': 'content'}).find_all('div', {'class': 'js-track-project-card'})\n",
    "\n",
    "for i, card in enumerate(all_projects):\n",
    "    if card.find('a', {'href':root}) != None:\n",
    "        prev_projects = all_projects[i+1:]\n",
    "        break\n",
    "## previous project titles\n",
    "[x.find('h3', {'class' :'type-18 light hover-item-text-underline mb1'}) for x in prev_projects]"
   ]
  },
  {
   "cell_type": "code",
   "execution_count": 45,
   "metadata": {},
   "outputs": [
    {
     "data": {
      "text/plain": [
       "['<div class=\"js-track-project-card\" data-model_name=\"\" data-project_backers_count=\"4457\" data-project_description=\"A little knife made from materials found in spacecrafts: advanced ceramics, titanium and carbon fiber.\" data-project_percent_raised=\"993.756\" data-project_pid=\"747975476\" data-project_pledged=\"248439\" data-project_state=\"successful\" data-raw_score=\"\" data-section=\"\" data-user_has_starred=\"\" data-user_is_backer=\"\" data-weighted_score=\"\"',\n",
       " '<div class=\"js-track-project-card\" data-model_name=\"\" data-project_backers_count=\"1679\" data-project_description=\"A traditional Japanese tool reimagined in Titanium.This elegant, simple knife is the portable solution to your  everyday cutting needs.\" data-project_percent_raised=\"3893.5\" data-project_pid=\"98181561\" data-project_pledged=\"54509\" data-project_state=\"successful\" data-raw_score=\"\" data-section=\"\" data-user_has_starred=\"\" data-user_is_backer=\"\" data-weighted_score=\"\"',\n",
       " '<div class=\"js-track-project-card\" data-model_name=\"\" data-project_backers_count=\"57\" data-project_description=\"A beautiful little light design reminding you to enjoy life. Chunky pencil legs and a hidden butterfly will put a smile on your face.\" data-project_percent_raised=\"124\" data-project_pid=\"1317917676\" data-project_pledged=\"3100\" data-project_state=\"successful\" data-raw_score=\"\" data-section=\"\" data-user_has_starred=\"\" data-user_is_backer=\"\" data-weighted_score=\"\"',\n",
       " '<div class=\"js-track-project-card\" data-model_name=\"\" data-project_backers_count=\"83\" data-project_description=\"A modern light design inspired by natural growth. Made in California for anybody interested in architecture and  furniture design.\" data-project_percent_raised=\"232.8684210526316\" data-project_pid=\"1964565771\" data-project_pledged=\"8849\" data-project_state=\"successful\" data-raw_score=\"\" data-section=\"\" data-user_has_starred=\"\" data-user_is_backer=\"\" data-weighted_score=\"\"']"
      ]
     },
     "execution_count": 45,
     "metadata": {},
     "output_type": "execute_result"
    }
   ],
   "source": [
    "# data for previous projects\n",
    "[str(x)[:str(x).find('>')] for x in prev_projects]"
   ]
  },
  {
   "cell_type": "code",
   "execution_count": 79,
   "metadata": {},
   "outputs": [
    {
     "data": {
      "text/html": [
       "<div>\n",
       "<style scoped>\n",
       "    .dataframe tbody tr th:only-of-type {\n",
       "        vertical-align: middle;\n",
       "    }\n",
       "\n",
       "    .dataframe tbody tr th {\n",
       "        vertical-align: top;\n",
       "    }\n",
       "\n",
       "    .dataframe thead th {\n",
       "        text-align: right;\n",
       "    }\n",
       "</style>\n",
       "<table border=\"1\" class=\"dataframe\">\n",
       "  <thead>\n",
       "    <tr style=\"text-align: right;\">\n",
       "      <th></th>\n",
       "      <th>image</th>\n",
       "      <th>has_video</th>\n",
       "      <th>tiers</th>\n",
       "      <th>story</th>\n",
       "      <th>risks</th>\n",
       "      <th>websites</th>\n",
       "      <th>fb</th>\n",
       "      <th>n_collab</th>\n",
       "      <th>collaborators</th>\n",
       "      <th>creator_bio</th>\n",
       "      <th>creator_web</th>\n",
       "      <th>prev_projects</th>\n",
       "    </tr>\n",
       "  </thead>\n",
       "  <tbody>\n",
       "    <tr>\n",
       "      <th>0</th>\n",
       "      <td>https://ksr-ugc.imgix.net/assets/025/029/086/3...</td>\n",
       "      <td>True</td>\n",
       "      <td>[[\\n, [\\nPledge , &lt;span class=\"money\"&gt;US$ 26&lt;/...</td>\n",
       "      <td>[[[], \\n, [&lt;span class=\"bold\"&gt;History&lt;/span&gt;],...</td>\n",
       "      <td>[[], [Risks and challenges], [If there is one ...</td>\n",
       "      <td>[[\\n, [splinterseed.com], \\n]]</td>\n",
       "      <td>[\\n, [], \\n, [\\n, [113 friends], \\n], \\n]</td>\n",
       "      <td>1</td>\n",
       "      <td>[[Crowd Ox]]</td>\n",
       "      <td>[[\\n], [The short version: \\n, [], In the foot...</td>\n",
       "      <td>[[\\n, [splinterseed.com\\n]]]</td>\n",
       "      <td>[[[&lt;div class=\"bg-white black relative border-...</td>\n",
       "    </tr>\n",
       "  </tbody>\n",
       "</table>\n",
       "</div>"
      ],
      "text/plain": [
       "                                               image  has_video  \\\n",
       "0  https://ksr-ugc.imgix.net/assets/025/029/086/3...       True   \n",
       "\n",
       "                                               tiers  \\\n",
       "0  [[\\n, [\\nPledge , <span class=\"money\">US$ 26</...   \n",
       "\n",
       "                                               story  \\\n",
       "0  [[[], \\n, [<span class=\"bold\">History</span>],...   \n",
       "\n",
       "                                               risks  \\\n",
       "0  [[], [Risks and challenges], [If there is one ...   \n",
       "\n",
       "                         websites                                         fb  \\\n",
       "0  [[\\n, [splinterseed.com], \\n]]  [\\n, [], \\n, [\\n, [113 friends], \\n], \\n]   \n",
       "\n",
       "   n_collab collaborators                                        creator_bio  \\\n",
       "0         1  [[Crowd Ox]]  [[\\n], [The short version: \\n, [], In the foot...   \n",
       "\n",
       "                    creator_web  \\\n",
       "0  [[\\n, [splinterseed.com\\n]]]   \n",
       "\n",
       "                                       prev_projects  \n",
       "0  [[[<div class=\"bg-white black relative border-...  "
      ]
     },
     "execution_count": 79,
     "metadata": {},
     "output_type": "execute_result"
    }
   ],
   "source": [
    "pd.DataFrame([[image, has_video, tiers, story, risks, websites, fb, n_collab, collaborators, creator_bio, creator_web, prev_projects]], columns=['image', 'has_video', 'tiers', 'story', 'risks', 'websites', 'fb', 'n_collab', 'collaborators', 'creator_bio', 'creator_web', 'prev_projects'])"
   ]
  },
  {
   "cell_type": "code",
   "execution_count": 69,
   "metadata": {},
   "outputs": [
    {
     "data": {
      "text/plain": [
       "<div class=\"rte__content\"><div><br/>\n",
       "<h1 class=\"page-anchor\" id=\"h:history\"><span class=\"bold\">History</span></h1>\n",
       "<p>In 2015, when I crafted the original Tidashi from a rough piece of Titanium stock, I had felt the urge to step away from my computer and design something in a different way. With the use of basic tools, a simple design emerged from my hands.  A small and tactile object that has proven to be more useful in everyday life than I had expected. Along with many of the original adopters, I still use this little cutting tool on a daily basis. It really has withstood the test of time.</p>\n",
       "<div class=\"template asset\" contenteditable=\"false\" data-alt-text=\"Clear and Cloudy\" data-caption=\"Clear and Cloudy\" data-id=\"24430279\">\n",
       "<figure>\n",
       "<img alt=\"Clear and Cloudy\" class=\"fit lazyloaded\" data-src=\"https://ksr-ugc.imgix.net/assets/024/430/279/94449d3964d3b7219300a312b6150dcf_original.jpg?ixlib=rb-2.1.0&amp;w=680&amp;fit=max&amp;v=1552686713&amp;auto=format&amp;frame=1&amp;q=92&amp;s=d16b56d8e2be9553aaa7fdf1dba854db\" src=\"https://ksr-ugc.imgix.net/assets/024/430/279/94449d3964d3b7219300a312b6150dcf_original.jpg?ixlib=rb-2.1.0&amp;w=680&amp;fit=max&amp;v=1552686713&amp;auto=format&amp;frame=1&amp;q=92&amp;s=d16b56d8e2be9553aaa7fdf1dba854db\"/>\n",
       "<figcaption class=\"px2\">Clear and Cloudy</figcaption>\n",
       "</figure>\n",
       "</div>\n",
       "<div class=\"template asset\" contenteditable=\"false\" data-alt-text=\"Rainbow and Midnight\" data-caption=\"Rainbow and Midnight\" data-id=\"24430496\">\n",
       "<figure>\n",
       "<img alt=\"Rainbow and Midnight\" class=\"fit lazyload\" data-src=\"https://ksr-ugc.imgix.net/assets/024/430/496/ce47519ca51f9eb320cb09a5d2d962c6_original.jpg?ixlib=rb-2.1.0&amp;w=680&amp;fit=max&amp;v=1552688047&amp;auto=format&amp;frame=1&amp;q=92&amp;s=9e20ddb8ffb7d6a9973c1525c00c4be7\" src=\"https://ksr-ugc.imgix.net/assets/024/430/496/ce47519ca51f9eb320cb09a5d2d962c6_original.jpg?ixlib=rb-2.1.0&amp;auto=compress%2Cformat&amp;q=1&amp;w=680&amp;fit=max&amp;v=1552688047&amp;frame=1&amp;s=fd9a4614f0390f485b14858b28c75bb1\"/>\n",
       "<figcaption class=\"px2\">Rainbow and Midnight</figcaption>\n",
       "</figure>\n",
       "</div>\n",
       "<p>The shape and name of the Tidashi is derived from a traditional Japanese utility knife, called Kiridashi-Kogatana; a design recognized by its long handle and short cutting edge. In Japan this tool is still relied upon for making accurate cuts or markings on wood. </p>\n",
       "<div class=\"template asset\" contenteditable=\"false\" data-alt-text=\"EDC\" data-caption=\"EDC\" data-id=\"24430289\">\n",
       "<figure>\n",
       "<img alt=\"EDC\" class=\"fit lazyload\" data-src=\"https://ksr-ugc.imgix.net/assets/024/430/289/fb794f780c3f9e0a825833dd69072630_original.jpg?ixlib=rb-2.1.0&amp;w=680&amp;fit=max&amp;v=1552686790&amp;auto=format&amp;frame=1&amp;q=92&amp;s=71f4166c4142fd591b4b9cda09c6359f\" src=\"https://ksr-ugc.imgix.net/assets/024/430/289/fb794f780c3f9e0a825833dd69072630_original.jpg?ixlib=rb-2.1.0&amp;auto=compress%2Cformat&amp;q=1&amp;w=680&amp;fit=max&amp;v=1552686790&amp;frame=1&amp;s=2f6d4d66819bc7ef36a97df6e9a694e9\"/>\n",
       "<figcaption class=\"px2\">EDC</figcaption>\n",
       "</figure>\n",
       "</div>\n",
       "<div class=\"template asset\" contenteditable=\"false\" data-alt-text=\"\" data-caption=\"\" data-id=\"24430442\">\n",
       "<figure>\n",
       "<img alt=\"\" class=\"fit lazyload\" data-src=\"https://ksr-ugc.imgix.net/assets/024/430/442/090235c60d596d087d9a5e3ddd1afe35_original.jpg?ixlib=rb-2.1.0&amp;w=680&amp;fit=max&amp;v=1552687723&amp;auto=format&amp;frame=1&amp;q=92&amp;s=93b6a183bbc371f81fde51ba0b28e17e\" src=\"https://ksr-ugc.imgix.net/assets/024/430/442/090235c60d596d087d9a5e3ddd1afe35_original.jpg?ixlib=rb-2.1.0&amp;auto=compress%2Cformat&amp;q=1&amp;w=680&amp;fit=max&amp;v=1552687723&amp;frame=1&amp;s=988e9ae9b76718da763eb1038620405b\"/>\n",
       "</figure>\n",
       "</div>\n",
       "<div class=\"template asset\" contenteditable=\"false\" data-alt-text=\"\" data-caption=\"\" data-id=\"24430560\">\n",
       "<figure>\n",
       "<img alt=\"\" class=\"fit lazyload\" data-src=\"https://ksr-ugc.imgix.net/assets/024/430/560/8ce85c27bc1ae86b1db42c05b5b5fe43_original.jpg?ixlib=rb-2.1.0&amp;w=680&amp;fit=max&amp;v=1552688426&amp;auto=format&amp;frame=1&amp;q=92&amp;s=43ed9045ab1744e27f16e260e35a3811\" src=\"https://ksr-ugc.imgix.net/assets/024/430/560/8ce85c27bc1ae86b1db42c05b5b5fe43_original.jpg?ixlib=rb-2.1.0&amp;auto=compress%2Cformat&amp;q=1&amp;w=680&amp;fit=max&amp;v=1552688426&amp;frame=1&amp;s=4fe959e380bee6e7256f2ba56331091a\"/>\n",
       "</figure>\n",
       "</div>\n",
       "<h1 class=\"page-anchor\" id=\"h:reiteration\"><span class=\"bold\">Reiteration</span></h1>\n",
       "<p>Over the years, Tidashi users have provided me with feedback. A slight size increase has often been suggested, and I am glad to say that that is exactly what the Tidashi 2.0 is offering, resulting in a more confident grip when using the tool. </p>\n",
       "<div class=\"template asset\" contenteditable=\"false\" data-alt-text=\"Evolution\" data-caption=\"Evolution\" data-id=\"24430465\">\n",
       "<figure>\n",
       "<img alt=\"Evolution\" class=\"fit lazyload\" data-src=\"https://ksr-ugc.imgix.net/assets/024/430/465/a3ff1c8d9a63921158bd5e74c9f60081_original.jpg?ixlib=rb-2.1.0&amp;w=680&amp;fit=max&amp;v=1552687889&amp;auto=format&amp;frame=1&amp;q=92&amp;s=4567de8b782962fada13b59f47801bca\" src=\"https://ksr-ugc.imgix.net/assets/024/430/465/a3ff1c8d9a63921158bd5e74c9f60081_original.jpg?ixlib=rb-2.1.0&amp;auto=compress%2Cformat&amp;q=1&amp;w=680&amp;fit=max&amp;v=1552687889&amp;frame=1&amp;s=2953a42255b532d799c65535340d5e9e\"/>\n",
       "<figcaption class=\"px2\">Evolution</figcaption>\n",
       "</figure>\n",
       "</div>\n",
       "<p>A redesigned and more substantial silicone sheath provides just the right amount of friction for securely holding and releasing the Tidashi. It also allows for the use of larger diameter paracord and keyrings, both of which are included. It is still made from the same long lasting silicone material which has held my personal original Tidashi for all these years.</p>\n",
       "<div class=\"template asset\" contenteditable=\"false\" data-alt-text=\"Dimensions\" data-caption=\"Dimensions\" data-id=\"24430470\">\n",
       "<figure>\n",
       "<img alt=\"Dimensions\" class=\"fit lazyload\" data-src=\"https://ksr-ugc.imgix.net/assets/024/430/470/7c18fe67ef5bf755fbe143c4d8ea69a7_original.jpg?ixlib=rb-2.1.0&amp;w=680&amp;fit=max&amp;v=1552687923&amp;auto=format&amp;frame=1&amp;q=92&amp;s=c9c492e8de097d2491cea10c9640df63\" src=\"https://ksr-ugc.imgix.net/assets/024/430/470/7c18fe67ef5bf755fbe143c4d8ea69a7_original.jpg?ixlib=rb-2.1.0&amp;auto=compress%2Cformat&amp;q=1&amp;w=680&amp;fit=max&amp;v=1552687923&amp;frame=1&amp;s=0e1e8cf6e27510cbcf038ab45bd5babf\"/>\n",
       "<figcaption class=\"px2\">Dimensions</figcaption>\n",
       "</figure>\n",
       "</div>\n",
       "<p>True to its origins, the Tidashi 2.0 is cut from grade 5 titanium, known for its toughness and corrosion resistance. It is often used in diving knives, as it is lighter than steel and able to resist even the harsh environment of salt water. The fact that this particular alloy lends itself to easy sharpening is something that I have found useful, but not essential to the Tidashi design. It is not a tool for slicing tomatoes. The blade length is simply too short for that. Its forte lies in puncturing and shallow cuts, as done when opening packages. And of course its biggest strength, as with any tool, is the fact that its size allows you to have it on you when you need it. </p>\n",
       "<div class=\"template asset\" contenteditable=\"false\" data-alt-text=\"Always with you\" data-caption=\"Always with you\" data-id=\"24430334\">\n",
       "<figure>\n",
       "<img alt=\"Always with you\" class=\"fit lazyload\" data-src=\"https://ksr-ugc.imgix.net/assets/024/430/334/8a94e7b2ab8f88ff49ddeb92b319dcbb_original.jpg?ixlib=rb-2.1.0&amp;w=680&amp;fit=max&amp;v=1552687025&amp;auto=format&amp;frame=1&amp;q=92&amp;s=94f1aeaa11272c6c4a0722196c4f27fb\" src=\"https://ksr-ugc.imgix.net/assets/024/430/334/8a94e7b2ab8f88ff49ddeb92b319dcbb_original.jpg?ixlib=rb-2.1.0&amp;auto=compress%2Cformat&amp;q=1&amp;w=680&amp;fit=max&amp;v=1552687025&amp;frame=1&amp;s=3ab097a780f7a22f7978a5971a781400\"/>\n",
       "<figcaption class=\"px2\">Always with you</figcaption>\n",
       "</figure>\n",
       "</div>\n",
       "<div class=\"template asset\" contenteditable=\"false\" data-alt-text=\"\" data-caption=\"\" data-id=\"24430534\">\n",
       "<figure>\n",
       "<img alt=\"\" class=\"fit lazyload\" data-src=\"https://ksr-ugc.imgix.net/assets/024/430/534/c1d94d9294c4a6ce7653e914069f95f5_original.jpg?ixlib=rb-2.1.0&amp;w=680&amp;fit=max&amp;v=1552688277&amp;auto=format&amp;frame=1&amp;q=92&amp;s=b831bb5794f759b8e42809c53f0c52f9\" src=\"https://ksr-ugc.imgix.net/assets/024/430/534/c1d94d9294c4a6ce7653e914069f95f5_original.jpg?ixlib=rb-2.1.0&amp;auto=compress%2Cformat&amp;q=1&amp;w=680&amp;fit=max&amp;v=1552688277&amp;frame=1&amp;s=2dc86b073065ed9f93433a500f22120c\"/>\n",
       "</figure>\n",
       "</div>\n",
       "<div class=\"template asset\" contenteditable=\"false\" data-alt-text=\"\" data-caption=\"\" data-id=\"24430541\">\n",
       "<figure>\n",
       "<img alt=\"\" class=\"fit lazyload\" data-src=\"https://ksr-ugc.imgix.net/assets/024/430/541/151eb1e8d0e196a1892ad7809c50d23f_original.jpg?ixlib=rb-2.1.0&amp;w=680&amp;fit=max&amp;v=1552688312&amp;auto=format&amp;frame=1&amp;q=92&amp;s=98a3ce4bb3f311f4d63fc810c39d69b4\" src=\"https://ksr-ugc.imgix.net/assets/024/430/541/151eb1e8d0e196a1892ad7809c50d23f_original.jpg?ixlib=rb-2.1.0&amp;auto=compress%2Cformat&amp;q=1&amp;w=680&amp;fit=max&amp;v=1552688312&amp;frame=1&amp;s=4653037d6def09c5029fe3c1d37b9099\"/>\n",
       "</figure>\n",
       "</div>\n",
       "<h1 class=\"page-anchor\" id=\"h:emergence\"><span class=\"bold\">Emergence</span></h1>\n",
       "<p>In order to increase the manufacturing accuracy and consistency of this new iteration of the Tidashi, I have decided to have its basic shape cut by CNC. This will allow me to focus more on the final finish of the Tidashi, including a unique anodizing method for bringing out the amazing colors of the natural titanium oxide layer that covers any titanium object.</p>\n",
       "<div class=\"template asset\" contenteditable=\"false\" data-alt-text=\"Colors...\" data-caption=\"Colors...\" data-id=\"24430348\">\n",
       "<figure>\n",
       "<img alt=\"Colors...\" class=\"fit lazyload\" data-src=\"https://ksr-ugc.imgix.net/assets/024/430/348/0ebca8298bd81bd3d9268d857d198dc9_original.jpg?ixlib=rb-2.1.0&amp;w=680&amp;fit=max&amp;v=1552687093&amp;auto=format&amp;frame=1&amp;q=92&amp;s=13733cfa9333c47f70bde45e155484cb\" src=\"https://ksr-ugc.imgix.net/assets/024/430/348/0ebca8298bd81bd3d9268d857d198dc9_original.jpg?ixlib=rb-2.1.0&amp;auto=compress%2Cformat&amp;q=1&amp;w=680&amp;fit=max&amp;v=1552687093&amp;frame=1&amp;s=867e576aaae5c8cc3baa66bbbabdf686\"/>\n",
       "<figcaption class=\"px2\">Colors...</figcaption>\n",
       "</figure>\n",
       "</div>\n",
       "<div class=\"template asset\" contenteditable=\"false\" data-alt-text=\"\" data-caption=\"\" data-id=\"24430513\">\n",
       "<figure>\n",
       "<img alt=\"\" class=\"fit lazyload\" data-src=\"https://ksr-ugc.imgix.net/assets/024/430/513/11fa2fe72ffd1383da3d74833fb655c1_original.jpg?ixlib=rb-2.1.0&amp;w=680&amp;fit=max&amp;v=1552688158&amp;auto=format&amp;frame=1&amp;q=92&amp;s=cce0cbcc6767e4663268b0c99f6c60c7\" src=\"https://ksr-ugc.imgix.net/assets/024/430/513/11fa2fe72ffd1383da3d74833fb655c1_original.jpg?ixlib=rb-2.1.0&amp;auto=compress%2Cformat&amp;q=1&amp;w=680&amp;fit=max&amp;v=1552688158&amp;frame=1&amp;s=58676dbade44f0def8baa64d6ea040eb\"/>\n",
       "</figure>\n",
       "</div>\n",
       "<div class=\"template asset\" contenteditable=\"false\" data-alt-text=\"\" data-caption=\"\" data-id=\"24431036\">\n",
       "<figure>\n",
       "<img alt=\"\" class=\"fit lazyload\" data-src=\"https://ksr-ugc.imgix.net/assets/024/431/036/e0a90bdc04f2481143fb274818ef0a83_original.jpg?ixlib=rb-2.1.0&amp;w=680&amp;fit=max&amp;v=1552692329&amp;auto=format&amp;frame=1&amp;q=92&amp;s=010a02f3b214658debe76b07165bec04\" src=\"https://ksr-ugc.imgix.net/assets/024/431/036/e0a90bdc04f2481143fb274818ef0a83_original.jpg?ixlib=rb-2.1.0&amp;auto=compress%2Cformat&amp;q=1&amp;w=680&amp;fit=max&amp;v=1552692329&amp;frame=1&amp;s=3ee0f21a6baddd3524a61c4b20b4bc0b\"/>\n",
       "</figure>\n",
       "</div>\n",
       "<p>The decision to relinquish absolute control over the original Tidashi design by walking away from my computer, is also what guided me in developing a new coloring method for the Tidashi 2.0. I tried to put emphasis on naturally occurring patterns. By subtly controlling the flow of acid and electricity along the surface of the Tidashi, I was able to bring out some unique shapes and colors reminiscent of the cloudy skies over my home in the Sierra Nevada mountains. Although the process is repeatable, no two knives with this pattern will be exactly the same, just like the skies.  I was also able to recreate the original color combinations such as Rainbow and Midnight for a total of ten unique versions for you to choose from. I am showing all ten variations here, but please scroll all the way down for some more info about the new storage pouch.</p>\n",
       "<div class=\"template asset\" contenteditable=\"false\" data-alt-text=\"1.Natural\" data-caption=\"1.Natural\" data-id=\"24430913\">\n",
       "<figure>\n",
       "<img alt=\"1.Natural\" class=\"fit lazyload\" data-src=\"https://ksr-ugc.imgix.net/assets/024/430/913/d2a67ef4a761d9bb76fa7b48f0895ba4_original.jpg?ixlib=rb-2.1.0&amp;w=680&amp;fit=max&amp;v=1552691247&amp;auto=format&amp;frame=1&amp;q=92&amp;s=c212ca85134b463371cd55c67b4d18c5\" src=\"https://ksr-ugc.imgix.net/assets/024/430/913/d2a67ef4a761d9bb76fa7b48f0895ba4_original.jpg?ixlib=rb-2.1.0&amp;auto=compress%2Cformat&amp;q=1&amp;w=680&amp;fit=max&amp;v=1552691247&amp;frame=1&amp;s=3cfa32bf39cc40f50fee92512c32f610\"/>\n",
       "<figcaption class=\"px2\">1.Natural</figcaption>\n",
       "</figure>\n",
       "</div>\n",
       "<div class=\"template asset\" contenteditable=\"false\" data-alt-text=\"2.Clouds\" data-caption=\"2.Clouds\" data-id=\"24430921\">\n",
       "<figure>\n",
       "<img alt=\"2.Clouds\" class=\"fit lazyload\" data-src=\"https://ksr-ugc.imgix.net/assets/024/430/921/c1774992d8d639b22252e71e53252f86_original.jpg?ixlib=rb-2.1.0&amp;w=680&amp;fit=max&amp;v=1552691305&amp;auto=format&amp;frame=1&amp;q=92&amp;s=7e23cddbde1e2214856f29425e26d808\" src=\"https://ksr-ugc.imgix.net/assets/024/430/921/c1774992d8d639b22252e71e53252f86_original.jpg?ixlib=rb-2.1.0&amp;auto=compress%2Cformat&amp;q=1&amp;w=680&amp;fit=max&amp;v=1552691305&amp;frame=1&amp;s=3f033f7dc80000e7f5bd1575c6b75b61\"/>\n",
       "<figcaption class=\"px2\">2.Clouds</figcaption>\n",
       "</figure>\n",
       "</div>\n",
       "<div class=\"template asset\" contenteditable=\"false\" data-alt-text=\"3.Midnight\" data-caption=\"3.Midnight\" data-id=\"24431028\">\n",
       "<figure>\n",
       "<img alt=\"3.Midnight\" class=\"fit lazyload\" data-src=\"https://ksr-ugc.imgix.net/assets/024/431/028/3aecd305278938cf9857cfbc6e5e9bb3_original.jpg?ixlib=rb-2.1.0&amp;w=680&amp;fit=max&amp;v=1552692247&amp;auto=format&amp;frame=1&amp;q=92&amp;s=f62c6c5a5829974979e150dc3bfa6e92\" src=\"https://ksr-ugc.imgix.net/assets/024/431/028/3aecd305278938cf9857cfbc6e5e9bb3_original.jpg?ixlib=rb-2.1.0&amp;auto=compress%2Cformat&amp;q=1&amp;w=680&amp;fit=max&amp;v=1552692247&amp;frame=1&amp;s=e88530efe414acdf4ba776e9ae5a948d\"/>\n",
       "<figcaption class=\"px2\">3.Midnight</figcaption>\n",
       "</figure>\n",
       "</div>\n",
       "<div class=\"template asset\" contenteditable=\"false\" data-alt-text=\"4.Acid\" data-caption=\"4.Acid\" data-id=\"24431032\">\n",
       "<figure>\n",
       "<img alt=\"4.Acid\" class=\"fit lazyload\" data-src=\"https://ksr-ugc.imgix.net/assets/024/431/032/0b42c83c0b62226425532d93a10a534f_original.jpg?ixlib=rb-2.1.0&amp;w=680&amp;fit=max&amp;v=1552692286&amp;auto=format&amp;frame=1&amp;q=92&amp;s=b9f0cd7185df19e326447a1a9191f3b7\" src=\"https://ksr-ugc.imgix.net/assets/024/431/032/0b42c83c0b62226425532d93a10a534f_original.jpg?ixlib=rb-2.1.0&amp;auto=compress%2Cformat&amp;q=1&amp;w=680&amp;fit=max&amp;v=1552692286&amp;frame=1&amp;s=d789cfc552005e88d2f5d391b3a536aa\"/>\n",
       "<figcaption class=\"px2\">4.Acid</figcaption>\n",
       "</figure>\n",
       "</div>\n",
       "<div class=\"template asset\" contenteditable=\"false\" data-alt-text=\"5.Rainbow Black\" data-caption=\"5.Rainbow Black\" data-id=\"24431047\">\n",
       "<figure>\n",
       "<img alt=\"5.Rainbow Black\" class=\"fit lazyload\" data-src=\"https://ksr-ugc.imgix.net/assets/024/431/047/004c9268cf83fafc5fe7ae7f3fd78664_original.jpg?ixlib=rb-2.1.0&amp;w=680&amp;fit=max&amp;v=1552692371&amp;auto=format&amp;frame=1&amp;q=92&amp;s=3229c96fa5d183be953b21281cba4b80\" src=\"https://ksr-ugc.imgix.net/assets/024/431/047/004c9268cf83fafc5fe7ae7f3fd78664_original.jpg?ixlib=rb-2.1.0&amp;auto=compress%2Cformat&amp;q=1&amp;w=680&amp;fit=max&amp;v=1552692371&amp;frame=1&amp;s=fab7e511c171de826f3e4ea7eefd7f40\"/>\n",
       "<figcaption class=\"px2\">5.Rainbow Black</figcaption>\n",
       "</figure>\n",
       "</div>\n",
       "<div class=\"template asset\" contenteditable=\"false\" data-alt-text=\"6.Rainbow White\" data-caption=\"6.Rainbow White\" data-id=\"24431048\">\n",
       "<figure>\n",
       "<img alt=\"6.Rainbow White\" class=\"fit lazyload\" data-src=\"https://ksr-ugc.imgix.net/assets/024/431/048/82a7590a677cd445ae05d01b1de81a2b_original.jpg?ixlib=rb-2.1.0&amp;w=680&amp;fit=max&amp;v=1552692412&amp;auto=format&amp;frame=1&amp;q=92&amp;s=51f4ddcb419aa98043bb40f13c25766e\" src=\"https://ksr-ugc.imgix.net/assets/024/431/048/82a7590a677cd445ae05d01b1de81a2b_original.jpg?ixlib=rb-2.1.0&amp;auto=compress%2Cformat&amp;q=1&amp;w=680&amp;fit=max&amp;v=1552692412&amp;frame=1&amp;s=926b51f3b1fd825212d5c9b1b8176c9d\"/>\n",
       "<figcaption class=\"px2\">6.Rainbow White</figcaption>\n",
       "</figure>\n",
       "</div>\n",
       "<div class=\"template asset\" contenteditable=\"false\" data-alt-text=\"7.Sky\" data-caption=\"7.Sky\" data-id=\"24431053\">\n",
       "<figure>\n",
       "<img alt=\"7.Sky\" class=\"fit lazyload\" data-src=\"https://ksr-ugc.imgix.net/assets/024/431/053/075a1bc5a3ed7b4e9069f5de53c18459_original.jpg?ixlib=rb-2.1.0&amp;w=680&amp;fit=max&amp;v=1552692437&amp;auto=format&amp;frame=1&amp;q=92&amp;s=365272ec9b5ad4e01bda250199c93dc6\" src=\"https://ksr-ugc.imgix.net/assets/024/431/053/075a1bc5a3ed7b4e9069f5de53c18459_original.jpg?ixlib=rb-2.1.0&amp;auto=compress%2Cformat&amp;q=1&amp;w=680&amp;fit=max&amp;v=1552692437&amp;frame=1&amp;s=2cc793bb4b49cf6991e7ec74e51fe84a\"/>\n",
       "<figcaption class=\"px2\">7.Sky</figcaption>\n",
       "</figure>\n",
       "</div>\n",
       "<div class=\"template asset\" contenteditable=\"false\" data-alt-text=\"8.Black Gold\" data-caption=\"8.Black Gold\" data-id=\"24431062\">\n",
       "<figure>\n",
       "<img alt=\"8.Black Gold\" class=\"fit lazyload\" data-src=\"https://ksr-ugc.imgix.net/assets/024/431/062/576b1b3d23809a510496743dff7f25d7_original.jpg?ixlib=rb-2.1.0&amp;w=680&amp;fit=max&amp;v=1552692545&amp;auto=format&amp;frame=1&amp;q=92&amp;s=6a1c2db0ad0deab838ae684c20bdf413\" src=\"https://ksr-ugc.imgix.net/assets/024/431/062/576b1b3d23809a510496743dff7f25d7_original.jpg?ixlib=rb-2.1.0&amp;auto=compress%2Cformat&amp;q=1&amp;w=680&amp;fit=max&amp;v=1552692545&amp;frame=1&amp;s=30bfd2d63fbc26d0a57397ddae336655\"/>\n",
       "<figcaption class=\"px2\">8.Black Gold</figcaption>\n",
       "</figure>\n",
       "</div>\n",
       "<div class=\"template asset\" contenteditable=\"false\" data-alt-text=\"9.White Gold\" data-caption=\"9.White Gold\" data-id=\"24431065\">\n",
       "<figure>\n",
       "<img alt=\"9.White Gold\" class=\"fit lazyload\" data-src=\"https://ksr-ugc.imgix.net/assets/024/431/065/2fd38e176f5d739483ba3a1cc466086b_original.jpg?ixlib=rb-2.1.0&amp;w=680&amp;fit=max&amp;v=1552692578&amp;auto=format&amp;frame=1&amp;q=92&amp;s=a8b68f594800be2e9da87b156fb4e6a0\" src=\"https://ksr-ugc.imgix.net/assets/024/431/065/2fd38e176f5d739483ba3a1cc466086b_original.jpg?ixlib=rb-2.1.0&amp;auto=compress%2Cformat&amp;q=1&amp;w=680&amp;fit=max&amp;v=1552692578&amp;frame=1&amp;s=de3ad0a79bae88f83c3f43a148bd8c87\"/>\n",
       "<figcaption class=\"px2\">9.White Gold</figcaption>\n",
       "</figure>\n",
       "</div>\n",
       "<div class=\"template asset\" contenteditable=\"false\" data-alt-text=\"10.Purple Rain\" data-caption=\"10.Purple Rain\" data-id=\"24431066\">\n",
       "<figure>\n",
       "<img alt=\"10.Purple Rain\" class=\"fit lazyload\" data-src=\"https://ksr-ugc.imgix.net/assets/024/431/066/6f31a9434e25080bf341135752ef2d4f_original.jpg?ixlib=rb-2.1.0&amp;w=680&amp;fit=max&amp;v=1552692620&amp;auto=format&amp;frame=1&amp;q=92&amp;s=1ab9061dbe05edabd4472970a1122b94\" src=\"https://ksr-ugc.imgix.net/assets/024/431/066/6f31a9434e25080bf341135752ef2d4f_original.jpg?ixlib=rb-2.1.0&amp;auto=compress%2Cformat&amp;q=1&amp;w=680&amp;fit=max&amp;v=1552692620&amp;frame=1&amp;s=3c9b5dabaa2084dd218186b63db7410b\"/>\n",
       "<figcaption class=\"px2\">10.Purple Rain</figcaption>\n",
       "</figure>\n",
       "</div>\n",
       "<h1 class=\"page-anchor\" id=\"h:packaging\"><span class=\"bold\">Packaging</span></h1>\n",
       "<p>In the past I have often spent a lot of time and energy on the packaging of my designs. And although a custom box for your Tidashi would be nice, I was recently confronted with the sheer amount of waste I was producing by doing this. In response I have decided to package the Tidashi 2.0 in a more permanent and reusable zippered Cordura pouch. It is lined in a soft plush material to protect your Tidashi not only during shipping, but also if you should choose to store it. The design in not finalized yet, but it will most likely be just like in the picture below.</p>\n",
       "<div class=\"template asset\" contenteditable=\"false\" data-alt-text=\"Storage pouch included\" data-caption=\"Storage pouch included\" data-id=\"24430363\">\n",
       "<figure>\n",
       "<img alt=\"Storage pouch included\" class=\"fit lazyload\" data-src=\"https://ksr-ugc.imgix.net/assets/024/430/363/ba216ca53bf7e18980a2679b2a754b96_original.jpg?ixlib=rb-2.1.0&amp;w=680&amp;fit=max&amp;v=1552687216&amp;auto=format&amp;frame=1&amp;q=92&amp;s=a594bf24a379d2b51903f08ac52883b2\" src=\"https://ksr-ugc.imgix.net/assets/024/430/363/ba216ca53bf7e18980a2679b2a754b96_original.jpg?ixlib=rb-2.1.0&amp;auto=compress%2Cformat&amp;q=1&amp;w=680&amp;fit=max&amp;v=1552687216&amp;frame=1&amp;s=1d92ba10192fb9aea25b8d4b77bfa5b7\"/>\n",
       "<figcaption class=\"px2\">Storage pouch included</figcaption>\n",
       "</figure>\n",
       "</div>\n",
       "<h1 class=\"page-anchor\" id=\"h:experience\">Experience</h1>\n",
       "<p>After having fulfilled several campaigns and having shipped thousands of rewards, I would consider myself a veteran Kickstarter creator. I very much consider the Kickstarter experience a shared one between myself and the backers, which is why I am always very open about the project in regular updates. I also try to answer any and all questions asked in messages and in the comment section. My backers and I have traveled this path from inception to completion several times, and we have seen the highs and lows along the route. The previous project has been especially hard, and it has shown me which pitfalls to avoid in future endeavors, including the project we are embarking on now. I hope you will join us, and make the Tidashi 2.0 project another successful one. </p>\n",
       "<p>Cheers,</p>\n",
       "<p>Sander</p></div></div>"
      ]
     },
     "execution_count": 69,
     "metadata": {},
     "output_type": "execute_result"
    }
   ],
   "source": [
    "story"
   ]
  }
 ],
 "metadata": {
  "kernelspec": {
   "display_name": "Python 3",
   "language": "python",
   "name": "python3"
  },
  "language_info": {
   "codemirror_mode": {
    "name": "ipython",
    "version": 3
   },
   "file_extension": ".py",
   "mimetype": "text/x-python",
   "name": "python",
   "nbconvert_exporter": "python",
   "pygments_lexer": "ipython3",
   "version": "3.8.3"
  }
 },
 "nbformat": 4,
 "nbformat_minor": 4
}