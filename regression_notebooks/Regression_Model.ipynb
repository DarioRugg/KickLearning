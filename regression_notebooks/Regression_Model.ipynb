{
  "nbformat": 4,
  "nbformat_minor": 0,
  "metadata": {
    "accelerator": "GPU",
    "colab": {
      "name": "Regression_Model.ipynb",
      "provenance": [],
      "collapsed_sections": [],
      "include_colab_link": true
    },
    "kernelspec": {
      "display_name": "Python 3",
      "language": "python",
      "name": "python3"
    },
    "language_info": {
      "codemirror_mode": {
        "name": "ipython",
        "version": 3
      },
      "file_extension": ".py",
      "mimetype": "text/x-python",
      "name": "python",
      "nbconvert_exporter": "python",
      "pygments_lexer": "ipython3",
      "version": "3.8.3"
    }
  },
  "cells": [
    {
      "cell_type": "markdown",
      "metadata": {
        "id": "view-in-github",
        "colab_type": "text"
      },
      "source": [
        "<a href=\"https://colab.research.google.com/github/DarioRugg/KickLearning/blob/main/regression_notebooks/Regression_Model.ipynb\" target=\"_parent\"><img src=\"https://colab.research.google.com/assets/colab-badge.svg\" alt=\"Open In Colab\"/></a>"
      ]
    },
    {
      "cell_type": "code",
      "metadata": {
        "colab": {
          "base_uri": "https://localhost:8080/"
        },
        "id": "l136Z3UWyrpA",
        "outputId": "a9ec16c6-75a1-484e-a026-e668e2896348"
      },
      "source": [
        "from google.colab import drive\n",
        "drive.mount('/content/drive')"
      ],
      "execution_count": 1,
      "outputs": [
        {
          "output_type": "stream",
          "text": [
            "Mounted at /content/drive\n"
          ],
          "name": "stdout"
        }
      ]
    },
    {
      "cell_type": "code",
      "metadata": {
        "id": "EKDz6WpCvmWz"
      },
      "source": [
        "from os.path import join\n",
        "from os import listdir\n",
        "import pandas as pd\n",
        "import numpy as np\n",
        "import re\n",
        "from sklearn.model_selection import train_test_split\n",
        "import sklearn\n",
        "import matplotlib.pyplot as plt\n",
        "\n",
        "data_path = join('drive', 'MyDrive', 'Project', 'Data')\n",
        "full_df = pd.read_csv(join(data_path, 'final_dataset.csv'))"
      ],
      "execution_count": 2,
      "outputs": []
    },
    {
      "cell_type": "code",
      "metadata": {
        "id": "03KcupZkxTNX"
      },
      "source": [
        "translated_path = join(data_path, 'texts_translated')\n",
        "translated = pd.concat([pd.read_csv(join(translated_path, name)) for name in sorted(listdir(translated_path))], ignore_index=True)"
      ],
      "execution_count": 3,
      "outputs": []
    },
    {
      "cell_type": "code",
      "metadata": {
        "id": "JQPZiddC19LO"
      },
      "source": [
        "def correct_tiers(entry):\n",
        "  ls = eval(entry['tiers_values']) if type(entry.tiers_values) == str else [0]\n",
        "  if sorted(ls)!=ls:\n",
        "    for i in range(len(ls), -1, -1):\n",
        "      if sorted(ls[:i+1])==ls[:i+1] and ls[i]>=500:\n",
        "        entry['tiers_values'] = [tier if j<=i or tier>10 else int(tier*1e3) for j, tier in enumerate(ls)]\n",
        "        break\n",
        "      else:\n",
        "        entry['tiers_values'] = ls\n",
        "  return entry\n",
        "translated.loc[:, 'tiers_values'] = translated[['tiers_values']].apply(correct_tiers, axis=1)"
      ],
      "execution_count": 4,
      "outputs": []
    },
    {
      "cell_type": "code",
      "metadata": {
        "id": "siKsMdyB1_k-"
      },
      "source": [
        "def get_statistics_tiers(var):\n",
        "  var_array = eval(var) if type(var) == str else var\n",
        "  n = len(var_array) if type(var_array) is list else 0\n",
        "  if n:\n",
        "    length = n\n",
        "    avg = sum(var_array)/n\n",
        "    maxim = max(var_array)\n",
        "    minim = min(var_array)\n",
        "    std = np.std(var_array)\n",
        "    median = np.median(var_array)\n",
        "    return [length, avg, maxim, minim, std, median]\n",
        "  else:\n",
        "    return [0,0,0,0,0,0]"
      ],
      "execution_count": 5,
      "outputs": []
    },
    {
      "cell_type": "code",
      "metadata": {
        "id": "1ixcMcnDyKSv"
      },
      "source": [
        "tiers_df = pd.DataFrame(list(map(get_statistics_tiers, translated['tiers_values'].to_list())),\n",
        "                        columns=['n_tiers', 'tiers_values_mean', 'tiers_values_max',\n",
        "                                 'tiers_values_min', 'tiers_values_std', 'tiers_values_median'])\n",
        "reduced = translated[['id', 'story', 'lang']].copy()\n",
        "reduced = pd.concat([reduced, tiers_df], axis=1)\n",
        "reduced.loc[:,'story'] = reduced['story'].apply(lambda x :len(x) if type(x)==str else 0)"
      ],
      "execution_count": 6,
      "outputs": []
    },
    {
      "cell_type": "code",
      "metadata": {
        "id": "L-8TXczmzGyr"
      },
      "source": [
        "full_df = pd.merge(full_df.drop(columns=['tiers_values_mean', 'tiers_values_max',\n",
        "                                 'tiers_values_min', 'tiers_values_std', 'tiers_values_median', 'n_tiers']), reduced, on='id')"
      ],
      "execution_count": 7,
      "outputs": []
    },
    {
      "cell_type": "markdown",
      "metadata": {
        "id": "83nBDRqUcnMs"
      },
      "source": [
        "Preprocessing variables"
      ]
    },
    {
      "cell_type": "code",
      "metadata": {
        "id": "OdWoW5SWpGbm"
      },
      "source": [
        "def fun(j):\n",
        "    return list(set(re.findall(r'\\'(\\b\\w+\\b)\\'', j) + list(map(lambda x: x[0]+\" \" +x[1], re.findall(r\"\\\"(\\w+).*?(\\w \\w+)\\\"\", j)))))\n",
        "data = full_df.copy()\n",
        "data = data[data['state'].isin(['successful', 'failed'])]\n",
        "data.loc[:, 'category'] = data['category'].apply(fun)\n",
        "data.loc[:, 'sub_category'] = data['sub_category'].apply(fun)\n",
        "\n",
        "data.loc[:, 'duration'] = (data['deadline']-data['launched_at'])/86400\n",
        "data.loc[:, 'usd_goal'] = data['goal']*data['fx_rate']\n",
        "data.loc[:, 'state'] = data['state'].apply(lambda x: 1 if x=='successful' else 0)\n",
        "data = data[data['usd_pledged'] >= 1]\n",
        "data = data[data['usd_pledged'] <= 2e6]\n",
        "data = data[data['lang'] != 'unknown']\n",
        "data = data[data['story'] >= 150]\n",
        "data = data.drop(columns=['id', 'project_url', 'image', 'fx_rate', 'launched_at', 'deadline', 'goal'])\n",
        "data = data.dropna(axis = 0, how ='any')\n",
        "\n",
        "weekday = {'Mon':1, 'Tue':2, 'Wed':3, 'Thu':4, 'Fri':5, 'Sat':6, 'Sun':7}\n",
        "month = {'January':1, 'February':2, 'March':3, 'April':4, 'May':5, \n",
        "         'June':6, 'July':7, 'August':8, 'September':9, 'October':10,\n",
        "         'November':11, 'December':12}\n",
        "data.loc[:, 'Launch_Week'] = data['Launch_Week'].apply(lambda x: weekday[x])\n",
        "data.loc[:, 'Deadline_Week'] = data['Deadline_Week'].apply(lambda x: weekday[x])\n",
        "data.loc[:, 'Launch_Month'] = data['Launch_Month'].apply(lambda x: month[x])\n",
        "data.loc[:, 'Deadline_Month'] = data['Deadline_Month'].apply(lambda x: month[x])"
      ],
      "execution_count": 8,
      "outputs": []
    },
    {
      "cell_type": "markdown",
      "metadata": {
        "id": "029FRuqD76Cy"
      },
      "source": [
        "# Dealing with categorical variables"
      ]
    },
    {
      "cell_type": "markdown",
      "metadata": {
        "id": "T9aeEqJw8AAA"
      },
      "source": [
        "Target encoding and weight of evidence for regression and classification targets is used, after splitting train and test"
      ]
    },
    {
      "cell_type": "code",
      "metadata": {
        "id": "2DMqCZKMGfiG"
      },
      "source": [
        "drop_cols = ['Deadline_Week', 'Deadline_Day', 'Deadline_Year']"
      ],
      "execution_count": 9,
      "outputs": []
    },
    {
      "cell_type": "code",
      "metadata": {
        "id": "AIP0OTOGqpD1"
      },
      "source": [
        "reg_data = data.drop(columns=drop_cols)"
      ],
      "execution_count": 10,
      "outputs": []
    },
    {
      "cell_type": "code",
      "metadata": {
        "id": "YHvBrwR0yXTQ"
      },
      "source": [
        "reg_data.loc[:, [col for col in reg_data.columns if 'text' in col]] = ((reg_data.story.to_numpy()/reg_data.story.max())*reg_data.loc[:, [col for col in reg_data.columns if 'text' in col]].to_numpy().T).T"
      ],
      "execution_count": 11,
      "outputs": []
    },
    {
      "cell_type": "code",
      "metadata": {
        "id": "wBIRd_ywv4Et"
      },
      "source": [
        "X, y_class, y_reg = [reg_data.drop(columns=['usd_pledged', 'state']), reg_data.state, reg_data.usd_pledged]"
      ],
      "execution_count": 12,
      "outputs": []
    },
    {
      "cell_type": "markdown",
      "metadata": {
        "id": "oUup3t8OKnGs"
      },
      "source": [
        "The problem with our categorical variables is that they are lists of categories, not just plain categories, so we have to find the indices of projects that contain each single category, average pledge amounts and compute success rate for each category, and then embed each list of categories as the average of the scores relative to each single category."
      ]
    },
    {
      "cell_type": "code",
      "metadata": {
        "id": "pAXWI63sNQNT"
      },
      "source": [
        "def weighted_avg(vector):\n",
        "  '''\n",
        "  vector is a binary [0,1] vector, so the mean corresponds to the success\n",
        "  frequency, and 1-mean is the failure frequency\n",
        "  '''\n",
        "  n = len(vector)\n",
        "  if n>0:\n",
        "    avg = np.mean(vector)\n",
        "    # log_odd = np.log(np.mean(vector)/(1-np.mean(vector))) if np.mean(vector)<0.9 else np.log(10)\n",
        "    return (n, avg)\n",
        "  else:\n",
        "    return (0,0)\n",
        "\n",
        "class CategoricalEmbeddings():\n",
        "  def __init__(self, feature_names: list):\n",
        "    self.categorical_features = feature_names\n",
        "    \n",
        "  \n",
        "  def fit(self, X, y_class=None, y_reg=None):\n",
        "    self.embeddings = dict()\n",
        "    arr = X[self.categorical_features].copy()\n",
        "    self.reg = y_reg is not None\n",
        "    self.clas = y_class is not None\n",
        "    \n",
        "    for categorical in self.categorical_features:\n",
        "      \n",
        "      if type(X[categorical].iloc[0]) == list:  \n",
        "        cats = set([cat for l in X[categorical] for cat in l])\n",
        "        indices = {cat:[] for cat in cats}\n",
        "        for i, row in arr[categorical].iteritems():\n",
        "          for cat in row:\n",
        "            indices[cat].append(i)\n",
        "        # each category is represented by a tuple with the odds of success and the average\n",
        "        # pledged amount of projects belonging to the category (in this order)\n",
        "        if self.reg and self.clas:\n",
        "          self.embeddings[categorical] = {cat:(weighted_avg(y_class.loc[indices[cat]]),(y_reg.loc[indices[cat]].mean())) for cat in cats}\n",
        "        elif self.clas:\n",
        "          self.embeddings[categorical] = {cat:weighted_avg(y_class.loc[indices[cat]]) for cat in cats}\n",
        "        elif self.reg:\n",
        "          self.embeddings[categorical] = {cat:y_reg.loc[indices[cat]].mean() for cat in cats}\n",
        "        else:\n",
        "          print('Target Variable missing')\n",
        "      \n",
        "      elif type(X[categorical].iloc[0]) == str:\n",
        "        cats = set([cat for cat in X[categorical]])\n",
        "        indices = {cat:[] for cat in cats}\n",
        "        for i, cat in arr[categorical].iteritems():\n",
        "          indices[cat].append(i)      \n",
        "        if self.reg and self.clas:\n",
        "          self.embeddings[categorical] = {cat:(weighted_avg(y_class.loc[indices[cat]]),y_reg.loc[indices[cat]].mean()) for cat in cats}\n",
        "        elif self.clas:\n",
        "          self.embeddings[categorical] = {cat:weighted_avg(y_class.loc[indices[cat]]) for cat in cats}\n",
        "        elif self.reg:\n",
        "          self.embeddings[categorical] = {cat:(len(y_reg.loc[indices[cat]]), y_reg.loc[indices[cat]].mean()) for cat in cats}\n",
        "        else:\n",
        "          print('Target Variable missing')\n",
        "\n",
        "\n",
        "\n",
        "  def fit_transform(self, X, y_class=None, y_reg=None):\n",
        "    self.fit(X=X, y_class=y_class, y_reg=y_reg)\n",
        "    return self.transform(X)\n",
        "\n",
        "\n",
        "  def transform(self, X):\n",
        "    if self.reg and self.clas:\n",
        "      return self._transform_both(X)\n",
        "    elif self.clas:\n",
        "      return self._transform_class(X)\n",
        "    elif self.reg:\n",
        "      return self._transform_reg(X)\n",
        "    else:\n",
        "      print('Target Variable missing')\n",
        "      return None\n",
        "\n",
        "  def _transform_both(self, X):\n",
        "    X_copy = X.copy()\n",
        "    for categorical in self.categorical_features:\n",
        "      embeddings = self.embeddings[categorical]\n",
        "      cat_pledged = []\n",
        "      combined_odds = []\n",
        "      for i, row in X_copy[categorical].iteritems():\n",
        "        if type(row) == list:\n",
        "          pledged = 0\n",
        "          odds = 0\n",
        "          lens = []\n",
        "          for cat in row:\n",
        "            try:\n",
        "              n = embeddings[cat][0][0]\n",
        "              log_odd = embeddings[cat][0][1]\n",
        "              lens.append(n)\n",
        "              odds += n*log_odd\n",
        "              pledged += n*embeddings[cat][1]   \n",
        "            except:\n",
        "              print(f'Found new key {cat} not seen in fit')\n",
        "          avg_pledged = pledged/sum(lens) if len(lens) else 0\n",
        "          combine_odds = odds/sum(lens) if len(lens) else 0\n",
        "          cat_pledged.append(avg_pledged)\n",
        "          combined_odds.append(combine_odds)\n",
        "        elif type(row) == str:\n",
        "          try:\n",
        "            combined_odds.append(embeddings[row][0][1])\n",
        "            cat_pledged.append(embeddings[row][1])\n",
        "            \n",
        "          except:\n",
        "            print(f'Found new key {row} not seen in fit')\n",
        "            cat_pledged.append(0)\n",
        "            combined_odds.append(0)\n",
        "      X_copy.loc[:, f'{categorical}_pledged'] = cat_pledged\n",
        "      X_copy.loc[:, f'{categorical}_odds'] = combined_odds \n",
        "      X_copy = X_copy.drop(columns=[categorical])\n",
        "    return X_copy\n",
        "\n",
        "  def _transform_class(self, X):\n",
        "    X_copy = X.copy()\n",
        "    for categorical in self.categorical_features:\n",
        "      embeddings = self.embeddings[categorical]\n",
        "      combined_odds = []\n",
        "      for i, row in X_copy[categorical].iteritems():\n",
        "        if type(row) == list:\n",
        "          odds = 0\n",
        "          lens = []\n",
        "          for cat in row:\n",
        "            try:\n",
        "                n = embeddings[cat][0]\n",
        "                log_odd = embeddings[cat][1]\n",
        "                lens.append(n)\n",
        "                odds += n*log_odd\n",
        "            except:\n",
        "              print(f'Found new key {cat} not seen in fit')\n",
        "          combine_odds = odds/sum(lens) if len(lens) else 0\n",
        "          combined_odds.append(combine_odds)\n",
        "        elif type(row) == str:\n",
        "          try:\n",
        "            combined_odds.append(embeddings[row][1])\n",
        "            \n",
        "          except:\n",
        "            print(f'Found new key {row} not seen in fit')\n",
        "            combined_odds.append(0)\n",
        "      X_copy.loc[:, f'{categorical}_odds'] = combined_odds \n",
        "      X_copy = X_copy.drop(columns=[categorical])\n",
        "    return X_copy\n",
        "  \n",
        "  def _transform_reg(self, X):\n",
        "    X_copy = X.copy()\n",
        "    for categorical in self.categorical_features:\n",
        "        embeddings = self.embeddings[categorical]\n",
        "        cat_pledged = []\n",
        "        for i, row in X_copy[categorical].iteritems():\n",
        "            if type(row) == list:\n",
        "              pledged = 0\n",
        "              lens = []\n",
        "              for cat in row:\n",
        "                try:\n",
        "                  n = embeddings[cat][0]\n",
        "                  lens.append(n)\n",
        "                  pledged += n*embeddings[cat][1]   \n",
        "                except:\n",
        "                  print(f'Found new key {cat} not seen in fit')\n",
        "              avg_pledged = pledged/sum(lens) if len(lens) else 0\n",
        "              cat_pledged.append(avg_pledged)\n",
        "            elif type(row) == str:\n",
        "              try:\n",
        "                cat_pledged.append(embeddings[row][1])\n",
        "\n",
        "              except:\n",
        "                print(f'Found new key {row} not seen in fit')\n",
        "                cat_pledged.append(0)\n",
        "        X_copy.loc[:, f'{categorical}_pledged'] = cat_pledged\n",
        "        X_copy = X_copy.drop(columns=[categorical])\n",
        "    return X_copy"
      ],
      "execution_count": 13,
      "outputs": []
    },
    {
      "cell_type": "code",
      "metadata": {
        "id": "5kYsINEg8WlC"
      },
      "source": [
        "categorical_feat = ['category', 'country', 'sub_category', 'lang']"
      ],
      "execution_count": 14,
      "outputs": []
    },
    {
      "cell_type": "code",
      "metadata": {
        "id": "vw1mRyh-wn3L"
      },
      "source": [
        "train_X, test_X, train_y_reg, test_y_reg =  train_test_split(X, y_reg,test_size=0.2,\n",
        "                                                              random_state=1234)\n",
        "train_y_class = y_class[train_y_reg.index]\n",
        "test_y_class = y_class[test_y_reg.index]"
      ],
      "execution_count": 15,
      "outputs": []
    },
    {
      "cell_type": "code",
      "metadata": {
        "id": "kjifnNmY7q5Z"
      },
      "source": [
        "train_X, val_X, train_y_reg, val_y_reg = train_test_split(train_X, train_y_reg, test_size=0.2, random_state=1234)\n",
        "train_y_class = y_class[train_y_reg.index]\n",
        "val_y_class = y_class[val_y_reg.index]"
      ],
      "execution_count": 16,
      "outputs": []
    },
    {
      "cell_type": "code",
      "metadata": {
        "id": "NhzcHE0OVVsf"
      },
      "source": [
        "embed = CategoricalEmbeddings(categorical_feat)"
      ],
      "execution_count": 17,
      "outputs": []
    },
    {
      "cell_type": "code",
      "metadata": {
        "colab": {
          "base_uri": "https://localhost:8080/"
        },
        "id": "q6RNWPW2c0mg",
        "outputId": "db151de0-064b-4e38-923d-786050877d56"
      },
      "source": [
        "train_X = embed.fit_transform(train_X, train_y_class)\n",
        "val_X = embed.transform(val_X)\n",
        "test_X = embed.transform(test_X)"
      ],
      "execution_count": 18,
      "outputs": [
        {
          "output_type": "stream",
          "text": [
            "Found new key el not seen in fit\n",
            "Found new key hu not seen in fit\n",
            "Found new key ts not seen in fit\n",
            "Found new key eu not seen in fit\n",
            "Found new key el not seen in fit\n"
          ],
          "name": "stdout"
        }
      ]
    },
    {
      "cell_type": "code",
      "metadata": {
        "id": "reTZkTSr9gt4"
      },
      "source": [
        "cols = [col for col in train_X.columns if any(x in col for x in ['historic_','collabs_','category','country','sub_category_'])]\n",
        "train_X.loc[:, cols] = train_X[cols].mask(train_X[cols]==0).fillna(train_X[cols][train_X[cols]!=0].mean())\n",
        "val_X.loc[:, cols] = val_X[cols].mask(val_X[cols]==0).fillna(val_X[cols][val_X[cols]!=0].mean())\n",
        "test_X.loc[:, cols] = test_X[cols].mask(test_X[cols]==0).fillna(test_X[cols][test_X[cols]!=0].mean())"
      ],
      "execution_count": 19,
      "outputs": []
    },
    {
      "cell_type": "markdown",
      "metadata": {
        "id": "4STmAAp-dTP7"
      },
      "source": [
        "# Regression Model"
      ]
    },
    {
      "cell_type": "markdown",
      "metadata": {
        "id": "7KstiGZB-Eop"
      },
      "source": [
        "# Neural"
      ]
    },
    {
      "cell_type": "code",
      "metadata": {
        "id": "jG2tHfQl-KYx"
      },
      "source": [
        "from __future__ import print_function\n",
        "from os.path import join\n",
        "\n",
        "import pandas as pd\n",
        "import numpy as np\n",
        "\n",
        "import torch\n",
        "from torch import nn, optim\n",
        "from torch.utils.data import Dataset, DataLoader, TensorDataset\n",
        "\n",
        "from time import time\n",
        "\n",
        "\n",
        "import sklearn\n",
        "\n",
        "import re\n",
        "\n",
        "import pandas as pd\n",
        "from sklearn.svm import SVR\n",
        "import numpy as np\n",
        "from sklearn.model_selection import cross_val_score\n",
        "from sklearn.svm import SVC\n",
        "from sklearn.pipeline import make_pipeline\n",
        "from sklearn.preprocessing import StandardScaler\n",
        "from sklearn.model_selection import RandomizedSearchCV\n",
        "from sklearn.pipeline import Pipeline\n",
        "from os.path import join\n",
        "from sklearn.ensemble import GradientBoostingRegressor\n",
        "from sklearn.ensemble import GradientBoostingClassifier\n",
        "from sklearn.model_selection import train_test_split\n",
        "\n",
        "import sklearn\n",
        "import re\n",
        "import matplotlib.pyplot as plt"
      ],
      "execution_count": 20,
      "outputs": []
    },
    {
      "cell_type": "code",
      "metadata": {
        "id": "9bPxOGL8-oz_"
      },
      "source": [
        "scaler = StandardScaler()\n",
        "device = 'cuda'\n",
        "train_dataset = TensorDataset(torch.Tensor(scaler.fit_transform(train_X).astype(\"float32\")).to(device), torch.Tensor((train_y_reg.to_numpy()).astype(\"float32\")).to(device))\n",
        "val_dataset = TensorDataset(torch.Tensor(scaler.transform(val_X).astype(\"float32\")).to(device), torch.Tensor((val_y_reg.to_numpy()).astype(\"float32\")).to(device))\n",
        "test_dataset = TensorDataset(torch.Tensor(scaler.transform(test_X).astype(\"float32\")).to(device), torch.Tensor((test_y_reg.to_numpy()).astype(\"float32\")).to(device))\n",
        "\n",
        "train_dataloader = DataLoader(dataset=train_dataset, batch_size=128, shuffle=True)\n",
        "val_dataloader = DataLoader(dataset=val_dataset, batch_size=64)\n",
        "test_dataloader = DataLoader(dataset=test_dataset, batch_size=64)"
      ],
      "execution_count": 21,
      "outputs": []
    },
    {
      "cell_type": "code",
      "metadata": {
        "id": "Ku3h-UdH-dN2"
      },
      "source": [
        "class DeepRegressor(nn.Module):\n",
        "        def __init__(self, input_size, hidden_size, dropout= 0.07, activation=\"relu\", batchnorm=False, n_hidden_layers=5):\n",
        "            super(DeepRegressor, self).__init__()\n",
        "            self.input_size = input_size\n",
        "            self.hidden_size  = hidden_size\n",
        "            self.num_hidden_layers = n_hidden_layers\n",
        "            self.do_batchnorm = batchnorm\n",
        "            self.batch_norm = nn.BatchNorm1d(self.input_size)\n",
        "            if activation ==\"elu\":\n",
        "                activation = nn.ELU\n",
        "            elif activation==\"relu\":\n",
        "                activation = nn.ReLU\n",
        "            elif activation==\"sigmoid\":\n",
        "                activation = nn.Sigmoid\n",
        "            elif activation==\"tanh\":\n",
        "                activation = nn.Tanh\n",
        "            elif activation==\"silu\":\n",
        "                activation = nn.SiLU\n",
        "            self.first_layer = nn.Sequential(nn.Linear(self.input_size, self.hidden_size),\n",
        "                                             nn.Dropout(dropout),\n",
        "                                             activation())\n",
        "\n",
        "\n",
        "            self.hidden_layers = nn.Sequential()\n",
        "            for _ in range(self.num_hidden_layers):\n",
        "                self.hidden_layers.add_module(\"linear\", nn.Linear(self.hidden_size, self.hidden_size))\n",
        "                # self.hidden_layers.add_module(\"dropout\", nn.Dropout(0.02))\n",
        "                self.hidden_layers.add_module(\"activation\", activation())\n",
        "                \n",
        "            self.last_layer1 = nn.Sequential(nn.Linear(self.hidden_size*2, int(self.hidden_size)),\n",
        "                                             activation())\n",
        "            self.last_layer2 = nn.Linear(int(self.hidden_size), 1)\n",
        "\n",
        "        def forward(self, x):\n",
        "            if self.do_batchnorm:\n",
        "                x = self.batch_norm(x)\n",
        "            hidden_state = self.first_layer(x)\n",
        "            x = self.hidden_layers(hidden_state)\n",
        "            x = torch.cat((x, hidden_state), dim=1)\n",
        "            x = self.last_layer1(x)\n",
        "            output = self.last_layer2(x)\n",
        "            return output.squeeze(1)"
      ],
      "execution_count": 22,
      "outputs": []
    },
    {
      "cell_type": "code",
      "metadata": {
        "id": "N5sj2A4W-aSM"
      },
      "source": [
        "# sweep_id = wandb.sweep(sweep_config, project=\"regression-final\")\n",
        "def train(config=None):\n",
        "    with wandb.init(config=config, project=\"regression-final\"):\n",
        "        config = wandb.config\n",
        "        model = DeepRegressor(train_X.to_numpy().shape[1], config.neurons, dropout=config.dropout, \n",
        "                              activation=config.activation, batchnorm=config.batchnorm,                              \n",
        "                              n_hidden_layers=config.hidden_layers).to(device)\n",
        "        criterion = nn.SmoothL1Loss(reduction='mean', beta=config.beta)\n",
        "        mse = nn.MSELoss(reduction='mean')\n",
        "        optimizer = optim.Adam(model.parameters(), lr = config.learning_rate, weight_decay=config.weight_decay)\n",
        "\n",
        "        for param in model.parameters():\n",
        "            param.requires_grad = True\n",
        "\n",
        "        epoch = config.epochs\n",
        "        rmse = {\"train\": np.zeros(epoch), \"val\": np.zeros(epoch)}\n",
        "        losses = {\"train\": np.zeros(epoch), \"val\": np.zeros(epoch)}\n",
        "        best = {\"loss\": None, \"state_dict\": None}\n",
        "\n",
        "        start_training = time()\n",
        "        for epoch in range(epoch):\n",
        "            start_epoch = time()\n",
        "            model.train()\n",
        "            for i, batch in enumerate(train_dataloader, 0):\n",
        "                # if i == 2: break\n",
        "\n",
        "                # get the inputs; data is a list of [inputs, labels]\n",
        "                inputs, labels = batch\n",
        "\n",
        "                optimizer.zero_grad()\n",
        "                # Forward pass\n",
        "                y_pred = model(inputs)\n",
        "                # Compute Loss\n",
        "                loss = criterion(y_pred, labels)\n",
        "\n",
        "                # Backward pass\n",
        "                loss.backward()\n",
        "                optimizer.step()\n",
        "                # print(y_pred.size())\n",
        "                rmse[\"train\"][epoch] += (mse(y_pred, labels)/len(train_dataloader)).item()\n",
        "                losses[\"train\"][epoch] += loss/len(train_dataloader)\n",
        "\n",
        "            if epoch%1 == 0:\n",
        "              print(f\"\\n------> Epoch {epoch+1} <------\\n    Train RMSE loss: {np.sqrt(rmse['train'][epoch])}\")\n",
        "              print(f\"    Train   loss: {losses['train'][epoch]}\")\n",
        "\n",
        "            model.eval()\n",
        "            for i, batch in enumerate(val_dataloader, 0):\n",
        "                # get the inputs; data is a list of [inputs, labels]\n",
        "                inputs, labels = batch\n",
        "                with torch.no_grad():\n",
        "                    outputs = model(inputs)\n",
        "                loss = criterion(outputs, labels)\n",
        "                # forward + backward + optimize\n",
        "                rmse[\"val\"][epoch] += (mse(outputs, labels)/len(val_dataloader)).item()\n",
        "                losses[\"val\"][epoch] += loss/len(val_dataloader)\n",
        "            wandb.log({\"rmse\": np.sqrt(rmse['train'][epoch]), \"SmoothL1\": losses['train'][epoch],\n",
        "                       \"val_rmse\": np.sqrt(rmse['val'][epoch]), \"val_SmoothL1\": losses['val'][epoch]})\n",
        "            if epoch%1 == 0:\n",
        "              print(f\"    Val   RMSE loss: {np.sqrt(rmse['val'][epoch])}\")\n",
        "              print(f\"    Val  loss: {losses['val'][epoch]}\")\n",
        "\n",
        "            # check for overfitting:\n",
        "            early_stopping_steps = 5\n",
        "            if len(rmse[\"val\"]) > 4 and \\\n",
        "                    all(map(lambda x: x[0]<x[1], zip(rmse[\"val\"][-(early_stopping_steps)-1:-1], rmse[\"val\"][-(early_stopping_steps):]))) and \\\n",
        "                    all(map(lambda x: x[0]>x[1], zip(rmse[\"train\"][-(early_stopping_steps)-1:-1], rmse[\"train\"][-(early_stopping_steps):]))):\n",
        "                break\n",
        "\n",
        "            if best[\"loss\"] is None or best[\"loss\"] > rmse[\"val\"][epoch]:\n",
        "                best[\"loss\"] = rmse[\"val\"][epoch]\n",
        "                best[\"state_dict\"] = model.state_dict()\n",
        "\n",
        "            #scheduler.step()\n",
        "            if epoch%1 == 0:\n",
        "              print(f\"    Epoch time: {round((time()-start_epoch)//60)}m {round((time()-start_epoch)%60)}s\")\n",
        "\n",
        "        print('\\n\\n****************** Finished Training ******************')\n",
        "        print(f\"Time elapsed for training: {round((time()-start_training)//60)}:{round((time()-start_training)%60)}\")\n",
        "\n",
        "# wandb.agent(sweep_id, train)"
      ],
      "execution_count": 23,
      "outputs": []
    },
    {
      "cell_type": "code",
      "metadata": {
        "id": "xy5A9pIzzQjP"
      },
      "source": [
        "%%capture\n",
        "!pip install wandb"
      ],
      "execution_count": 24,
      "outputs": []
    },
    {
      "cell_type": "code",
      "metadata": {
        "colab": {
          "base_uri": "https://localhost:8080/",
          "height": 617
        },
        "id": "nbrko71nyXTX",
        "outputId": "a0d31954-85ef-447c-d6c4-38497fe3a4fc"
      },
      "source": [
        "import wandb\n",
        "wandb.init()"
      ],
      "execution_count": 25,
      "outputs": [
        {
          "output_type": "display_data",
          "data": {
            "application/javascript": [
              "\n",
              "        window._wandbApiKey = new Promise((resolve, reject) => {\n",
              "            function loadScript(url) {\n",
              "            return new Promise(function(resolve, reject) {\n",
              "                let newScript = document.createElement(\"script\");\n",
              "                newScript.onerror = reject;\n",
              "                newScript.onload = resolve;\n",
              "                document.body.appendChild(newScript);\n",
              "                newScript.src = url;\n",
              "            });\n",
              "            }\n",
              "            loadScript(\"https://cdn.jsdelivr.net/npm/postmate/build/postmate.min.js\").then(() => {\n",
              "            const iframe = document.createElement('iframe')\n",
              "            iframe.style.cssText = \"width:0;height:0;border:none\"\n",
              "            document.body.appendChild(iframe)\n",
              "            const handshake = new Postmate({\n",
              "                container: iframe,\n",
              "                url: 'https://wandb.ai/authorize'\n",
              "            });\n",
              "            const timeout = setTimeout(() => reject(\"Couldn't auto authenticate\"), 5000)\n",
              "            handshake.then(function(child) {\n",
              "                child.on('authorize', data => {\n",
              "                    clearTimeout(timeout)\n",
              "                    resolve(data)\n",
              "                });\n",
              "            });\n",
              "            })\n",
              "        });\n",
              "    "
            ],
            "text/plain": [
              "<IPython.core.display.Javascript object>"
            ]
          },
          "metadata": {
            "tags": []
          }
        },
        {
          "output_type": "stream",
          "text": [
            "\u001b[34m\u001b[1mwandb\u001b[0m: Appending key for api.wandb.ai to your netrc file: /root/.netrc\n"
          ],
          "name": "stderr"
        },
        {
          "output_type": "display_data",
          "data": {
            "text/html": [
              "\n",
              "                Tracking run with wandb version 0.11.0<br/>\n",
              "                Syncing run <strong style=\"color:#cdcd00\">super-sea-84</strong> to <a href=\"https://wandb.ai\" target=\"_blank\">Weights & Biases</a> <a href=\"https://docs.wandb.com/integrations/jupyter.html\" target=\"_blank\">(Documentation)</a>.<br/>\n",
              "                Project page: <a href=\"https://wandb.ai/simoneerc95/uncategorized\" target=\"_blank\">https://wandb.ai/simoneerc95/uncategorized</a><br/>\n",
              "                Run page: <a href=\"https://wandb.ai/simoneerc95/uncategorized/runs/2vq1hi3y\" target=\"_blank\">https://wandb.ai/simoneerc95/uncategorized/runs/2vq1hi3y</a><br/>\n",
              "                Run data is saved locally in <code>/content/wandb/run-20210720_230229-2vq1hi3y</code><br/><br/>\n",
              "            "
            ],
            "text/plain": [
              "<IPython.core.display.HTML object>"
            ]
          },
          "metadata": {
            "tags": []
          }
        },
        {
          "output_type": "execute_result",
          "data": {
            "text/plain": [
              "<wandb.sdk.wandb_run.Run at 0x7f84d1fdc090>"
            ],
            "text/html": [
              "<h1>Run(2vq1hi3y)</h1><iframe src=\"https://wandb.ai/simoneerc95/uncategorized/runs/2vq1hi3y\" style=\"border:none;width:100%;height:400px\"></iframe>"
            ]
          },
          "metadata": {
            "tags": []
          },
          "execution_count": 25
        }
      ]
    },
    {
      "cell_type": "code",
      "metadata": {
        "colab": {
          "base_uri": "https://localhost:8080/",
          "height": 1000
        },
        "id": "-jBOrG7AyXTX",
        "outputId": "17f7ae55-e033-43f7-c7e5-b9c1cb005f56"
      },
      "source": [
        "%%wandb\n",
        "torch.manual_seed(1234)\n",
        "model = DeepRegressor(train_X.to_numpy().shape[1], 200, n_hidden_layers=19, activation=\"relu\", batchnorm=False).to(device)\n",
        "wandb.watch(model)\n",
        "criterion = nn.SmoothL1Loss(reduction='mean', beta=5)\n",
        "mse = nn.MSELoss()\n",
        "optimizer = optim.Adam(model.parameters(), lr = 5e-4, weight_decay=0.005)\n",
        "\n",
        "for param in model.parameters():\n",
        "    param.requires_grad = True\n",
        "epoch = 120\n",
        "rmse = {\"train\": [], \"val\": []}\n",
        "l1 = {\"train\": [], \"val\": []}\n",
        "best = {\"loss\": None, \"state_dict\": None}\n",
        "\n",
        "start_training = time()\n",
        "for epoch in range(epoch):\n",
        "    if epoch%5 == 0:\n",
        "        start_epoch = time()\n",
        "    model.train()\n",
        "    \n",
        "    rmse[\"train\"].append(0)\n",
        "    l1[\"train\"].append(0)\n",
        "    for i, batch in enumerate(train_dataloader, 0):\n",
        "        \n",
        "        # if i == 2: break\n",
        "\n",
        "        # get the inputs; data is a list of [inputs, labels]\n",
        "        inputs, labels = batch\n",
        "        \n",
        "        optimizer.zero_grad()\n",
        "        # Forward pass\n",
        "        y_pred = model(inputs)\n",
        "        \n",
        "        # Compute Loss\n",
        "        \n",
        "        loss = criterion(y_pred, labels)\n",
        "        \n",
        "        # Backward pass\n",
        "        loss.backward()\n",
        "        optimizer.step()\n",
        "        \n",
        "        # print(y_pred.size())\n",
        "        rmse[\"train\"][epoch] += (mse(y_pred, labels)/len(train_dataloader)).item()\n",
        "        l1[\"train\"][epoch] += loss/len(train_dataloader)\n",
        "    if epoch%5 == 0:\n",
        "      print(f\"\\n------> Epoch {epoch+1} <------\\n    Train RMSE loss: {np.sqrt(rmse['train'][epoch])}\")\n",
        "      print(f\"    Train   L1 loss: {l1['train'][epoch]}\")\n",
        "    \n",
        "    model.eval()\n",
        "    rmse[\"val\"].append(0)\n",
        "    l1[\"val\"].append(0)\n",
        "    for i, batch in enumerate(val_dataloader, 0):\n",
        "        # get the inputs; data is a list of [inputs, labels]\n",
        "        inputs, labels = batch\n",
        "        with torch.no_grad():\n",
        "            outputs = model(inputs)\n",
        "        \n",
        "        loss = criterion(outputs, labels)\n",
        "        \n",
        "        # forward + backward + optimize\n",
        "        rmse[\"val\"][epoch] += (mse(outputs, labels)/len(val_dataloader)).item()\n",
        "        l1[\"val\"][epoch] += loss/len(val_dataloader)\n",
        "    wandb.log({\"rmse\": np.sqrt(rmse['train'][epoch]), \"SmoothL1\": l1['train'][epoch],\n",
        "                       \"val_rmse\": np.sqrt(rmse['val'][epoch]), \"val_SmoothL1\": l1['val'][epoch]})\n",
        "    if epoch%5 == 0:\n",
        "      print(f\"    Val   RMSE loss: {np.sqrt(rmse['val'][epoch])}\")\n",
        "      print(f\"    Val   L1 loss: {l1['val'][epoch]}\")\n",
        "      print(f\"    Epoch time: {round((time()-start_epoch)//60)}m {round((time()-start_epoch)%60)}s\")\n",
        " \n",
        "print('\\n\\n****************** Finished Training ******************')\n",
        "print(f\"Time elapsed for training: {round((time()-start_training)//60)}:{round((time()-start_training)%60)}\")"
      ],
      "execution_count": 26,
      "outputs": [
        {
          "output_type": "display_data",
          "data": {
            "text/html": [
              "<iframe src=\"https://wandb.ai/simoneerc95/uncategorized/runs/2vq1hi3y?jupyter=true\" style=\"border:none;width:100%;height:420px\">\n",
              "                </iframe>"
            ],
            "text/plain": [
              "<wandb.jupyter.Run at 0x7f84d2003650>"
            ]
          },
          "metadata": {
            "tags": []
          }
        },
        {
          "output_type": "stream",
          "text": [
            "\n",
            "------> Epoch 1 <------\n",
            "    Train RMSE loss: 64769.298755666496\n",
            "    Train   L1 loss: 12335.5498046875\n",
            "    Val   RMSE loss: 55266.61933749968\n",
            "    Val   L1 loss: 11144.8017578125\n",
            "    Epoch time: 0m 4s\n",
            "\n",
            "------> Epoch 6 <------\n",
            "    Train RMSE loss: 57764.820548868396\n",
            "    Train   L1 loss: 10907.0078125\n",
            "    Val   RMSE loss: 53366.786679947\n",
            "    Val   L1 loss: 10532.0537109375\n",
            "    Epoch time: 0m 4s\n",
            "\n",
            "------> Epoch 11 <------\n",
            "    Train RMSE loss: 57251.54329145989\n",
            "    Train   L1 loss: 10737.5283203125\n",
            "    Val   RMSE loss: 52346.08419482063\n",
            "    Val   L1 loss: 10360.095703125\n",
            "    Epoch time: 0m 3s\n",
            "\n",
            "------> Epoch 16 <------\n",
            "    Train RMSE loss: 56385.21666699512\n",
            "    Train   L1 loss: 10574.091796875\n",
            "    Val   RMSE loss: 51906.06494390552\n",
            "    Val   L1 loss: 10218.322265625\n",
            "    Epoch time: 0m 3s\n",
            "\n",
            "------> Epoch 21 <------\n",
            "    Train RMSE loss: 55600.150175964845\n",
            "    Train   L1 loss: 10412.4951171875\n",
            "    Val   RMSE loss: 50858.222249877836\n",
            "    Val   L1 loss: 10074.845703125\n",
            "    Epoch time: 0m 3s\n",
            "\n",
            "------> Epoch 26 <------\n",
            "    Train RMSE loss: 54459.08200550954\n",
            "    Train   L1 loss: 10216.04296875\n",
            "    Val   RMSE loss: 50020.51888408989\n",
            "    Val   L1 loss: 9877.93359375\n",
            "    Epoch time: 0m 4s\n",
            "\n",
            "------> Epoch 31 <------\n",
            "    Train RMSE loss: 53603.69865040943\n",
            "    Train   L1 loss: 10044.666015625\n",
            "    Val   RMSE loss: 49545.65306684646\n",
            "    Val   L1 loss: 9773.9677734375\n",
            "    Epoch time: 0m 3s\n",
            "\n",
            "------> Epoch 36 <------\n",
            "    Train RMSE loss: 53159.63097808865\n",
            "    Train   L1 loss: 9904.978515625\n",
            "    Val   RMSE loss: 49166.25212421022\n",
            "    Val   L1 loss: 9579.5244140625\n",
            "    Epoch time: 0m 3s\n",
            "\n",
            "------> Epoch 41 <------\n",
            "    Train RMSE loss: 52338.967609718595\n",
            "    Train   L1 loss: 9706.0107421875\n",
            "    Val   RMSE loss: 49089.268066977354\n",
            "    Val   L1 loss: 9612.333984375\n",
            "    Epoch time: 0m 3s\n",
            "\n",
            "------> Epoch 46 <------\n",
            "    Train RMSE loss: 52539.754731090296\n",
            "    Train   L1 loss: 9609.6591796875\n",
            "    Val   RMSE loss: 48966.05044291928\n",
            "    Val   L1 loss: 9357.4833984375\n",
            "    Epoch time: 0m 4s\n",
            "\n",
            "------> Epoch 51 <------\n",
            "    Train RMSE loss: 52094.83035875462\n",
            "    Train   L1 loss: 9458.4814453125\n",
            "    Val   RMSE loss: 48900.690263193595\n",
            "    Val   L1 loss: 9304.3466796875\n",
            "    Epoch time: 0m 3s\n",
            "\n",
            "------> Epoch 56 <------\n",
            "    Train RMSE loss: 51871.53160033404\n",
            "    Train   L1 loss: 9337.9130859375\n",
            "    Val   RMSE loss: 48990.30135956281\n",
            "    Val   L1 loss: 9230.00390625\n",
            "    Epoch time: 0m 3s\n",
            "\n",
            "------> Epoch 61 <------\n",
            "    Train RMSE loss: 51694.10431418367\n",
            "    Train   L1 loss: 9262.482421875\n",
            "    Val   RMSE loss: 47647.24900442263\n",
            "    Val   L1 loss: 9198.4150390625\n",
            "    Epoch time: 0m 4s\n",
            "\n",
            "------> Epoch 66 <------\n",
            "    Train RMSE loss: 53367.040090778704\n",
            "    Train   L1 loss: 9189.498046875\n",
            "    Val   RMSE loss: 47736.59371359621\n",
            "    Val   L1 loss: 9149.939453125\n",
            "    Epoch time: 0m 4s\n",
            "\n",
            "------> Epoch 71 <------\n",
            "    Train RMSE loss: 50665.44387989584\n",
            "    Train   L1 loss: 9041.5673828125\n",
            "    Val   RMSE loss: 47740.39663594167\n",
            "    Val   L1 loss: 9084.0\n",
            "    Epoch time: 0m 3s\n",
            "\n",
            "------> Epoch 76 <------\n",
            "    Train RMSE loss: 50355.7458106857\n",
            "    Train   L1 loss: 8968.708984375\n",
            "    Val   RMSE loss: 47842.6083148501\n",
            "    Val   L1 loss: 9069.7607421875\n",
            "    Epoch time: 0m 3s\n",
            "\n",
            "------> Epoch 81 <------\n",
            "    Train RMSE loss: 49997.43667159816\n",
            "    Train   L1 loss: 8905.736328125\n",
            "    Val   RMSE loss: 47851.457482150065\n",
            "    Val   L1 loss: 9117.865234375\n",
            "    Epoch time: 0m 4s\n",
            "\n",
            "------> Epoch 86 <------\n",
            "    Train RMSE loss: 50060.983602989945\n",
            "    Train   L1 loss: 8870.435546875\n",
            "    Val   RMSE loss: 47894.54389147333\n",
            "    Val   L1 loss: 9165.794921875\n",
            "    Epoch time: 0m 3s\n",
            "\n",
            "------> Epoch 91 <------\n",
            "    Train RMSE loss: 49249.132855072305\n",
            "    Train   L1 loss: 8776.611328125\n",
            "    Val   RMSE loss: 48158.086146755864\n",
            "    Val   L1 loss: 9056.12890625\n",
            "    Epoch time: 0m 4s\n",
            "\n",
            "------> Epoch 96 <------\n",
            "    Train RMSE loss: 49074.13234372119\n",
            "    Train   L1 loss: 8724.9130859375\n",
            "    Val   RMSE loss: 47383.18928860906\n",
            "    Val   L1 loss: 9159.947265625\n",
            "    Epoch time: 0m 4s\n",
            "\n",
            "------> Epoch 101 <------\n",
            "    Train RMSE loss: 48331.55167972089\n",
            "    Train   L1 loss: 8627.9296875\n",
            "    Val   RMSE loss: 47857.187866548746\n",
            "    Val   L1 loss: 9122.0126953125\n",
            "    Epoch time: 0m 3s\n",
            "\n",
            "------> Epoch 106 <------\n",
            "    Train RMSE loss: 48152.51814401169\n",
            "    Train   L1 loss: 8587.177734375\n",
            "    Val   RMSE loss: 47734.543772860394\n",
            "    Val   L1 loss: 9106.6953125\n",
            "    Epoch time: 0m 3s\n",
            "\n",
            "------> Epoch 111 <------\n",
            "    Train RMSE loss: 48138.13165013392\n",
            "    Train   L1 loss: 8591.4404296875\n",
            "    Val   RMSE loss: 48094.74297728164\n",
            "    Val   L1 loss: 9142.2060546875\n",
            "    Epoch time: 0m 4s\n",
            "\n",
            "------> Epoch 116 <------\n",
            "    Train RMSE loss: 47663.5757950073\n",
            "    Train   L1 loss: 8518.0078125\n",
            "    Val   RMSE loss: 48392.0384468863\n",
            "    Val   L1 loss: 9099.3544921875\n",
            "    Epoch time: 0m 3s\n",
            "\n",
            "\n",
            "****************** Finished Training ******************\n",
            "Time elapsed for training: 6:49\n"
          ],
          "name": "stdout"
        }
      ]
    },
    {
      "cell_type": "code",
      "metadata": {
        "id": "gka6xT-d-Ga7",
        "colab": {
          "base_uri": "https://localhost:8080/"
        },
        "outputId": "5c78b3cd-0cde-412a-97a1-a5953fd9e46a"
      },
      "source": [
        "model.eval()\n",
        "test_y_pred = []\n",
        "test_y_true = []\n",
        "start = time()\n",
        "for i, batch in enumerate(test_dataloader, 0):\n",
        "    # get the inputs; data is a list of [inputs, labels]\n",
        "    inputs, labels = batch\n",
        "    with torch.no_grad():\n",
        "        outputs = model(inputs)\n",
        "    test_y_pred.append(outputs)\n",
        "    test_y_true.append(labels)\n",
        "\n",
        "test_y_pred = torch.cat(test_y_pred)\n",
        "test_y_true = torch.cat(test_y_true)\n",
        "\n",
        "loss = mse(test_y_pred, test_y_true).sqrt()\n",
        "\n",
        "print('\\n\\n****************** Finished Testing ******************')\n",
        "print(f\"Time elapsed for testing: {round((time()-start)//60)}:{round((time()-start)%60)}\")\n",
        "print(f\"Test   RMSE loss: {loss}\")"
      ],
      "execution_count": 27,
      "outputs": [
        {
          "output_type": "stream",
          "text": [
            "\n",
            "\n",
            "****************** Finished Testing ******************\n",
            "Time elapsed for testing: 0:0\n",
            "Test   RMSE loss: 50346.66015625\n"
          ],
          "name": "stdout"
        }
      ]
    },
    {
      "cell_type": "code",
      "metadata": {
        "colab": {
          "base_uri": "https://localhost:8080/",
          "height": 290
        },
        "id": "7SPi9k6iXng1",
        "outputId": "782d1de5-37ca-4f37-a1d5-7c0493d5838d"
      },
      "source": [
        "plt.scatter(test_y_true.cpu().numpy(), (test_y_true.cpu()- test_y_pred.cpu()).numpy())\n",
        "plt.xlabel(\"true\")\n",
        "plt.ylabel(\"true - pred\")\n",
        "plt.show()"
      ],
      "execution_count": 28,
      "outputs": [
        {
          "output_type": "display_data",
          "data": {
            "image/png": "[encoded data removed]",
            "text/plain": [
              "<Figure size 432x288 with 1 Axes>"
            ]
          },
          "metadata": {
            "tags": [],
            "needs_background": "light"
          }
        }
      ]
    },
    {
      "cell_type": "code",
      "metadata": {
        "colab": {
          "base_uri": "https://localhost:8080/",
          "height": 290
        },
        "id": "1vCAZQV8yXTX",
        "outputId": "7e82588a-f4f3-4fe1-abbd-ed7524fabd4f"
      },
      "source": [
        "plt.scatter(test_y_true.cpu().numpy(), test_y_pred.cpu().numpy())\n",
        "plt.xlabel(\"true\")\n",
        "plt.ylabel(\"pred\")\n",
        "plt.show()"
      ],
      "execution_count": 29,
      "outputs": [
        {
          "output_type": "display_data",
          "data": {
            "image/png": "[encoded data removed]",
            "text/plain": [
              "<Figure size 432x288 with 1 Axes>"
            ]
          },
          "metadata": {
            "tags": [],
            "needs_background": "light"
          }
        }
      ]
    },
    {
      "cell_type": "code",
      "metadata": {
        "colab": {
          "base_uri": "https://localhost:8080/",
          "height": 265
        },
        "id": "ZOrE4xQcmZMa",
        "outputId": "f6735186-5d78-4b8b-9c19-ec61a512f22c"
      },
      "source": [
        "plt.hist(np.log10(test_y_true.cpu().numpy()), bins=100, alpha=0.6, label='True', color='blue')\n",
        "plt.hist(np.log10(test_y_pred.cpu().numpy()), bins=100, alpha=0.5, label='Pred', color='orange')\n",
        "plt.legend(loc='upper right')\n",
        "plt.show()"
      ],
      "execution_count": 30,
      "outputs": [
        {
          "output_type": "display_data",
          "data": {
            "image/png": "[encoded data removed]",
            "text/plain": [
              "<Figure size 432x288 with 1 Axes>"
            ]
          },
          "metadata": {
            "tags": [],
            "needs_background": "light"
          }
        }
      ]
    },
    {
      "cell_type": "markdown",
      "metadata": {
        "id": "PZA1FyPs7inc"
      },
      "source": [
        "Correlation between predictions and true values of the response on the test set"
      ]
    },
    {
      "cell_type": "code",
      "metadata": {
        "colab": {
          "base_uri": "https://localhost:8080/"
        },
        "id": "BstglmM_yXTY",
        "outputId": "71da1287-ad41-4ec7-bfab-87ea2489a421"
      },
      "source": [
        "np.corrcoef(test_y_true.cpu().numpy(), test_y_pred.cpu().numpy())[0,1]"
      ],
      "execution_count": 31,
      "outputs": [
        {
          "output_type": "execute_result",
          "data": {
            "text/plain": [
              "0.660410906959303"
            ]
          },
          "metadata": {
            "tags": []
          },
          "execution_count": 31
        }
      ]
    },
    {
      "cell_type": "markdown",
      "metadata": {
        "id": "vjduPsK67v74"
      },
      "source": [
        "Correlation between residuals and true values of the response on the test set (notice that it's higher than the correlation between predictions and true values)"
      ]
    },
    {
      "cell_type": "code",
      "metadata": {
        "colab": {
          "base_uri": "https://localhost:8080/"
        },
        "id": "IgTQ3Km3yXTY",
        "outputId": "32bf8b57-c117-42c4-cc0e-a3519a3ed0d4"
      },
      "source": [
        "np.corrcoef(test_y_true.cpu().numpy()-test_y_pred.cpu().numpy(), test_y_true.cpu().numpy())[0,1]"
      ],
      "execution_count": 32,
      "outputs": [
        {
          "output_type": "execute_result",
          "data": {
            "text/plain": [
              "0.7624101521515038"
            ]
          },
          "metadata": {
            "tags": []
          },
          "execution_count": 32
        }
      ]
    }
  ]
}