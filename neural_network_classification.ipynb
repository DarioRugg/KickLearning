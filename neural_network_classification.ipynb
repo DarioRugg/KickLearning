{
 "cells": [
  {
   "cell_type": "markdown",
   "metadata": {
    "id": "5T84yzda1pNq"
   },
   "source": [
    "# neural_network_classification"
   ]
  },
  {
   "cell_type": "code",
   "execution_count": 1,
   "metadata": {
    "colab": {
     "base_uri": "https://localhost:8080/"
    },
    "executionInfo": {
     "elapsed": 4785,
     "status": "ok",
     "timestamp": 1626534637217,
     "user": {
      "displayName": "dario ruggeri",
      "photoUrl": "",
      "userId": "00605556345834424824"
     },
     "user_tz": -120
    },
    "id": "CNlcKcN9pBHx",
    "outputId": "106aebea-11fc-4d63-de2d-e6050a84a6c8"
   },
   "outputs": [
    {
     "data": {
      "text/plain": [
       "<torch._C.Generator at 0x212714f7910>"
      ]
     },
     "execution_count": 1,
     "metadata": {},
     "output_type": "execute_result"
    }
   ],
   "source": [
    "from os.path import join\n",
    "import pandas as pd\n",
    "import numpy as np\n",
    "import matplotlib.pyplot as plt\n",
    "import torch\n",
    "from torch import nn, optim\n",
    "from torch.utils.data import Dataset, DataLoader, TensorDataset\n",
    "from time import time\n",
    "import sklearn\n",
    "import re\n",
    "import pandas as pd\n",
    "import numpy as np\n",
    "from sklearn.preprocessing import StandardScaler\n",
    "from sklearn.model_selection import train_test_split\n",
    "from sklearn.metrics import confusion_matrix\n",
    "import sklearn\n",
    "import seaborn as sns\n",
    "from sklearn.compose import ColumnTransformer\n",
    "from sklearn.metrics import roc_auc_score, precision_score, recall_score, accuracy_score \n",
    "from datetime import datetime\n",
    "torch.manual_seed(0)"
   ]
  },
  {
   "cell_type": "markdown",
   "metadata": {
    "id": "9Gmp3FJ7xVv0"
   },
   "source": [
    "### Loading the Dataset"
   ]
  },
  {
   "cell_type": "code",
   "execution_count": 2,
   "metadata": {
    "executionInfo": {
     "elapsed": 225,
     "status": "ok",
     "timestamp": 1626534646186,
     "user": {
      "displayName": "dario ruggeri",
      "photoUrl": "",
      "userId": "00605556345834424824"
     },
     "user_tz": -120
    },
    "id": "Ia5vDFghpBH2"
   },
   "outputs": [],
   "source": [
    "data_path = join(\".\", \"data_local\")\n",
    "checkpoints = join(\".\", \"logs\", \"checkpoints_nn_classification\")"
   ]
  },
  {
   "cell_type": "code",
   "execution_count": 3,
   "metadata": {
    "executionInfo": {
     "elapsed": 6524,
     "status": "ok",
     "timestamp": 1626534653846,
     "user": {
      "displayName": "dario ruggeri",
      "photoUrl": "",
      "userId": "00605556345834424824"
     },
     "user_tz": -120
    },
    "id": "XfCwDwesxDHa"
   },
   "outputs": [],
   "source": [
    "data = pd.read_csv(join(data_path, \"final_dataset_pca.csv\"))\n",
    "\n",
    "# DROP 'canceled' PROJECTS\n",
    "data = data[data['state'].isin(['successful', 'failed'])]"
   ]
  },
  {
   "cell_type": "markdown",
   "metadata": {},
   "source": [
    "# Data Cleaning"
   ]
  },
  {
   "cell_type": "code",
   "execution_count": 4,
   "metadata": {
    "executionInfo": {
     "elapsed": 2099,
     "status": "ok",
     "timestamp": 1626534655940,
     "user": {
      "displayName": "dario ruggeri",
      "photoUrl": "",
      "userId": "00605556345834424824"
     },
     "user_tz": -120
    },
    "id": "_jfTtBFWxfMo"
   },
   "outputs": [],
   "source": [
    "# EXTRACTING INFORMATION ON CATEGORIES\n",
    "def fun(j):\n",
    "    return re.findall(r'\\'(\\b\\w+\\b)\\'', j) + list(map(lambda x: x[0]+\" \" +x[1], re.findall(r\"\\\"(\\w+).*?(\\w \\w+)\\\"\", j)))\n",
    "\n",
    "data['category'] = data['category'].apply(fun)\n",
    "data['sub_category'] = data['sub_category'].apply(fun)\n",
    "data['category_2'] = data['category'].apply(lambda x: str(x[1]) if len(x)>1 else 'No category')\n",
    "data['category'] = data['category'].apply(lambda x: str(x[0]) if len(x)>0 else 'No category')\n",
    "data['sub_category'] = data['sub_category'].apply(lambda x: x[0] if len(x)>0 else 'No sub_category')\n",
    "\n",
    "\n",
    "# EXTRACTING INFORMATION ON DURATION(in days) OF EACH PROJECT\n",
    "data['deadline'] = data['deadline'].apply(lambda x: datetime.fromtimestamp(int(x)))\n",
    "data['launched_at'] = data['launched_at'].apply(lambda x: datetime.fromtimestamp(int(x)))\n",
    "data['duration'] = data['deadline']-data['launched_at']\n",
    "data['duration'] =data['duration'].apply(lambda x: x.days)\n",
    "\n",
    "\n",
    "# CONVERTING GOAL IN USD_GOAL\n",
    "data['usd_goal'] = data['goal']*data['fx_rate']\n",
    "\n",
    "\n",
    "# LABELING TARGET IN 0=FAILED and 1=SUCCESSFUL\n",
    "data['state'] = data['state'].apply(lambda x: 1 if x=='successful' else 0)\n",
    "\n",
    "\n",
    "# DROP USLESS OR ALREADY USED COLUMNS AND REMOVE ALL OBSERVATION WITH Nan CAUSED BY ERROR 404 DURING SCRAPING\n",
    "data_class = data.drop(columns=['id', 'project_url', 'image', 'goal', 'fx_rate', 'usd_pledged', 'launched_at', 'deadline'])\n",
    "data_class = data_class.dropna(axis = 0, how ='any')\n",
    "\n",
    "\n",
    "# BALANCING THE 2 CLASSES WILL IMPROVE THE RESULTS\n",
    "majority_class = data_class[data_class['state']==1]\n",
    "minority_class = data_class[data_class['state']==0]\n",
    "balanced_class = majority_class.sample(n=94601, random_state=1) #94584\n",
    "data_class = pd.concat([balanced_class, minority_class]) "
   ]
  },
  {
   "cell_type": "markdown",
   "metadata": {},
   "source": [
    "# Classification using NN"
   ]
  },
  {
   "cell_type": "code",
   "execution_count": 5,
   "metadata": {},
   "outputs": [
    {
     "name": "stdout",
     "output_type": "stream",
     "text": [
      "lenght of train-set: 169185\n",
      "lenght of test-set: 20000\n"
     ]
    }
   ],
   "source": [
    "# SPLITTING TRAIN AND TEST SET\n",
    "train_class_X, test_class_X, train_class_y, test_class_y =  train_test_split(data_class.drop(columns=['state']), \n",
    "                                                                             data_class['state'], test_size=20000,\n",
    "                                                                             random_state=1)\n",
    "print(f'lenght of train-set: {len(train_class_X)}')\n",
    "print(f'lenght of test-set: {len(test_class_X)}')\n",
    "# CATEGORICAL FEATURES (indices are needed for LIME and Catboost)\n",
    "categorical_feat = ['category', 'country', 'sub_category',  'Launch_Week',\n",
    "                    'Launch_Month', 'Deadline_Week', 'Deadline_Month',  'category_2',]\n",
    "\n",
    "categorical_features = []\n",
    "numeric_features = []\n",
    "for col in categorical_feat:\n",
    "    categorical_features.append(list(data_class.drop(columns=['state']).columns).index(col))\n",
    "\n",
    "    \n",
    "# NUMERIC FEATURES NEEDED TO APPLY STANDARD SCALER ONLY ON NUMERIC VARIABLES    \n",
    "numeric_features = [col for i,col in enumerate(list(data_class.drop(columns=['state']).columns)) if col not in categorical_feat]\n",
    "\n",
    "\n",
    "# LABELING OF CATEGORICAL FEATURES AND MAP(categorical_names) USED FOR LIME\n",
    "arr = np.array(train_class_X)\n",
    "categorical_names = {}\n",
    "for feature in categorical_features:\n",
    "    le = sklearn.preprocessing.LabelEncoder()\n",
    "    le.fit(np.array(data_class.drop(columns=['state']))[:, feature])\n",
    "    train_class_X.iloc[:, feature] = le.transform(train_class_X.iloc[:, feature])\n",
    "    test_class_X.iloc[:, feature] = le.transform(test_class_X.iloc[:, feature])\n",
    "    categorical_names[feature] = le.classes_\n",
    "\n",
    "for k, v in categorical_names.items():\n",
    "    categorical_names[k] = list(arr[:, k])\n",
    "    \n",
    "\n",
    "# STANDARD SCALER \n",
    "num_cols = [col for col in train_class_X if col not in categorical_feat]\n",
    "scaler = StandardScaler()\n",
    "train_class_X = scaler.fit_transform(train_class_X)\n",
    "test_class_X = scaler.transform(test_class_X)"
   ]
  },
  {
   "cell_type": "code",
   "execution_count": 6,
   "metadata": {},
   "outputs": [],
   "source": [
    "train_x = np.array(train_class_X)\n",
    "test_x = np.array(test_class_X)\n",
    "train_y = np.array(train_class_y)\n",
    "test_y = np.array(test_class_y)"
   ]
  },
  {
   "cell_type": "code",
   "execution_count": 7,
   "metadata": {
    "executionInfo": {
     "elapsed": 629,
     "status": "ok",
     "timestamp": 1626534814794,
     "user": {
      "displayName": "dario ruggeri",
      "photoUrl": "",
      "userId": "00605556345834424824"
     },
     "user_tz": -120
    },
    "id": "rgUcuRI6_WLq"
   },
   "outputs": [],
   "source": [
    "test_x, val_x, test_y, val_y = train_test_split(test_x, test_y, test_size=10000, random_state=1)"
   ]
  },
  {
   "cell_type": "code",
   "execution_count": 8,
   "metadata": {
    "executionInfo": {
     "elapsed": 316,
     "status": "ok",
     "timestamp": 1626534815893,
     "user": {
      "displayName": "dario ruggeri",
      "photoUrl": "",
      "userId": "00605556345834424824"
     },
     "user_tz": -120
    },
    "id": "GXH4myMD6yGB"
   },
   "outputs": [],
   "source": [
    "train_dataset = TensorDataset(torch.Tensor(train_x.astype(\"float32\")), torch.Tensor(train_y.astype(\"float32\")))\n",
    "val_dataset = TensorDataset(torch.Tensor(val_x.astype(\"float32\")), torch.Tensor(val_y.astype(\"float32\")))\n",
    "test_dataset = TensorDataset(torch.Tensor(test_x.astype(\"float32\")), torch.Tensor(test_y.astype(\"float32\")))\n",
    "\n",
    "train_dataloader = DataLoader(dataset=train_dataset, batch_size=128, shuffle=True)\n",
    "val_dataloader = DataLoader(dataset=val_dataset, batch_size=64)\n",
    "test_dataloader = DataLoader(dataset=test_dataset, batch_size=64)"
   ]
  },
  {
   "cell_type": "markdown",
   "metadata": {
    "id": "LxKY0xtFsZjU"
   },
   "source": [
    "## Embedding Data"
   ]
  },
  {
   "cell_type": "code",
   "execution_count": 9,
   "metadata": {
    "executionInfo": {
     "elapsed": 3,
     "status": "ok",
     "timestamp": 1626534816218,
     "user": {
      "displayName": "dario ruggeri",
      "photoUrl": "",
      "userId": "00605556345834424824"
     },
     "user_tz": -120
    },
    "id": "4nYzeAKupBH3"
   },
   "outputs": [],
   "source": [
    "class DeepRegressor(nn.Module):\n",
    "    def __init__(self, input_size, hidden_size, n_hidden_layers=5):\n",
    "        super(DeepRegressor, self).__init__()\n",
    "        self.input_size = input_size\n",
    "        self.hidden_size  = hidden_size\n",
    "        self.num_hidden_layers = n_hidden_layers\n",
    "\n",
    "\n",
    "        self.first_layer = nn.Sequential(nn.Linear(self.input_size, self.hidden_size),\n",
    "                                         nn.BatchNorm1d(self.hidden_size),\n",
    "                                         nn.ReLU(),\n",
    "                                         nn.Dropout(0.01))\n",
    "\n",
    "        self.hidden_layers = nn.Sequential()\n",
    "        for _ in range(self.num_hidden_layers):\n",
    "            self.hidden_layers.add_module(\"linear\", nn.Linear(self.hidden_size, self.hidden_size))\n",
    "            self.hidden_layers.add_module(\"batch_norm\", nn.BatchNorm1d(self.hidden_size))\n",
    "            self.hidden_layers.add_module(\"activation\", nn.ReLU())\n",
    "            self.hidden_layers.add_module(\"dropout\", nn.Dropout(0.01))\n",
    "\n",
    "        self.last_layer1 = nn.Sequential(nn.Linear(self.hidden_size, int(self.hidden_size/2)),\n",
    "                                         nn.BatchNorm1d(int(self.hidden_size/2)),\n",
    "                                         nn.ReLU(),\n",
    "                                         nn.Dropout(0.01))\n",
    "        self.last_layer2 = nn.Linear(int(self.hidden_size/2), 1)\n",
    "\n",
    "    def forward(self, x):\n",
    "        hidden_state = self.first_layer(x)\n",
    "        x = self.hidden_layers(hidden_state)\n",
    "        x = self.last_layer1(x)\n",
    "        output = self.last_layer2(x)\n",
    "        return output.squeeze(1)"
   ]
  },
  {
   "cell_type": "code",
   "execution_count": 10,
   "metadata": {
    "executionInfo": {
     "elapsed": 236,
     "status": "ok",
     "timestamp": 1626534831351,
     "user": {
      "displayName": "dario ruggeri",
      "photoUrl": "",
      "userId": "00605556345834424824"
     },
     "user_tz": -120
    },
    "id": "knimHOPz1M-y"
   },
   "outputs": [],
   "source": [
    "model = DeepRegressor(train_x.shape[1], 32, n_hidden_layers=4)\n",
    "\n",
    "criterion = nn.BCEWithLogitsLoss()\n",
    "optimizer = optim.Adam(model.parameters(), lr = 0.002, weight_decay=0.0001)\n",
    "scheduler = optim.lr_scheduler.MultiStepLR(optimizer, milestones=[5, 10, 15], gamma=0.5)"
   ]
  },
  {
   "cell_type": "code",
   "execution_count": 11,
   "metadata": {
    "colab": {
     "base_uri": "https://localhost:8080/"
    },
    "executionInfo": {
     "elapsed": 143045,
     "status": "ok",
     "timestamp": 1626534975429,
     "user": {
      "displayName": "dario ruggeri",
      "photoUrl": "",
      "userId": "00605556345834424824"
     },
     "user_tz": -120
    },
    "id": "GdqYmAtl1goL",
    "outputId": "b624b7c4-04b4-4943-fa0c-b385350022ff"
   },
   "outputs": [
    {
     "name": "stdout",
     "output_type": "stream",
     "text": [
      "\n",
      "------> Epoch 1 <------\n",
      "    Train CossEntrpy loss: 0.46929458390115375, Accuracy: 0.7632501721382141\n",
      "    Val   CossEntrpy loss: 0.4493877413166556, Accuracy: 0.7588576078414917\n",
      "    Epoch time: 0m 10s\n",
      "\n",
      "------> Epoch 2 <------\n",
      "    Train CossEntrpy loss: 0.4439946507045977, Accuracy: 0.778934121131897\n",
      "    Val   CossEntrpy loss: 0.43042714485696926, Accuracy: 0.7806529402732849\n",
      "    Epoch time: 0m 11s\n",
      "\n",
      "------> Epoch 3 <------\n",
      "    Train CossEntrpy loss: 0.43407491800824743, Accuracy: 0.7845840454101562\n",
      "    Val   CossEntrpy loss: 0.4150199620587052, Accuracy: 0.791500985622406\n",
      "    Epoch time: 0m 10s\n",
      "\n",
      "------> Epoch 4 <------\n",
      "    Train CossEntrpy loss: 0.4261673432119673, Accuracy: 0.7897783517837524\n",
      "    Val   CossEntrpy loss: 0.41647140843093794, Accuracy: 0.7795579433441162\n",
      "    Epoch time: 0m 10s\n",
      "\n",
      "------> Epoch 5 <------\n",
      "    Train CossEntrpy loss: 0.4222002637864246, Accuracy: 0.7918214797973633\n",
      "    Val   CossEntrpy loss: 0.44279371818919105, Accuracy: 0.7525874972343445\n",
      "    Epoch time: 0m 11s\n",
      "\n",
      "------> Epoch 6 <------\n",
      "    Train CossEntrpy loss: 0.41399905029205275, Accuracy: 0.7974841594696045\n",
      "    Val   CossEntrpy loss: 0.4042035210284456, Accuracy: 0.8007562756538391\n",
      "    Epoch time: 0m 11s\n",
      "\n",
      "------> Epoch 7 <------\n",
      "    Train CossEntrpy loss: 0.4109478972728237, Accuracy: 0.7989374399185181\n",
      "    Val   CossEntrpy loss: 0.4028134275773529, Accuracy: 0.8024482727050781\n",
      "    Epoch time: 0m 10s\n",
      "\n",
      "------> Epoch 8 <------\n",
      "    Train CossEntrpy loss: 0.40860619471491566, Accuracy: 0.7997588515281677\n",
      "    Val   CossEntrpy loss: 0.40236721638661294, Accuracy: 0.7975717186927795\n",
      "    Epoch time: 0m 10s\n",
      "\n",
      "------> Epoch 9 <------\n",
      "    Train CossEntrpy loss: 0.4077470131815834, Accuracy: 0.8006730079650879\n",
      "    Val   CossEntrpy loss: 0.40593886470339124, Accuracy: 0.7942873239517212\n",
      "    Epoch time: 0m 11s\n",
      "\n",
      "------> Epoch 10 <------\n",
      "    Train CossEntrpy loss: 0.4060271225430062, Accuracy: 0.8016839623451233\n",
      "    Val   CossEntrpy loss: 0.40403594598648657, Accuracy: 0.7974720597267151\n",
      "    Epoch time: 0m 11s\n",
      "\n",
      "------> Epoch 11 <------\n",
      "    Train CossEntrpy loss: 0.4010577003461685, Accuracy: 0.804012656211853\n",
      "    Val   CossEntrpy loss: 0.4147879735679384, Accuracy: 0.7836385369300842\n",
      "    Epoch time: 0m 11s\n",
      "\n",
      "------> Epoch 12 <------\n",
      "    Train CossEntrpy loss: 0.3998752646655431, Accuracy: 0.8055960536003113\n",
      "    Val   CossEntrpy loss: 0.3894176306618249, Accuracy: 0.8090166449546814\n",
      "    Epoch time: 0m 11s\n",
      "\n",
      "------> Epoch 13 <------\n",
      "    Train CossEntrpy loss: 0.3989638627792815, Accuracy: 0.8051766157150269\n",
      "    Val   CossEntrpy loss: 0.392320537073597, Accuracy: 0.8076234459877014\n",
      "    Epoch time: 0m 11s\n",
      "\n",
      "------> Epoch 14 <------\n",
      "    Train CossEntrpy loss: 0.3988178417920705, Accuracy: 0.805712878704071\n",
      "    Val   CossEntrpy loss: 0.4089229534006422, Accuracy: 0.796675980091095\n",
      "    Epoch time: 0m 11s\n",
      "\n",
      "------> Epoch 15 <------\n",
      "    Train CossEntrpy loss: 0.39630958559653817, Accuracy: 0.806778073310852\n",
      "    Val   CossEntrpy loss: 0.40588026840216046, Accuracy: 0.7963772416114807\n",
      "    Epoch time: 0m 11s\n",
      "\n",
      "------> Epoch 16 <------\n",
      "    Train CossEntrpy loss: 0.39318716244239466, Accuracy: 0.8090689182281494\n",
      "    Val   CossEntrpy loss: 0.39970813245530346, Accuracy: 0.7965766787528992\n",
      "    Epoch time: 0m 11s\n",
      "\n",
      "------> Epoch 17 <------\n",
      "    Train CossEntrpy loss: 0.3933679228831711, Accuracy: 0.8089138269424438\n",
      "    Val   CossEntrpy loss: 0.3955880995768649, Accuracy: 0.7989650368690491\n",
      "    Epoch time: 0m 11s\n",
      "\n",
      "------> Epoch 18 <------\n",
      "    Train CossEntrpy loss: 0.3908264239779401, Accuracy: 0.8100531697273254\n",
      "    Val   CossEntrpy loss: 0.3989457562091244, Accuracy: 0.8020502328872681\n",
      "    Epoch time: 0m 10s\n",
      "\n",
      "------> Epoch 19 <------\n",
      "    Train CossEntrpy loss: 0.3904175442980202, Accuracy: 0.8108623027801514\n",
      "    Val   CossEntrpy loss: 0.39214898598421927, Accuracy: 0.8046379089355469\n",
      "    Epoch time: 0m 11s\n",
      "\n",
      "------> Epoch 20 <------\n",
      "    Train CossEntrpy loss: 0.39028427823138145, Accuracy: 0.8109816908836365\n",
      "    Val   CossEntrpy loss: 0.4673050317415008, Accuracy: 0.7107883095741272\n",
      "    Epoch time: 0m 10s\n",
      "\n",
      "------> Epoch 21 <------\n",
      "    Train CossEntrpy loss: 0.3888313621733442, Accuracy: 0.811025083065033\n",
      "    Val   CossEntrpy loss: 0.41620544472317766, Accuracy: 0.7748807072639465\n",
      "    Epoch time: 0m 11s\n",
      "\n",
      "------> Epoch 22 <------\n",
      "    Train CossEntrpy loss: 0.38772509818538775, Accuracy: 0.8113031387329102\n",
      "    Val   CossEntrpy loss: 0.4362704848787587, Accuracy: 0.7477111220359802\n",
      "    Epoch time: 0m 10s\n",
      "\n",
      "------> Epoch 23 <------\n",
      "    Train CossEntrpy loss: 0.3859191158625796, Accuracy: 0.8128183484077454\n",
      "    Val   CossEntrpy loss: 0.39155123349587645, Accuracy: 0.8090167045593262\n",
      "    Epoch time: 0m 11s\n",
      "\n",
      "------> Epoch 24 <------\n",
      "    Train CossEntrpy loss: 0.38482010249561355, Accuracy: 0.813136637210846\n",
      "    Val   CossEntrpy loss: 0.4164172084468187, Accuracy: 0.7716955542564392\n",
      "    Epoch time: 0m 11s\n",
      "\n",
      "------> Epoch 25 <------\n",
      "    Train CossEntrpy loss: 0.3842108544306027, Accuracy: 0.8136976361274719\n",
      "    Val   CossEntrpy loss: 0.39889072138033105, Accuracy: 0.7897093892097473\n",
      "    Epoch time: 0m 11s\n",
      "\n",
      "------> Epoch 26 <------\n",
      "    Train CossEntrpy loss: 0.3824397359781662, Accuracy: 0.8139004111289978\n",
      "    Val   CossEntrpy loss: 0.3899687253365851, Accuracy: 0.8012540340423584\n",
      "    Epoch time: 0m 11s\n",
      "\n",
      "------> Epoch 27 <------\n",
      "    Train CossEntrpy loss: 0.3822901206663084, Accuracy: 0.8134632110595703\n",
      "    Val   CossEntrpy loss: 0.40511406179825965, Accuracy: 0.783439576625824\n",
      "    Epoch time: 0m 11s\n",
      "\n",
      "------> Epoch 28 <------\n",
      "    Train CossEntrpy loss: 0.3801194797868802, Accuracy: 0.8151859641075134\n",
      "    Val   CossEntrpy loss: 0.4643388559484178, Accuracy: 0.7129776477813721\n",
      "    Epoch time: 0m 11s\n",
      "\n",
      "------> Epoch 29 <------\n",
      "    Train CossEntrpy loss: 0.37950916912930865, Accuracy: 0.8148594498634338\n",
      "    Val   CossEntrpy loss: 0.4029359263219651, Accuracy: 0.7857283353805542\n",
      "    Epoch time: 0m 11s\n",
      "\n",
      "------> Epoch 30 <------\n",
      "    Train CossEntrpy loss: 0.3797211006013238, Accuracy: 0.8153706789016724\n",
      "    Val   CossEntrpy loss: 0.4055623038179556, Accuracy: 0.7827427983283997\n",
      "    Epoch time: 0m 11s\n",
      "\n",
      "\n",
      "****************** Finished Training ******************\n",
      "Time elapsed for training: 5:21\n"
     ]
    }
   ],
   "source": [
    "for param in model.parameters():\n",
    "    param.requires_grad = True\n",
    "\n",
    "epochs = 30\n",
    "k_best_models = 4\n",
    "loss_history = {\"train\": [], \"val\": []}\n",
    "best_models_df = pd.DataFrame()\n",
    "\n",
    "start_training = time()\n",
    "for epoch in range(epochs):\n",
    "    start_epoch = time()\n",
    "    model.train()\n",
    "    loss_history[\"train\"].append(0)\n",
    "    accuracy = 0\n",
    "    for i, batch in enumerate(train_dataloader, 0):\n",
    "\n",
    "        # get the inputs; data is a list of [inputs, labels]\n",
    "        inputs, labels = batch\n",
    "\n",
    "        optimizer.zero_grad()\n",
    "        # Forward pass\n",
    "        y_pred = model(inputs)\n",
    "        # Compute Loss\n",
    "        loss = criterion(y_pred, labels)\n",
    "        \n",
    "        # Backward pass\n",
    "        loss.backward()\n",
    "        optimizer.step()\n",
    "        loss_history[\"train\"][epoch] += loss.item()/len(train_dataloader)\n",
    "        accuracy += ((y_pred > 0.5) == labels).sum()/labels.size(0)/len(train_dataloader)\n",
    "\n",
    "    print(f\"\\n------> Epoch {epoch+1} <------\\n    Train CossEntrpy loss: {loss_history['train'][epoch]}, Accuracy: {accuracy}\")\n",
    "    \n",
    "    model.eval()\n",
    "    loss_history[\"val\"].append(0)\n",
    "    accuracy = 0\n",
    "    for i, batch in enumerate(val_dataloader, 0):\n",
    "        # get the inputs; data is a list of [inputs, labels]\n",
    "        inputs, labels = batch\n",
    "        with torch.no_grad():\n",
    "            y_pred = model(inputs)\n",
    "\n",
    "        # forward + backward + optimize\n",
    "        loss_history[\"val\"][epoch] += criterion(y_pred, labels).item()/len(val_dataloader)\n",
    "        accuracy += ((y_pred > 0.5) == labels).sum()/labels.size(0)/len(val_dataloader)\n",
    "\n",
    "    print(f\"    Val   CossEntrpy loss: {loss_history['val'][epoch]}, Accuracy: {accuracy}\")\n",
    "\n",
    "    # check for overfitting:\n",
    "    early_stopping_steps = 5\n",
    "    if len(loss_history[\"val\"]) > 4 and \\\n",
    "            all(map(lambda x: x[0]<x[1], zip(loss_history[\"val\"][-(early_stopping_steps)-1:-1], loss_history[\"val\"][-(early_stopping_steps):]))) and \\\n",
    "            all(map(lambda x: x[0]>x[1], zip(loss_history[\"train\"][-(early_stopping_steps)-1:-1], loss_history[\"train\"][-(early_stopping_steps):]))):\n",
    "        break\n",
    "\n",
    "    best_models_df = best_models_df.append({\"loss\": loss_history[\"val\"][epoch], \"epoch\": epoch, \"state_dict\": model.state_dict()}, ignore_index=True).sort_values(\"loss\", ignore_index=True).head(k_best_models)\n",
    "\n",
    "    scheduler.step()\n",
    "    print(f\"    Epoch time: {round((time()-start_epoch)//60)}m {round((time()-start_epoch)%60)}s\")\n",
    "\n",
    "print('\\n\\n****************** Finished Training ******************')\n",
    "print(f\"Time elapsed for training: {round((time()-start_training)//60)}:{round((time()-start_training)%60)}\")"
   ]
  },
  {
   "cell_type": "code",
   "execution_count": 12,
   "metadata": {
    "colab": {
     "base_uri": "https://localhost:8080/",
     "height": 295
    },
    "executionInfo": {
     "elapsed": 621,
     "status": "ok",
     "timestamp": 1626534980448,
     "user": {
      "displayName": "dario ruggeri",
      "photoUrl": "",
      "userId": "00605556345834424824"
     },
     "user_tz": -120
    },
    "id": "WAB4zfUsFqNR",
    "outputId": "2a2f71fb-28b0-4ff6-da7d-1eb7ac4401d0"
   },
   "outputs": [
    {
     "data": {
      "image/png": "[encoded data removed]",
      "text/plain": [
       "<Figure size 432x288 with 1 Axes>"
      ]
     },
     "metadata": {
      "needs_background": "light"
     },
     "output_type": "display_data"
    }
   ],
   "source": [
    "plt.title(\"Loss during gradient descent\")\n",
    "plt.plot(range(epochs), loss_history[\"train\"], label=\"train\", color=\"darkred\")\n",
    "plt.plot(range(epochs), loss_history[\"val\"], label=\"vall\", color=\"blue\")\n",
    "for i, best_epoch in best_models_df[\"epoch\"].iteritems():\n",
    "    plt.axvline(best_epoch, ls=\"--\", label=\"best models\" if i==0 else None, color=\"green\")\n",
    "plt.legend()\n",
    "plt.ylabel(\"Loss\")\n",
    "plt.xlabel(\"Epochs\")\n",
    "plt.show()"
   ]
  },
  {
   "cell_type": "markdown",
   "metadata": {
    "id": "wBNcs8UUUW2l"
   },
   "source": [
    "## Testing the Best Models"
   ]
  },
  {
   "cell_type": "code",
   "execution_count": 13,
   "metadata": {
    "colab": {
     "base_uri": "https://localhost:8080/"
    },
    "executionInfo": {
     "elapsed": 2184,
     "status": "ok",
     "timestamp": 1626535218542,
     "user": {
      "displayName": "dario ruggeri",
      "photoUrl": "",
      "userId": "00605556345834424824"
     },
     "user_tz": -120
    },
    "id": "-Vkh542qQ1US",
    "outputId": "a22a30f0-b78c-41df-9276-5d62804e323d"
   },
   "outputs": [],
   "source": [
    "model.eval()\n",
    "test_accuracies = []\n",
    "start_tests = time()\n",
    "for index, (epoch, state_dict) in best_models_df[[\"epoch\", \"state_dict\"]].iterrows():\n",
    "    model.load_state_dict(state_dict)\n",
    "\n",
    "    test_y_pred = []\n",
    "    test_y_true = []\n",
    "    start = time()\n",
    "    for i, batch in enumerate(test_dataloader, 0):\n",
    "        # get the inputs; data is a list of [inputs, labels]\n",
    "        inputs, labels = batch\n",
    "        with torch.no_grad():\n",
    "            outputs = model(inputs)\n",
    "\n",
    "        test_y_pred.append(outputs)\n",
    "        test_y_true.append(labels)\n",
    "\n",
    "    test_y_pred = torch.cat(test_y_pred)\n",
    "    test_y_true = torch.cat(test_y_true)\n",
    "    loss = (criterion(test_y_pred, test_y_true).sqrt().mean(dim=0)).item()\n",
    "    accuracy = ((test_y_pred > 0.5) == test_y_true).sum()/test_y_true.size(0)\n",
    "\n",
    "    test_accuracies.append(accuracy.item())\n",
    "\n",
    "    #print(f'------> Tested model {index}, saved at epoch {epoch} <------')\n",
    "    #print(f\"    Test   CossEntrpy loss: {loss}, Accuracy: {accuracy}\")\n",
    "    #print(f\"    in {time()-start} seconds \\n\")\n",
    "\n",
    "#print(f'\\n****************** Finished Testing for all the models ******************')\n",
    "#print(f\"Time elapsed for testing: {round((time()-start_tests)//60)}:{round((time()-start_tests)%60)}\")\n",
    "best_models_df[\"test_acc\"] = test_accuracies"
   ]
  },
  {
   "cell_type": "code",
   "execution_count": 14,
   "metadata": {
    "colab": {
     "base_uri": "https://localhost:8080/",
     "height": 172
    },
    "executionInfo": {
     "elapsed": 562,
     "status": "ok",
     "timestamp": 1626535236710,
     "user": {
      "displayName": "dario ruggeri",
      "photoUrl": "",
      "userId": "00605556345834424824"
     },
     "user_tz": -120
    },
    "id": "0NxbwDzdR5J0",
    "outputId": "7b002c07-3d04-40f7-f895-1cc73000eed3"
   },
   "outputs": [
    {
     "data": {
      "text/html": [
       "<div>\n",
       "<style scoped>\n",
       "    .dataframe tbody tr th:only-of-type {\n",
       "        vertical-align: middle;\n",
       "    }\n",
       "\n",
       "    .dataframe tbody tr th {\n",
       "        vertical-align: top;\n",
       "    }\n",
       "\n",
       "    .dataframe thead th {\n",
       "        text-align: right;\n",
       "    }\n",
       "</style>\n",
       "<table border=\"1\" class=\"dataframe\">\n",
       "  <thead>\n",
       "    <tr style=\"text-align: right;\">\n",
       "      <th></th>\n",
       "      <th>epoch</th>\n",
       "      <th>loss</th>\n",
       "      <th>test_acc</th>\n",
       "    </tr>\n",
       "  </thead>\n",
       "  <tbody>\n",
       "    <tr>\n",
       "      <th>0</th>\n",
       "      <td>11.0</td>\n",
       "      <td>0.389418</td>\n",
       "      <td>0.7855</td>\n",
       "    </tr>\n",
       "    <tr>\n",
       "      <th>1</th>\n",
       "      <td>25.0</td>\n",
       "      <td>0.389969</td>\n",
       "      <td>0.7855</td>\n",
       "    </tr>\n",
       "    <tr>\n",
       "      <th>2</th>\n",
       "      <td>22.0</td>\n",
       "      <td>0.391551</td>\n",
       "      <td>0.7855</td>\n",
       "    </tr>\n",
       "    <tr>\n",
       "      <th>3</th>\n",
       "      <td>18.0</td>\n",
       "      <td>0.392149</td>\n",
       "      <td>0.7855</td>\n",
       "    </tr>\n",
       "  </tbody>\n",
       "</table>\n",
       "</div>"
      ],
      "text/plain": [
       "   epoch      loss  test_acc\n",
       "0   11.0  0.389418    0.7855\n",
       "1   25.0  0.389969    0.7855\n",
       "2   22.0  0.391551    0.7855\n",
       "3   18.0  0.392149    0.7855"
      ]
     },
     "execution_count": 14,
     "metadata": {},
     "output_type": "execute_result"
    }
   ],
   "source": [
    "best_models_df = best_models_df.sort_values(by=\"test_acc\", ascending=False, ignore_index=True)\n",
    "torch.save(best_models_df.loc[0, \"state_dict\"], join(checkpoints, f\"model_with_acc_{str(best_models_df.loc[0, 'test_acc'])[2:7]}.pt\"))\n",
    "best_models_df.drop(columns=\"state_dict\")"
   ]
  },
  {
   "cell_type": "code",
   "execution_count": 15,
   "metadata": {
    "colab": {
     "base_uri": "https://localhost:8080/",
     "height": 295
    },
    "executionInfo": {
     "elapsed": 766,
     "status": "ok",
     "timestamp": 1626535242125,
     "user": {
      "displayName": "dario ruggeri",
      "photoUrl": "",
      "userId": "00605556345834424824"
     },
     "user_tz": -120
    },
    "id": "_EpO7bPlK0Aq",
    "outputId": "755e8fc6-5d47-4303-ade5-af3bd6c32f40"
   },
   "outputs": [
    {
     "data": {
      "image/png": "[encoded data removed]",
      "text/plain": [
       "<Figure size 432x288 with 2 Axes>"
      ]
     },
     "metadata": {
      "needs_background": "light"
     },
     "output_type": "display_data"
    }
   ],
   "source": [
    "conf_mat = confusion_matrix(test_y_true, (test_y_pred.numpy() > 0.5)*1, normalize=\"true\")\n",
    "ax = sns.heatmap(conf_mat, linewidth=0.5, xticklabels=['failed', 'successful'], yticklabels=['failed', 'successful'], cmap='Greens', annot=True)\n",
    "plt.title(\"Confusion Matrix\")\n",
    "plt.xlabel(\"True\")\n",
    "plt.ylabel(\"Pred\")\n",
    "plt.show()"
   ]
  },
  {
   "cell_type": "code",
   "execution_count": null,
   "metadata": {
    "id": "299zBJVIDjP5"
   },
   "outputs": [],
   "source": []
  }
 ],
 "metadata": {
  "accelerator": "GPU",
  "colab": {
   "collapsed_sections": [],
   "name": "neural_network_classification.ipynb",
   "provenance": []
  },
  "kernelspec": {
   "display_name": "Python 3",
   "language": "python",
   "name": "python3"
  },
  "language_info": {
   "codemirror_mode": {
    "name": "ipython",
    "version": 3
   },
   "file_extension": ".py",
   "mimetype": "text/x-python",
   "name": "python",
   "nbconvert_exporter": "python",
   "pygments_lexer": "ipython3",
   "version": "3.8.3"
  }
 },
 "nbformat": 4,
 "nbformat_minor": 1
}
