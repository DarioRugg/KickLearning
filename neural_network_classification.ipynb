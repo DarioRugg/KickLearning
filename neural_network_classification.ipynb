{
 "cells": [
  {
   "cell_type": "markdown",
   "metadata": {
    "id": "5T84yzda1pNq"
   },
   "source": [
    "# Notebook for creating the TfIdf Embeddings of the Story feature"
   ]
  },
  {
   "cell_type": "markdown",
   "metadata": {
    "id": "9mZZQREb1hFN"
   },
   "source": [
    "## Setup"
   ]
  },
  {
   "cell_type": "code",
   "execution_count": 1,
   "metadata": {
    "colab": {
     "base_uri": "https://localhost:8080/"
    },
    "executionInfo": {
     "elapsed": 15750,
     "status": "ok",
     "timestamp": 1626534548447,
     "user": {
      "displayName": "dario ruggeri",
      "photoUrl": "",
      "userId": "00605556345834424824"
     },
     "user_tz": -120
    },
    "id": "8oJX9iE6qaSA",
    "outputId": "913f8277-f9a8-44ea-dd04-84413d37d489"
   },
   "outputs": [
    {
     "name": "stdout",
     "output_type": "stream",
     "text": [
      "Mounted at /content/drive\n"
     ]
    }
   ],
   "source": [
    "from google.colab import drive\n",
    "drive.mount('/content/drive')"
   ]
  },
  {
   "cell_type": "code",
   "execution_count": 2,
   "metadata": {
    "colab": {
     "base_uri": "https://localhost:8080/"
    },
    "executionInfo": {
     "elapsed": 12,
     "status": "ok",
     "timestamp": 1626534548448,
     "user": {
      "displayName": "dario ruggeri",
      "photoUrl": "",
      "userId": "00605556345834424824"
     },
     "user_tz": -120
    },
    "id": "Q1IyzZ1AqaFk",
    "outputId": "2f410d81-0576-4f9a-cda3-c00ef823aa80"
   },
   "outputs": [
    {
     "name": "stdout",
     "output_type": "stream",
     "text": [
      "/content/drive/.shortcut-targets-by-id/1iWelwZQ6yutjZacqvhb1xSPIvi_nlIiH/Project/KickLearning\n"
     ]
    }
   ],
   "source": [
    "%cd /content/drive/MyDrive/Project/KickLearning/"
   ]
  },
  {
   "cell_type": "markdown",
   "metadata": {
    "id": "zXV2OqA4WcDi"
   },
   "source": [
    "Lybraries"
   ]
  },
  {
   "cell_type": "code",
   "execution_count": 3,
   "metadata": {
    "colab": {
     "base_uri": "https://localhost:8080/"
    },
    "collapsed": true,
    "executionInfo": {
     "elapsed": 4785,
     "status": "ok",
     "timestamp": 1626534637217,
     "user": {
      "displayName": "dario ruggeri",
      "photoUrl": "",
      "userId": "00605556345834424824"
     },
     "user_tz": -120
    },
    "id": "CNlcKcN9pBHx",
    "outputId": "106aebea-11fc-4d63-de2d-e6050a84a6c8"
   },
   "outputs": [
    {
     "data": {
      "text/plain": [
       "<torch._C.Generator at 0x7fd8142dbe10>"
      ]
     },
     "execution_count": 3,
     "metadata": {
      "tags": []
     },
     "output_type": "execute_result"
    }
   ],
   "source": [
    "from os.path import join\n",
    "import pandas as pd\n",
    "import numpy as np\n",
    "import matplotlib.pyplot as plt\n",
    "import torch\n",
    "from torch import nn, optim\n",
    "from torch.utils.data import Dataset, DataLoader, TensorDataset\n",
    "from time import time\n",
    "import sklearn\n",
    "import re\n",
    "import pandas as pd\n",
    "import numpy as np\n",
    "from sklearn.preprocessing import StandardScaler\n",
    "from sklearn.model_selection import train_test_split\n",
    "from sklearn.metrics import confusion_matrix\n",
    "import sklearn\n",
    "import seaborn as sns\n",
    "\n",
    "torch.manual_seed(0)"
   ]
  },
  {
   "cell_type": "markdown",
   "metadata": {
    "id": "9Gmp3FJ7xVv0"
   },
   "source": [
    "### Loading the Dataset"
   ]
  },
  {
   "cell_type": "code",
   "execution_count": 4,
   "metadata": {
    "executionInfo": {
     "elapsed": 225,
     "status": "ok",
     "timestamp": 1626534646186,
     "user": {
      "displayName": "dario ruggeri",
      "photoUrl": "",
      "userId": "00605556345834424824"
     },
     "user_tz": -120
    },
    "id": "Ia5vDFghpBH2"
   },
   "outputs": [],
   "source": [
    "data_path = join(\".\", \"data\")\n",
    "checkpoints = join(\".\", \"logs\", \"checkpoints_nn_classification\")"
   ]
  },
  {
   "cell_type": "code",
   "execution_count": 5,
   "metadata": {
    "executionInfo": {
     "elapsed": 6524,
     "status": "ok",
     "timestamp": 1626534653846,
     "user": {
      "displayName": "dario ruggeri",
      "photoUrl": "",
      "userId": "00605556345834424824"
     },
     "user_tz": -120
    },
    "id": "XfCwDwesxDHa"
   },
   "outputs": [],
   "source": [
    "data = pd.read_csv(join(data_path, \"final_dataset.csv\"))\n",
    "data = data[data['state'].isin(['successful', 'failed'])]"
   ]
  },
  {
   "cell_type": "code",
   "execution_count": 6,
   "metadata": {
    "executionInfo": {
     "elapsed": 2099,
     "status": "ok",
     "timestamp": 1626534655940,
     "user": {
      "displayName": "dario ruggeri",
      "photoUrl": "",
      "userId": "00605556345834424824"
     },
     "user_tz": -120
    },
    "id": "_jfTtBFWxfMo"
   },
   "outputs": [],
   "source": [
    "def fun(j):\n",
    "    return re.findall(r'\\'(\\b\\w+\\b)\\'', j) + list(map(lambda x: x[0]+\" \" +x[1], re.findall(r\"\\\"(\\w+).*?(\\w \\w+)\\\"\", j)))\n",
    "\n",
    "data['category'] = data['category'].apply(fun)\n",
    "data['sub_category'] = data['sub_category'].apply(fun)\n",
    "data['category_2'] = data['category'].apply(lambda x: str(x[1]) if len(x)>1 else 'No category')\n",
    "#data['category_3'] = data['category'].apply(lambda x: str(x[2]) if len(x)>2 else 'No category')\n",
    "data['category'] = data['category'].apply(lambda x: str(x[0]) if len(x)>0 else 'No category')\n",
    "data['sub_category'] = data['sub_category'].apply(lambda x: x[0] if len(x)>0 else 'No sub_category')\n",
    "\n",
    "data['duration'] = data['deadline']-data['launched_at']\n",
    "data['usd_goal'] = data['goal']*data['fx_rate']\n",
    "data['state'] = data['state'].apply(lambda x: 1 if x=='successful' else 0)\n",
    "# data = data[data['usd_pledged'] >= 1]"
   ]
  },
  {
   "cell_type": "code",
   "execution_count": 7,
   "metadata": {
    "executionInfo": {
     "elapsed": 749,
     "status": "ok",
     "timestamp": 1626534656685,
     "user": {
      "displayName": "dario ruggeri",
      "photoUrl": "",
      "userId": "00605556345834424824"
     },
     "user_tz": -120
    },
    "id": "8-xOsOnG-93w"
   },
   "outputs": [],
   "source": [
    "# simplest feature work\n",
    "#data['currency'] = data['currency'].astype('category').cat.codes\n",
    "#data['country'] = data['country'].astype('category').cat.codes\n",
    "#data['category'] = data['category'].astype('category').cat.codes\n",
    "#data['sub_category'] = data['sub_category'].astype('category').cat.codes\n",
    "\n",
    "data_class = data.drop(columns=['id', 'project_url', 'image', 'goal', 'fx_rate', 'state', 'launched_at', 'deadline'])\n",
    "data = data.drop(columns=['id', 'project_url', 'image', 'goal', 'fx_rate', 'launched_at', 'deadline', 'usd_pledged'])\n",
    "\n",
    "#data_class = data_class.drop(columns=[i for i in data.columns if 'historical' in i])\n",
    "data_class = data_class.dropna(axis = 0, how ='any')\n",
    "\n",
    "#data = data.drop(columns=[i for i in data.columns if 'historical' in i])\n",
    "data = data.dropna(axis = 0, how ='any')"
   ]
  },
  {
   "cell_type": "markdown",
   "metadata": {
    "id": "g2o8lc6k9AVM"
   },
   "source": [
    "## Balancing calsses"
   ]
  },
  {
   "cell_type": "code",
   "execution_count": 10,
   "metadata": {
    "executionInfo": {
     "elapsed": 226,
     "status": "ok",
     "timestamp": 1626534776837,
     "user": {
      "displayName": "dario ruggeri",
      "photoUrl": "",
      "userId": "00605556345834424824"
     },
     "user_tz": -120
    },
    "id": "ptKXOXa7N2RO"
   },
   "outputs": [],
   "source": [
    "train_df, test_df, train_target, test_target =  train_test_split(data.drop(columns=['state']), \n",
    "                                                                     data['state'],\n",
    "                                                                     test_size=0.2, random_state=1234)"
   ]
  },
  {
   "cell_type": "code",
   "execution_count": 11,
   "metadata": {
    "executionInfo": {
     "elapsed": 3,
     "status": "ok",
     "timestamp": 1626534777794,
     "user": {
      "displayName": "dario ruggeri",
      "photoUrl": "",
      "userId": "00605556345834424824"
     },
     "user_tz": -120
    },
    "id": "vzXOD4jj6pXW"
   },
   "outputs": [],
   "source": [
    "oversample_df = train_df[train_target==0].sample(n=(train_target==1).sum()-(train_target==0).sum(), replace=True)\n",
    "oversample_target = pd.Series(np.zeros(len(oversample_df)))"
   ]
  },
  {
   "cell_type": "code",
   "execution_count": 12,
   "metadata": {
    "executionInfo": {
     "elapsed": 355,
     "status": "ok",
     "timestamp": 1626534779121,
     "user": {
      "displayName": "dario ruggeri",
      "photoUrl": "",
      "userId": "00605556345834424824"
     },
     "user_tz": -120
    },
    "id": "9l6oXUgH8ivV"
   },
   "outputs": [],
   "source": [
    "train_df = train_df.append(oversample_df)\n",
    "train_target = train_target.append(oversample_target)"
   ]
  },
  {
   "cell_type": "markdown",
   "metadata": {
    "id": "TTfG4s16LX1h"
   },
   "source": [
    "## Scaling the dataset"
   ]
  },
  {
   "cell_type": "code",
   "execution_count": 13,
   "metadata": {
    "executionInfo": {
     "elapsed": 233,
     "status": "ok",
     "timestamp": 1626534784047,
     "user": {
      "displayName": "dario ruggeri",
      "photoUrl": "",
      "userId": "00605556345834424824"
     },
     "user_tz": -120
    },
    "id": "TsmIHEd7OI84"
   },
   "outputs": [],
   "source": [
    "num_cols = train_df.columns[train_df.dtypes.apply(lambda c: np.issubdtype(c, np.number))]"
   ]
  },
  {
   "cell_type": "code",
   "execution_count": 14,
   "metadata": {
    "executionInfo": {
     "elapsed": 2117,
     "status": "ok",
     "timestamp": 1626534787149,
     "user": {
      "displayName": "dario ruggeri",
      "photoUrl": "",
      "userId": "00605556345834424824"
     },
     "user_tz": -120
    },
    "id": "yuHoMr1aOdKw"
   },
   "outputs": [],
   "source": [
    "scaler = StandardScaler()\n",
    "train_df[num_cols] = scaler.fit_transform(train_df[num_cols])\n",
    "test_df[num_cols] = scaler.transform(test_df[num_cols])"
   ]
  },
  {
   "cell_type": "code",
   "execution_count": 15,
   "metadata": {
    "executionInfo": {
     "elapsed": 561,
     "status": "ok",
     "timestamp": 1626534787945,
     "user": {
      "displayName": "dario ruggeri",
      "photoUrl": "",
      "userId": "00605556345834424824"
     },
     "user_tz": -120
    },
    "id": "8Iu3igqlOxe3"
   },
   "outputs": [],
   "source": [
    "train_reg_X, test_reg_X, train_reg_y, test_reg_y = train_df.to_numpy(), test_df.to_numpy(), train_target.to_numpy(), test_target.to_numpy()"
   ]
  },
  {
   "cell_type": "markdown",
   "metadata": {
    "id": "dusKUdtGLcJI"
   },
   "source": [
    "## Encoding categorical the features"
   ]
  },
  {
   "cell_type": "code",
   "execution_count": 16,
   "metadata": {
    "executionInfo": {
     "elapsed": 8127,
     "status": "ok",
     "timestamp": 1626534814169,
     "user": {
      "displayName": "dario ruggeri",
      "photoUrl": "",
      "userId": "00605556345834424824"
     },
     "user_tz": -120
    },
    "id": "Qo4mAmrt_IO9"
   },
   "outputs": [],
   "source": [
    "arr = train_reg_X.copy() \n",
    "categorical_feat = train_df.columns[train_df.dtypes.apply(lambda c: not np.issubdtype(c, np.bool) and not np.issubdtype(c, np.number))]\n",
    "categorical_features = [i for i,col in enumerate(data.drop(columns=['state']).columns) if col in categorical_feat]\n",
    "categorical_names = {}\n",
    "for feature in categorical_features:\n",
    "    le = sklearn.preprocessing.LabelEncoder()\n",
    "    #print(feature)\n",
    "    le.fit(np.array(data.drop(columns=['state']))[:, feature])\n",
    "    train_reg_X[:, feature] = le.transform(train_reg_X[:, feature])\n",
    "    test_reg_X[:, feature] = le.transform(test_reg_X[:, feature])\n",
    "    #print(le.classes_)\n",
    "    categorical_names[feature] = le.classes_\n",
    "\n",
    "for k, v in categorical_names.items():\n",
    "    categorical_names[k] = list(arr[:, k])"
   ]
  },
  {
   "cell_type": "code",
   "execution_count": 17,
   "metadata": {
    "executionInfo": {
     "elapsed": 629,
     "status": "ok",
     "timestamp": 1626534814794,
     "user": {
      "displayName": "dario ruggeri",
      "photoUrl": "",
      "userId": "00605556345834424824"
     },
     "user_tz": -120
    },
    "id": "rgUcuRI6_WLq"
   },
   "outputs": [],
   "source": [
    "train_x, val_x, train_y, val_y = train_test_split(train_reg_X, train_reg_y, test_size=0.2, random_state=1234)"
   ]
  },
  {
   "cell_type": "code",
   "execution_count": 18,
   "metadata": {
    "executionInfo": {
     "elapsed": 8,
     "status": "ok",
     "timestamp": 1626534814794,
     "user": {
      "displayName": "dario ruggeri",
      "photoUrl": "",
      "userId": "00605556345834424824"
     },
     "user_tz": -120
    },
    "id": "GeybEv4pBfmq"
   },
   "outputs": [],
   "source": [
    "test_x, test_y = test_reg_X, test_reg_y"
   ]
  },
  {
   "cell_type": "code",
   "execution_count": 19,
   "metadata": {
    "executionInfo": {
     "elapsed": 316,
     "status": "ok",
     "timestamp": 1626534815893,
     "user": {
      "displayName": "dario ruggeri",
      "photoUrl": "",
      "userId": "00605556345834424824"
     },
     "user_tz": -120
    },
    "id": "GXH4myMD6yGB"
   },
   "outputs": [],
   "source": [
    "train_dataset = TensorDataset(torch.Tensor(train_x.astype(\"float32\")), torch.Tensor(train_y.astype(\"float32\")))\n",
    "val_dataset = TensorDataset(torch.Tensor(val_x.astype(\"float32\")), torch.Tensor(val_y.astype(\"float32\")))\n",
    "test_dataset = TensorDataset(torch.Tensor(test_x.astype(\"float32\")), torch.Tensor(test_y.astype(\"float32\")))\n",
    "\n",
    "train_dataloader = DataLoader(dataset=train_dataset, batch_size=128, shuffle=True)\n",
    "val_dataloader = DataLoader(dataset=val_dataset, batch_size=64)\n",
    "test_dataloader = DataLoader(dataset=test_dataset, batch_size=64)"
   ]
  },
  {
   "cell_type": "markdown",
   "metadata": {
    "id": "LxKY0xtFsZjU"
   },
   "source": [
    "## Embedding Data"
   ]
  },
  {
   "cell_type": "code",
   "execution_count": 20,
   "metadata": {
    "executionInfo": {
     "elapsed": 3,
     "status": "ok",
     "timestamp": 1626534816218,
     "user": {
      "displayName": "dario ruggeri",
      "photoUrl": "",
      "userId": "00605556345834424824"
     },
     "user_tz": -120
    },
    "id": "4nYzeAKupBH3"
   },
   "outputs": [],
   "source": [
    "class DeepRegressor(nn.Module):\n",
    "        def __init__(self, input_size, hidden_size, n_hidden_layers=5):\n",
    "            super(DeepRegressor, self).__init__()\n",
    "            self.input_size = input_size\n",
    "            self.hidden_size  = hidden_size\n",
    "            self.num_hidden_layers = n_hidden_layers\n",
    "\n",
    "\n",
    "            self.first_layer = nn.Sequential(nn.Linear(self.input_size, self.hidden_size),\n",
    "                                             nn.BatchNorm1d(self.hidden_size),\n",
    "                                             nn.ReLU(),\n",
    "                                             nn.Dropout(0.01))\n",
    "\n",
    "            self.hidden_layers = nn.Sequential()\n",
    "            for _ in range(self.num_hidden_layers):\n",
    "                self.hidden_layers.add_module(\"linear\", nn.Linear(self.hidden_size, self.hidden_size))\n",
    "                self.hidden_layers.add_module(\"batch_norm\", nn.BatchNorm1d(self.hidden_size))\n",
    "                self.hidden_layers.add_module(\"activation\", nn.ReLU())\n",
    "                self.hidden_layers.add_module(\"dropout\", nn.Dropout(0.01))\n",
    "            \n",
    "            self.last_layer1 = nn.Sequential(nn.Linear(self.hidden_size, int(self.hidden_size/2)),\n",
    "                                             nn.BatchNorm1d(int(self.hidden_size/2)),\n",
    "                                             nn.ReLU(),\n",
    "                                             nn.Dropout(0.01))\n",
    "            self.last_layer2 = nn.Linear(int(self.hidden_size/2), 1)\n",
    "\n",
    "        def forward(self, x):\n",
    "            hidden_state = self.first_layer(x)\n",
    "            x = self.hidden_layers(hidden_state)\n",
    "            x = self.last_layer1(x)\n",
    "            output = self.last_layer2(x)\n",
    "            return output.squeeze(1)"
   ]
  },
  {
   "cell_type": "code",
   "execution_count": 21,
   "metadata": {
    "executionInfo": {
     "elapsed": 236,
     "status": "ok",
     "timestamp": 1626534831351,
     "user": {
      "displayName": "dario ruggeri",
      "photoUrl": "",
      "userId": "00605556345834424824"
     },
     "user_tz": -120
    },
    "id": "knimHOPz1M-y"
   },
   "outputs": [],
   "source": [
    "model = DeepRegressor(train_x.shape[1], 32, n_hidden_layers=4)\n",
    "\n",
    "criterion = nn.BCEWithLogitsLoss()\n",
    "optimizer = optim.Adam(model.parameters(), lr = 0.002)\n",
    "scheduler = optim.lr_scheduler.MultiStepLR(optimizer, milestones=[5, 10, 15], gamma=0.5)"
   ]
  },
  {
   "cell_type": "code",
   "execution_count": 22,
   "metadata": {
    "colab": {
     "base_uri": "https://localhost:8080/"
    },
    "executionInfo": {
     "elapsed": 143045,
     "status": "ok",
     "timestamp": 1626534975429,
     "user": {
      "displayName": "dario ruggeri",
      "photoUrl": "",
      "userId": "00605556345834424824"
     },
     "user_tz": -120
    },
    "id": "GdqYmAtl1goL",
    "outputId": "b624b7c4-04b4-4943-fa0c-b385350022ff"
   },
   "outputs": [
    {
     "name": "stdout",
     "output_type": "stream",
     "text": [
      "\n",
      "------> Epoch 1 <------\n",
      "    Train CossEntrpy loss: 0.45880366422453567, Accuracy: 0.7666690945625305\n",
      "    Val   CossEntrpy loss: 0.4363066151178597, Accuracy: 0.7647488117218018\n",
      "    Epoch time: 0m 5s\n",
      "\n",
      "------> Epoch 2 <------\n",
      "    Train CossEntrpy loss: 0.4245222008816889, Accuracy: 0.791474461555481\n",
      "    Val   CossEntrpy loss: 0.41560283659728064, Accuracy: 0.7887860536575317\n",
      "    Epoch time: 0m 4s\n",
      "\n",
      "------> Epoch 3 <------\n",
      "    Train CossEntrpy loss: 0.4144845502930317, Accuracy: 0.7959136366844177\n",
      "    Val   CossEntrpy loss: 0.40496553113795425, Accuracy: 0.801994800567627\n",
      "    Epoch time: 0m 4s\n",
      "\n",
      "------> Epoch 4 <------\n",
      "    Train CossEntrpy loss: 0.4085171051914064, Accuracy: 0.7995158433914185\n",
      "    Val   CossEntrpy loss: 0.4086457349163104, Accuracy: 0.7987682819366455\n",
      "    Epoch time: 0m 5s\n",
      "\n",
      "------> Epoch 5 <------\n",
      "    Train CossEntrpy loss: 0.40414875130245553, Accuracy: 0.8009608387947083\n",
      "    Val   CossEntrpy loss: 0.4077815266535912, Accuracy: 0.8125606179237366\n",
      "    Epoch time: 0m 5s\n",
      "\n",
      "------> Epoch 6 <------\n",
      "    Train CossEntrpy loss: 0.39478147962494553, Accuracy: 0.8066390156745911\n",
      "    Val   CossEntrpy loss: 0.38839787733903036, Accuracy: 0.8155815005302429\n",
      "    Epoch time: 0m 5s\n",
      "\n",
      "------> Epoch 7 <------\n",
      "    Train CossEntrpy loss: 0.39274687873347336, Accuracy: 0.8077433109283447\n",
      "    Val   CossEntrpy loss: 0.3898029146257463, Accuracy: 0.8079365491867065\n",
      "    Epoch time: 0m 5s\n",
      "\n",
      "------> Epoch 8 <------\n",
      "    Train CossEntrpy loss: 0.38915046506531603, Accuracy: 0.8091641664505005\n",
      "    Val   CossEntrpy loss: 0.38752852856947095, Accuracy: 0.8167986273765564\n",
      "    Epoch time: 0m 5s\n",
      "\n",
      "------> Epoch 9 <------\n",
      "    Train CossEntrpy loss: 0.38644394123089976, Accuracy: 0.811149537563324\n",
      "    Val   CossEntrpy loss: 0.3845468015722177, Accuracy: 0.8103179931640625\n",
      "    Epoch time: 0m 5s\n",
      "\n",
      "------> Epoch 10 <------\n",
      "    Train CossEntrpy loss: 0.3833992861739786, Accuracy: 0.8123674988746643\n",
      "    Val   CossEntrpy loss: 0.38290634264286044, Accuracy: 0.8168419003486633\n",
      "    Epoch time: 0m 4s\n",
      "\n",
      "------> Epoch 11 <------\n",
      "    Train CossEntrpy loss: 0.37751470708258456, Accuracy: 0.8151254057884216\n",
      "    Val   CossEntrpy loss: 0.38665051171776343, Accuracy: 0.8199974894523621\n",
      "    Epoch time: 0m 5s\n",
      "\n",
      "------> Epoch 12 <------\n",
      "    Train CossEntrpy loss: 0.37390308480020706, Accuracy: 0.8171856999397278\n",
      "    Val   CossEntrpy loss: 0.37962599328728175, Accuracy: 0.8129038214683533\n",
      "    Epoch time: 0m 5s\n",
      "\n",
      "------> Epoch 13 <------\n",
      "    Train CossEntrpy loss: 0.3738985281536084, Accuracy: 0.8177140355110168\n",
      "    Val   CossEntrpy loss: 0.37850319114364794, Accuracy: 0.8166896104812622\n",
      "    Epoch time: 0m 5s\n",
      "\n",
      "------> Epoch 14 <------\n",
      "    Train CossEntrpy loss: 0.373276550773536, Accuracy: 0.8178493976593018\n",
      "    Val   CossEntrpy loss: 0.3788612163282397, Accuracy: 0.8132099509239197\n",
      "    Epoch time: 0m 5s\n",
      "\n",
      "------> Epoch 15 <------\n",
      "    Train CossEntrpy loss: 0.37199992631589324, Accuracy: 0.8186926245689392\n",
      "    Val   CossEntrpy loss: 0.38216923954423826, Accuracy: 0.806084930896759\n",
      "    Epoch time: 0m 5s\n",
      "\n",
      "------> Epoch 16 <------\n",
      "    Train CossEntrpy loss: 0.3688801700075748, Accuracy: 0.8193200826644897\n",
      "    Val   CossEntrpy loss: 0.37559760383670987, Accuracy: 0.8148660063743591\n",
      "    Epoch time: 0m 5s\n",
      "\n",
      "------> Epoch 17 <------\n",
      "    Train CossEntrpy loss: 0.368212945666035, Accuracy: 0.8202834129333496\n",
      "    Val   CossEntrpy loss: 0.384884978555174, Accuracy: 0.7999587655067444\n",
      "    Epoch time: 0m 5s\n",
      "\n",
      "------> Epoch 18 <------\n",
      "    Train CossEntrpy loss: 0.3675846746903803, Accuracy: 0.8205538392066956\n",
      "    Val   CossEntrpy loss: 0.36482067348147973, Accuracy: 0.823474645614624\n",
      "    Epoch time: 0m 5s\n",
      "\n",
      "------> Epoch 19 <------\n",
      "    Train CossEntrpy loss: 0.3686017266297214, Accuracy: 0.8198718428611755\n",
      "    Val   CossEntrpy loss: 0.37650298556217043, Accuracy: 0.8121236562728882\n",
      "    Epoch time: 0m 5s\n",
      "\n",
      "------> Epoch 20 <------\n",
      "    Train CossEntrpy loss: 0.3661506200035693, Accuracy: 0.8203122615814209\n",
      "    Val   CossEntrpy loss: 0.3730720627705806, Accuracy: 0.825732409954071\n",
      "    Epoch time: 0m 5s\n",
      "\n",
      "------> Epoch 21 <------\n",
      "    Train CossEntrpy loss: 0.3662334628227026, Accuracy: 0.8217132091522217\n",
      "    Val   CossEntrpy loss: 0.3652136623652158, Accuracy: 0.820668637752533\n",
      "    Epoch time: 0m 5s\n",
      "\n",
      "------> Epoch 22 <------\n",
      "    Train CossEntrpy loss: 0.365511173250281, Accuracy: 0.8224349021911621\n",
      "    Val   CossEntrpy loss: 0.36460210677231114, Accuracy: 0.8197540640830994\n",
      "    Epoch time: 0m 4s\n",
      "\n",
      "------> Epoch 23 <------\n",
      "    Train CossEntrpy loss: 0.36565033159890964, Accuracy: 0.8218814730644226\n",
      "    Val   CossEntrpy loss: 0.36386796687010814, Accuracy: 0.8201472759246826\n",
      "    Epoch time: 0m 4s\n",
      "\n",
      "------> Epoch 24 <------\n",
      "    Train CossEntrpy loss: 0.3651550265964282, Accuracy: 0.8222289085388184\n",
      "    Val   CossEntrpy loss: 0.3666194590101327, Accuracy: 0.8235154151916504\n",
      "    Epoch time: 0m 5s\n",
      "\n",
      "------> Epoch 25 <------\n",
      "    Train CossEntrpy loss: 0.3639046542128865, Accuracy: 0.8227825164794922\n",
      "    Val   CossEntrpy loss: 0.3638014105331248, Accuracy: 0.814449667930603\n",
      "    Epoch time: 0m 5s\n",
      "\n",
      "------> Epoch 26 <------\n",
      "    Train CossEntrpy loss: 0.3648900066467414, Accuracy: 0.8218193054199219\n",
      "    Val   CossEntrpy loss: 0.3782249513355518, Accuracy: 0.8066452741622925\n",
      "    Epoch time: 0m 5s\n",
      "\n",
      "------> Epoch 27 <------\n",
      "    Train CossEntrpy loss: 0.36411042645138486, Accuracy: 0.822767436504364\n",
      "    Val   CossEntrpy loss: 0.3770007810274315, Accuracy: 0.8062998056411743\n",
      "    Epoch time: 0m 5s\n",
      "\n",
      "------> Epoch 28 <------\n",
      "    Train CossEntrpy loss: 0.36407858960237205, Accuracy: 0.8228673338890076\n",
      "    Val   CossEntrpy loss: 0.3774618795957617, Accuracy: 0.8044136762619019\n",
      "    Epoch time: 0m 5s\n",
      "\n",
      "------> Epoch 29 <------\n",
      "    Train CossEntrpy loss: 0.3639470310428375, Accuracy: 0.8224883675575256\n",
      "    Val   CossEntrpy loss: 0.3978548824621347, Accuracy: 0.7858483195304871\n",
      "    Epoch time: 0m 5s\n",
      "\n",
      "------> Epoch 30 <------\n",
      "    Train CossEntrpy loss: 0.3641248834481334, Accuracy: 0.8226819634437561\n",
      "    Val   CossEntrpy loss: 0.3708751429810144, Accuracy: 0.8100877404212952\n",
      "    Epoch time: 0m 5s\n",
      "\n",
      "\n",
      "****************** Finished Training ******************\n",
      "Time elapsed for training: 2:23\n"
     ]
    }
   ],
   "source": [
    "for param in model.parameters():\n",
    "    param.requires_grad = True\n",
    "\n",
    "epochs = 30\n",
    "k_best_models = 4\n",
    "loss_history = {\"train\": [], \"val\": []}\n",
    "best_models_df = pd.DataFrame()\n",
    "\n",
    "start_training = time()\n",
    "for epoch in range(epochs):\n",
    "    start_epoch = time()\n",
    "    model.train()\n",
    "    loss_history[\"train\"].append(0)\n",
    "    accuracy = 0\n",
    "    for i, batch in enumerate(train_dataloader, 0):\n",
    "\n",
    "        # get the inputs; data is a list of [inputs, labels]\n",
    "        inputs, labels = batch\n",
    "\n",
    "        optimizer.zero_grad()\n",
    "        # Forward pass\n",
    "        y_pred = model(inputs)\n",
    "        # Compute Loss\n",
    "        loss = criterion(y_pred, labels)\n",
    "        \n",
    "        # Backward pass\n",
    "        loss.backward()\n",
    "        optimizer.step()\n",
    "        loss_history[\"train\"][epoch] += loss.item()/len(train_dataloader)\n",
    "        accuracy += ((y_pred > 0.5) == labels).sum()/labels.size(0)/len(train_dataloader)\n",
    "\n",
    "    print(f\"\\n------> Epoch {epoch+1} <------\\n    Train CossEntrpy loss: {loss_history['train'][epoch]}, Accuracy: {accuracy}\")\n",
    "    \n",
    "    model.eval()\n",
    "    loss_history[\"val\"].append(0)\n",
    "    accuracy = 0\n",
    "    for i, batch in enumerate(val_dataloader, 0):\n",
    "        # get the inputs; data is a list of [inputs, labels]\n",
    "        inputs, labels = batch\n",
    "        with torch.no_grad():\n",
    "            y_pred = model(inputs)\n",
    "\n",
    "        # forward + backward + optimize\n",
    "        loss_history[\"val\"][epoch] += criterion(y_pred, labels).item()/len(val_dataloader)\n",
    "        accuracy += ((y_pred > 0.5) == labels).sum()/labels.size(0)/len(val_dataloader)\n",
    "\n",
    "    print(f\"    Val   CossEntrpy loss: {loss_history['val'][epoch]}, Accuracy: {accuracy}\")\n",
    "\n",
    "    # check for overfitting:\n",
    "    early_stopping_steps = 5\n",
    "    if len(loss_history[\"val\"]) > 4 and \\\n",
    "            all(map(lambda x: x[0]<x[1], zip(loss_history[\"val\"][-(early_stopping_steps)-1:-1], loss_history[\"val\"][-(early_stopping_steps):]))) and \\\n",
    "            all(map(lambda x: x[0]>x[1], zip(loss_history[\"train\"][-(early_stopping_steps)-1:-1], loss_history[\"train\"][-(early_stopping_steps):]))):\n",
    "        break\n",
    "\n",
    "    best_models_df = best_models_df.append({\"loss\": loss_history[\"val\"][epoch], \"epoch\": epoch, \"state_dict\": model.state_dict()}, ignore_index=True).sort_values(\"loss\", ignore_index=True).head(k_best_models)\n",
    "\n",
    "    scheduler.step()\n",
    "    print(f\"    Epoch time: {round((time()-start_epoch)//60)}m {round((time()-start_epoch)%60)}s\")\n",
    "\n",
    "print('\\n\\n****************** Finished Training ******************')\n",
    "print(f\"Time elapsed for training: {round((time()-start_training)//60)}:{round((time()-start_training)%60)}\")"
   ]
  },
  {
   "cell_type": "code",
   "execution_count": 23,
   "metadata": {
    "colab": {
     "base_uri": "https://localhost:8080/",
     "height": 295
    },
    "executionInfo": {
     "elapsed": 621,
     "status": "ok",
     "timestamp": 1626534980448,
     "user": {
      "displayName": "dario ruggeri",
      "photoUrl": "",
      "userId": "00605556345834424824"
     },
     "user_tz": -120
    },
    "id": "WAB4zfUsFqNR",
    "outputId": "2a2f71fb-28b0-4ff6-da7d-1eb7ac4401d0"
   },
   "outputs": [
    {
     "data": {
      "image/png": "[encoded data removed]",
      "text/plain": [
       "<Figure size 432x288 with 1 Axes>"
      ]
     },
     "metadata": {
      "needs_background": "light",
      "tags": []
     },
     "output_type": "display_data"
    }
   ],
   "source": [
    "plt.title(\"Loss during gradient descent\")\n",
    "plt.plot(range(epochs), loss_history[\"train\"], label=\"train\", color=\"darkred\")\n",
    "plt.plot(range(epochs), loss_history[\"val\"], label=\"vall\", color=\"blue\")\n",
    "for i, best_epoch in best_models_df[\"epoch\"].iteritems():\n",
    "    plt.axvline(best_epoch, ls=\"--\", label=\"best models\" if i==0 else None, color=\"green\")\n",
    "plt.legend()\n",
    "plt.ylabel(\"Loss\")\n",
    "plt.xlabel(\"Epochs\")\n",
    "plt.show()"
   ]
  },
  {
   "cell_type": "markdown",
   "metadata": {
    "id": "wBNcs8UUUW2l"
   },
   "source": [
    "## Testing the Best Models"
   ]
  },
  {
   "cell_type": "code",
   "execution_count": 26,
   "metadata": {
    "colab": {
     "base_uri": "https://localhost:8080/"
    },
    "executionInfo": {
     "elapsed": 2184,
     "status": "ok",
     "timestamp": 1626535218542,
     "user": {
      "displayName": "dario ruggeri",
      "photoUrl": "",
      "userId": "00605556345834424824"
     },
     "user_tz": -120
    },
    "id": "-Vkh542qQ1US",
    "outputId": "a22a30f0-b78c-41df-9276-5d62804e323d"
   },
   "outputs": [
    {
     "name": "stdout",
     "output_type": "stream",
     "text": [
      "------> Tested model 0, saved at epoch 24.0 <------\n",
      "    Test   CossEntrpy loss: 0.6223854422569275, Accuracy: 0.7817487716674805\n",
      "    in 0.4794347286224365 seconds \n",
      "\n",
      "------> Tested model 1, saved at epoch 22.0 <------\n",
      "    Test   CossEntrpy loss: 0.6223854422569275, Accuracy: 0.7817487716674805\n",
      "    in 0.4999680519104004 seconds \n",
      "\n",
      "------> Tested model 2, saved at epoch 21.0 <------\n",
      "    Test   CossEntrpy loss: 0.6223854422569275, Accuracy: 0.7817487716674805\n",
      "    in 0.49886083602905273 seconds \n",
      "\n",
      "------> Tested model 3, saved at epoch 17.0 <------\n",
      "    Test   CossEntrpy loss: 0.6223854422569275, Accuracy: 0.7817487716674805\n",
      "    in 0.47724413871765137 seconds \n",
      "\n",
      "\n",
      "****************** Finished Testing for all the models ******************\n",
      "Time elapsed for testing: 0:2\n"
     ]
    }
   ],
   "source": [
    "model.eval()\n",
    "test_accuracies = []\n",
    "start_tests = time()\n",
    "for index, (epoch, state_dict) in best_models_df[[\"epoch\", \"state_dict\"]].iterrows():\n",
    "    model.load_state_dict(state_dict)\n",
    "\n",
    "    test_y_pred = []\n",
    "    test_y_true = []\n",
    "    start = time()\n",
    "    for i, batch in enumerate(test_dataloader, 0):\n",
    "        # get the inputs; data is a list of [inputs, labels]\n",
    "        inputs, labels = batch\n",
    "        with torch.no_grad():\n",
    "            outputs = model(inputs)\n",
    "\n",
    "        test_y_pred.append(outputs)\n",
    "        test_y_true.append(labels)\n",
    "\n",
    "    test_y_pred = torch.cat(test_y_pred)\n",
    "    test_y_true = torch.cat(test_y_true)\n",
    "    loss = (criterion(test_y_pred, test_y_true).sqrt().mean(dim=0)).item()\n",
    "    accuracy = ((test_y_pred > 0.5) == test_y_true).sum()/test_y_true.size(0)\n",
    "\n",
    "    test_accuracies.append(accuracy.item())\n",
    "\n",
    "    print(f'------> Tested model {index}, saved at epoch {epoch} <------')\n",
    "    print(f\"    Test   CossEntrpy loss: {loss}, Accuracy: {accuracy}\")\n",
    "    print(f\"    in {time()-start} seconds \\n\")\n",
    "\n",
    "print(f'\\n****************** Finished Testing for all the models ******************')\n",
    "print(f\"Time elapsed for testing: {round((time()-start_tests)//60)}:{round((time()-start_tests)%60)}\")\n",
    "best_models_df[\"test_acc\"] = test_accuracies"
   ]
  },
  {
   "cell_type": "code",
   "execution_count": 27,
   "metadata": {
    "colab": {
     "base_uri": "https://localhost:8080/",
     "height": 172
    },
    "executionInfo": {
     "elapsed": 562,
     "status": "ok",
     "timestamp": 1626535236710,
     "user": {
      "displayName": "dario ruggeri",
      "photoUrl": "",
      "userId": "00605556345834424824"
     },
     "user_tz": -120
    },
    "id": "0NxbwDzdR5J0",
    "outputId": "7b002c07-3d04-40f7-f895-1cc73000eed3"
   },
   "outputs": [
    {
     "data": {
      "text/html": [
       "<div>\n",
       "<style scoped>\n",
       "    .dataframe tbody tr th:only-of-type {\n",
       "        vertical-align: middle;\n",
       "    }\n",
       "\n",
       "    .dataframe tbody tr th {\n",
       "        vertical-align: top;\n",
       "    }\n",
       "\n",
       "    .dataframe thead th {\n",
       "        text-align: right;\n",
       "    }\n",
       "</style>\n",
       "<table border=\"1\" class=\"dataframe\">\n",
       "  <thead>\n",
       "    <tr style=\"text-align: right;\">\n",
       "      <th></th>\n",
       "      <th>epoch</th>\n",
       "      <th>loss</th>\n",
       "      <th>test_acc</th>\n",
       "    </tr>\n",
       "  </thead>\n",
       "  <tbody>\n",
       "    <tr>\n",
       "      <th>0</th>\n",
       "      <td>24.0</td>\n",
       "      <td>0.363801</td>\n",
       "      <td>0.781749</td>\n",
       "    </tr>\n",
       "    <tr>\n",
       "      <th>1</th>\n",
       "      <td>22.0</td>\n",
       "      <td>0.363868</td>\n",
       "      <td>0.781749</td>\n",
       "    </tr>\n",
       "    <tr>\n",
       "      <th>2</th>\n",
       "      <td>21.0</td>\n",
       "      <td>0.364602</td>\n",
       "      <td>0.781749</td>\n",
       "    </tr>\n",
       "    <tr>\n",
       "      <th>3</th>\n",
       "      <td>17.0</td>\n",
       "      <td>0.364821</td>\n",
       "      <td>0.781749</td>\n",
       "    </tr>\n",
       "  </tbody>\n",
       "</table>\n",
       "</div>"
      ],
      "text/plain": [
       "   epoch      loss  test_acc\n",
       "0   24.0  0.363801  0.781749\n",
       "1   22.0  0.363868  0.781749\n",
       "2   21.0  0.364602  0.781749\n",
       "3   17.0  0.364821  0.781749"
      ]
     },
     "execution_count": 27,
     "metadata": {
      "tags": []
     },
     "output_type": "execute_result"
    }
   ],
   "source": [
    "best_models_df = best_models_df.sort_values(by=\"test_acc\", ascending=False, ignore_index=True)\n",
    "torch.save(best_models_df.loc[0, \"state_dict\"], join(checkpoints, f\"model_with_acc_{str(best_models_df.loc[0, 'test_acc'])[2:7]}.pt\"))\n",
    "best_models_df.drop(columns=\"state_dict\")"
   ]
  },
  {
   "cell_type": "code",
   "execution_count": 28,
   "metadata": {
    "colab": {
     "base_uri": "https://localhost:8080/",
     "height": 295
    },
    "executionInfo": {
     "elapsed": 766,
     "status": "ok",
     "timestamp": 1626535242125,
     "user": {
      "displayName": "dario ruggeri",
      "photoUrl": "",
      "userId": "00605556345834424824"
     },
     "user_tz": -120
    },
    "id": "_EpO7bPlK0Aq",
    "outputId": "755e8fc6-5d47-4303-ade5-af3bd6c32f40"
   },
   "outputs": [
    {
     "data": {
      "image/png": "[encoded data removed]",
      "text/plain": [
       "<Figure size 432x288 with 2 Axes>"
      ]
     },
     "metadata": {
      "needs_background": "light",
      "tags": []
     },
     "output_type": "display_data"
    }
   ],
   "source": [
    "conf_mat = confusion_matrix(test_y_true, (test_y_pred.numpy() > 0.5)*1, normalize=\"true\")\n",
    "ax = sns.heatmap(conf_mat, linewidth=0.5, xticklabels=['failed', 'successful'], yticklabels=['failed', 'successful'], cmap='Greens', annot=True)\n",
    "plt.title(\"Confusion Matrix\")\n",
    "plt.xlabel(\"True\")\n",
    "plt.ylabel(\"Pred\")\n",
    "plt.show()"
   ]
  },
  {
   "cell_type": "code",
   "execution_count": null,
   "metadata": {
    "id": "299zBJVIDjP5"
   },
   "outputs": [],
   "source": []
  }
 ],
 "metadata": {
  "accelerator": "GPU",
  "colab": {
   "collapsed_sections": [],
   "name": "neural_network_classification.ipynb",
   "provenance": []
  },
  "kernelspec": {
   "display_name": "Python 3",
   "language": "python",
   "name": "python3"
  },
  "language_info": {
   "codemirror_mode": {
    "name": "ipython",
    "version": 3
   },
   "file_extension": ".py",
   "mimetype": "text/x-python",
   "name": "python",
   "nbconvert_exporter": "python",
   "pygments_lexer": "ipython3",
   "version": "3.8.3"
  }
 },
 "nbformat": 4,
 "nbformat_minor": 1
}
