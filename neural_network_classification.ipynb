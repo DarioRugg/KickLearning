{
 "nbformat": 4,
 "nbformat_minor": 0,
 "metadata": {
  "colab": {
   "name": "neural_network_classification.ipynb",
   "provenance": [],
   "collapsed_sections": []
  },
  "kernelspec": {
   "display_name": "Python 3",
   "language": "python",
   "name": "python3"
  },
  "language_info": {
   "codemirror_mode": {
    "name": "ipython",
    "version": 2
   },
   "file_extension": ".py",
   "mimetype": "text/x-python",
   "name": "python",
   "nbconvert_exporter": "python",
   "pygments_lexer": "ipython2",
   "version": "2.7.6"
  },
  "accelerator": "GPU"
 },
 "cells": [
  {
   "cell_type": "markdown",
   "metadata": {
    "id": "5T84yzda1pNq"
   },
   "source": [
    "# Notebook for creating the TfIdf Embeddings of the Story feature"
   ]
  },
  {
   "cell_type": "markdown",
   "metadata": {
    "id": "9mZZQREb1hFN"
   },
   "source": [
    "## Setup"
   ]
  },
  {
   "cell_type": "code",
   "metadata": {
    "colab": {
     "base_uri": "https://localhost:8080/"
    },
    "id": "8oJX9iE6qaSA",
    "executionInfo": {
     "status": "ok",
     "timestamp": 1626518233315,
     "user_tz": -120,
     "elapsed": 15397,
     "user": {
      "displayName": "dario ruggeri",
      "photoUrl": "",
      "userId": "00605556345834424824"
     }
    },
    "outputId": "09fe28fb-7f74-459e-9879-efb5b7dbd414"
   },
   "source": [
    "from google.colab import drive\n",
    "drive.mount('/content/drive')"
   ],
   "execution_count": 1,
   "outputs": [
    {
     "output_type": "stream",
     "text": [
      "Mounted at /content/drive\n"
     ],
     "name": "stdout"
    }
   ]
  },
  {
   "cell_type": "code",
   "metadata": {
    "colab": {
     "base_uri": "https://localhost:8080/"
    },
    "id": "Q1IyzZ1AqaFk",
    "executionInfo": {
     "status": "ok",
     "timestamp": 1626518233316,
     "user_tz": -120,
     "elapsed": 13,
     "user": {
      "displayName": "dario ruggeri",
      "photoUrl": "",
      "userId": "00605556345834424824"
     }
    },
    "outputId": "5a913e9e-14cd-417f-e18c-bad1188e8e94"
   },
   "source": [
    "%cd /content/drive/MyDrive/Project/KickLearning/"
   ],
   "execution_count": 2,
   "outputs": [
    {
     "output_type": "stream",
     "text": [
      "/content/drive/.shortcut-targets-by-id/1iWelwZQ6yutjZacqvhb1xSPIvi_nlIiH/Project/KickLearning\n"
     ],
     "name": "stdout"
    }
   ]
  },
  {
   "cell_type": "markdown",
   "metadata": {
    "id": "zXV2OqA4WcDi"
   },
   "source": [
    "Lybraries"
   ]
  },
  {
   "cell_type": "code",
   "metadata": {
    "collapsed": true,
    "id": "CNlcKcN9pBHx",
    "colab": {
     "base_uri": "https://localhost:8080/"
    },
    "executionInfo": {
     "status": "ok",
     "timestamp": 1626518241701,
     "user_tz": -120,
     "elapsed": 5019,
     "user": {
      "displayName": "dario ruggeri",
      "photoUrl": "",
      "userId": "00605556345834424824"
     }
    },
    "outputId": "f40ba41c-b53b-4766-fe6b-3cb6eb8c72c9"
   },
   "source": [
    "from os.path import join\n",
    "\n",
    "import pandas as pd\n",
    "import numpy as np\n",
    "import matplotlib.pyplot as plt\n",
    "\n",
    "import torch\n",
    "from torch import nn, optim\n",
    "from torch.utils.data import Dataset, DataLoader, TensorDataset\n",
    "\n",
    "from time import time\n",
    "\n",
    "\n",
    "import sklearn\n",
    "\n",
    "import re\n",
    "\n",
    "import pandas as pd\n",
    "import numpy as np\n",
    "from sklearn.preprocessing import StandardScaler\n",
    "from sklearn.model_selection import train_test_split\n",
    "from sklearn.metrics import confusion_matrix\n",
    "import sklearn\n",
    "import seaborn as sns\n",
    "\n",
    "torch.manual_seed(0)"
   ],
   "execution_count": 3,
   "outputs": [
    {
     "output_type": "execute_result",
     "data": {
      "text/plain": [
       "<torch._C.Generator at 0x7fb8a4c84d50>"
      ]
     },
     "metadata": {
      "tags": []
     },
     "execution_count": 3
    }
   ]
  },
  {
   "cell_type": "markdown",
   "metadata": {
    "id": "9Gmp3FJ7xVv0"
   },
   "source": [
    "### Loading the Dataset"
   ]
  },
  {
   "cell_type": "code",
   "metadata": {
    "id": "Ia5vDFghpBH2",
    "executionInfo": {
     "status": "ok",
     "timestamp": 1626518244130,
     "user_tz": -120,
     "elapsed": 222,
     "user": {
      "displayName": "dario ruggeri",
      "photoUrl": "",
      "userId": "00605556345834424824"
     }
    }
   },
   "source": [
    "data_path = join(\".\", \"data\")\n",
    "checkpoints = join(\".\", \"logs\", \"checkpoints_nn_classification\")"
   ],
   "execution_count": 4,
   "outputs": []
  },
  {
   "cell_type": "code",
   "metadata": {
    "id": "XfCwDwesxDHa",
    "executionInfo": {
     "status": "ok",
     "timestamp": 1626518255314,
     "user_tz": -120,
     "elapsed": 6694,
     "user": {
      "displayName": "dario ruggeri",
      "photoUrl": "",
      "userId": "00605556345834424824"
     }
    }
   },
   "source": [
    "data = pd.read_csv(join(data_path, \"final_dataset.csv\"))\n",
    "data = data[data['state'].isin(['successful', 'failed'])]"
   ],
   "execution_count": 5,
   "outputs": []
  },
  {
   "cell_type": "code",
   "metadata": {
    "id": "_jfTtBFWxfMo",
    "executionInfo": {
     "status": "ok",
     "timestamp": 1626518267632,
     "user_tz": -120,
     "elapsed": 2491,
     "user": {
      "displayName": "dario ruggeri",
      "photoUrl": "",
      "userId": "00605556345834424824"
     }
    }
   },
   "source": [
    "def fun(j):\n",
    "    return re.findall(r'\\'(\\b\\w+\\b)\\'', j) + list(map(lambda x: x[0]+\" \" +x[1], re.findall(r\"\\\"(\\w+).*?(\\w \\w+)\\\"\", j)))\n",
    "\n",
    "data['category'] = data['category'].apply(fun)\n",
    "data['sub_category'] = data['sub_category'].apply(fun)\n",
    "data['category_2'] = data['category'].apply(lambda x: str(x[1]) if len(x)>1 else 'No category')\n",
    "#data['category_3'] = data['category'].apply(lambda x: str(x[2]) if len(x)>2 else 'No category')\n",
    "data['category'] = data['category'].apply(lambda x: str(x[0]) if len(x)>0 else 'No category')\n",
    "data['sub_category'] = data['sub_category'].apply(lambda x: x[0] if len(x)>0 else 'No sub_category')\n",
    "\n",
    "data['duration'] = data['deadline']-data['launched_at']\n",
    "data['usd_goal'] = data['goal']*data['fx_rate']\n",
    "data['state'] = data['state'].apply(lambda x: 1 if x=='successful' else 0)\n",
    "# data = data[data['usd_pledged'] >= 1]"
   ],
   "execution_count": 7,
   "outputs": []
  },
  {
   "cell_type": "code",
   "metadata": {
    "id": "8-xOsOnG-93w",
    "executionInfo": {
     "status": "ok",
     "timestamp": 1626518268244,
     "user_tz": -120,
     "elapsed": 618,
     "user": {
      "displayName": "dario ruggeri",
      "photoUrl": "",
      "userId": "00605556345834424824"
     }
    }
   },
   "source": [
    "# simplest feature work\n",
    "#data['currency'] = data['currency'].astype('category').cat.codes\n",
    "#data['country'] = data['country'].astype('category').cat.codes\n",
    "#data['category'] = data['category'].astype('category').cat.codes\n",
    "#data['sub_category'] = data['sub_category'].astype('category').cat.codes\n",
    "\n",
    "data_class = data.drop(columns=['id', 'project_url', 'image', 'goal', 'fx_rate', 'state', 'launched_at', 'deadline'])\n",
    "data = data.drop(columns=['id', 'project_url', 'image', 'goal', 'fx_rate', 'launched_at', 'deadline', 'usd_pledged'])\n",
    "\n",
    "#data_class = data_class.drop(columns=[i for i in data.columns if 'historical' in i])\n",
    "data_class = data_class.dropna(axis = 0, how ='any')\n",
    "\n",
    "#data = data.drop(columns=[i for i in data.columns if 'historical' in i])\n",
    "data = data.dropna(axis = 0, how ='any')"
   ],
   "execution_count": 8,
   "outputs": []
  },
  {
   "cell_type": "markdown",
   "metadata": {
    "id": "g2o8lc6k9AVM"
   },
   "source": [
    "## Balancing calsses"
   ]
  },
  {
   "cell_type": "code",
   "metadata": {
    "id": "ptKXOXa7N2RO",
    "executionInfo": {
     "status": "ok",
     "timestamp": 1626518280607,
     "user_tz": -120,
     "elapsed": 585,
     "user": {
      "displayName": "dario ruggeri",
      "photoUrl": "",
      "userId": "00605556345834424824"
     }
    }
   },
   "source": [
    "train_df, test_df, train_target, test_target =  train_test_split(data.drop(columns=['state']), \n",
    "                                                                     data['state'],\n",
    "                                                                     test_size=0.2, random_state=1234)"
   ],
   "execution_count": 9,
   "outputs": []
  },
  {
   "cell_type": "code",
   "metadata": {
    "id": "vzXOD4jj6pXW",
    "executionInfo": {
     "status": "ok",
     "timestamp": 1626518281974,
     "user_tz": -120,
     "elapsed": 199,
     "user": {
      "displayName": "dario ruggeri",
      "photoUrl": "",
      "userId": "00605556345834424824"
     }
    }
   },
   "source": [
    "oversample_df = train_df[train_target==0].sample(n=(train_target==1).sum()-(train_target==0).sum(), replace=True)\n",
    "oversample_target = pd.Series(np.zeros(len(oversample_df)))"
   ],
   "execution_count": 10,
   "outputs": []
  },
  {
   "cell_type": "code",
   "metadata": {
    "id": "9l6oXUgH8ivV",
    "executionInfo": {
     "status": "ok",
     "timestamp": 1626518283157,
     "user_tz": -120,
     "elapsed": 334,
     "user": {
      "displayName": "dario ruggeri",
      "photoUrl": "",
      "userId": "00605556345834424824"
     }
    }
   },
   "source": [
    "train_df = train_df.append(oversample_df)\n",
    "train_target = train_target.append(oversample_target)"
   ],
   "execution_count": 11,
   "outputs": []
  },
  {
   "cell_type": "markdown",
   "metadata": {
    "id": "TTfG4s16LX1h"
   },
   "source": [
    "## Scaling the dataset"
   ]
  },
  {
   "cell_type": "code",
   "metadata": {
    "id": "TsmIHEd7OI84",
    "executionInfo": {
     "status": "ok",
     "timestamp": 1626518291045,
     "user_tz": -120,
     "elapsed": 217,
     "user": {
      "displayName": "dario ruggeri",
      "photoUrl": "",
      "userId": "00605556345834424824"
     }
    }
   },
   "source": [
    "num_cols = train_df.columns[train_df.dtypes.apply(lambda c: np.issubdtype(c, np.number))]"
   ],
   "execution_count": 12,
   "outputs": []
  },
  {
   "cell_type": "code",
   "metadata": {
    "id": "yuHoMr1aOdKw",
    "executionInfo": {
     "status": "ok",
     "timestamp": 1626518294480,
     "user_tz": -120,
     "elapsed": 2595,
     "user": {
      "displayName": "dario ruggeri",
      "photoUrl": "",
      "userId": "00605556345834424824"
     }
    }
   },
   "source": [
    "scaler = StandardScaler()\n",
    "train_df[num_cols] = scaler.fit_transform(train_df[num_cols])\n",
    "test_df[num_cols] = scaler.transform(test_df[num_cols])"
   ],
   "execution_count": 13,
   "outputs": []
  },
  {
   "cell_type": "code",
   "metadata": {
    "id": "8Iu3igqlOxe3",
    "executionInfo": {
     "status": "ok",
     "timestamp": 1626518296474,
     "user_tz": -120,
     "elapsed": 826,
     "user": {
      "displayName": "dario ruggeri",
      "photoUrl": "",
      "userId": "00605556345834424824"
     }
    }
   },
   "source": [
    "train_reg_X, test_reg_X, train_reg_y, test_reg_y = train_df.to_numpy(), test_df.to_numpy(), train_target.to_numpy(), test_target.to_numpy()"
   ],
   "execution_count": 14,
   "outputs": []
  },
  {
   "cell_type": "markdown",
   "metadata": {
    "id": "dusKUdtGLcJI"
   },
   "source": [
    "## Encoding categorical the features"
   ]
  },
  {
   "cell_type": "code",
   "metadata": {
    "id": "Qo4mAmrt_IO9",
    "executionInfo": {
     "status": "ok",
     "timestamp": 1626518311561,
     "user_tz": -120,
     "elapsed": 9281,
     "user": {
      "displayName": "dario ruggeri",
      "photoUrl": "",
      "userId": "00605556345834424824"
     }
    }
   },
   "source": [
    "arr = train_reg_X.copy() \n",
    "categorical_feat = train_df.columns[train_df.dtypes.apply(lambda c: not np.issubdtype(c, np.bool) and not np.issubdtype(c, np.number))]\n",
    "categorical_features = [i for i,col in enumerate(data.drop(columns=['state']).columns) if col in categorical_feat]\n",
    "categorical_names = {}\n",
    "for feature in categorical_features:\n",
    "    le = sklearn.preprocessing.LabelEncoder()\n",
    "    #print(feature)\n",
    "    le.fit(np.array(data.drop(columns=['state']))[:, feature])\n",
    "    train_reg_X[:, feature] = le.transform(train_reg_X[:, feature])\n",
    "    test_reg_X[:, feature] = le.transform(test_reg_X[:, feature])\n",
    "    #print(le.classes_)\n",
    "    categorical_names[feature] = le.classes_\n",
    "\n",
    "for k, v in categorical_names.items():\n",
    "    categorical_names[k] = list(arr[:, k])"
   ],
   "execution_count": 15,
   "outputs": []
  },
  {
   "cell_type": "code",
   "metadata": {
    "id": "rgUcuRI6_WLq",
    "executionInfo": {
     "status": "ok",
     "timestamp": 1626518314563,
     "user_tz": -120,
     "elapsed": 792,
     "user": {
      "displayName": "dario ruggeri",
      "photoUrl": "",
      "userId": "00605556345834424824"
     }
    }
   },
   "source": [
    "train_x, val_x, train_y, val_y = train_test_split(train_reg_X, train_reg_y, test_size=0.2, random_state=1234)"
   ],
   "execution_count": 16,
   "outputs": []
  },
  {
   "cell_type": "code",
   "metadata": {
    "id": "GeybEv4pBfmq",
    "executionInfo": {
     "status": "ok",
     "timestamp": 1626518315281,
     "user_tz": -120,
     "elapsed": 4,
     "user": {
      "displayName": "dario ruggeri",
      "photoUrl": "",
      "userId": "00605556345834424824"
     }
    }
   },
   "source": [
    "test_x, test_y = test_reg_X, test_reg_y"
   ],
   "execution_count": 17,
   "outputs": []
  },
  {
   "cell_type": "code",
   "metadata": {
    "id": "GXH4myMD6yGB",
    "executionInfo": {
     "status": "ok",
     "timestamp": 1626518317536,
     "user_tz": -120,
     "elapsed": 1507,
     "user": {
      "displayName": "dario ruggeri",
      "photoUrl": "",
      "userId": "00605556345834424824"
     }
    }
   },
   "source": [
    "train_dataset = TensorDataset(torch.Tensor(train_x.astype(\"float32\")), torch.Tensor(train_y.astype(\"float32\")))\n",
    "val_dataset = TensorDataset(torch.Tensor(val_x.astype(\"float32\")), torch.Tensor(val_y.astype(\"float32\")))\n",
    "test_dataset = TensorDataset(torch.Tensor(test_x.astype(\"float32\")), torch.Tensor(test_y.astype(\"float32\")))\n",
    "\n",
    "train_dataloader = DataLoader(dataset=train_dataset, batch_size=128, shuffle=True)\n",
    "val_dataloader = DataLoader(dataset=val_dataset, batch_size=64)\n",
    "test_dataloader = DataLoader(dataset=test_dataset, batch_size=64)"
   ],
   "execution_count": 18,
   "outputs": []
  },
  {
   "cell_type": "markdown",
   "metadata": {
    "id": "LxKY0xtFsZjU"
   },
   "source": [
    "## Embedding Data"
   ]
  },
  {
   "cell_type": "code",
   "metadata": {
    "id": "4nYzeAKupBH3",
    "executionInfo": {
     "status": "ok",
     "timestamp": 1626520230190,
     "user_tz": -120,
     "elapsed": 311,
     "user": {
      "displayName": "dario ruggeri",
      "photoUrl": "",
      "userId": "00605556345834424824"
     }
    }
   },
   "source": [
    "class DeepRegressor(nn.Module):\n",
    "        def __init__(self, input_size, hidden_size, n_hidden_layers=5):\n",
    "            super(DeepRegressor, self).__init__()\n",
    "            self.input_size = input_size\n",
    "            self.hidden_size  = hidden_size\n",
    "            self.num_hidden_layers = n_hidden_layers\n",
    "\n",
    "\n",
    "            self.first_layer = nn.Sequential(nn.Linear(self.input_size, self.hidden_size),\n",
    "                                             nn.BatchNorm1d(self.hidden_size),\n",
    "                                             nn.ReLU(),\n",
    "                                             nn.Dropout(0.01))\n",
    "\n",
    "            self.hidden_layers = nn.Sequential()\n",
    "            for _ in range(self.num_hidden_layers):\n",
    "                self.hidden_layers.add_module(\"linear\", nn.Linear(self.hidden_size, self.hidden_size))\n",
    "                self.hidden_layers.add_module(\"batch_norm\", nn.BatchNorm1d(self.hidden_size))\n",
    "                self.hidden_layers.add_module(\"activation\", nn.ReLU())\n",
    "                self.hidden_layers.add_module(\"dropout\", nn.Dropout(0.01))\n",
    "            \n",
    "            self.last_layer1 = nn.Sequential(nn.Linear(self.hidden_size, int(self.hidden_size/2)),\n",
    "                                             nn.BatchNorm1d(int(self.hidden_size/2)),\n",
    "                                             nn.ReLU(),\n",
    "                                             nn.Dropout(0.01))\n",
    "            self.last_layer2 = nn.Linear(int(self.hidden_size/2), 1)\n",
    "\n",
    "        def forward(self, x):\n",
    "            hidden_state = self.first_layer(x)\n",
    "            x = self.hidden_layers(hidden_state)\n",
    "            x = self.last_layer1(x)\n",
    "            output = self.last_layer2(x)\n",
    "            return output.squeeze(1)"
   ],
   "execution_count": 51,
   "outputs": []
  },
  {
   "cell_type": "code",
   "metadata": {
    "id": "knimHOPz1M-y",
    "executionInfo": {
     "status": "ok",
     "timestamp": 1626522847524,
     "user_tz": -120,
     "elapsed": 217,
     "user": {
      "displayName": "dario ruggeri",
      "photoUrl": "",
      "userId": "00605556345834424824"
     }
    }
   },
   "source": [
    "model = DeepRegressor(train_x.shape[1], 32, n_hidden_layers=4)\n",
    "\n",
    "criterion = nn.BCEWithLogitsLoss()\n",
    "optimizer = optim.Adam(model.parameters(), lr = 0.002)\n",
    "scheduler = optim.lr_scheduler.MultiStepLR(optimizer, milestones=[5, 10, 15], gamma=0.5)"
   ],
   "execution_count": 121,
   "outputs": []
  },
  {
   "cell_type": "code",
   "metadata": {
    "colab": {
     "base_uri": "https://localhost:8080/"
    },
    "id": "GdqYmAtl1goL",
    "executionInfo": {
     "status": "ok",
     "timestamp": 1626522962398,
     "user_tz": -120,
     "elapsed": 113175,
     "user": {
      "displayName": "dario ruggeri",
      "photoUrl": "",
      "userId": "00605556345834424824"
     }
    },
    "outputId": "d8bf0013-78dd-4c95-ecbd-66bf0f55ab9d"
   },
   "source": [
    "for param in model.parameters():\n",
    "    param.requires_grad = True\n",
    "\n",
    "epochs = 25\n",
    "k_best_models = 4\n",
    "loss_history = {\"train\": [], \"val\": []}\n",
    "best_models_df = pd.DataFrame()\n",
    "\n",
    "start_training = time()\n",
    "for epoch in range(epochs):\n",
    "    start_epoch = time()\n",
    "    model.train()\n",
    "    loss_history[\"train\"].append(0)\n",
    "    accuracy = 0\n",
    "    for i, batch in enumerate(train_dataloader, 0):\n",
    "\n",
    "        # get the inputs; data is a list of [inputs, labels]\n",
    "        inputs, labels = batch\n",
    "\n",
    "        optimizer.zero_grad()\n",
    "        # Forward pass\n",
    "        y_pred = model(inputs)\n",
    "        # Compute Loss\n",
    "        loss = criterion(y_pred, labels)\n",
    "        \n",
    "        # Backward pass\n",
    "        loss.backward()\n",
    "        optimizer.step()\n",
    "        loss_history[\"train\"][epoch] += loss.item()/len(train_dataloader)\n",
    "        accuracy += ((y_pred > 0.5) == labels).sum()/labels.size(0)/len(train_dataloader)\n",
    "\n",
    "    print(f\"\\n------> Epoch {epoch+1} <------\\n    Train CossEntrpy loss: {loss_history['train'][epoch]}, Accuracy: {accuracy}\")\n",
    "    \n",
    "    model.eval()\n",
    "    loss_history[\"val\"].append(0)\n",
    "    accuracy = 0\n",
    "    for i, batch in enumerate(val_dataloader, 0):\n",
    "        # get the inputs; data is a list of [inputs, labels]\n",
    "        inputs, labels = batch\n",
    "        with torch.no_grad():\n",
    "            y_pred = model(inputs)\n",
    "\n",
    "        # forward + backward + optimize\n",
    "        loss_history[\"val\"][epoch] += criterion(y_pred, labels).item()/len(val_dataloader)\n",
    "        accuracy += ((y_pred > 0.5) == labels).sum()/labels.size(0)/len(val_dataloader)\n",
    "\n",
    "    print(f\"    Val   CossEntrpy loss: {loss_history['val'][epoch]}, Accuracy: {accuracy}\")\n",
    "\n",
    "    # check for overfitting:\n",
    "    early_stopping_steps = 5\n",
    "    if len(loss_history[\"val\"]) > 4 and \\\n",
    "            all(map(lambda x: x[0]<x[1], zip(loss_history[\"val\"][-(early_stopping_steps)-1:-1], loss_history[\"val\"][-(early_stopping_steps):]))) and \\\n",
    "            all(map(lambda x: x[0]>x[1], zip(loss_history[\"train\"][-(early_stopping_steps)-1:-1], loss_history[\"train\"][-(early_stopping_steps):]))):\n",
    "        break\n",
    "\n",
    "    best_models_df = best_models_df.append({\"loss\": loss_history[\"val\"][epoch], \"epoch\": epoch, \"state_dict\": model.state_dict()}, ignore_index=True).sort_values(\"loss\", ignore_index=True).head(k_best_models)\n",
    "\n",
    "    scheduler.step()\n",
    "    print(f\"    Epoch time: {round((time()-start_epoch)//60)}m {round((time()-start_epoch)%60)}s\")\n",
    "\n",
    "print('\\n\\n****************** Finished Training ******************')\n",
    "print(f\"Time elapsed for training: {round((time()-start_training)//60)}:{round((time()-start_training)%60)}\")"
   ],
   "execution_count": 122,
   "outputs": [
    {
     "output_type": "stream",
     "text": [
      "\n",
      "------> Epoch 1 <------\n",
      "    Train CossEntrpy loss: 0.4577585195964504, Accuracy: 0.7675721645355225\n",
      "    Val   CossEntrpy loss: 0.43097247637196917, Accuracy: 0.7772207260131836\n",
      "    Epoch time: 0m 4s\n",
      "\n",
      "------> Epoch 2 <------\n",
      "    Train CossEntrpy loss: 0.4222833646645303, Accuracy: 0.7914484739303589\n",
      "    Val   CossEntrpy loss: 0.42194100377125254, Accuracy: 0.7905966639518738\n",
      "    Epoch time: 0m 4s\n",
      "\n",
      "------> Epoch 3 <------\n",
      "    Train CossEntrpy loss: 0.4132315009956728, Accuracy: 0.7969350814819336\n",
      "    Val   CossEntrpy loss: 0.4064925267401264, Accuracy: 0.8003718256950378\n",
      "    Epoch time: 0m 4s\n",
      "\n",
      "------> Epoch 4 <------\n",
      "    Train CossEntrpy loss: 0.40690234614347026, Accuracy: 0.800594687461853\n",
      "    Val   CossEntrpy loss: 0.40525459256722657, Accuracy: 0.7996306419372559\n",
      "    Epoch time: 0m 4s\n",
      "\n",
      "------> Epoch 5 <------\n",
      "    Train CossEntrpy loss: 0.40235094925044146, Accuracy: 0.8037187457084656\n",
      "    Val   CossEntrpy loss: 0.4013926135855356, Accuracy: 0.8154486417770386\n",
      "    Epoch time: 0m 4s\n",
      "\n",
      "------> Epoch 6 <------\n",
      "    Train CossEntrpy loss: 0.3935265966972155, Accuracy: 0.8087179064750671\n",
      "    Val   CossEntrpy loss: 0.3852681762775893, Accuracy: 0.8126281499862671\n",
      "    Epoch time: 0m 4s\n",
      "\n",
      "------> Epoch 7 <------\n",
      "    Train CossEntrpy loss: 0.39106954762683643, Accuracy: 0.8101323843002319\n",
      "    Val   CossEntrpy loss: 0.38650825095359054, Accuracy: 0.8113960027694702\n",
      "    Epoch time: 0m 4s\n",
      "\n",
      "------> Epoch 8 <------\n",
      "    Train CossEntrpy loss: 0.3883360497062828, Accuracy: 0.8111755847930908\n",
      "    Val   CossEntrpy loss: 0.3854385072647787, Accuracy: 0.8178203105926514\n",
      "    Epoch time: 0m 5s\n",
      "\n",
      "------> Epoch 9 <------\n",
      "    Train CossEntrpy loss: 0.3852752952296305, Accuracy: 0.8130252957344055\n",
      "    Val   CossEntrpy loss: 0.4067730938443225, Accuracy: 0.7891846895217896\n",
      "    Epoch time: 0m 5s\n",
      "\n",
      "------> Epoch 10 <------\n",
      "    Train CossEntrpy loss: 0.38380991686161486, Accuracy: 0.8138484954833984\n",
      "    Val   CossEntrpy loss: 0.3863754609446862, Accuracy: 0.8134588003158569\n",
      "    Epoch time: 0m 5s\n",
      "\n",
      "------> Epoch 11 <------\n",
      "    Train CossEntrpy loss: 0.37793701878840863, Accuracy: 0.8165450096130371\n",
      "    Val   CossEntrpy loss: 0.38065265695226386, Accuracy: 0.8181549906730652\n",
      "    Epoch time: 0m 5s\n",
      "\n",
      "------> Epoch 12 <------\n",
      "    Train CossEntrpy loss: 0.37634601944510954, Accuracy: 0.8173608779907227\n",
      "    Val   CossEntrpy loss: 0.3954778600054095, Accuracy: 0.7956579327583313\n",
      "    Epoch time: 0m 5s\n",
      "\n",
      "------> Epoch 13 <------\n",
      "    Train CossEntrpy loss: 0.37337885709979457, Accuracy: 0.8185253143310547\n",
      "    Val   CossEntrpy loss: 0.38065999242708976, Accuracy: 0.8148059248924255\n",
      "    Epoch time: 0m 4s\n",
      "\n",
      "------> Epoch 14 <------\n",
      "    Train CossEntrpy loss: 0.3730345185799455, Accuracy: 0.818157970905304\n",
      "    Val   CossEntrpy loss: 0.3850305752727685, Accuracy: 0.8065043091773987\n",
      "    Epoch time: 0m 4s\n",
      "\n",
      "------> Epoch 15 <------\n",
      "    Train CossEntrpy loss: 0.37087011061639885, Accuracy: 0.8192897439002991\n",
      "    Val   CossEntrpy loss: 0.3755674046543273, Accuracy: 0.8151293396949768\n",
      "    Epoch time: 0m 4s\n",
      "\n",
      "------> Epoch 16 <------\n",
      "    Train CossEntrpy loss: 0.367777268012392, Accuracy: 0.8209234476089478\n",
      "    Val   CossEntrpy loss: 0.373530173314132, Accuracy: 0.8094819188117981\n",
      "    Epoch time: 0m 4s\n",
      "\n",
      "------> Epoch 17 <------\n",
      "    Train CossEntrpy loss: 0.3665891685140976, Accuracy: 0.8214525580406189\n",
      "    Val   CossEntrpy loss: 0.37574121992263054, Accuracy: 0.8105247616767883\n",
      "    Epoch time: 0m 4s\n",
      "\n",
      "------> Epoch 18 <------\n",
      "    Train CossEntrpy loss: 0.3667872623541759, Accuracy: 0.8215335607528687\n",
      "    Val   CossEntrpy loss: 0.40692533751605087, Accuracy: 0.7756219506263733\n",
      "    Epoch time: 0m 4s\n",
      "\n",
      "------> Epoch 19 <------\n",
      "    Train CossEntrpy loss: 0.3646166950194824, Accuracy: 0.8223473429679871\n",
      "    Val   CossEntrpy loss: 0.3689338057321369, Accuracy: 0.8178700804710388\n",
      "    Epoch time: 0m 4s\n",
      "\n",
      "------> Epoch 20 <------\n",
      "    Train CossEntrpy loss: 0.36436625534826594, Accuracy: 0.8239529728889465\n",
      "    Val   CossEntrpy loss: 0.36409038806823757, Accuracy: 0.8213428258895874\n",
      "    Epoch time: 0m 4s\n",
      "\n",
      "------> Epoch 21 <------\n",
      "    Train CossEntrpy loss: 0.3651151876684191, Accuracy: 0.8229828476905823\n",
      "    Val   CossEntrpy loss: 0.3688727851454509, Accuracy: 0.8160638213157654\n",
      "    Epoch time: 0m 4s\n",
      "\n",
      "------> Epoch 22 <------\n",
      "    Train CossEntrpy loss: 0.36411251672783235, Accuracy: 0.8230169415473938\n",
      "    Val   CossEntrpy loss: 0.35940908198147725, Accuracy: 0.8221903443336487\n",
      "    Epoch time: 0m 5s\n",
      "\n",
      "------> Epoch 23 <------\n",
      "    Train CossEntrpy loss: 0.36353540296183157, Accuracy: 0.8237757086753845\n",
      "    Val   CossEntrpy loss: 0.37557301810205584, Accuracy: 0.807895302772522\n",
      "    Epoch time: 0m 5s\n",
      "\n",
      "------> Epoch 24 <------\n",
      "    Train CossEntrpy loss: 0.3624661161625175, Accuracy: 0.8238786458969116\n",
      "    Val   CossEntrpy loss: 0.36453860909036895, Accuracy: 0.8186072707176208\n",
      "    Epoch time: 0m 5s\n",
      "\n",
      "------> Epoch 25 <------\n",
      "    Train CossEntrpy loss: 0.3624030229154978, Accuracy: 0.8242376446723938\n",
      "    Val   CossEntrpy loss: 0.3651670612529516, Accuracy: 0.8166506886482239\n",
      "    Epoch time: 0m 5s\n",
      "\n",
      "\n",
      "****************** Finished Training ******************\n",
      "Time elapsed for training: 1:53\n"
     ],
     "name": "stdout"
    }
   ]
  },
  {
   "cell_type": "code",
   "metadata": {
    "id": "WAB4zfUsFqNR",
    "colab": {
     "base_uri": "https://localhost:8080/",
     "height": 295
    },
    "executionInfo": {
     "status": "ok",
     "timestamp": 1626522962894,
     "user_tz": -120,
     "elapsed": 504,
     "user": {
      "displayName": "dario ruggeri",
      "photoUrl": "",
      "userId": "00605556345834424824"
     }
    },
    "outputId": "91a0bff0-0030-46bf-d753-3aefc85299f9"
   },
   "source": [
    "plt.title(\"Loss during gradient descent\")\n",
    "plt.plot(range(epochs), loss_history[\"train\"], label=\"train\", color=\"darkred\")\n",
    "plt.plot(range(epochs), loss_history[\"val\"], label=\"vall\", color=\"blue\")\n",
    "for i, best_epoch in best_models_df[\"epoch\"].iteritems():\n",
    "    plt.axvline(best_epoch, ls=\"--\", label=\"best models\" if i==0 else None, color=\"green\")\n",
    "plt.legend()\n",
    "plt.ylabel(\"Loss\")\n",
    "plt.xlabel(\"Epochs\")\n",
    "plt.show()"
   ],
   "execution_count": 123,
   "outputs": [
    {
     "output_type": "display_data",
     "data": {
      "image/png": "[encoded data removed]",
      "text/plain": [
       "<Figure size 432x288 with 1 Axes>"
      ]
     },
     "metadata": {
      "tags": [],
      "needs_background": "light"
     }
    }
   ]
  },
  {
   "cell_type": "markdown",
   "metadata": {
    "id": "wBNcs8UUUW2l"
   },
   "source": [
    "## Testing the Best Models"
   ]
  },
  {
   "cell_type": "code",
   "metadata": {
    "id": "-Vkh542qQ1US",
    "colab": {
     "base_uri": "https://localhost:8080/"
    },
    "executionInfo": {
     "status": "ok",
     "timestamp": 1626523151653,
     "user_tz": -120,
     "elapsed": 2067,
     "user": {
      "displayName": "dario ruggeri",
      "photoUrl": "",
      "userId": "00605556345834424824"
     }
    },
    "outputId": "fe0fc630-3342-4a06-8ad2-1275eb291c1e"
   },
   "source": [
    "model.eval()\n",
    "test_accuracies = []\n",
    "for index, (epoch, state_dict) in best_models_df[[\"epoch\", \"state_dict\"]].iterrows():\n",
    "    model.load_state_dict(state_dict)\n",
    "\n",
    "    test_y_pred = []\n",
    "    test_y_true = []\n",
    "    start = time()\n",
    "    for i, batch in enumerate(test_dataloader, 0):\n",
    "        # get the inputs; data is a list of [inputs, labels]\n",
    "        inputs, labels = batch\n",
    "        with torch.no_grad():\n",
    "            outputs = model(inputs)\n",
    "\n",
    "        test_y_pred.append(outputs)\n",
    "        test_y_true.append(labels)\n",
    "\n",
    "    test_y_pred = torch.cat(test_y_pred)\n",
    "    test_y_true = torch.cat(test_y_true)\n",
    "    loss = (criterion(test_y_pred, test_y_true).sqrt().mean(dim=0)).item()\n",
    "    accuracy = ((test_y_pred > 0.5) == test_y_true).sum()/test_y_true.size(0)\n",
    "\n",
    "    test_accuracies.append(accuracy.item())\n",
    "\n",
    "    print(f'****************** Finished Testing for model {index} saved at epoch {epoch} ******************')\n",
    "    print(f\"Test   CossEntrpy loss: {loss}, Accuracy: {accuracy}\")\n",
    "    print(f\"Time elapsed for testing: {round((time()-start)//60)}:{round((time()-start)%60)}\")\n",
    "\n",
    "best_models_df[\"test_acc\"] = test_accuracies"
   ],
   "execution_count": 131,
   "outputs": [
    {
     "output_type": "stream",
     "text": [
      "****************** Finished Testing for model 0 saved at epoch 21.0 ******************\n",
      "Test   CossEntrpy loss: 0.6138644218444824, Accuracy: 0.7929906249046326\n",
      "Time elapsed for testing: 0:0\n",
      "****************** Finished Testing for model 1 saved at epoch 19.0 ******************\n",
      "Test   CossEntrpy loss: 0.6138644218444824, Accuracy: 0.7929906249046326\n",
      "Time elapsed for testing: 0:0\n",
      "****************** Finished Testing for model 2 saved at epoch 23.0 ******************\n",
      "Test   CossEntrpy loss: 0.6138644218444824, Accuracy: 0.7929906249046326\n",
      "Time elapsed for testing: 0:0\n",
      "****************** Finished Testing for model 3 saved at epoch 24.0 ******************\n",
      "Test   CossEntrpy loss: 0.6138644218444824, Accuracy: 0.7929906249046326\n",
      "Time elapsed for testing: 0:0\n"
     ],
     "name": "stdout"
    }
   ]
  },
  {
   "cell_type": "code",
   "metadata": {
    "colab": {
     "base_uri": "https://localhost:8080/",
     "height": 172
    },
    "id": "0NxbwDzdR5J0",
    "executionInfo": {
     "status": "ok",
     "timestamp": 1626523018316,
     "user_tz": -120,
     "elapsed": 215,
     "user": {
      "displayName": "dario ruggeri",
      "photoUrl": "",
      "userId": "00605556345834424824"
     }
    },
    "outputId": "0c3baaa2-b610-43d6-a48d-e2a1d310835f"
   },
   "source": [
    "best_models_df = best_models_df.sort_values(by=\"test_acc\", ascending=False, ignore_index=True)\n",
    "torch.save(best_models_df.loc[0, \"state_dict\"], join(checkpoints, f\"model_with_acc_{str(best_models_df.loc[0, 'test_acc'])[2:7]}.pt\"))\n",
    "best_models_df.drop(columns=\"state_dict\")"
   ],
   "execution_count": 125,
   "outputs": [
    {
     "output_type": "execute_result",
     "data": {
      "text/html": [
       "<div>\n",
       "<style scoped>\n",
       "    .dataframe tbody tr th:only-of-type {\n",
       "        vertical-align: middle;\n",
       "    }\n",
       "\n",
       "    .dataframe tbody tr th {\n",
       "        vertical-align: top;\n",
       "    }\n",
       "\n",
       "    .dataframe thead th {\n",
       "        text-align: right;\n",
       "    }\n",
       "</style>\n",
       "<table border=\"1\" class=\"dataframe\">\n",
       "  <thead>\n",
       "    <tr style=\"text-align: right;\">\n",
       "      <th></th>\n",
       "      <th>epoch</th>\n",
       "      <th>loss</th>\n",
       "      <th>test_acc</th>\n",
       "    </tr>\n",
       "  </thead>\n",
       "  <tbody>\n",
       "    <tr>\n",
       "      <th>0</th>\n",
       "      <td>21.0</td>\n",
       "      <td>0.359409</td>\n",
       "      <td>0.792991</td>\n",
       "    </tr>\n",
       "    <tr>\n",
       "      <th>1</th>\n",
       "      <td>19.0</td>\n",
       "      <td>0.364090</td>\n",
       "      <td>0.792991</td>\n",
       "    </tr>\n",
       "    <tr>\n",
       "      <th>2</th>\n",
       "      <td>23.0</td>\n",
       "      <td>0.364539</td>\n",
       "      <td>0.792991</td>\n",
       "    </tr>\n",
       "    <tr>\n",
       "      <th>3</th>\n",
       "      <td>24.0</td>\n",
       "      <td>0.365167</td>\n",
       "      <td>0.792991</td>\n",
       "    </tr>\n",
       "  </tbody>\n",
       "</table>\n",
       "</div>"
      ],
      "text/plain": [
       "   epoch      loss  test_acc\n",
       "0   21.0  0.359409  0.792991\n",
       "1   19.0  0.364090  0.792991\n",
       "2   23.0  0.364539  0.792991\n",
       "3   24.0  0.365167  0.792991"
      ]
     },
     "metadata": {
      "tags": []
     },
     "execution_count": 125
    }
   ]
  },
  {
   "cell_type": "code",
   "metadata": {
    "id": "_EpO7bPlK0Aq",
    "colab": {
     "base_uri": "https://localhost:8080/",
     "height": 295
    },
    "executionInfo": {
     "status": "ok",
     "timestamp": 1626523032583,
     "user_tz": -120,
     "elapsed": 767,
     "user": {
      "displayName": "dario ruggeri",
      "photoUrl": "",
      "userId": "00605556345834424824"
     }
    },
    "outputId": "545c7383-bf78-409a-ae40-5bf72085e037"
   },
   "source": [
    "conf_mat = confusion_matrix(test_y_true, (test_y_pred.numpy() > 0.5)*1, normalize=\"true\")\n",
    "ax = sns.heatmap(conf_mat, linewidth=0.5, xticklabels=['failed', 'successful'], yticklabels=['failed', 'successful'], cmap='Greens', annot=True)\n",
    "plt.title(\"Confusion Matrix\")\n",
    "plt.xlabel(\"True\")\n",
    "plt.ylabel(\"Pred\")\n",
    "plt.show()"
   ],
   "execution_count": 126,
   "outputs": [
    {
     "output_type": "display_data",
     "data": {
      "image/png": "[encoded data removed]",
      "text/plain": [
       "<Figure size 432x288 with 2 Axes>"
      ]
     },
     "metadata": {
      "tags": [],
      "needs_background": "light"
     }
    }
   ]
  }
 ]
}