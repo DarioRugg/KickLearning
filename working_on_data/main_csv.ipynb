{
 "cells": [
  {
   "cell_type": "code",
   "execution_count": 1,
   "metadata": {
    "collapsed": true
   },
   "outputs": [],
   "source": [
    "import pandas as pd\n",
    "import json\n",
    "import numpy as np\n",
    "import pprint as pp"
   ]
  },
  {
   "cell_type": "markdown",
   "source": [
    "## Reading the dataframe"
   ],
   "metadata": {
    "collapsed": false
   }
  },
  {
   "cell_type": "code",
   "execution_count": 2,
   "outputs": [],
   "source": [
    "file_path = \"data/2021_3/Kickstarter.csv\""
   ],
   "metadata": {
    "collapsed": false,
    "pycharm": {
     "name": "#%%\n"
    }
   }
  },
  {
   "cell_type": "code",
   "execution_count": 3,
   "outputs": [],
   "source": [
    "df = pd.read_csv(file_path)"
   ],
   "metadata": {
    "collapsed": false,
    "pycharm": {
     "name": "#%%\n"
    }
   }
  },
  {
   "cell_type": "markdown",
   "source": [
    "## Columns categorization"
   ],
   "metadata": {
    "collapsed": false,
    "pycharm": {
     "name": "#%% md\n"
    }
   }
  },
  {
   "cell_type": "code",
   "execution_count": 184,
   "outputs": [
    {
     "data": {
      "text/plain": "True"
     },
     "execution_count": 184,
     "metadata": {},
     "output_type": "execute_result"
    }
   ],
   "source": [
    "ready_cols = [\"id\", \"name\", \"backers_count\", \"blurb\", \"converted_pledged_amount\", \"country\", \"created_at\", \"currency\",\n",
    "              \"deadline\", \"disable_communication\", \"friends\", \"goal\", \"launched_at\", \"fx_rate\", \"pledged\", \"usd_pledged\", \"state\", \"state_changed_at\", \"usd_type\"]\n",
    "not_understood_cols = [\"currency_trailing_code\", \"is_backing\", \"is_starrable\", \"is_starred\", \"permissions\", \"spotlight\", \"staff_pick\", \"static_usd_rate\"]\n",
    "dict_cols = [\"category\", \"creator\", \"location\", \"photo\", \"profile\", \"urls\"]\n",
    "useless_cols = [\"country_displayable_name\", \"currency_symbol\", \"current_currency\", \"slug\", \"source_url\"]\n",
    "\n",
    "len(set(ready_cols+not_understood_cols+dict_cols+useless_cols)) == len(set(df.columns))"
   ],
   "metadata": {
    "collapsed": false,
    "pycharm": {
     "name": "#%%\n"
    }
   }
  },
  {
   "cell_type": "code",
   "execution_count": 4,
   "outputs": [],
   "source": [
    "# <- 2018\n",
    "old_projects_cols = [\"id\", \"backers_count\", \"usd_pledged\", \"goal\", \"state\", \"state_changed_at\", \"created_at\",\n",
    "                     \"launched_at\", \"deadline\", \"spotlight\", \"staff_pick\"] # creator.id, categories"
   ],
   "metadata": {
    "collapsed": false,
    "pycharm": {
     "name": "#%%\n"
    }
   }
  },
  {
   "cell_type": "code",
   "execution_count": 5,
   "outputs": [],
   "source": [
    "# 2018 ->\n",
    "actual_projects_cols = [\"id\", \"backers_count\", \"country\", \"fx_rate\", \"pledged\", \"usd_pledged\", \"currency\", \"goal\",\n",
    "                        \"state\", \"state_changed_at\", \"created_at\", \"launched_at\", \"deadline\", \"disable_communication\"] # creator.id, categories, urls"
   ],
   "metadata": {
    "collapsed": false,
    "pycharm": {
     "name": "#%%\n"
    }
   }
  },
  {
   "cell_type": "markdown",
   "source": [
    "### Categories\n",
    "We have category and sub category:"
   ],
   "metadata": {
    "collapsed": false
   }
  },
  {
   "cell_type": "code",
   "execution_count": 6,
   "outputs": [],
   "source": [
    "def get_categories(entry):\n",
    "    category_dict = json.loads(entry[\"category\"])\n",
    "    if \"parent_name\" in category_dict.keys():\n",
    "        return pd.Series({\n",
    "            \"category\": category_dict[\"parent_name\"],\n",
    "            \"sub_category\": category_dict[\"name\"]\n",
    "        })\n",
    "    else:\n",
    "        return pd.Series({\n",
    "            \"category\": category_dict[\"name\"]\n",
    "        })"
   ],
   "metadata": {
    "collapsed": false,
    "pycharm": {
     "name": "#%%\n"
    }
   }
  },
  {
   "cell_type": "markdown",
   "source": [
    "### Creator\n",
    "Better to scrape those information again."
   ],
   "metadata": {
    "collapsed": false
   }
  },
  {
   "cell_type": "markdown",
   "source": [
    "### Location\n",
    "We need only the country; but we have it already in country."
   ],
   "metadata": {
    "collapsed": false
   }
  },
  {
   "cell_type": "markdown",
   "source": [
    "### Photo\n",
    "Better to scrape those information again."
   ],
   "metadata": {
    "collapsed": false
   }
  },
  {
   "cell_type": "markdown",
   "source": [
    "### Profile\n",
    "Duplicated information."
   ],
   "metadata": {
    "collapsed": false
   }
  },
  {
   "cell_type": "markdown",
   "source": [
    "### Urls\n",
    "here we have the URL and the reward page."
   ],
   "metadata": {
    "collapsed": false,
    "pycharm": {
     "name": "#%% md\n"
    }
   }
  },
  {
   "cell_type": "code",
   "execution_count": 7,
   "outputs": [],
   "source": [
    "def get_urls(entry):\n",
    "    return pd.Series({\n",
    "        \"project_url\": json.loads(entry[\"urls\"])[\"web\"][\"project\"],\n",
    "        \"rewards_url\": json.loads(entry[\"urls\"])[\"web\"][\"rewards\"]\n",
    "    })"
   ],
   "metadata": {
    "collapsed": false,
    "pycharm": {
     "name": "#%%\n"
    }
   }
  },
  {
   "cell_type": "markdown",
   "source": [
    "## creating the dataframe to save\n"
   ],
   "metadata": {
    "collapsed": false,
    "pycharm": {
     "name": "#%% md\n"
    }
   }
  },
  {
   "cell_type": "code",
   "execution_count": 8,
   "outputs": [],
   "source": [
    "tidy_df = pd.concat((df[actual_projects_cols], df.apply(get_categories, axis=1), df.apply(get_urls, axis=1)), axis=1)"
   ],
   "metadata": {
    "collapsed": false,
    "pycharm": {
     "name": "#%%\n"
    }
   }
  },
  {
   "cell_type": "code",
   "execution_count": 10,
   "outputs": [],
   "source": [
    "tidy_df.to_csv(\"per_simo.csv\")\n"
   ],
   "metadata": {
    "collapsed": false,
    "pycharm": {
     "name": "#%%\n"
    }
   }
  }
 ],
 "metadata": {
  "kernelspec": {
   "display_name": "Python 3",
   "language": "python",
   "name": "python3"
  },
  "language_info": {
   "codemirror_mode": {
    "name": "ipython",
    "version": 2
   },
   "file_extension": ".py",
   "mimetype": "text/x-python",
   "name": "python",
   "nbconvert_exporter": "python",
   "pygments_lexer": "ipython2",
   "version": "2.7.6"
  }
 },
 "nbformat": 4,
 "nbformat_minor": 0
}