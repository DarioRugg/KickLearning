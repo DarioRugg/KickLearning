{
  "nbformat": 4,
  "nbformat_minor": 0,
  "metadata": {
    "colab": {
      "name": "merging_storic_information.ipynb",
      "provenance": [],
      "authorship_tag": "ABX9TyOsoxWPuUY9L3VzHjFAqtOE",
      "include_colab_link": true
    },
    "kernelspec": {
      "name": "python3",
      "display_name": "Python 3"
    },
    "language_info": {
      "name": "python"
    }
  },
  "cells": [
    {
      "cell_type": "markdown",
      "metadata": {
        "id": "view-in-github",
        "colab_type": "text"
      },
      "source": [
        "<a href=\"https://colab.research.google.com/github/DarioneNazionale/KickLearning/blob/main/working_on_data/merging_historical_information.ipynb\" target=\"_parent\"><img src=\"https://colab.research.google.com/assets/colab-badge.svg\" alt=\"Open In Colab\"/></a>"
      ]
    },
    {
      "cell_type": "markdown",
      "metadata": {
        "id": "Ks6L088YaPvV"
      },
      "source": [
        "## Merging the historical stada in the dataset"
      ]
    },
    {
      "cell_type": "markdown",
      "metadata": {
        "id": "nd0uN6whaZ6z"
      },
      "source": [
        "### Imports"
      ]
    },
    {
      "cell_type": "code",
      "metadata": {
        "id": "-TPxeRoI_yfX"
      },
      "source": [
        "historical_data_path = \"./drive/MyDrive/Project/Data\"\n",
        "data_path = \"./drive/MyDrive/Project/Data/datasets\"\n",
        "destination_path = \"./drive/MyDrive/Project/Data/complete\""
      ],
      "execution_count": 1,
      "outputs": []
    },
    {
      "cell_type": "code",
      "metadata": {
        "id": "oMaYnna5_w-H"
      },
      "source": [
        "import os\n",
        "import numpy as np\n",
        "from os.path import join\n",
        "import pandas as pd\n",
        "import time"
      ],
      "execution_count": 2,
      "outputs": []
    },
    {
      "cell_type": "markdown",
      "metadata": {
        "id": "WWMzijWHaK83"
      },
      "source": [
        "### Fetching the historical data"
      ]
    },
    {
      "cell_type": "code",
      "metadata": {
        "id": "GUvwDZX3AwD-"
      },
      "source": [
        "historical_df = pd.read_csv(join(historical_data_path, \"complete_historical_info.csv\"))"
      ],
      "execution_count": 3,
      "outputs": []
    },
    {
      "cell_type": "markdown",
      "metadata": {
        "id": "pJv9FuwUDcFu"
      },
      "source": [
        "### historical Info Function\n",
        "Function to be then applied on all the dataset"
      ]
    },
    {
      "cell_type": "code",
      "metadata": {
        "id": "-zLTsPTPBm5V"
      },
      "source": [
        "def get_history(entry, historical_df):\n",
        "    reduced_historical_df = historical_df[(historical_df[\"creator_id\"] == entry[\"creator_id\"])&(historical_df[\"id\"] != entry[\"id\"])&(historical_df[\"time\"] < entry[\"launched_at\"])]\n",
        "    reduced_historical_df = reduced_historical_df.loc[reduced_historical_df.groupby('id')['time'].idxmax()]\n",
        "    reduced_historical_df.drop(columns=[\"id\", \"creator_id\"], inplace=True)\n",
        "    \n",
        "    if len(reduced_historical_df) == 0: return pd.Series(dtype=int)\n",
        "    else: return pd.Series([reduced_historical_df[col].tolist() for col in reduced_historical_df.columns], index=reduced_historical_df.columns)"
      ],
      "execution_count": 4,
      "outputs": []
    },
    {
      "cell_type": "markdown",
      "metadata": {
        "id": "DMvKJ-L4Z1ph"
      },
      "source": [
        "## Applying on all the dataset\n",
        "Merging the historical data with the actual one file by file"
      ]
    },
    {
      "cell_type": "code",
      "metadata": {
        "id": "4M1FTyFM-a50",
        "colab": {
          "base_uri": "https://localhost:8080/"
        },
        "outputId": "f786a2d7-4c6e-4c54-c789-8236eff0c573"
      },
      "source": [
        "file_list = sorted(filter(lambda file: file[:4]==\"file\", os.listdir(data_path)), reverse=True)\n",
        "\n",
        "start = time.perf_counter()\n",
        "for i, file_name in enumerate(file_list, start=1):\n",
        "\n",
        "    df = pd.read_csv(os.path.join(data_path, file_name))\n",
        "\n",
        "    df_history = df[[\"id\", \"creator_id\", \"year\", \"launched_at\"]].apply(lambda entry: get_history(entry, historical_df), axis=1)\n",
        "\n",
        "    df = pd.concat((df, df_history), axis=1)\n",
        "\n",
        "    df.to_csv(join(destination_path, file_name), index=False)\n",
        "\n",
        "    print(f\"Time elapsed: {time.perf_counter()-start}; remaning time: {(time.perf_counter()-start)/i*(len(file_list)-i)}\")\n",
        "    print(f\"Done {round(i/len(file_list)*100)}% untill now, in total {i} files\", end=\"\\n\\n\")\n",
        "\n",
        "    # debbug print\n",
        "    if i == 1: print(df.head(10))\n",
        "\n",
        "print(f\"Time elapsed in total: {time.perf_counter()-start}\")"
      ],
      "execution_count": 5,
      "outputs": [
        {
          "output_type": "stream",
          "text": [
            "Time elapsed: 493.0190586969984; remaning time: 7888.305214511987\n",
            "Done 6% untill now, in total 1 files\n",
            "\n",
            "     deadline  ...                             usd_pledged\n",
            "0  1410373095  ...                                     NaN\n",
            "1  1365980340  ...                                     NaN\n",
            "2  1521039624  ...                                     NaN\n",
            "3  1520689842  ...  [146592.0, 281241.0, 77754.0, 60869.0]\n",
            "4  1513702800  ...                               [94415.0]\n",
            "5  1525367592  ...                    [1128.3752550000004]\n",
            "6  1512662340  ...                        [687263.0729832]\n",
            "7  1522353600  ...                              [44653.25]\n",
            "8  1511982005  ...                                     NaN\n",
            "9  1414784642  ...                                     NaN\n",
            "\n",
            "[10 rows x 21 columns]\n",
            "Time elapsed: 1171.2432008629985; remaning time: 8784.324177772505\n",
            "Done 12% untill now, in total 2 files\n",
            "\n",
            "Time elapsed: 1852.3279223110003; remaning time: 8644.197134444665\n",
            "Done 18% untill now, in total 3 files\n",
            "\n",
            "Time elapsed: 2535.025323850001; remaning time: 8238.832368065\n",
            "Done 24% untill now, in total 4 files\n",
            "\n",
            "Time elapsed: 3207.689778189; remaning time: 7698.456681045598\n",
            "Done 29% untill now, in total 5 files\n",
            "\n",
            "Time elapsed: 3881.8013354299983; remaning time: 7116.635812201667\n",
            "Done 35% untill now, in total 6 files\n",
            "\n",
            "Time elapsed: 4561.693966769999; remaning time: 6516.705740214285\n",
            "Done 41% untill now, in total 7 files\n",
            "\n",
            "Time elapsed: 5241.024185849001; remaning time: 5896.152234550127\n",
            "Done 47% untill now, in total 8 files\n",
            "\n",
            "Time elapsed: 5914.006521584; remaning time: 5256.894725514667\n",
            "Done 53% untill now, in total 9 files\n",
            "\n",
            "Time elapsed: 6584.183327128001; remaning time: 4608.928389281301\n",
            "Done 59% untill now, in total 10 files\n",
            "\n",
            "Time elapsed: 7265.114798582999; remaning time: 3962.7898999167273\n",
            "Done 65% untill now, in total 11 files\n",
            "\n",
            "Time elapsed: 7930.428155176; remaning time: 3304.3450704399993\n",
            "Done 71% untill now, in total 12 files\n",
            "\n",
            "Time elapsed: 8593.765710356998; remaning time: 2644.235606780615\n",
            "Done 76% untill now, in total 13 files\n",
            "\n",
            "Time elapsed: 9260.464304770001; remaning time: 1984.3852110942862\n",
            "Done 82% untill now, in total 14 files\n",
            "\n",
            "Time elapsed: 9924.286715405; remaning time: 1323.238230494\n",
            "Done 88% untill now, in total 15 files\n",
            "\n",
            "Time elapsed: 10573.002623404001; remaning time: 660.8126647964998\n",
            "Done 94% untill now, in total 16 files\n",
            "\n",
            "Time elapsed: 11225.201755432001; remaning time: 0.0\n",
            "Done 100% untill now, in total 17 files\n",
            "\n",
            "Time elapsed in total: 11225.203441572\n"
          ],
          "name": "stdout"
        }
      ]
    }
  ]
}