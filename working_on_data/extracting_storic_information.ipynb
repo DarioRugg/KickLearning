{
  "nbformat": 4,
  "nbformat_minor": 0,
  "metadata": {
    "colab": {
      "name": "extracting_storic_information.ipynb",
      "provenance": [],
      "collapsed_sections": [],
      "mount_file_id": "https://github.com/DarioneNazionale/KickLearning/blob/main/working_on_data/extracting_storic_information.ipynb",
      "authorship_tag": "ABX9TyOjWMs6HORuvFLtzImItP6X",
      "include_colab_link": true
    },
    "kernelspec": {
      "name": "python3",
      "display_name": "Python 3"
    },
    "language_info": {
      "name": "python"
    }
  },
  "cells": [
    {
      "cell_type": "markdown",
      "metadata": {
        "id": "view-in-github",
        "colab_type": "text"
      },
      "source": [
        "<a href=\"https://colab.research.google.com/github/DarioneNazionale/KickLearning/blob/main/working_on_data/extracting_storic_information.ipynb\" target=\"_parent\"><img src=\"https://colab.research.google.com/assets/colab-badge.svg\" alt=\"Open In Colab\"/></a>"
      ]
    },
    {
      "cell_type": "markdown",
      "metadata": {
        "id": "SfpHXOo5uu2q"
      },
      "source": [
        "# Coning the repository"
      ]
    },
    {
      "cell_type": "code",
      "metadata": {
        "id": "KSS25Z7FMmbG",
        "colab": {
          "base_uri": "https://localhost:8080/"
        },
        "outputId": "e2433df5-ffcb-4ae7-8853-4ac7aa4ff0dd"
      },
      "source": [
        "! git clone https://github.com/DarioneNazionale/KickLearning.git\n",
        "%cd KickLearning"
      ],
      "execution_count": null,
      "outputs": [
        {
          "output_type": "stream",
          "text": [
            "Cloning into 'KickLearning'...\n",
            "remote: Enumerating objects: 106, done.\u001b[K\n",
            "remote: Counting objects: 100% (106/106), done.\u001b[K\n",
            "remote: Compressing objects: 100% (88/88), done.\u001b[K\n",
            "remote: Total 106 (delta 40), reused 50 (delta 12), pack-reused 0\u001b[K\n",
            "Receiving objects: 100% (106/106), 229.81 KiB | 3.15 MiB/s, done.\n",
            "Resolving deltas: 100% (40/40), done.\n",
            "/content/KickLearning\n"
          ],
          "name": "stdout"
        }
      ]
    },
    {
      "cell_type": "markdown",
      "metadata": {
        "id": "sK1Ne3KCJsDP"
      },
      "source": [
        "# Building the storic informations "
      ]
    },
    {
      "cell_type": "code",
      "metadata": {
        "id": "wBpDqHPvIyCW"
      },
      "source": [
        "data_path = \"./drive/MyDrive/Project/Data/zip\"\n",
        "destination_path = \"./drive/MyDrive/Project/Data\""
      ],
      "execution_count": 7,
      "outputs": []
    },
    {
      "cell_type": "code",
      "metadata": {
        "id": "UIypGADeJCRl"
      },
      "source": [
        "import os\n",
        "import re\n",
        "import pandas as pd\n",
        "import json\n",
        "import time\n",
        "from collections import defaultdict\n",
        "from working_on_data.utils import get_creator"
      ],
      "execution_count": 8,
      "outputs": []
    },
    {
      "cell_type": "markdown",
      "metadata": {
        "id": "ZuTMguCSKYai"
      },
      "source": [
        "## Functions to retrive categories"
      ]
    },
    {
      "cell_type": "code",
      "metadata": {
        "id": "zOJItW3TJLog"
      },
      "source": [
        "all_entries_df = pd.DataFrame()\n",
        "\n",
        "file_list = sorted(filter(lambda file: file[-4:]==\".csv\", os.listdir(data_path)), reverse=True)\n",
        "\n",
        "start = time.perf_counter()\n",
        "for i in range(len(file_list)):\n",
        "    file = file_list[i]\n",
        "\n",
        "    df = pd.read_csv(os.path.join(data_path, file), usecols=[\"id\", \"creator\", \"backers_count\", \"usd_pledged\", \"state\", \"launched_at\"])\n",
        "\n",
        "    df = pd.concat((df, df.apply(get_creator, axis=1)), axis=1).drop(columns=[\"creator\"])\n",
        "\n",
        "    df[\"year\"] = int(re.match(r\"\\d+(?=-)\", file).group())\n",
        "\n",
        "    all_entries_df = pd.concat([all_entries_df, df], axis=0)\n",
        "        \n",
        "    if i>0 and i % round(len(file_list)/100) == 0:\n",
        "        print(f\"Time elapsed: {time.perf_counter()-start}; remaning time: {(time.perf_counter()-start)/i*(len(file_list)-i)}\")\n",
        "        print(f\"Done {round(i/len(file_list)*100)}% untill now, in total {i} files\", end=\"\\n\\n\")\n"
      ],
      "execution_count": null,
      "outputs": []
    },
    {
      "cell_type": "code",
      "metadata": {
        "id": "zZRsQars8sO7"
      },
      "source": [
        "all_entries_df.to_csv(os.path.join(destination_path, \"complete_storic_info.csv\"), index=False)"
      ],
      "execution_count": null,
      "outputs": []
    }
  ]
}