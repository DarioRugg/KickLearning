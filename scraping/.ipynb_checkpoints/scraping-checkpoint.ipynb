{
 "cells": [
  {
   "cell_type": "code",
   "execution_count": null,
   "metadata": {
    "colab": {
     "base_uri": "https://localhost:8080/"
    },
    "id": "PN7AysYnPqQ-",
    "outputId": "0d2d2d5a-aff5-4f1f-d07f-e60c9e0b4b80"
   },
   "outputs": [
    {
     "name": "stdout",
     "output_type": "stream",
     "text": [
      "Drive already mounted at /content/drive; to attempt to forcibly remount, call drive.mount(\"/content/drive\", force_remount=True).\n"
     ]
    }
   ],
   "source": [
    "from google.colab import drive\n",
    "drive.mount('/content/drive') "
   ]
  },
  {
   "cell_type": "code",
   "execution_count": null,
   "metadata": {
    "id": "LwNFDs29O0gE"
   },
   "outputs": [],
   "source": [
    "name = 'file_0001.csv'"
   ]
  },
  {
   "cell_type": "code",
   "execution_count": null,
   "metadata": {
    "id": "pls3esvkNIco"
   },
   "outputs": [],
   "source": [
    "%%capture\n",
    "![ ! -f \"scraper.py\" ] && wget scraper.py https://raw.githubusercontent.com/DarioneNazionale/KickLearning/main/scraping/scraper.py\n",
    "!pip install cchardet requests-futures http_request_randomizer bs4 lxml\n"
   ]
  },
  {
   "cell_type": "code",
   "execution_count": null,
   "metadata": {
    "colab": {
     "base_uri": "https://localhost:8080/"
    },
    "id": "Exa4GcE-P3Mv",
    "outputId": "28fe26cd-ee5f-4222-f02a-3765e786a992"
   },
   "outputs": [
    {
     "name": "stdout",
     "output_type": "stream",
     "text": [
      "2021-06-05 00:07:29,901 http_request_randomizer.requests.useragent.userAgent INFO     Using local file for user agents: /usr/local/lib/python3.7/dist-packages/http_request_randomizer/requests/proxy/../data/user_agents.txt\n",
      "2021-06-05 00:07:29,902 root   DEBUG    === Initialized Proxy Parsers ===\n",
      "2021-06-05 00:07:29,902 root   DEBUG    \t FreeProxy parser of 'http://free-proxy-list.net' with required bandwidth: '150' KBs\n",
      "2021-06-05 00:07:29,902 root   DEBUG    \t PremProxy parser of 'https://premproxy.com/list/' with required bandwidth: '150' KBs\n",
      "2021-06-05 00:07:29,902 root   DEBUG    \t SslProxy parser of 'https://www.sslproxies.org' with required bandwidth: '150' KBs\n",
      "2021-06-05 00:07:29,902 root   DEBUG    =================================\n",
      "2021-06-05 00:07:30,282 root   DEBUG    Added 300 proxies from FreeProxy\n",
      "2021-06-05 00:07:35,442 http_request_randomizer.requests.parsers.PremProxyParser ERROR    Provider PremProxy failed with Unknown error: HTTPSConnectionPool(host='premproxy.com', port=443): Max retries exceeded with url: /list/ (Caused by ConnectTimeoutError(<urllib3.connection.VerifiedHTTPSConnection object at 0x7eff0ddfe790>, 'Connection to premproxy.com timed out. (connect timeout=5)'))\n",
      "2021-06-05 00:07:35,443 root   DEBUG    Added 0 proxies from PremProxy\n",
      "2021-06-05 00:07:35,619 root   DEBUG    Added 100 proxies from SslProxy\n",
      "2021-06-05 00:07:35,619 root   DEBUG    Total proxies = 400\n",
      "2021-06-05 00:07:35,620 root   DEBUG    Filtered proxies = 400\n",
      "------ Page 8001: bptsteblm/stripy-deck-pastel-edition-playing-cards-for-cardi ------\n",
      "Time for this page was 2.4s\n",
      "------ Page 8002: 616917645/tre-locally-sourced ------\n",
      "Time for this page was 2.09s\n",
      "------ Page 8003: 1704084448/classic-fantasy-adventurers-a-set-of-9-metal-miniatures ------\n",
      "Time for this page was 2.09s\n",
      "------ Page 8004: 1610942482/drink-o-tron-the-drinking-game-of-drinking-games ------\n",
      "Time for this page was 2.09s\n",
      "------ Page 8005: 189689702/the-wing-wagon ------\n",
      "Time for this page was 2.0s\n",
      "------ Page 8006: cherrypiegames/tacopocalypse ------\n",
      "Time for this page was 2.21s\n",
      "------ Page 8007: natwuns/tome-of-mystical-tattoos-for-5e ------\n",
      "Time for this page was 2.15s\n",
      "------ Page 8008: triggr/the-skape-rooms-team-building-event-and-entertainm ------\n",
      "Time for this page was 2.01s\n",
      "------ Page 8009: duebest/duebest-cutlery-set ------\n",
      "Time for this page was 2.95s\n",
      "------ Page 8010: 55013040/chefseye-food-truck ------\n",
      "Time for this page was 2.16s\n",
      "------ Page 8011: macunx/macunx-vr-memory-palaces-in-virtual-reality ------\n",
      "Time for this page was 2.08s\n",
      "------ Page 8012: 39828459/zephora ------\n",
      "Time for this page was 2.0s\n",
      "------ Page 8013: genedusk/genedusk ------\n",
      "Time for this page was 2.17s\n",
      "------ Page 8014: tinkerscaravan/tinkered-tower-a-fully-modular-dice-tower-and-storage-unit ------\n",
      "Time for this page was 2.34s\n",
      "------ Page 8015: 1387066258/birdie-buckets-0 ------\n",
      "Time for this page was 2.21s\n",
      "------ Page 8016: 1849645373/triple-whammy-sauces-for-life ------\n",
      "Time for this page was 2.19s\n",
      "------ Page 8017: 1497676601/two-piece-grill-and-mobile-bistro ------\n",
      "Time for this page was 2.11s\n",
      "------ Page 8018: oneadventure/one-adventure ------\n",
      "Time for this page was 2.12s\n",
      "------ Page 8019: puzzlesensei/jigsaw-puzzles-designed-to-inspire-by-puzzle-sensei ------\n",
      "Time for this page was 2.09s\n",
      "------ Page 8020: eagregames/zed ------\n",
      "Time for this page was 2.53s\n",
      "------ Page 8021: 1110526912/fire-and-flames-game-station ------\n",
      "Time for this page was 2.06s\n",
      "------ Page 8022: 1837362046/yahu-restaurants ------\n",
      "Time for this page was 2.11s\n",
      "------ Page 8023: timothykremer/heroes-of-the-nations-luxury-case ------\n",
      "Time for this page was 2.14s\n",
      "------ Page 8024: haydar/educationbygamescom ------\n",
      "Time for this page was 2.0s\n",
      "------ Page 8025: samuelmilham/silverwood-grove-your-woodland-adventure-awaits ------\n",
      "Time for this page was 2.11s\n",
      "------ Page 8026: conquestiq/conquest-iq-the-ultimate-strategy-board-game ------\n",
      "Time for this page was 2.21s\n",
      "------ Page 8027: jasonmayr/bringing-a-gaming-cockpit-for-flight-simulators-to ------\n",
      "Time for this page was 2.07s\n",
      "------ Page 8028: dthains/playing-cards-the-dark-lords-of-the-sith ------\n",
      "Time for this page was 2.15s\n",
      "------ Page 8029: onedreamer/one-dreamer ------\n",
      "Time for this page was 2.29s\n",
      "------ Page 8030: 1072561683/tower-100 ------\n",
      "Time for this page was 2.06s\n",
      "------ Page 8031: winterymute/last-orders-real-ales-for-fantasy-roleplaying-games ------\n",
      "Time for this page was 2.2s\n",
      "------ Page 8032: david-moore/guards-against-insanity-a-cards-against-humanity-e ------\n",
      "Time for this page was 2.24s\n",
      "------ Page 8033: ravnmagic/ravn-playing-cards-purple-haze ------\n",
      "Time for this page was 2.37s\n",
      "------ Page 8034: ubn/ending-biased-news ------\n",
      "Time for this page was 2.0s\n",
      "------ Page 8035: 2131128986/black-dog-distillery-yorkvilles-new-craft-distille ------\n",
      "Time for this page was 2.26s\n",
      "------ Page 8036: 331231057/memotopia ------\n",
      "Time for this page was 2.02s\n",
      "------ Page 8037: cabal/alchemy-and-poisoncraft-a-module-and-an-adventure-for-5e ------\n",
      "Time for this page was 2.16s\n",
      "------ Page 8038: jvcparry/drakar ------\n",
      "Time for this page was 2.06s\n",
      "------ Page 8039: 581043983/the-journey-east ------\n",
      "Time for this page was 2.16s\n",
      "------ Page 8040: philly-global/philly-gone-global ------\n",
      "Time for this page was 2.27s\n",
      "------ Page 8041: tommyheaney/tommy-heaney-the-next-chapter-cardiff ------\n",
      "Time for this page was 2.68s\n",
      "------ Page 8042: martov/chiaro-and-the-elixir-of-life-a-virtual-reality-ad ------\n",
      "Time for this page was 2.32s\n",
      "------ Page 8043: 1733500527/colossal-miniatures-modern-day-survivors-0 ------\n",
      "Time for this page was 2.0s\n",
      "------ Page 8044: rotorxracing/wave-raskl-get-in-the-driver-seat-of-a-rc-car-w-ps ------\n",
      "Time for this page was 2.41s\n",
      "------ Page 8045: 576660179/the-royal-gourmet-worlds-best-tropical-fruit-prese ------\n",
      "Time for this page was 2.21s\n",
      "------ Page 8046: arcanescrollworks4/the-masticator-gate-a-third-party-mork-borg-campaign ------\n",
      "Time for this page was 2.3s\n",
      "------ Page 8047: 1188079515/shape-up ------\n",
      "Time for this page was 2.0s\n",
      "------ Page 8048: tks/zinequest3-docks-of-caswarren-a-legacy-rpg-city-guide ------\n",
      "Time for this page was 2.16s\n",
      "------ Page 8049: bestoutof5/nuclear-winter-wonderland ------\n",
      "Time for this page was 2.09s\n",
      "------ Page 8050: 871411070/grits-on-wheels-in-los-angeles-yall-come-an-get-it ------\n",
      "Time for this page was 2.17s\n",
      "------ Page 8051: 2112903458/meow-star-playing-cards-printed-by-uspcc-gift ------\n",
      "Time for this page was 2.18s\n",
      "------ Page 8052: thenoodleator/my-best-khaki-pants-a-ride-across-the-usa-mini-bo ------\n",
      "Time for this page was 2.0s\n",
      "------ Page 8053: rieindie/ise-and-kai-chosen-throne ------\n",
      "Time for this page was 2.58s\n",
      "------ Page 8054: 1329525418/dreamcade-replay-one-console-to-rule-them-all ------\n",
      "Time for this page was 2.17s\n",
      "------ Page 8055: 871664885/stopbugginme-tower-defense ------\n",
      "Time for this page was 2.27s\n",
      "------ Page 8056: 1630683949/food-for-thought-a-socially-conscious-restaurant-p ------\n",
      "Time for this page was 2.03s\n",
      "------ Page 8057: 611891928/snakelike ------\n",
      "Time for this page was 2.21s\n",
      "------ Page 8058: sugarfixation/sugar-fixation-on-the-go ------\n",
      "Time for this page was 2.42s\n",
      "------ Page 8059: onceuponacrumb/once-upon-a-crumb-bakery-and-cafe ------\n",
      "Time for this page was 2.06s\n",
      "------ Page 8060: borne-arcadream/arcade-machines-and-diy-kits ------\n",
      "Time for this page was 2.17s\n",
      "------ Page 8061: themedcatcafe/themed-cat-cafe ------\n",
      "Time for this page was 2.15s\n",
      "------ Page 8062: 1320510001/i-am-the-slaw ------\n",
      "Time for this page was 2.25s\n",
      "------ Page 8063: 1850664713/corazon-coffee-the-next-gen-in-coffee-trailers ------\n",
      "Time for this page was 2.1s\n",
      "------ Page 8064: christopherdoll/doll-house-baked-goods ------\n",
      "Time for this page was 2.16s\n",
      "------ Page 8065: 1399190761/food-on-the-go-0 ------\n",
      "Time for this page was 2.08s\n",
      "------ Page 8066: joestevens82/flight-club-come-out-and-play-festival-2019 ------\n",
      "Time for this page was 2.06s\n",
      "------ Page 8067: 1896378744/bar-room-brawl-rpg-miniatures-for-tavern-skirmishing ------\n",
      "Time for this page was 2.07s\n",
      "------ Page 8068: 847235927/can-you-handle-all-14-inches ------\n",
      "Time for this page was 2.0s\n",
      "------ Page 8069: thelostskull/our-last-days-a-solo-journaling-rpg ------\n",
      "Time for this page was 2.19s\n",
      "------ Page 8070: 1556371800/murder-ball ------\n",
      "Time for this page was 2.05s\n",
      "------ Page 8071: studiowumpus/sumer-a-game-of-divine-strategy ------\n",
      "Time for this page was 2.16s\n",
      "------ Page 8072: crossriflebbq/mission-bbq-sauce ------\n",
      "Time for this page was 2.06s\n",
      "------ Page 8073: markfinn/gobsmack ------\n",
      "Time for this page was 2.12s\n",
      "------ Page 8074: forageandfire/forage-and-fire-food-truck ------\n",
      "Time for this page was 2.16s\n",
      "------ Page 8075: levam/lift-every-voice-and-meme-a-black-card-game ------\n",
      "Time for this page was 2.59s\n",
      "------ Page 8076: jeprdev/derelict-mobile-ad-free-multiplayer-first-person-s ------\n",
      "Time for this page was 2.0s\n",
      "------ Page 8077: 364449167/daily-critter-playing-cards-pun-based-critters ------\n",
      "Time for this page was 2.13s\n",
      "------ Page 8078: aristo/v-twin-aristo-play-cards-uspcc ------\n"
     ]
    }
   ],
   "source": [
    "!python scraper.py $name"
   ]
  }
 ],
 "metadata": {
  "colab": {
   "collapsed_sections": [],
   "history_visible": true,
   "name": "Scraping.ipynb",
   "provenance": []
  },
  "kernelspec": {
   "display_name": "Python 3",
   "language": "python",
   "name": "python3"
  },
  "language_info": {
   "codemirror_mode": {
    "name": "ipython",
    "version": 3
   },
   "file_extension": ".py",
   "mimetype": "text/x-python",
   "name": "python",
   "nbconvert_exporter": "python",
   "pygments_lexer": "ipython3",
   "version": "3.8.3"
  }
 },
 "nbformat": 4,
 "nbformat_minor": 1
}
