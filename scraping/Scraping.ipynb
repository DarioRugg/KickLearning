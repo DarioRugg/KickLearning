{
 "cells": [
  {
   "cell_type": "code",
   "execution_count": 1,
   "metadata": {},
   "outputs": [],
   "source": [
    "#!pip install selenium\n",
    "import pandas as pd\n",
    "from bs4 import BeautifulSoup\n",
    "import time\n",
    "from selenium import webdriver\n",
    "import re"
   ]
  },
  {
   "cell_type": "code",
   "execution_count": 2,
   "metadata": {},
   "outputs": [],
   "source": [
    "\n",
    "#PATH = \"c:/Program Files (x86)/chromedriver_win32/chromedriver.exe\"\n",
    "PATH = \"F:\\chromedriver.exe\"\n",
    "options = webdriver.ChromeOptions()\n",
    "options.add_argument('--lang=en-US')\n",
    "options.add_argument(\"start-maximized\")\n"
   ]
  },
  {
   "cell_type": "code",
   "execution_count": 3,
   "metadata": {},
   "outputs": [
    {
     "name": "stdout",
     "output_type": "stream",
     "text": [
      "30.302588939666748\n"
     ]
    }
   ],
   "source": [
    "start = time.time()\n",
    "driver = webdriver.Chrome(PATH, options=options)\n",
    "root = \"https://www.kickstarter.com/projects/sanderbakker/cizor-a-tungsten-carbide-cutting-tool-for-every-day-use\"\n",
    "driver.get(root + '/description')\n",
    "\n",
    "\n",
    "driver1 = webdriver.Chrome(PATH, options=options)\n",
    "driver1.get(root + \"/creator_bio\")\n",
    "\n",
    "\n",
    "driver2 = webdriver.Chrome(PATH, options=options)\n",
    "profile = '/'.join(re.sub('projects', 'profile', root).split('/')[:-1])\n",
    "driver2.get(profile + '/about')\n",
    "\n",
    "\n",
    "driver3 = webdriver.Chrome(PATH, options=options)\n",
    "driver3.get(profile + '/created')\n",
    "time.sleep(5)\n",
    "desc = BeautifulSoup(driver.page_source, 'html.parser')\n",
    "creat = BeautifulSoup(driver1.page_source, 'html.parser')\n",
    "about = BeautifulSoup(driver2.page_source, 'html.parser')\n",
    "created = BeautifulSoup(driver3.page_source, 'html.parser')\n",
    "print(time.time() - start)"
   ]
  },
  {
   "cell_type": "code",
   "execution_count": 4,
   "metadata": {},
   "outputs": [],
   "source": [
    "'''\n",
    "first image, maybe we can extract some information about colors with histograms for example\n",
    "'''\n",
    "\n",
    "image = desc.find('div', {'class': 'project-profile__feature_image'}).find('img')['src']"
   ]
  },
  {
   "cell_type": "code",
   "execution_count": 5,
   "metadata": {},
   "outputs": [],
   "source": [
    "'''\n",
    "categorical 0 or 1: video or not\n",
    "'''\n",
    "\n",
    "has_video = desc.find('video') is not None"
   ]
  },
  {
   "cell_type": "code",
   "execution_count": 6,
   "metadata": {},
   "outputs": [],
   "source": [
    "## Pledge tiers\n",
    "'''\n",
    "numbers of pledg tiers, vector of values, to be converted in US dollars\n",
    "'''\n",
    "\n",
    "tiers = desc.find_all(\"div\", {\"class\": \"pledge__info\"})"
   ]
  },
  {
   "cell_type": "code",
   "execution_count": 7,
   "metadata": {},
   "outputs": [
    {
     "name": "stdout",
     "output_type": "stream",
     "text": [
      "n_tiers: 9, values:[40, 42, 48, 50, 58, 80, 88, 130, 138]\n"
     ]
    }
   ],
   "source": [
    "tiers_values = []\n",
    "for tier in tiers:\n",
    "    s = str(tier.find(\"span\", {\"class\": \"money\"}))\n",
    "    tiers_values.append(int(re.findall(r'\\d+', s)[0]))\n",
    "    \n",
    "n_tiers = len(tiers_values)\n",
    "###########\n",
    "print(f'n_tiers: {n_tiers}, values:{tiers_values}')"
   ]
  },
  {
   "cell_type": "code",
   "execution_count": 8,
   "metadata": {},
   "outputs": [
    {
     "name": "stdout",
     "output_type": "stream",
     "text": [
      "n_gifs: 15, n_images: 25\n"
     ]
    }
   ],
   "source": [
    "## Story \n",
    "'''\n",
    "text and number of images and gifs\n",
    "'''\n",
    "\n",
    "story = desc.find(\"div\", {'id': 'story'}).find_next_sibling()\n",
    "n_gifs = len(story.find_all('img', {'class': \"fit js-lazy-image\"}))\n",
    "n_images = len(story.find_all('img')) - n_gifs\n",
    "##########\n",
    "print(f'n_gifs: {n_gifs}, n_images: {n_images}')\n",
    "\n",
    "# text\n",
    "story_text = ' '.join([i for i in story.find_all(text=True) if i not in ['\\n', ' ']])"
   ]
  },
  {
   "cell_type": "code",
   "execution_count": 9,
   "metadata": {},
   "outputs": [],
   "source": [
    "## Risks and challenges\n",
    "'''\n",
    "just the text\n",
    "'''\n",
    "\n",
    "risks = desc.find(\"div\", {'id': 'risks-and-challenges'})\n",
    "risks_text = ' '.join([i for i in risks.find_all(text=True) if i not in ['\\n', ' ']])"
   ]
  },
  {
   "cell_type": "code",
   "execution_count": 10,
   "metadata": {},
   "outputs": [],
   "source": [
    "# websites\n",
    "'''\n",
    "number of websites\n",
    "'''\n",
    "\n",
    "websites = creat.find(\"ul\", {'class':\"links list f5 bold\"}).find_all('li')\n",
    "n_websites = len(websites)"
   ]
  },
  {
   "cell_type": "code",
   "execution_count": 11,
   "metadata": {},
   "outputs": [],
   "source": [
    "# linked facebook account\n",
    "'''\n",
    "categorical: 0 or 1, fb account linked or not\n",
    "'''\n",
    "\n",
    "fb = creat.find(\"div\", {'class':\"facebook py2 border-bottom f5\"})\n",
    "fb_linked = 0 if fb.find(\"a\", {'class': 'popup'}) == None else 1"
   ]
  },
  {
   "cell_type": "code",
   "execution_count": 17,
   "metadata": {},
   "outputs": [],
   "source": [
    "# collaborators\n",
    "'''\n",
    "names and number of collaborators\n",
    "'''\n",
    "# number\n",
    "n_collab = 0\n",
    "if creat.find(\"div\", {'class': 'pt3 pt7-sm mobile-hide row'}):\n",
    "    collaborators = creat.find(\"div\", {'class': 'pt3 pt7-sm mobile-hide row'}).findChildren('a')\n",
    "    n_collab = len(collaborators)\n",
    "    \n",
    "# names\n",
    "collab_names = []\n",
    "for col in collaborators:\n",
    "    collab_names.append(re.search(r'/profile/(.*?)/about', str(col)).group(1))   "
   ]
  },
  {
   "cell_type": "code",
   "execution_count": 13,
   "metadata": {},
   "outputs": [],
   "source": [
    "#creator description\n",
    "'''\n",
    "text to analyze\n",
    "'''\n",
    "creator_bio = about.find('div', {'class': 'inline-block mb3'}).find_next_siblings()\n",
    "bio_text = []\n",
    "for i in creator_bio:\n",
    "    if i.find(text=True) != None:\n",
    "        bio_text.append(i.find(text=True))\n",
    "    \n",
    "bio_text = ' '.join(bio_text)"
   ]
  },
  {
   "cell_type": "code",
   "execution_count": 14,
   "metadata": {},
   "outputs": [],
   "source": [
    "# creator websites\n",
    "'''\n",
    "number of the creator websites\n",
    "'''\n",
    "creator_web = about.find('ul', {'class': 'menu-submenu mb6'}).find_all('li')\n",
    "n_creator_websites = len(creator_web)"
   ]
  },
  {
   "cell_type": "code",
   "execution_count": 15,
   "metadata": {},
   "outputs": [],
   "source": [
    "'''\n",
    "number of previous projects\n",
    "'''\n",
    "\n",
    "# all projects from the creator\n",
    "all_projects = created.find('div', {'id': 'content'}).find_all('div', {'class': 'js-track-project-card'})\n",
    "\n",
    "for i, card in enumerate(all_projects):\n",
    "    if card.find('a', {'href':root}) != None:\n",
    "        prev_projects = all_projects[i+1:]\n",
    "        break\n",
    "## previous project titles\n",
    "n_prev_projects = len([x.find('h3', {'class' :'type-18 light hover-item-text-underline mb1'}) for x in prev_projects])"
   ]
  },
  {
   "cell_type": "code",
   "execution_count": 71,
   "metadata": {},
   "outputs": [],
   "source": [
    "# data for previous projects\n",
    "prev_data = [str(x)[:str(x).find('>')] for x in prev_projects]"
   ]
  },
  {
   "cell_type": "code",
   "execution_count": 75,
   "metadata": {},
   "outputs": [],
   "source": [
    "prev_backers = []\n",
    "prev_percent_succ = []\n",
    "n_prev_success = 0\n",
    "for proj in prev_projects:\n",
    "    prev_backers.append(int(proj['data-project_backers_count']))\n",
    "    prev_percent_succ.append(round(float(proj['data-project_percent_raised']), 2))\n",
    "    if proj['data-project_state'] == 'successful':\n",
    "        n_prev_success += 1\n",
    "    "
   ]
  },
  {
   "cell_type": "code",
   "execution_count": 80,
   "metadata": {},
   "outputs": [
    {
     "data": {
      "text/html": [
       "<div>\n",
       "<style scoped>\n",
       "    .dataframe tbody tr th:only-of-type {\n",
       "        vertical-align: middle;\n",
       "    }\n",
       "\n",
       "    .dataframe tbody tr th {\n",
       "        vertical-align: top;\n",
       "    }\n",
       "\n",
       "    .dataframe thead th {\n",
       "        text-align: right;\n",
       "    }\n",
       "</style>\n",
       "<table border=\"1\" class=\"dataframe\">\n",
       "  <thead>\n",
       "    <tr style=\"text-align: right;\">\n",
       "      <th></th>\n",
       "      <th>image</th>\n",
       "      <th>has_video</th>\n",
       "      <th>n_tiers</th>\n",
       "      <th>tiers_values</th>\n",
       "      <th>n_images</th>\n",
       "      <th>n_gifs</th>\n",
       "      <th>n_websites</th>\n",
       "      <th>fb_linked</th>\n",
       "      <th>n_collab</th>\n",
       "      <th>collab_names</th>\n",
       "      <th>n_creator_websites</th>\n",
       "      <th>n_prev_projects</th>\n",
       "      <th>n_prev_success</th>\n",
       "      <th>prev_backers</th>\n",
       "      <th>prev_percent_succ</th>\n",
       "    </tr>\n",
       "  </thead>\n",
       "  <tbody>\n",
       "    <tr>\n",
       "      <th>0</th>\n",
       "      <td>https://ksr-ugc.imgix.net/assets/032/273/545/e...</td>\n",
       "      <td>True</td>\n",
       "      <td>9</td>\n",
       "      <td>[40, 42, 48, 50, 58, 80, 88, 130, 138]</td>\n",
       "      <td>25</td>\n",
       "      <td>15</td>\n",
       "      <td>1</td>\n",
       "      <td>1</td>\n",
       "      <td>4</td>\n",
       "      <td>[producthype, jellop, backerkit, crowd-ox]</td>\n",
       "      <td>1</td>\n",
       "      <td>5</td>\n",
       "      <td>5</td>\n",
       "      <td>[2656, 4457, 1679, 57, 83]</td>\n",
       "      <td>[661.51, 993.76, 3893.5, 124.0, 232.87]</td>\n",
       "    </tr>\n",
       "  </tbody>\n",
       "</table>\n",
       "</div>"
      ],
      "text/plain": [
       "                                               image  has_video  n_tiers  \\\n",
       "0  https://ksr-ugc.imgix.net/assets/032/273/545/e...       True        9   \n",
       "\n",
       "                             tiers_values  n_images   n_gifs  n_websites  \\\n",
       "0  [40, 42, 48, 50, 58, 80, 88, 130, 138]        25       15           1   \n",
       "\n",
       "   fb_linked  n_collab                                collab_names  \\\n",
       "0          1         4  [producthype, jellop, backerkit, crowd-ox]   \n",
       "\n",
       "   n_creator_websites  n_prev_projects  n_prev_success  \\\n",
       "0                   1                5               5   \n",
       "\n",
       "                 prev_backers                        prev_percent_succ  \n",
       "0  [2656, 4457, 1679, 57, 83]  [661.51, 993.76, 3893.5, 124.0, 232.87]  "
      ]
     },
     "execution_count": 80,
     "metadata": {},
     "output_type": "execute_result"
    }
   ],
   "source": [
    "data = pd.DataFrame([[image, has_video, n_tiers, tiers_values, n_images, n_gifs, n_websites,\n",
    "                      fb_linked, n_collab, collab_names, n_creator_websites, n_prev_projects,\n",
    "                      n_prev_success, prev_backers, prev_percent_succ ]], \n",
    "                    columns=['image', 'has_video', 'n_tiers', 'tiers_values', 'n_images', ' n_gifs', \n",
    "                             'n_websites', 'fb_linked', 'n_collab', 'collab_names', 'n_creator_websites',\n",
    "                             'n_prev_projects', 'n_prev_success', 'prev_backers', 'prev_percent_succ'])\n",
    "data"
   ]
  },
  {
   "cell_type": "code",
   "execution_count": null,
   "metadata": {},
   "outputs": [],
   "source": []
  },
  {
   "cell_type": "code",
   "execution_count": null,
   "metadata": {},
   "outputs": [],
   "source": []
  }
 ],
 "metadata": {
  "kernelspec": {
   "display_name": "Python 3",
   "language": "python",
   "name": "python3"
  },
  "language_info": {
   "codemirror_mode": {
    "name": "ipython",
    "version": 3
   },
   "file_extension": ".py",
   "mimetype": "text/x-python",
   "name": "python",
   "nbconvert_exporter": "python",
   "pygments_lexer": "ipython3",
   "version": "3.8.3"
  }
 },
 "nbformat": 4,
 "nbformat_minor": 4
}
